{
 "cells": [
  {
   "cell_type": "markdown",
   "metadata": {
    "application/vnd.databricks.v1+cell": {
     "cellMetadata": {
      "byteLimit": 2048000,
      "rowLimit": 10000
     },
     "inputWidgets": {},
     "nuid": "bbf28e85-cfb3-4494-8a61-7009db606aca",
     "showTitle": false,
     "title": ""
    }
   },
   "source": [
    "# Open Library - File ingestion and schema creation in Databricks"
   ]
  },
  {
   "cell_type": "code",
   "execution_count": 0,
   "metadata": {
    "application/vnd.databricks.v1+cell": {
     "cellMetadata": {
      "byteLimit": 2048000,
      "rowLimit": 10000
     },
     "inputWidgets": {},
     "nuid": "5f9cb2e1-de2d-41b6-b1da-91708b303e9c",
     "showTitle": false,
     "title": ""
    }
   },
   "outputs": [],
   "source": [
    "# aws_access_key_id= dbutils.widgets.get(\"access_key\")\n",
    "# aws_secret_access_key= dbutils.widgets.get(\"secret_access_key\")\n",
    "# encoded_secret_key = aws_secret_access_key.replace(\"/\", \"%2F\")\n",
    "# bucket_name = dbutils.widgets.get(\"s3_bucket\")\n",
    "# mount_name = \"cidaen-open-library\"\n",
    "\n",
    "# dbutils.fs.mount(\"s3a://%s:%s@%s\" % (aws_access_key_id, encoded_secret_key, bucket_name), \"/mnt/%s\" % mount_name)\n",
    "# display(dbutils.fs.ls(\"/mnt/%s\" % mount_name))"
   ]
  },
  {
   "cell_type": "markdown",
   "metadata": {
    "application/vnd.databricks.v1+cell": {
     "cellMetadata": {
      "byteLimit": 2048000,
      "rowLimit": 10000
     },
     "inputWidgets": {},
     "nuid": "c4077046-6ed3-4d2f-9413-4e50975f0f15",
     "showTitle": false,
     "title": ""
    }
   },
   "source": [
    "### Connection setup with Data Lake"
   ]
  },
  {
   "cell_type": "markdown",
   "metadata": {
    "application/vnd.databricks.v1+cell": {
     "cellMetadata": {
      "byteLimit": 2048000,
      "rowLimit": 10000
     },
     "inputWidgets": {},
     "nuid": "41c53a81-7ba8-4d47-b16f-79c638bbf67e",
     "showTitle": false,
     "title": ""
    }
   },
   "source": [
    "__Steps:__\n",
    "Create App registration: Go to Azure AD >> App Registration and register an app. We need the client ID and the tenant ID\n",
    "Create Secret: In the Registered App, create a Secret and store it.\n",
    "Role assignment: In the Storage account that we want to connect to, create a role assignment of Contributor or similar with read/write access for Blob storage."
   ]
  },
  {
   "cell_type": "markdown",
   "metadata": {
    "application/vnd.databricks.v1+cell": {
     "cellMetadata": {
      "byteLimit": 2048000,
      "rowLimit": 10000
     },
     "inputWidgets": {},
     "nuid": "41a73edc-1c47-4d17-8605-f893f3f4a9c7",
     "showTitle": false,
     "title": ""
    }
   },
   "source": [
    "## Bronze"
   ]
  },
  {
   "cell_type": "markdown",
   "metadata": {
    "application/vnd.databricks.v1+cell": {
     "cellMetadata": {
      "byteLimit": 2048000,
      "rowLimit": 10000
     },
     "inputWidgets": {},
     "nuid": "3220e0fe-98dd-4692-aec2-c35e4fb10a93",
     "showTitle": false,
     "title": ""
    }
   },
   "source": [
    "#### Imports"
   ]
  },
  {
   "cell_type": "code",
   "execution_count": 0,
   "metadata": {
    "application/vnd.databricks.v1+cell": {
     "cellMetadata": {
      "byteLimit": 2048000,
      "rowLimit": 10000
     },
     "inputWidgets": {},
     "nuid": "64c71884-7d9d-4534-b237-1dbe8e537d8f",
     "showTitle": false,
     "title": ""
    }
   },
   "outputs": [],
   "source": [
    "from pyspark.sql.functions import current_date, current_timestamp, lit"
   ]
  },
  {
   "cell_type": "markdown",
   "metadata": {
    "application/vnd.databricks.v1+cell": {
     "cellMetadata": {
      "byteLimit": 2048000,
      "rowLimit": 10000
     },
     "inputWidgets": {},
     "nuid": "2a248e79-3fc3-4e27-8ff3-8b5691a04f6e",
     "showTitle": false,
     "title": ""
    }
   },
   "source": [
    "### Create tables from files available in ADLS2"
   ]
  },
  {
   "cell_type": "markdown",
   "metadata": {
    "application/vnd.databricks.v1+cell": {
     "cellMetadata": {
      "byteLimit": 2048000,
      "rowLimit": 10000
     },
     "inputWidgets": {},
     "nuid": "70da370b-87cf-43be-b7de-0d6fb2259e67",
     "showTitle": false,
     "title": ""
    }
   },
   "source": [
    "The folder contains compressed files."
   ]
  },
  {
   "cell_type": "code",
   "execution_count": 0,
   "metadata": {
    "application/vnd.databricks.v1+cell": {
     "cellMetadata": {
      "byteLimit": 2048000,
      "implicitDf": true,
      "rowLimit": 10000
     },
     "inputWidgets": {},
     "nuid": "c6f84a75-6429-4b99-b9cd-a972194baaae",
     "showTitle": false,
     "title": ""
    }
   },
   "outputs": [
    {
     "output_type": "display_data",
     "data": {
      "text/html": [
       "<style scoped>\n",
       "  .table-result-container {\n",
       "    max-height: 300px;\n",
       "    overflow: auto;\n",
       "  }\n",
       "  table, th, td {\n",
       "    border: 1px solid black;\n",
       "    border-collapse: collapse;\n",
       "  }\n",
       "  th, td {\n",
       "    padding: 5px;\n",
       "  }\n",
       "  th {\n",
       "    text-align: left;\n",
       "  }\n",
       "</style><div class='table-result-container'><table class='table-result'><thead style='background-color: white'><tr></tr></thead><tbody></tbody></table></div>"
      ]
     },
     "metadata": {
      "application/vnd.databricks.v1+output": {
       "addedWidgets": {},
       "aggData": [],
       "aggError": "",
       "aggOverflow": false,
       "aggSchema": [],
       "aggSeriesLimitReached": false,
       "aggType": "",
       "arguments": {},
       "columnCustomDisplayInfos": {},
       "data": [],
       "datasetInfos": [],
       "dbfsResultPath": null,
       "isJsonSchema": true,
       "metadata": {},
       "overflow": false,
       "plotOptions": {
        "customPlotOptions": {},
        "displayType": "table",
        "pivotAggregation": null,
        "pivotColumns": null,
        "xColumns": null,
        "yColumns": null
       },
       "removedWidgets": [],
       "schema": [],
       "type": "table"
      }
     },
     "output_type": "display_data"
    }
   ],
   "source": [
    "%sql\n",
    "CREATE SCHEMA IF NOT EXISTS bronze_openlibrary"
   ]
  },
  {
   "cell_type": "code",
   "execution_count": 0,
   "metadata": {
    "application/vnd.databricks.v1+cell": {
     "cellMetadata": {
      "byteLimit": 2048000,
      "rowLimit": 10000
     },
     "inputWidgets": {},
     "nuid": "a20e7d60-ff13-4e0a-9fa3-13fb4c3ff2f3",
     "showTitle": false,
     "title": ""
    }
   },
   "outputs": [],
   "source": [
    "def create_df_ol_table(source_file):\n",
    "    # This function generates a df from the file (ADL2) passed to it as argument:\n",
    "    df = spark.read.csv(f\"dbfs:/mnt/cidaen-open-library/{source_file}\",sep=r'\\t', header=False, inferSchema=True)\n",
    "    return df"
   ]
  },
  {
   "cell_type": "markdown",
   "metadata": {
    "application/vnd.databricks.v1+cell": {
     "cellMetadata": {
      "byteLimit": 2048000,
      "rowLimit": 10000
     },
     "inputWidgets": {},
     "nuid": "1113ff17-1584-49ba-bc46-9e801279ea22",
     "showTitle": false,
     "title": ""
    }
   },
   "source": [
    "#### Create table bronze_openlibrary.ol_ratings"
   ]
  },
  {
   "cell_type": "code",
   "execution_count": 0,
   "metadata": {
    "application/vnd.databricks.v1+cell": {
     "cellMetadata": {
      "byteLimit": 2048000,
      "rowLimit": 10000
     },
     "inputWidgets": {},
     "nuid": "81a793bb-63d1-416f-b975-2e2bc570dfa5",
     "showTitle": false,
     "title": ""
    }
   },
   "outputs": [],
   "source": [
    "df = create_df_ol_table(\"ol_dump_ratings_2023-01-10.txt.gz\")"
   ]
  },
  {
   "cell_type": "code",
   "execution_count": 0,
   "metadata": {
    "application/vnd.databricks.v1+cell": {
     "cellMetadata": {
      "byteLimit": 2048000,
      "rowLimit": 10000
     },
     "inputWidgets": {},
     "nuid": "821a107e-e9bb-421e-bc93-aab8a7c46314",
     "showTitle": false,
     "title": ""
    }
   },
   "outputs": [],
   "source": [
    "df.display()"
   ]
  },
  {
   "cell_type": "code",
   "execution_count": 0,
   "metadata": {
    "application/vnd.databricks.v1+cell": {
     "cellMetadata": {
      "byteLimit": 2048000,
      "rowLimit": 10000
     },
     "inputWidgets": {},
     "nuid": "1f0315f8-e6b6-4eac-8bd3-53a95b92f1fb",
     "showTitle": false,
     "title": ""
    }
   },
   "outputs": [],
   "source": [
    "df = (df.withColumnRenamed(\"_c0\",\"reference\")\n",
    "  .withColumnRenamed(\"_c1\",\"reference_b\")\n",
    "  .withColumnRenamed(\"_c2\",\"rating\")\n",
    "  .withColumnRenamed(\"_c3\",\"review_date\")\n",
    "  .withColumn(\"ctl_created_timestamp\", current_timestamp().cast(\"string\"))\n",
    "  .withColumn(\"ctl_source\", lit(\"historical_load\"))\n",
    ")"
   ]
  },
  {
   "cell_type": "code",
   "execution_count": 0,
   "metadata": {
    "application/vnd.databricks.v1+cell": {
     "cellMetadata": {
      "byteLimit": 2048000,
      "rowLimit": 10000
     },
     "inputWidgets": {},
     "nuid": "4b01ca94-54cf-4bc5-a0e3-90359d818b76",
     "showTitle": false,
     "title": ""
    }
   },
   "outputs": [],
   "source": [
    "df.display()"
   ]
  },
  {
   "cell_type": "code",
   "execution_count": 0,
   "metadata": {
    "application/vnd.databricks.v1+cell": {
     "cellMetadata": {
      "byteLimit": 2048000,
      "rowLimit": 10000
     },
     "inputWidgets": {},
     "nuid": "587568bf-109c-4bff-abba-07e27c00e278",
     "showTitle": false,
     "title": ""
    }
   },
   "outputs": [],
   "source": [
    "df.createOrReplaceTempView(\"tempvw_ratings\")"
   ]
  },
  {
   "cell_type": "code",
   "execution_count": 0,
   "metadata": {
    "application/vnd.databricks.v1+cell": {
     "cellMetadata": {
      "byteLimit": 2048000,
      "implicitDf": true,
      "rowLimit": 10000
     },
     "inputWidgets": {},
     "nuid": "d1cd56e7-5683-472a-9484-2453e0a68da9",
     "showTitle": false,
     "title": ""
    }
   },
   "outputs": [
    {
     "output_type": "display_data",
     "data": {
      "text/html": [
       "<style scoped>\n",
       "  .table-result-container {\n",
       "    max-height: 300px;\n",
       "    overflow: auto;\n",
       "  }\n",
       "  table, th, td {\n",
       "    border: 1px solid black;\n",
       "    border-collapse: collapse;\n",
       "  }\n",
       "  th, td {\n",
       "    padding: 5px;\n",
       "  }\n",
       "  th {\n",
       "    text-align: left;\n",
       "  }\n",
       "</style><div class='table-result-container'><table class='table-result'><thead style='background-color: white'><tr><th>num_affected_rows</th><th>num_inserted_rows</th></tr></thead><tbody></tbody></table></div>"
      ]
     },
     "metadata": {
      "application/vnd.databricks.v1+output": {
       "addedWidgets": {},
       "aggData": [],
       "aggError": "",
       "aggOverflow": false,
       "aggSchema": [],
       "aggSeriesLimitReached": false,
       "aggType": "",
       "arguments": {},
       "columnCustomDisplayInfos": {},
       "data": [],
       "datasetInfos": [],
       "dbfsResultPath": null,
       "isJsonSchema": true,
       "metadata": {},
       "overflow": false,
       "plotOptions": {
        "customPlotOptions": {},
        "displayType": "table",
        "pivotAggregation": null,
        "pivotColumns": null,
        "xColumns": null,
        "yColumns": null
       },
       "removedWidgets": [],
       "schema": [
        {
         "metadata": "{}",
         "name": "num_affected_rows",
         "type": "\"long\""
        },
        {
         "metadata": "{}",
         "name": "num_inserted_rows",
         "type": "\"long\""
        }
       ],
       "type": "table"
      }
     },
     "output_type": "display_data"
    }
   ],
   "source": [
    "%sql\n",
    "CREATE OR REPLACE TABLE bronze_openlibrary.ol_ratings AS\n",
    "SELECT DISTINCT *, input_file_name() AS ctl_file_name  \n",
    "FROM tempvw_ratings;"
   ]
  },
  {
   "cell_type": "code",
   "execution_count": 0,
   "metadata": {
    "application/vnd.databricks.v1+cell": {
     "cellMetadata": {
      "byteLimit": 2048000,
      "implicitDf": true,
      "rowLimit": 10000
     },
     "inputWidgets": {},
     "nuid": "efbfcd71-bf06-4842-902d-66364aff73de",
     "showTitle": false,
     "title": ""
    }
   },
   "outputs": [
    {
     "output_type": "display_data",
     "data": {
      "text/html": [
       "<style scoped>\n",
       "  .table-result-container {\n",
       "    max-height: 300px;\n",
       "    overflow: auto;\n",
       "  }\n",
       "  table, th, td {\n",
       "    border: 1px solid black;\n",
       "    border-collapse: collapse;\n",
       "  }\n",
       "  th, td {\n",
       "    padding: 5px;\n",
       "  }\n",
       "  th {\n",
       "    text-align: left;\n",
       "  }\n",
       "</style><div class='table-result-container'><table class='table-result'><thead style='background-color: white'><tr><th>count(1)</th></tr></thead><tbody><tr><td>321435</td></tr></tbody></table></div>"
      ]
     },
     "metadata": {
      "application/vnd.databricks.v1+output": {
       "addedWidgets": {},
       "aggData": [],
       "aggError": "",
       "aggOverflow": false,
       "aggSchema": [],
       "aggSeriesLimitReached": false,
       "aggType": "",
       "arguments": {},
       "columnCustomDisplayInfos": {},
       "data": [
        [
         321435
        ]
       ],
       "datasetInfos": [],
       "dbfsResultPath": null,
       "isJsonSchema": true,
       "metadata": {},
       "overflow": false,
       "plotOptions": {
        "customPlotOptions": {},
        "displayType": "table",
        "pivotAggregation": null,
        "pivotColumns": null,
        "xColumns": null,
        "yColumns": null
       },
       "removedWidgets": [],
       "schema": [
        {
         "metadata": "{\"__autoGeneratedAlias\":\"true\"}",
         "name": "count(1)",
         "type": "\"long\""
        }
       ],
       "type": "table"
      }
     },
     "output_type": "display_data"
    }
   ],
   "source": [
    "%sql\n",
    "SELECT COUNT(*) FROM bronze_openlibrary.ol_ratings;"
   ]
  },
  {
   "cell_type": "code",
   "execution_count": 0,
   "metadata": {
    "application/vnd.databricks.v1+cell": {
     "cellMetadata": {
      "byteLimit": 2048000,
      "implicitDf": true,
      "rowLimit": 10000
     },
     "inputWidgets": {},
     "nuid": "08100087-8ada-4307-8afb-caeb036595ac",
     "showTitle": false,
     "title": ""
    }
   },
   "outputs": [
    {
     "output_type": "display_data",
     "data": {
      "text/html": [
       "<style scoped>\n",
       "  .table-result-container {\n",
       "    max-height: 300px;\n",
       "    overflow: auto;\n",
       "  }\n",
       "  table, th, td {\n",
       "    border: 1px solid black;\n",
       "    border-collapse: collapse;\n",
       "  }\n",
       "  th, td {\n",
       "    padding: 5px;\n",
       "  }\n",
       "  th {\n",
       "    text-align: left;\n",
       "  }\n",
       "</style><div class='table-result-container'><table class='table-result'><thead style='background-color: white'><tr><th>reference</th><th>reference_b</th><th>rating</th><th>review_date</th><th>ctl_created_timestamp</th><th>ctl_source</th><th>ctl_file_name</th></tr></thead><tbody><tr><td>/works/OL8032382W</td><td>/books/OL10691390M</td><td>2</td><td>2018-06-21</td><td>2023-06-16 18:16:26.107</td><td>historical_load</td><td>dbfs:/mnt/cidaen-open-library/ol_dump_ratings_2023-01-10.txt.gz</td></tr><tr><td>/works/OL16716976W</td><td>/books/OL25386811M</td><td>5</td><td>2018-06-25</td><td>2023-06-16 18:16:26.107</td><td>historical_load</td><td>dbfs:/mnt/cidaen-open-library/ol_dump_ratings_2023-01-10.txt.gz</td></tr><tr><td>/works/OL10530589W</td><td>null</td><td>2</td><td>2018-06-26</td><td>2023-06-16 18:16:26.107</td><td>historical_load</td><td>dbfs:/mnt/cidaen-open-library/ol_dump_ratings_2023-01-10.txt.gz</td></tr><tr><td>/works/OL3519317W</td><td>/books/OL10738407M</td><td>4</td><td>2018-07-02</td><td>2023-06-16 18:16:26.107</td><td>historical_load</td><td>dbfs:/mnt/cidaen-open-library/ol_dump_ratings_2023-01-10.txt.gz</td></tr><tr><td>/works/OL3657595W</td><td>null</td><td>4</td><td>2018-07-15</td><td>2023-06-16 18:16:26.107</td><td>historical_load</td><td>dbfs:/mnt/cidaen-open-library/ol_dump_ratings_2023-01-10.txt.gz</td></tr></tbody></table></div>"
      ]
     },
     "metadata": {
      "application/vnd.databricks.v1+output": {
       "addedWidgets": {},
       "aggData": [],
       "aggError": "",
       "aggOverflow": false,
       "aggSchema": [],
       "aggSeriesLimitReached": false,
       "aggType": "",
       "arguments": {},
       "columnCustomDisplayInfos": {},
       "data": [
        [
         "/works/OL8032382W",
         "/books/OL10691390M",
         2,
         "2018-06-21",
         "2023-06-16 18:16:26.107",
         "historical_load",
         "dbfs:/mnt/cidaen-open-library/ol_dump_ratings_2023-01-10.txt.gz"
        ],
        [
         "/works/OL16716976W",
         "/books/OL25386811M",
         5,
         "2018-06-25",
         "2023-06-16 18:16:26.107",
         "historical_load",
         "dbfs:/mnt/cidaen-open-library/ol_dump_ratings_2023-01-10.txt.gz"
        ],
        [
         "/works/OL10530589W",
         null,
         2,
         "2018-06-26",
         "2023-06-16 18:16:26.107",
         "historical_load",
         "dbfs:/mnt/cidaen-open-library/ol_dump_ratings_2023-01-10.txt.gz"
        ],
        [
         "/works/OL3519317W",
         "/books/OL10738407M",
         4,
         "2018-07-02",
         "2023-06-16 18:16:26.107",
         "historical_load",
         "dbfs:/mnt/cidaen-open-library/ol_dump_ratings_2023-01-10.txt.gz"
        ],
        [
         "/works/OL3657595W",
         null,
         4,
         "2018-07-15",
         "2023-06-16 18:16:26.107",
         "historical_load",
         "dbfs:/mnt/cidaen-open-library/ol_dump_ratings_2023-01-10.txt.gz"
        ]
       ],
       "datasetInfos": [],
       "dbfsResultPath": null,
       "isJsonSchema": true,
       "metadata": {},
       "overflow": false,
       "plotOptions": {
        "customPlotOptions": {},
        "displayType": "table",
        "pivotAggregation": null,
        "pivotColumns": null,
        "xColumns": null,
        "yColumns": null
       },
       "removedWidgets": [],
       "schema": [
        {
         "metadata": "{}",
         "name": "reference",
         "type": "\"string\""
        },
        {
         "metadata": "{}",
         "name": "reference_b",
         "type": "\"string\""
        },
        {
         "metadata": "{}",
         "name": "rating",
         "type": "\"integer\""
        },
        {
         "metadata": "{\"__detected_date_formats\":\"yyyy-M-d\"}",
         "name": "review_date",
         "type": "\"date\""
        },
        {
         "metadata": "{}",
         "name": "ctl_created_timestamp",
         "type": "\"string\""
        },
        {
         "metadata": "{}",
         "name": "ctl_source",
         "type": "\"string\""
        },
        {
         "metadata": "{}",
         "name": "ctl_file_name",
         "type": "\"string\""
        }
       ],
       "type": "table"
      }
     },
     "output_type": "display_data"
    }
   ],
   "source": [
    "%sql\n",
    "SELECT * FROM bronze_openlibrary.ol_ratings LIMIT 5;"
   ]
  },
  {
   "cell_type": "code",
   "execution_count": 0,
   "metadata": {
    "application/vnd.databricks.v1+cell": {
     "cellMetadata": {
      "byteLimit": 2048000,
      "rowLimit": 10000
     },
     "inputWidgets": {},
     "nuid": "0366999b-3782-4289-b169-cdf37b52ab51",
     "showTitle": false,
     "title": ""
    }
   },
   "outputs": [
    {
     "output_type": "stream",
     "name": "stdout",
     "output_type": "stream",
     "text": [
      "root\n |-- reference: string (nullable = true)\n |-- reference_b: string (nullable = true)\n |-- rating: integer (nullable = true)\n |-- review_date: date (nullable = true)\n |-- ctl_created_timestamp: string (nullable = false)\n |-- ctl_source: string (nullable = false)\n\n"
     ]
    }
   ],
   "source": [
    "df.printSchema()"
   ]
  },
  {
   "cell_type": "markdown",
   "metadata": {
    "application/vnd.databricks.v1+cell": {
     "cellMetadata": {
      "byteLimit": 2048000,
      "rowLimit": 10000
     },
     "inputWidgets": {},
     "nuid": "90ed14c4-8160-438b-9a55-f4878a74b958",
     "showTitle": false,
     "title": ""
    }
   },
   "source": [
    "#### Create table bronze_openlibrary.ol_readings"
   ]
  },
  {
   "cell_type": "code",
   "execution_count": 0,
   "metadata": {
    "application/vnd.databricks.v1+cell": {
     "cellMetadata": {
      "byteLimit": 2048000,
      "rowLimit": 10000
     },
     "inputWidgets": {},
     "nuid": "b135481c-e88f-472c-8391-044c49a45108",
     "showTitle": false,
     "title": ""
    }
   },
   "outputs": [],
   "source": [
    "df = create_df_ol_table(\"ol_dump_reading-log_2023-01-10.txt.gz\")"
   ]
  },
  {
   "cell_type": "code",
   "execution_count": 0,
   "metadata": {
    "application/vnd.databricks.v1+cell": {
     "cellMetadata": {
      "byteLimit": 2048000,
      "rowLimit": 10000
     },
     "inputWidgets": {},
     "nuid": "a860810a-3863-405c-8095-8bd3a3c3acc7",
     "showTitle": false,
     "title": ""
    }
   },
   "outputs": [],
   "source": [
    "df.display()"
   ]
  },
  {
   "cell_type": "code",
   "execution_count": 0,
   "metadata": {
    "application/vnd.databricks.v1+cell": {
     "cellMetadata": {
      "byteLimit": 2048000,
      "rowLimit": 10000
     },
     "inputWidgets": {},
     "nuid": "b214589d-f1c6-4463-90a8-e171669cb5f0",
     "showTitle": false,
     "title": ""
    }
   },
   "outputs": [],
   "source": [
    "df = (df.withColumnRenamed(\"_c0\",\"reference\")\n",
    "  .withColumnRenamed(\"_c1\",\"reference_b\")\n",
    "  .withColumnRenamed(\"_c2\",\"read_status\")\n",
    "  .withColumnRenamed(\"_c3\",\"last_updated\")\n",
    "  .withColumn(\"ctl_created_timestamp\", current_timestamp().cast(\"string\"))\n",
    "  .withColumn(\"ctl_source\", lit(\"historical_load\"))\n",
    ")"
   ]
  },
  {
   "cell_type": "code",
   "execution_count": 0,
   "metadata": {
    "application/vnd.databricks.v1+cell": {
     "cellMetadata": {
      "byteLimit": 2048000,
      "rowLimit": 10000
     },
     "inputWidgets": {},
     "nuid": "7f56e975-05c9-4cd3-ab18-945e4f8796e5",
     "showTitle": false,
     "title": ""
    }
   },
   "outputs": [],
   "source": [
    "df.createOrReplaceTempView(\"tempvw_readings\")"
   ]
  },
  {
   "cell_type": "code",
   "execution_count": 0,
   "metadata": {
    "application/vnd.databricks.v1+cell": {
     "cellMetadata": {
      "byteLimit": 2048000,
      "implicitDf": true,
      "rowLimit": 10000
     },
     "inputWidgets": {},
     "nuid": "e76c4d3f-84b4-409b-858a-52a235f20779",
     "showTitle": false,
     "title": ""
    }
   },
   "outputs": [
    {
     "output_type": "display_data",
     "data": {
      "text/html": [
       "<style scoped>\n",
       "  .table-result-container {\n",
       "    max-height: 300px;\n",
       "    overflow: auto;\n",
       "  }\n",
       "  table, th, td {\n",
       "    border: 1px solid black;\n",
       "    border-collapse: collapse;\n",
       "  }\n",
       "  th, td {\n",
       "    padding: 5px;\n",
       "  }\n",
       "  th {\n",
       "    text-align: left;\n",
       "  }\n",
       "</style><div class='table-result-container'><table class='table-result'><thead style='background-color: white'><tr><th>num_affected_rows</th><th>num_inserted_rows</th></tr></thead><tbody></tbody></table></div>"
      ]
     },
     "metadata": {
      "application/vnd.databricks.v1+output": {
       "addedWidgets": {},
       "aggData": [],
       "aggError": "",
       "aggOverflow": false,
       "aggSchema": [],
       "aggSeriesLimitReached": false,
       "aggType": "",
       "arguments": {},
       "columnCustomDisplayInfos": {},
       "data": [],
       "datasetInfos": [],
       "dbfsResultPath": null,
       "isJsonSchema": true,
       "metadata": {},
       "overflow": false,
       "plotOptions": {
        "customPlotOptions": {},
        "displayType": "table",
        "pivotAggregation": null,
        "pivotColumns": null,
        "xColumns": null,
        "yColumns": null
       },
       "removedWidgets": [],
       "schema": [
        {
         "metadata": "{}",
         "name": "num_affected_rows",
         "type": "\"long\""
        },
        {
         "metadata": "{}",
         "name": "num_inserted_rows",
         "type": "\"long\""
        }
       ],
       "type": "table"
      }
     },
     "output_type": "display_data"
    }
   ],
   "source": [
    "%sql\n",
    "CREATE OR REPLACE TABLE bronze_openlibrary.ol_readings AS\n",
    "SELECT DISTINCT *, input_file_name() AS ctl_file_name FROM tempvw_readings;"
   ]
  },
  {
   "cell_type": "code",
   "execution_count": 0,
   "metadata": {
    "application/vnd.databricks.v1+cell": {
     "cellMetadata": {
      "byteLimit": 2048000,
      "implicitDf": true,
      "rowLimit": 10000
     },
     "inputWidgets": {},
     "nuid": "e49bc0d1-bc3d-4e05-80d1-23c42e9a9198",
     "showTitle": false,
     "title": ""
    }
   },
   "outputs": [
    {
     "output_type": "display_data",
     "data": {
      "text/html": [
       "<style scoped>\n",
       "  .table-result-container {\n",
       "    max-height: 300px;\n",
       "    overflow: auto;\n",
       "  }\n",
       "  table, th, td {\n",
       "    border: 1px solid black;\n",
       "    border-collapse: collapse;\n",
       "  }\n",
       "  th, td {\n",
       "    padding: 5px;\n",
       "  }\n",
       "  th {\n",
       "    text-align: left;\n",
       "  }\n",
       "</style><div class='table-result-container'><table class='table-result'><thead style='background-color: white'><tr><th>count(1)</th></tr></thead><tbody><tr><td>4882308</td></tr></tbody></table></div>"
      ]
     },
     "metadata": {
      "application/vnd.databricks.v1+output": {
       "addedWidgets": {},
       "aggData": [],
       "aggError": "",
       "aggOverflow": false,
       "aggSchema": [],
       "aggSeriesLimitReached": false,
       "aggType": "",
       "arguments": {},
       "columnCustomDisplayInfos": {},
       "data": [
        [
         4882308
        ]
       ],
       "datasetInfos": [],
       "dbfsResultPath": null,
       "isJsonSchema": true,
       "metadata": {},
       "overflow": false,
       "plotOptions": {
        "customPlotOptions": {},
        "displayType": "table",
        "pivotAggregation": null,
        "pivotColumns": null,
        "xColumns": null,
        "yColumns": null
       },
       "removedWidgets": [],
       "schema": [
        {
         "metadata": "{\"__autoGeneratedAlias\":\"true\"}",
         "name": "count(1)",
         "type": "\"long\""
        }
       ],
       "type": "table"
      }
     },
     "output_type": "display_data"
    }
   ],
   "source": [
    "%sql\n",
    "SELECT COUNT(*) FROM bronze_openlibrary.ol_readings;"
   ]
  },
  {
   "cell_type": "code",
   "execution_count": 0,
   "metadata": {
    "application/vnd.databricks.v1+cell": {
     "cellMetadata": {
      "byteLimit": 2048000,
      "implicitDf": true,
      "rowLimit": 10000
     },
     "inputWidgets": {},
     "nuid": "b1caa924-1bef-45a9-90ba-bbfa34cdc1f0",
     "showTitle": false,
     "title": ""
    }
   },
   "outputs": [
    {
     "output_type": "display_data",
     "data": {
      "text/html": [
       "<style scoped>\n",
       "  .table-result-container {\n",
       "    max-height: 300px;\n",
       "    overflow: auto;\n",
       "  }\n",
       "  table, th, td {\n",
       "    border: 1px solid black;\n",
       "    border-collapse: collapse;\n",
       "  }\n",
       "  th, td {\n",
       "    padding: 5px;\n",
       "  }\n",
       "  th {\n",
       "    text-align: left;\n",
       "  }\n",
       "</style><div class='table-result-container'><table class='table-result'><thead style='background-color: white'><tr><th>reference</th><th>reference_b</th><th>read_status</th><th>last_updated</th><th>ctl_created_timestamp</th><th>ctl_source</th><th>ctl_file_name</th></tr></thead><tbody><tr><td>/works/OL9693711W</td><td>/books/OL19016795M</td><td>Want to Read</td><td>2017-11-15</td><td>2023-06-16 18:17:32.728</td><td>historical_load</td><td>dbfs:/mnt/cidaen-open-library/ol_dump_reading-log_2023-01-10.txt.gz</td></tr><tr><td>/works/OL7322980W</td><td>null</td><td>Want to Read</td><td>2017-12-27</td><td>2023-06-16 18:17:32.728</td><td>historical_load</td><td>dbfs:/mnt/cidaen-open-library/ol_dump_reading-log_2023-01-10.txt.gz</td></tr><tr><td>/works/OL8366901W</td><td>/books/OL8748118M</td><td>Want to Read</td><td>2018-01-22</td><td>2023-06-16 18:17:32.728</td><td>historical_load</td><td>dbfs:/mnt/cidaen-open-library/ol_dump_reading-log_2023-01-10.txt.gz</td></tr><tr><td>/works/OL8004906W</td><td>null</td><td>Want to Read</td><td>2018-03-15</td><td>2023-06-16 18:17:32.728</td><td>historical_load</td><td>dbfs:/mnt/cidaen-open-library/ol_dump_reading-log_2023-01-10.txt.gz</td></tr><tr><td>/works/OL3498685W</td><td>null</td><td>Want to Read</td><td>2017-12-27</td><td>2023-06-16 18:17:32.728</td><td>historical_load</td><td>dbfs:/mnt/cidaen-open-library/ol_dump_reading-log_2023-01-10.txt.gz</td></tr></tbody></table></div>"
      ]
     },
     "metadata": {
      "application/vnd.databricks.v1+output": {
       "addedWidgets": {},
       "aggData": [],
       "aggError": "",
       "aggOverflow": false,
       "aggSchema": [],
       "aggSeriesLimitReached": false,
       "aggType": "",
       "arguments": {},
       "columnCustomDisplayInfos": {},
       "data": [
        [
         "/works/OL9693711W",
         "/books/OL19016795M",
         "Want to Read",
         "2017-11-15",
         "2023-06-16 18:17:32.728",
         "historical_load",
         "dbfs:/mnt/cidaen-open-library/ol_dump_reading-log_2023-01-10.txt.gz"
        ],
        [
         "/works/OL7322980W",
         null,
         "Want to Read",
         "2017-12-27",
         "2023-06-16 18:17:32.728",
         "historical_load",
         "dbfs:/mnt/cidaen-open-library/ol_dump_reading-log_2023-01-10.txt.gz"
        ],
        [
         "/works/OL8366901W",
         "/books/OL8748118M",
         "Want to Read",
         "2018-01-22",
         "2023-06-16 18:17:32.728",
         "historical_load",
         "dbfs:/mnt/cidaen-open-library/ol_dump_reading-log_2023-01-10.txt.gz"
        ],
        [
         "/works/OL8004906W",
         null,
         "Want to Read",
         "2018-03-15",
         "2023-06-16 18:17:32.728",
         "historical_load",
         "dbfs:/mnt/cidaen-open-library/ol_dump_reading-log_2023-01-10.txt.gz"
        ],
        [
         "/works/OL3498685W",
         null,
         "Want to Read",
         "2017-12-27",
         "2023-06-16 18:17:32.728",
         "historical_load",
         "dbfs:/mnt/cidaen-open-library/ol_dump_reading-log_2023-01-10.txt.gz"
        ]
       ],
       "datasetInfos": [],
       "dbfsResultPath": null,
       "isJsonSchema": true,
       "metadata": {},
       "overflow": false,
       "plotOptions": {
        "customPlotOptions": {},
        "displayType": "table",
        "pivotAggregation": null,
        "pivotColumns": null,
        "xColumns": null,
        "yColumns": null
       },
       "removedWidgets": [],
       "schema": [
        {
         "metadata": "{}",
         "name": "reference",
         "type": "\"string\""
        },
        {
         "metadata": "{}",
         "name": "reference_b",
         "type": "\"string\""
        },
        {
         "metadata": "{}",
         "name": "read_status",
         "type": "\"string\""
        },
        {
         "metadata": "{\"__detected_date_formats\":\"yyyy-M-d\"}",
         "name": "last_updated",
         "type": "\"date\""
        },
        {
         "metadata": "{}",
         "name": "ctl_created_timestamp",
         "type": "\"string\""
        },
        {
         "metadata": "{}",
         "name": "ctl_source",
         "type": "\"string\""
        },
        {
         "metadata": "{}",
         "name": "ctl_file_name",
         "type": "\"string\""
        }
       ],
       "type": "table"
      }
     },
     "output_type": "display_data"
    }
   ],
   "source": [
    "%sql\n",
    "SELECT * FROM bronze_openlibrary.ol_readings LIMIT 5;"
   ]
  },
  {
   "cell_type": "markdown",
   "metadata": {
    "application/vnd.databricks.v1+cell": {
     "cellMetadata": {
      "byteLimit": 2048000,
      "rowLimit": 10000
     },
     "inputWidgets": {},
     "nuid": "4ccd5356-a67f-4c71-b8b9-83742c1352f6",
     "showTitle": false,
     "title": ""
    }
   },
   "source": [
    "type - type of record (/type/edition, /type/work etc.) </br>\n",
    "key - unique key of the record. (/books/OL1M etc.) </br>\n",
    "revision - revision number of the record </br>\n",
    "last_modified - last modified timestamp </br>\n",
    "JSON - the complete record in JSON format </br>"
   ]
  },
  {
   "cell_type": "markdown",
   "metadata": {
    "application/vnd.databricks.v1+cell": {
     "cellMetadata": {
      "byteLimit": 2048000,
      "rowLimit": 10000
     },
     "inputWidgets": {},
     "nuid": "2eb730e0-17b0-47ad-bd62-7006fa5387c8",
     "showTitle": false,
     "title": ""
    }
   },
   "source": [
    "#### Create table bronze_openlibrary.ol_works"
   ]
  },
  {
   "cell_type": "code",
   "execution_count": 0,
   "metadata": {
    "application/vnd.databricks.v1+cell": {
     "cellMetadata": {
      "byteLimit": 2048000,
      "rowLimit": 10000
     },
     "inputWidgets": {},
     "nuid": "eb333916-9fd5-427a-8478-1ca614327b1d",
     "showTitle": false,
     "title": ""
    }
   },
   "outputs": [],
   "source": [
    "df = create_df_ol_table(\"ol_dump_works_2023-01-10.txt.gz\")"
   ]
  },
  {
   "cell_type": "code",
   "execution_count": 0,
   "metadata": {
    "application/vnd.databricks.v1+cell": {
     "cellMetadata": {
      "byteLimit": 2048000,
      "rowLimit": 10000
     },
     "inputWidgets": {},
     "nuid": "2f1b3a80-1435-4bf7-8c0c-897cf42d7da8",
     "showTitle": false,
     "title": ""
    }
   },
   "outputs": [],
   "source": [
    "df.display()"
   ]
  },
  {
   "cell_type": "code",
   "execution_count": 0,
   "metadata": {
    "application/vnd.databricks.v1+cell": {
     "cellMetadata": {
      "byteLimit": 2048000,
      "rowLimit": 10000
     },
     "inputWidgets": {},
     "nuid": "c31f8031-427d-4f09-b3ba-a5f32d49a754",
     "showTitle": false,
     "title": ""
    }
   },
   "outputs": [],
   "source": [
    "df = (df.withColumnRenamed(\"_c0\",\"type\")\n",
    "  .withColumnRenamed(\"_c1\",\"reference\")\n",
    "  .withColumnRenamed(\"_c2\",\"revision_number\")\n",
    "  .withColumnRenamed(\"_c3\",\"last_modified\")\n",
    "  .withColumnRenamed(\"_c4\",\"json_col\")\n",
    "  .withColumn(\"ctl_created_timestamp\", current_timestamp().cast(\"string\"))\n",
    "  .withColumn(\"ctl_source\", lit(\"historical_load\"))\n",
    ")"
   ]
  },
  {
   "cell_type": "code",
   "execution_count": 0,
   "metadata": {
    "application/vnd.databricks.v1+cell": {
     "cellMetadata": {
      "byteLimit": 2048000,
      "rowLimit": 10000
     },
     "inputWidgets": {},
     "nuid": "86b71c79-0459-4ca3-9aa5-9a63c62dc937",
     "showTitle": false,
     "title": ""
    }
   },
   "outputs": [],
   "source": [
    "df.createOrReplaceTempView(\"tempvw_works\")"
   ]
  },
  {
   "cell_type": "code",
   "execution_count": 0,
   "metadata": {
    "application/vnd.databricks.v1+cell": {
     "cellMetadata": {
      "byteLimit": 2048000,
      "implicitDf": true,
      "rowLimit": 10000
     },
     "inputWidgets": {},
     "nuid": "6fc94f82-ebbc-4078-a775-ad7ef3767a82",
     "showTitle": false,
     "title": ""
    }
   },
   "outputs": [
    {
     "output_type": "display_data",
     "data": {
      "text/html": [
       "<style scoped>\n",
       "  .table-result-container {\n",
       "    max-height: 300px;\n",
       "    overflow: auto;\n",
       "  }\n",
       "  table, th, td {\n",
       "    border: 1px solid black;\n",
       "    border-collapse: collapse;\n",
       "  }\n",
       "  th, td {\n",
       "    padding: 5px;\n",
       "  }\n",
       "  th {\n",
       "    text-align: left;\n",
       "  }\n",
       "</style><div class='table-result-container'><table class='table-result'><thead style='background-color: white'><tr><th>num_affected_rows</th><th>num_inserted_rows</th></tr></thead><tbody></tbody></table></div>"
      ]
     },
     "metadata": {
      "application/vnd.databricks.v1+output": {
       "addedWidgets": {},
       "aggData": [],
       "aggError": "",
       "aggOverflow": false,
       "aggSchema": [],
       "aggSeriesLimitReached": false,
       "aggType": "",
       "arguments": {},
       "columnCustomDisplayInfos": {},
       "data": [],
       "datasetInfos": [],
       "dbfsResultPath": null,
       "isJsonSchema": true,
       "metadata": {},
       "overflow": false,
       "plotOptions": {
        "customPlotOptions": {},
        "displayType": "table",
        "pivotAggregation": null,
        "pivotColumns": null,
        "xColumns": null,
        "yColumns": null
       },
       "removedWidgets": [],
       "schema": [
        {
         "metadata": "{}",
         "name": "num_affected_rows",
         "type": "\"long\""
        },
        {
         "metadata": "{}",
         "name": "num_inserted_rows",
         "type": "\"long\""
        }
       ],
       "type": "table"
      }
     },
     "output_type": "display_data"
    }
   ],
   "source": [
    "%sql\n",
    "CREATE OR REPLACE TABLE bronze_openlibrary.ol_works AS\n",
    "SELECT *, input_file_name() AS ctl_file_name FROM tempvw_works;"
   ]
  },
  {
   "cell_type": "code",
   "execution_count": 0,
   "metadata": {
    "application/vnd.databricks.v1+cell": {
     "cellMetadata": {
      "byteLimit": 2048000,
      "implicitDf": true,
      "rowLimit": 10000
     },
     "inputWidgets": {},
     "nuid": "9e74e1f8-bf6d-4da0-8258-4ecd0cfc26de",
     "showTitle": false,
     "title": ""
    }
   },
   "outputs": [
    {
     "output_type": "display_data",
     "data": {
      "text/html": [
       "<style scoped>\n",
       "  .table-result-container {\n",
       "    max-height: 300px;\n",
       "    overflow: auto;\n",
       "  }\n",
       "  table, th, td {\n",
       "    border: 1px solid black;\n",
       "    border-collapse: collapse;\n",
       "  }\n",
       "  th, td {\n",
       "    padding: 5px;\n",
       "  }\n",
       "  th {\n",
       "    text-align: left;\n",
       "  }\n",
       "</style><div class='table-result-container'><table class='table-result'><thead style='background-color: white'><tr><th>type</th><th>reference</th><th>revision_number</th><th>last_modified</th><th>json_col</th><th>ctl_created_timestamp</th><th>ctl_source</th><th>ctl_file_name</th></tr></thead><tbody><tr><td>/type/work</td><td>/works/OL10000077W</td><td>7</td><td>2021-08-13T09:02:17.282+0000</td><td>{\"title\": \"Classic garden style\", \"subjects\": [\"Floral decorations\", \"Garden ornaments and furniture\", \"Decoration and ornament\", \"Garden structures\", \"Jardins\", \"Meubles et ornements\", \"Antiquit\\u00e9s (Objets anciens)\"], \"key\": \"/works/OL10000077W\", \"authors\": [{\"type\": {\"key\": \"/type/author_role\"}, \"author\": {\"key\": \"/authors/OL3965042A\"}}], \"type\": {\"key\": \"/type/work\"}, \"covers\": [11604950], \"latest_revision\": 7, \"revision\": 7, \"created\": {\"type\": \"/type/datetime\", \"value\": \"2009-12-11T01:57:19.964652\"}, \"last_modified\": {\"type\": \"/type/datetime\", \"value\": \"2021-08-13T09:02:17.282451\"}}</td><td>2023-06-16 18:23:42.501</td><td>historical_load</td><td>dbfs:/mnt/cidaen-open-library/ol_dump_works_2023-01-10.txt.gz</td></tr><tr><td>/type/work</td><td>/works/OL10000238W</td><td>3</td><td>2010-04-28T06:54:19.472+0000</td><td>{\"title\": \"H\\u00e9rault de S\\u00e9chelles, ou les infortunes de la beaut\\u00e9\", \"created\": {\"type\": \"/type/datetime\", \"value\": \"2009-12-11T01:57:19.964652\"}, \"covers\": [3140482], \"last_modified\": {\"type\": \"/type/datetime\", \"value\": \"2010-04-28T06:54:19.472104\"}, \"latest_revision\": 3, \"key\": \"/works/OL10000238W\", \"authors\": [{\"type\": \"/type/author_role\", \"author\": {\"key\": \"/authors/OL3965269A\"}}], \"type\": {\"key\": \"/type/work\"}, \"revision\": 3}</td><td>2023-06-16 18:23:42.501</td><td>historical_load</td><td>dbfs:/mnt/cidaen-open-library/ol_dump_works_2023-01-10.txt.gz</td></tr><tr><td>/type/work</td><td>/works/OL10000261W</td><td>3</td><td>2010-04-28T06:54:19.472+0000</td><td>{\"title\": \"Envoy\\u00e9s sp\\u00e9cieux\", \"created\": {\"type\": \"/type/datetime\", \"value\": \"2009-12-11T01:57:19.964652\"}, \"covers\": [3142759], \"last_modified\": {\"type\": \"/type/datetime\", \"value\": \"2010-04-28T06:54:19.472104\"}, \"latest_revision\": 3, \"key\": \"/works/OL10000261W\", \"authors\": [{\"type\": \"/type/author_role\", \"author\": {\"key\": \"/authors/OL3965289A\"}}], \"type\": {\"key\": \"/type/work\"}, \"revision\": 3}</td><td>2023-06-16 18:23:42.501</td><td>historical_load</td><td>dbfs:/mnt/cidaen-open-library/ol_dump_works_2023-01-10.txt.gz</td></tr><tr><td>/type/work</td><td>/works/OL10000387W</td><td>3</td><td>2010-04-28T06:54:19.472+0000</td><td>{\"title\": \"JC de Castelbajac\", \"created\": {\"type\": \"/type/datetime\", \"value\": \"2009-12-11T01:57:19.964652\"}, \"covers\": [3140687], \"last_modified\": {\"type\": \"/type/datetime\", \"value\": \"2010-04-28T06:54:19.472104\"}, \"latest_revision\": 3, \"key\": \"/works/OL10000387W\", \"authors\": [{\"type\": \"/type/author_role\", \"author\": {\"key\": \"/authors/OL3965419A\"}}], \"type\": {\"key\": \"/type/work\"}, \"revision\": 3}</td><td>2023-06-16 18:23:42.501</td><td>historical_load</td><td>dbfs:/mnt/cidaen-open-library/ol_dump_works_2023-01-10.txt.gz</td></tr><tr><td>/type/work</td><td>/works/OL10000507W</td><td>3</td><td>2010-04-28T06:54:19.472+0000</td><td>{\"title\": \"L'Alchimie de la gu\\u00e9rison, tome 2\", \"created\": {\"type\": \"/type/datetime\", \"value\": \"2009-12-11T01:57:19.964652\"}, \"covers\": [3140956], \"last_modified\": {\"type\": \"/type/datetime\", \"value\": \"2010-04-28T06:54:19.472104\"}, \"latest_revision\": 3, \"key\": \"/works/OL10000507W\", \"authors\": [{\"type\": \"/type/author_role\", \"author\": {\"key\": \"/authors/OL3965546A\"}}], \"type\": {\"key\": \"/type/work\"}, \"revision\": 3}</td><td>2023-06-16 18:23:42.501</td><td>historical_load</td><td>dbfs:/mnt/cidaen-open-library/ol_dump_works_2023-01-10.txt.gz</td></tr></tbody></table></div>"
      ]
     },
     "metadata": {
      "application/vnd.databricks.v1+output": {
       "addedWidgets": {},
       "aggData": [],
       "aggError": "",
       "aggOverflow": false,
       "aggSchema": [],
       "aggSeriesLimitReached": false,
       "aggType": "",
       "arguments": {},
       "columnCustomDisplayInfos": {},
       "data": [
        [
         "/type/work",
         "/works/OL10000077W",
         7,
         "2021-08-13T09:02:17.282+0000",
         "{\"title\": \"Classic garden style\", \"subjects\": [\"Floral decorations\", \"Garden ornaments and furniture\", \"Decoration and ornament\", \"Garden structures\", \"Jardins\", \"Meubles et ornements\", \"Antiquit\\u00e9s (Objets anciens)\"], \"key\": \"/works/OL10000077W\", \"authors\": [{\"type\": {\"key\": \"/type/author_role\"}, \"author\": {\"key\": \"/authors/OL3965042A\"}}], \"type\": {\"key\": \"/type/work\"}, \"covers\": [11604950], \"latest_revision\": 7, \"revision\": 7, \"created\": {\"type\": \"/type/datetime\", \"value\": \"2009-12-11T01:57:19.964652\"}, \"last_modified\": {\"type\": \"/type/datetime\", \"value\": \"2021-08-13T09:02:17.282451\"}}",
         "2023-06-16 18:23:42.501",
         "historical_load",
         "dbfs:/mnt/cidaen-open-library/ol_dump_works_2023-01-10.txt.gz"
        ],
        [
         "/type/work",
         "/works/OL10000238W",
         3,
         "2010-04-28T06:54:19.472+0000",
         "{\"title\": \"H\\u00e9rault de S\\u00e9chelles, ou les infortunes de la beaut\\u00e9\", \"created\": {\"type\": \"/type/datetime\", \"value\": \"2009-12-11T01:57:19.964652\"}, \"covers\": [3140482], \"last_modified\": {\"type\": \"/type/datetime\", \"value\": \"2010-04-28T06:54:19.472104\"}, \"latest_revision\": 3, \"key\": \"/works/OL10000238W\", \"authors\": [{\"type\": \"/type/author_role\", \"author\": {\"key\": \"/authors/OL3965269A\"}}], \"type\": {\"key\": \"/type/work\"}, \"revision\": 3}",
         "2023-06-16 18:23:42.501",
         "historical_load",
         "dbfs:/mnt/cidaen-open-library/ol_dump_works_2023-01-10.txt.gz"
        ],
        [
         "/type/work",
         "/works/OL10000261W",
         3,
         "2010-04-28T06:54:19.472+0000",
         "{\"title\": \"Envoy\\u00e9s sp\\u00e9cieux\", \"created\": {\"type\": \"/type/datetime\", \"value\": \"2009-12-11T01:57:19.964652\"}, \"covers\": [3142759], \"last_modified\": {\"type\": \"/type/datetime\", \"value\": \"2010-04-28T06:54:19.472104\"}, \"latest_revision\": 3, \"key\": \"/works/OL10000261W\", \"authors\": [{\"type\": \"/type/author_role\", \"author\": {\"key\": \"/authors/OL3965289A\"}}], \"type\": {\"key\": \"/type/work\"}, \"revision\": 3}",
         "2023-06-16 18:23:42.501",
         "historical_load",
         "dbfs:/mnt/cidaen-open-library/ol_dump_works_2023-01-10.txt.gz"
        ],
        [
         "/type/work",
         "/works/OL10000387W",
         3,
         "2010-04-28T06:54:19.472+0000",
         "{\"title\": \"JC de Castelbajac\", \"created\": {\"type\": \"/type/datetime\", \"value\": \"2009-12-11T01:57:19.964652\"}, \"covers\": [3140687], \"last_modified\": {\"type\": \"/type/datetime\", \"value\": \"2010-04-28T06:54:19.472104\"}, \"latest_revision\": 3, \"key\": \"/works/OL10000387W\", \"authors\": [{\"type\": \"/type/author_role\", \"author\": {\"key\": \"/authors/OL3965419A\"}}], \"type\": {\"key\": \"/type/work\"}, \"revision\": 3}",
         "2023-06-16 18:23:42.501",
         "historical_load",
         "dbfs:/mnt/cidaen-open-library/ol_dump_works_2023-01-10.txt.gz"
        ],
        [
         "/type/work",
         "/works/OL10000507W",
         3,
         "2010-04-28T06:54:19.472+0000",
         "{\"title\": \"L'Alchimie de la gu\\u00e9rison, tome 2\", \"created\": {\"type\": \"/type/datetime\", \"value\": \"2009-12-11T01:57:19.964652\"}, \"covers\": [3140956], \"last_modified\": {\"type\": \"/type/datetime\", \"value\": \"2010-04-28T06:54:19.472104\"}, \"latest_revision\": 3, \"key\": \"/works/OL10000507W\", \"authors\": [{\"type\": \"/type/author_role\", \"author\": {\"key\": \"/authors/OL3965546A\"}}], \"type\": {\"key\": \"/type/work\"}, \"revision\": 3}",
         "2023-06-16 18:23:42.501",
         "historical_load",
         "dbfs:/mnt/cidaen-open-library/ol_dump_works_2023-01-10.txt.gz"
        ]
       ],
       "datasetInfos": [],
       "dbfsResultPath": null,
       "isJsonSchema": true,
       "metadata": {},
       "overflow": false,
       "plotOptions": {
        "customPlotOptions": {},
        "displayType": "table",
        "pivotAggregation": null,
        "pivotColumns": null,
        "xColumns": null,
        "yColumns": null
       },
       "removedWidgets": [],
       "schema": [
        {
         "metadata": "{}",
         "name": "type",
         "type": "\"string\""
        },
        {
         "metadata": "{}",
         "name": "reference",
         "type": "\"string\""
        },
        {
         "metadata": "{}",
         "name": "revision_number",
         "type": "\"integer\""
        },
        {
         "metadata": "{}",
         "name": "last_modified",
         "type": "\"timestamp\""
        },
        {
         "metadata": "{}",
         "name": "json_col",
         "type": "\"string\""
        },
        {
         "metadata": "{}",
         "name": "ctl_created_timestamp",
         "type": "\"string\""
        },
        {
         "metadata": "{}",
         "name": "ctl_source",
         "type": "\"string\""
        },
        {
         "metadata": "{}",
         "name": "ctl_file_name",
         "type": "\"string\""
        }
       ],
       "type": "table"
      }
     },
     "output_type": "display_data"
    }
   ],
   "source": [
    "%sql\n",
    "SELECT * \n",
    "FROM bronze_openlibrary.ol_works\n",
    "LIMIT 5"
   ]
  },
  {
   "cell_type": "code",
   "execution_count": 0,
   "metadata": {
    "application/vnd.databricks.v1+cell": {
     "cellMetadata": {
      "byteLimit": 2048000,
      "implicitDf": true,
      "rowLimit": 10000
     },
     "inputWidgets": {},
     "nuid": "fd352d6f-d723-4242-b970-58343b4429d4",
     "showTitle": false,
     "title": ""
    }
   },
   "outputs": [
    {
     "output_type": "display_data",
     "data": {
      "text/html": [
       "<style scoped>\n",
       "  .table-result-container {\n",
       "    max-height: 300px;\n",
       "    overflow: auto;\n",
       "  }\n",
       "  table, th, td {\n",
       "    border: 1px solid black;\n",
       "    border-collapse: collapse;\n",
       "  }\n",
       "  th, td {\n",
       "    padding: 5px;\n",
       "  }\n",
       "  th {\n",
       "    text-align: left;\n",
       "  }\n",
       "</style><div class='table-result-container'><table class='table-result'><thead style='background-color: white'><tr><th>count(1)</th></tr></thead><tbody><tr><td>30852119</td></tr></tbody></table></div>"
      ]
     },
     "metadata": {
      "application/vnd.databricks.v1+output": {
       "addedWidgets": {},
       "aggData": [],
       "aggError": "",
       "aggOverflow": false,
       "aggSchema": [],
       "aggSeriesLimitReached": false,
       "aggType": "",
       "arguments": {},
       "columnCustomDisplayInfos": {},
       "data": [
        [
         30852119
        ]
       ],
       "datasetInfos": [],
       "dbfsResultPath": null,
       "isJsonSchema": true,
       "metadata": {},
       "overflow": false,
       "plotOptions": {
        "customPlotOptions": {},
        "displayType": "table",
        "pivotAggregation": null,
        "pivotColumns": null,
        "xColumns": null,
        "yColumns": null
       },
       "removedWidgets": [],
       "schema": [
        {
         "metadata": "{\"__autoGeneratedAlias\":\"true\"}",
         "name": "count(1)",
         "type": "\"long\""
        }
       ],
       "type": "table"
      }
     },
     "output_type": "display_data"
    }
   ],
   "source": [
    "%sql\n",
    "SELECT COUNT(*) FROM bronze_openlibrary.ol_works"
   ]
  },
  {
   "cell_type": "markdown",
   "metadata": {
    "application/vnd.databricks.v1+cell": {
     "cellMetadata": {
      "byteLimit": 2048000,
      "rowLimit": 10000
     },
     "inputWidgets": {},
     "nuid": "00e7cb77-d1ab-4d06-b442-36580151de4d",
     "showTitle": false,
     "title": ""
    }
   },
   "source": [
    "#### Create table bronze_openlibrary.ol_authors"
   ]
  },
  {
   "cell_type": "code",
   "execution_count": 0,
   "metadata": {
    "application/vnd.databricks.v1+cell": {
     "cellMetadata": {
      "byteLimit": 2048000,
      "rowLimit": 10000
     },
     "inputWidgets": {},
     "nuid": "ee25decd-b40b-4d59-8e66-6a52bfc72665",
     "showTitle": false,
     "title": ""
    }
   },
   "outputs": [],
   "source": [
    "df = create_df_ol_table(\"ol_dump_authors_2023-01-10.txt.gz\")"
   ]
  },
  {
   "cell_type": "code",
   "execution_count": 0,
   "metadata": {
    "application/vnd.databricks.v1+cell": {
     "cellMetadata": {
      "byteLimit": 2048000,
      "rowLimit": 10000
     },
     "inputWidgets": {},
     "nuid": "b897ac5e-334b-4fbf-a899-e856fb477c96",
     "showTitle": false,
     "title": ""
    }
   },
   "outputs": [],
   "source": [
    "df.display()"
   ]
  },
  {
   "cell_type": "code",
   "execution_count": 0,
   "metadata": {
    "application/vnd.databricks.v1+cell": {
     "cellMetadata": {
      "byteLimit": 2048000,
      "rowLimit": 10000
     },
     "inputWidgets": {},
     "nuid": "61c618b7-0c14-4cc0-870b-81a69afe214d",
     "showTitle": false,
     "title": ""
    }
   },
   "outputs": [],
   "source": [
    "df = (df.withColumnRenamed(\"_c0\",\"type\")\n",
    "  .withColumnRenamed(\"_c1\",\"reference\")\n",
    "  .withColumnRenamed(\"_c2\",\"revision_number\")\n",
    "  .withColumnRenamed(\"_c3\",\"last_modified\")\n",
    "  .withColumnRenamed(\"_c4\",\"json_col\")\n",
    "  .withColumn(\"ctl_created_timestamp\", current_timestamp().cast(\"string\"))\n",
    "  .withColumn(\"ctl_source\", lit(\"historical_load\"))\n",
    ")"
   ]
  },
  {
   "cell_type": "code",
   "execution_count": 0,
   "metadata": {
    "application/vnd.databricks.v1+cell": {
     "cellMetadata": {
      "byteLimit": 2048000,
      "rowLimit": 10000
     },
     "inputWidgets": {},
     "nuid": "79297af5-e895-451f-aa81-ef5d84d6cce9",
     "showTitle": false,
     "title": ""
    }
   },
   "outputs": [],
   "source": [
    "df.createOrReplaceTempView(\"tempvw_authors\")"
   ]
  },
  {
   "cell_type": "code",
   "execution_count": 0,
   "metadata": {
    "application/vnd.databricks.v1+cell": {
     "cellMetadata": {
      "byteLimit": 2048000,
      "implicitDf": true,
      "rowLimit": 10000
     },
     "inputWidgets": {},
     "nuid": "0eaeacb5-b74f-43e9-ba6f-a1808f96d1a3",
     "showTitle": false,
     "title": ""
    }
   },
   "outputs": [
    {
     "output_type": "display_data",
     "data": {
      "text/html": [
       "<style scoped>\n",
       "  .table-result-container {\n",
       "    max-height: 300px;\n",
       "    overflow: auto;\n",
       "  }\n",
       "  table, th, td {\n",
       "    border: 1px solid black;\n",
       "    border-collapse: collapse;\n",
       "  }\n",
       "  th, td {\n",
       "    padding: 5px;\n",
       "  }\n",
       "  th {\n",
       "    text-align: left;\n",
       "  }\n",
       "</style><div class='table-result-container'><table class='table-result'><thead style='background-color: white'><tr><th>num_affected_rows</th><th>num_inserted_rows</th></tr></thead><tbody></tbody></table></div>"
      ]
     },
     "metadata": {
      "application/vnd.databricks.v1+output": {
       "addedWidgets": {},
       "aggData": [],
       "aggError": "",
       "aggOverflow": false,
       "aggSchema": [],
       "aggSeriesLimitReached": false,
       "aggType": "",
       "arguments": {},
       "columnCustomDisplayInfos": {},
       "data": [],
       "datasetInfos": [],
       "dbfsResultPath": null,
       "isJsonSchema": true,
       "metadata": {},
       "overflow": false,
       "plotOptions": {
        "customPlotOptions": {},
        "displayType": "table",
        "pivotAggregation": null,
        "pivotColumns": null,
        "xColumns": null,
        "yColumns": null
       },
       "removedWidgets": [],
       "schema": [
        {
         "metadata": "{}",
         "name": "num_affected_rows",
         "type": "\"long\""
        },
        {
         "metadata": "{}",
         "name": "num_inserted_rows",
         "type": "\"long\""
        }
       ],
       "type": "table"
      }
     },
     "output_type": "display_data"
    }
   ],
   "source": [
    "%sql\n",
    "CREATE OR REPLACE TABLE bronze_openlibrary.ol_authors AS\n",
    "SELECT *, input_file_name() AS ctl_file_name FROM tempvw_authors;"
   ]
  },
  {
   "cell_type": "code",
   "execution_count": 0,
   "metadata": {
    "application/vnd.databricks.v1+cell": {
     "cellMetadata": {
      "byteLimit": 2048000,
      "implicitDf": true,
      "rowLimit": 10000
     },
     "inputWidgets": {},
     "nuid": "97e63e59-430f-4476-a040-5cca9e27e9b5",
     "showTitle": false,
     "title": ""
    }
   },
   "outputs": [
    {
     "output_type": "display_data",
     "data": {
      "text/html": [
       "<style scoped>\n",
       "  .table-result-container {\n",
       "    max-height: 300px;\n",
       "    overflow: auto;\n",
       "  }\n",
       "  table, th, td {\n",
       "    border: 1px solid black;\n",
       "    border-collapse: collapse;\n",
       "  }\n",
       "  th, td {\n",
       "    padding: 5px;\n",
       "  }\n",
       "  th {\n",
       "    text-align: left;\n",
       "  }\n",
       "</style><div class='table-result-container'><table class='table-result'><thead style='background-color: white'><tr><th>count(1)</th></tr></thead><tbody><tr><td>11316199</td></tr></tbody></table></div>"
      ]
     },
     "metadata": {
      "application/vnd.databricks.v1+output": {
       "addedWidgets": {},
       "aggData": [],
       "aggError": "",
       "aggOverflow": false,
       "aggSchema": [],
       "aggSeriesLimitReached": false,
       "aggType": "",
       "arguments": {},
       "columnCustomDisplayInfos": {},
       "data": [
        [
         11316199
        ]
       ],
       "datasetInfos": [],
       "dbfsResultPath": null,
       "isJsonSchema": true,
       "metadata": {},
       "overflow": false,
       "plotOptions": {
        "customPlotOptions": {},
        "displayType": "table",
        "pivotAggregation": null,
        "pivotColumns": null,
        "xColumns": null,
        "yColumns": null
       },
       "removedWidgets": [],
       "schema": [
        {
         "metadata": "{\"__autoGeneratedAlias\":\"true\"}",
         "name": "count(1)",
         "type": "\"long\""
        }
       ],
       "type": "table"
      }
     },
     "output_type": "display_data"
    }
   ],
   "source": [
    "%sql\n",
    "SELECT COUNT(*) FROM bronze_openlibrary.ol_authors;"
   ]
  },
  {
   "cell_type": "code",
   "execution_count": 0,
   "metadata": {
    "application/vnd.databricks.v1+cell": {
     "cellMetadata": {
      "byteLimit": 2048000,
      "implicitDf": true,
      "rowLimit": 10000
     },
     "inputWidgets": {},
     "nuid": "466107ae-d364-48cc-8eff-391c4c1df89c",
     "showTitle": false,
     "title": ""
    }
   },
   "outputs": [
    {
     "output_type": "display_data",
     "data": {
      "text/html": [
       "<style scoped>\n",
       "  .table-result-container {\n",
       "    max-height: 300px;\n",
       "    overflow: auto;\n",
       "  }\n",
       "  table, th, td {\n",
       "    border: 1px solid black;\n",
       "    border-collapse: collapse;\n",
       "  }\n",
       "  th, td {\n",
       "    padding: 5px;\n",
       "  }\n",
       "  th {\n",
       "    text-align: left;\n",
       "  }\n",
       "</style><div class='table-result-container'><table class='table-result'><thead style='background-color: white'><tr><th>type</th><th>reference</th><th>revision_number</th><th>last_modified</th><th>json_col</th><th>ctl_created_timestamp</th><th>ctl_source</th><th>ctl_file_name</th></tr></thead><tbody><tr><td>/type/author</td><td>/authors/OL10000666A</td><td>1</td><td>2021-12-26T23:05:27.715+0000</td><td>{\"type\": {\"key\": \"/type/author\"}, \"name\": \"Alexander A. Bove\", \"key\": \"/authors/OL10000666A\", \"source_records\": [\"bwb:9781466829008\"], \"latest_revision\": 1, \"revision\": 1, \"created\": {\"type\": \"/type/datetime\", \"value\": \"2021-12-26T23:05:27.715681\"}, \"last_modified\": {\"type\": \"/type/datetime\", \"value\": \"2021-12-26T23:05:27.715681\"}}</td><td>2023-06-16 18:36:45.959</td><td>historical_load</td><td>dbfs:/mnt/cidaen-open-library/ol_dump_authors_2023-01-10.txt.gz</td></tr><tr><td>/type/author</td><td>/authors/OL10000704A</td><td>1</td><td>2021-12-26T23:07:40.545+0000</td><td>{\"type\": {\"key\": \"/type/author\"}, \"name\": \"Angelika Juritsch\", \"key\": \"/authors/OL10000704A\", \"source_records\": [\"bwb:9788490154434\"], \"latest_revision\": 1, \"revision\": 1, \"created\": {\"type\": \"/type/datetime\", \"value\": \"2021-12-26T23:07:40.545377\"}, \"last_modified\": {\"type\": \"/type/datetime\", \"value\": \"2021-12-26T23:07:40.545377\"}}</td><td>2023-06-16 18:36:45.959</td><td>historical_load</td><td>dbfs:/mnt/cidaen-open-library/ol_dump_authors_2023-01-10.txt.gz</td></tr><tr><td>/type/author</td><td>/authors/OL10001011A</td><td>1</td><td>2021-12-26T23:58:07.734+0000</td><td>{\"type\": {\"key\": \"/type/author\"}, \"name\": \"Magnus Molasky\", \"key\": \"/authors/OL10001011A\", \"source_records\": [\"bwb:9783850403801\"], \"latest_revision\": 1, \"revision\": 1, \"created\": {\"type\": \"/type/datetime\", \"value\": \"2021-12-26T23:58:07.734703\"}, \"last_modified\": {\"type\": \"/type/datetime\", \"value\": \"2021-12-26T23:58:07.734703\"}}</td><td>2023-06-16 18:36:45.959</td><td>historical_load</td><td>dbfs:/mnt/cidaen-open-library/ol_dump_authors_2023-01-10.txt.gz</td></tr><tr><td>/type/author</td><td>/authors/OL10001044A</td><td>1</td><td>2021-12-26T23:58:45.859+0000</td><td>{\"type\": {\"key\": \"/type/author\"}, \"name\": \"Angelika Nickel\", \"key\": \"/authors/OL10001044A\", \"source_records\": [\"bwb:9788490156315\"], \"latest_revision\": 1, \"revision\": 1, \"created\": {\"type\": \"/type/datetime\", \"value\": \"2021-12-26T23:58:45.859331\"}, \"last_modified\": {\"type\": \"/type/datetime\", \"value\": \"2021-12-26T23:58:45.859331\"}}</td><td>2023-06-16 18:36:45.959</td><td>historical_load</td><td>dbfs:/mnt/cidaen-open-library/ol_dump_authors_2023-01-10.txt.gz</td></tr><tr><td>/type/author</td><td>/authors/OL10001379A</td><td>1</td><td>2021-12-27T00:53:18.206+0000</td><td>{\"type\": {\"key\": \"/type/author\"}, \"name\": \"Verena ller\", \"key\": \"/authors/OL10001379A\", \"source_records\": [\"bwb:9783850405348\"], \"latest_revision\": 1, \"revision\": 1, \"created\": {\"type\": \"/type/datetime\", \"value\": \"2021-12-27T00:53:18.206332\"}, \"last_modified\": {\"type\": \"/type/datetime\", \"value\": \"2021-12-27T00:53:18.206332\"}}</td><td>2023-06-16 18:36:45.959</td><td>historical_load</td><td>dbfs:/mnt/cidaen-open-library/ol_dump_authors_2023-01-10.txt.gz</td></tr></tbody></table></div>"
      ]
     },
     "metadata": {
      "application/vnd.databricks.v1+output": {
       "addedWidgets": {},
       "aggData": [],
       "aggError": "",
       "aggOverflow": false,
       "aggSchema": [],
       "aggSeriesLimitReached": false,
       "aggType": "",
       "arguments": {},
       "columnCustomDisplayInfos": {},
       "data": [
        [
         "/type/author",
         "/authors/OL10000666A",
         1,
         "2021-12-26T23:05:27.715+0000",
         "{\"type\": {\"key\": \"/type/author\"}, \"name\": \"Alexander A. Bove\", \"key\": \"/authors/OL10000666A\", \"source_records\": [\"bwb:9781466829008\"], \"latest_revision\": 1, \"revision\": 1, \"created\": {\"type\": \"/type/datetime\", \"value\": \"2021-12-26T23:05:27.715681\"}, \"last_modified\": {\"type\": \"/type/datetime\", \"value\": \"2021-12-26T23:05:27.715681\"}}",
         "2023-06-16 18:36:45.959",
         "historical_load",
         "dbfs:/mnt/cidaen-open-library/ol_dump_authors_2023-01-10.txt.gz"
        ],
        [
         "/type/author",
         "/authors/OL10000704A",
         1,
         "2021-12-26T23:07:40.545+0000",
         "{\"type\": {\"key\": \"/type/author\"}, \"name\": \"Angelika Juritsch\", \"key\": \"/authors/OL10000704A\", \"source_records\": [\"bwb:9788490154434\"], \"latest_revision\": 1, \"revision\": 1, \"created\": {\"type\": \"/type/datetime\", \"value\": \"2021-12-26T23:07:40.545377\"}, \"last_modified\": {\"type\": \"/type/datetime\", \"value\": \"2021-12-26T23:07:40.545377\"}}",
         "2023-06-16 18:36:45.959",
         "historical_load",
         "dbfs:/mnt/cidaen-open-library/ol_dump_authors_2023-01-10.txt.gz"
        ],
        [
         "/type/author",
         "/authors/OL10001011A",
         1,
         "2021-12-26T23:58:07.734+0000",
         "{\"type\": {\"key\": \"/type/author\"}, \"name\": \"Magnus Molasky\", \"key\": \"/authors/OL10001011A\", \"source_records\": [\"bwb:9783850403801\"], \"latest_revision\": 1, \"revision\": 1, \"created\": {\"type\": \"/type/datetime\", \"value\": \"2021-12-26T23:58:07.734703\"}, \"last_modified\": {\"type\": \"/type/datetime\", \"value\": \"2021-12-26T23:58:07.734703\"}}",
         "2023-06-16 18:36:45.959",
         "historical_load",
         "dbfs:/mnt/cidaen-open-library/ol_dump_authors_2023-01-10.txt.gz"
        ],
        [
         "/type/author",
         "/authors/OL10001044A",
         1,
         "2021-12-26T23:58:45.859+0000",
         "{\"type\": {\"key\": \"/type/author\"}, \"name\": \"Angelika Nickel\", \"key\": \"/authors/OL10001044A\", \"source_records\": [\"bwb:9788490156315\"], \"latest_revision\": 1, \"revision\": 1, \"created\": {\"type\": \"/type/datetime\", \"value\": \"2021-12-26T23:58:45.859331\"}, \"last_modified\": {\"type\": \"/type/datetime\", \"value\": \"2021-12-26T23:58:45.859331\"}}",
         "2023-06-16 18:36:45.959",
         "historical_load",
         "dbfs:/mnt/cidaen-open-library/ol_dump_authors_2023-01-10.txt.gz"
        ],
        [
         "/type/author",
         "/authors/OL10001379A",
         1,
         "2021-12-27T00:53:18.206+0000",
         "{\"type\": {\"key\": \"/type/author\"}, \"name\": \"Verena ller\", \"key\": \"/authors/OL10001379A\", \"source_records\": [\"bwb:9783850405348\"], \"latest_revision\": 1, \"revision\": 1, \"created\": {\"type\": \"/type/datetime\", \"value\": \"2021-12-27T00:53:18.206332\"}, \"last_modified\": {\"type\": \"/type/datetime\", \"value\": \"2021-12-27T00:53:18.206332\"}}",
         "2023-06-16 18:36:45.959",
         "historical_load",
         "dbfs:/mnt/cidaen-open-library/ol_dump_authors_2023-01-10.txt.gz"
        ]
       ],
       "datasetInfos": [],
       "dbfsResultPath": null,
       "isJsonSchema": true,
       "metadata": {},
       "overflow": false,
       "plotOptions": {
        "customPlotOptions": {},
        "displayType": "table",
        "pivotAggregation": null,
        "pivotColumns": null,
        "xColumns": null,
        "yColumns": null
       },
       "removedWidgets": [],
       "schema": [
        {
         "metadata": "{}",
         "name": "type",
         "type": "\"string\""
        },
        {
         "metadata": "{}",
         "name": "reference",
         "type": "\"string\""
        },
        {
         "metadata": "{}",
         "name": "revision_number",
         "type": "\"integer\""
        },
        {
         "metadata": "{}",
         "name": "last_modified",
         "type": "\"timestamp\""
        },
        {
         "metadata": "{}",
         "name": "json_col",
         "type": "\"string\""
        },
        {
         "metadata": "{}",
         "name": "ctl_created_timestamp",
         "type": "\"string\""
        },
        {
         "metadata": "{}",
         "name": "ctl_source",
         "type": "\"string\""
        },
        {
         "metadata": "{}",
         "name": "ctl_file_name",
         "type": "\"string\""
        }
       ],
       "type": "table"
      }
     },
     "output_type": "display_data"
    }
   ],
   "source": [
    "%sql\n",
    "SELECT * FROM bronze_openlibrary.ol_authors LIMIT 5;"
   ]
  },
  {
   "cell_type": "markdown",
   "metadata": {
    "application/vnd.databricks.v1+cell": {
     "cellMetadata": {
      "byteLimit": 2048000,
      "rowLimit": 10000
     },
     "inputWidgets": {},
     "nuid": "199fea69-3176-48e8-96d3-4ed04c8af2ad",
     "showTitle": false,
     "title": ""
    }
   },
   "source": [
    "## Silver"
   ]
  },
  {
   "cell_type": "code",
   "execution_count": 0,
   "metadata": {
    "application/vnd.databricks.v1+cell": {
     "cellMetadata": {
      "byteLimit": 2048000,
      "implicitDf": true,
      "rowLimit": 10000
     },
     "inputWidgets": {},
     "nuid": "625aa3e5-a5f5-4419-a446-254f973f6d3b",
     "showTitle": false,
     "title": ""
    }
   },
   "outputs": [
    {
     "output_type": "display_data",
     "data": {
      "text/html": [
       "<style scoped>\n",
       "  .table-result-container {\n",
       "    max-height: 300px;\n",
       "    overflow: auto;\n",
       "  }\n",
       "  table, th, td {\n",
       "    border: 1px solid black;\n",
       "    border-collapse: collapse;\n",
       "  }\n",
       "  th, td {\n",
       "    padding: 5px;\n",
       "  }\n",
       "  th {\n",
       "    text-align: left;\n",
       "  }\n",
       "</style><div class='table-result-container'><table class='table-result'><thead style='background-color: white'><tr></tr></thead><tbody></tbody></table></div>"
      ]
     },
     "metadata": {
      "application/vnd.databricks.v1+output": {
       "addedWidgets": {},
       "aggData": [],
       "aggError": "",
       "aggOverflow": false,
       "aggSchema": [],
       "aggSeriesLimitReached": false,
       "aggType": "",
       "arguments": {},
       "columnCustomDisplayInfos": {},
       "data": [],
       "datasetInfos": [],
       "dbfsResultPath": null,
       "isJsonSchema": true,
       "metadata": {},
       "overflow": false,
       "plotOptions": {
        "customPlotOptions": {},
        "displayType": "table",
        "pivotAggregation": null,
        "pivotColumns": null,
        "xColumns": null,
        "yColumns": null
       },
       "removedWidgets": [],
       "schema": [],
       "type": "table"
      }
     },
     "output_type": "display_data"
    }
   ],
   "source": [
    "%sql\n",
    "CREATE SCHEMA IF NOT EXISTS silver_openlibrary"
   ]
  },
  {
   "cell_type": "markdown",
   "metadata": {
    "application/vnd.databricks.v1+cell": {
     "cellMetadata": {
      "byteLimit": 2048000,
      "rowLimit": 10000
     },
     "inputWidgets": {},
     "nuid": "5bcadde5-a81d-4cd5-9784-70aeb3e4f32f",
     "showTitle": false,
     "title": ""
    }
   },
   "source": [
    "### Create tables in Silver - First step transformations"
   ]
  },
  {
   "cell_type": "markdown",
   "metadata": {
    "application/vnd.databricks.v1+cell": {
     "cellMetadata": {
      "byteLimit": 2048000,
      "rowLimit": 10000
     },
     "inputWidgets": {},
     "nuid": "5305c350-20dd-4c94-a3f3-144aebe5f8cd",
     "showTitle": false,
     "title": ""
    }
   },
   "source": [
    "#### Imports"
   ]
  },
  {
   "cell_type": "code",
   "execution_count": 0,
   "metadata": {
    "application/vnd.databricks.v1+cell": {
     "cellMetadata": {
      "byteLimit": 2048000,
      "rowLimit": 10000
     },
     "inputWidgets": {},
     "nuid": "eed7cb0f-4a7b-4337-a5ac-c53bde37441c",
     "showTitle": false,
     "title": ""
    }
   },
   "outputs": [],
   "source": [
    "from pyspark.sql.functions import from_json, col, regexp_extract, explode, split, collect_list\n",
    "from pyspark.sql.types import StructType, StructField, StringType, ArrayType, IntegerType, TimestampType, MapType"
   ]
  },
  {
   "cell_type": "markdown",
   "metadata": {
    "application/vnd.databricks.v1+cell": {
     "cellMetadata": {
      "byteLimit": 2048000,
      "rowLimit": 10000
     },
     "inputWidgets": {},
     "nuid": "532eddde-6a09-4a52-9266-b5873ef6b3a4",
     "showTitle": false,
     "title": ""
    }
   },
   "source": [
    "#### Create table silver_openlibrary.ol_authors"
   ]
  },
  {
   "cell_type": "code",
   "execution_count": 0,
   "metadata": {
    "application/vnd.databricks.v1+cell": {
     "cellMetadata": {
      "byteLimit": 2048000,
      "rowLimit": 10000
     },
     "inputWidgets": {},
     "nuid": "ffab44de-68a7-4e3a-b47e-502090ecf079",
     "showTitle": false,
     "title": ""
    }
   },
   "outputs": [],
   "source": [
    "df_authors = spark.sql(\"SELECT * FROM bronze_openlibrary.ol_authors\")\n",
    "schema = StructType(\n",
    "    [\n",
    "        StructField('name', StringType(), True),\n",
    "        StructField('personal_name', StringType(), True)\n",
    "    ]\n",
    ")\n",
    "\n",
    "df_authors = df_authors.withColumn(\"json_col\", from_json(\"json_col\", schema))\\\n",
    "    .select(col('reference').alias('author_ref'), \\\n",
    "            col('json_col.name').alias('author_name'), \\\n",
    "            col('json_col.personal_name').alias('author_personal_name'), \\\n",
    "            col('revision_number'), \\\n",
    "            col('last_modified'), \\\n",
    "            col('ctl_created_timestamp'), \\\n",
    "            col('ctl_source'), \\\n",
    "            col('ctl_file_name'))\n",
    "df_authors.createOrReplaceTempView(\"vw_silver_authors\")"
   ]
  },
  {
   "cell_type": "code",
   "execution_count": 0,
   "metadata": {
    "application/vnd.databricks.v1+cell": {
     "cellMetadata": {
      "byteLimit": 2048000,
      "implicitDf": true,
      "rowLimit": 10000
     },
     "inputWidgets": {},
     "nuid": "e77d5e43-9f56-442f-b419-4153d120c692",
     "showTitle": false,
     "title": ""
    }
   },
   "outputs": [
    {
     "output_type": "display_data",
     "data": {
      "text/html": [
       "<style scoped>\n",
       "  .table-result-container {\n",
       "    max-height: 300px;\n",
       "    overflow: auto;\n",
       "  }\n",
       "  table, th, td {\n",
       "    border: 1px solid black;\n",
       "    border-collapse: collapse;\n",
       "  }\n",
       "  th, td {\n",
       "    padding: 5px;\n",
       "  }\n",
       "  th {\n",
       "    text-align: left;\n",
       "  }\n",
       "</style><div class='table-result-container'><table class='table-result'><thead style='background-color: white'><tr><th>num_affected_rows</th><th>num_inserted_rows</th></tr></thead><tbody></tbody></table></div>"
      ]
     },
     "metadata": {
      "application/vnd.databricks.v1+output": {
       "addedWidgets": {},
       "aggData": [],
       "aggError": "",
       "aggOverflow": false,
       "aggSchema": [],
       "aggSeriesLimitReached": false,
       "aggType": "",
       "arguments": {},
       "columnCustomDisplayInfos": {},
       "data": [],
       "datasetInfos": [],
       "dbfsResultPath": null,
       "isJsonSchema": true,
       "metadata": {},
       "overflow": false,
       "plotOptions": {
        "customPlotOptions": {},
        "displayType": "table",
        "pivotAggregation": null,
        "pivotColumns": null,
        "xColumns": null,
        "yColumns": null
       },
       "removedWidgets": [],
       "schema": [
        {
         "metadata": "{}",
         "name": "num_affected_rows",
         "type": "\"long\""
        },
        {
         "metadata": "{}",
         "name": "num_inserted_rows",
         "type": "\"long\""
        }
       ],
       "type": "table"
      }
     },
     "output_type": "display_data"
    }
   ],
   "source": [
    "%sql\n",
    "CREATE OR REPLACE TABLE silver_openlibrary.ol_authors AS\n",
    "SELECT DISTINCT * FROM vw_silver_authors"
   ]
  },
  {
   "cell_type": "code",
   "execution_count": 0,
   "metadata": {
    "application/vnd.databricks.v1+cell": {
     "cellMetadata": {
      "byteLimit": 2048000,
      "implicitDf": true,
      "rowLimit": 10000
     },
     "inputWidgets": {},
     "nuid": "e1f7694a-8017-4ea1-981c-48cb73403514",
     "showTitle": false,
     "title": ""
    }
   },
   "outputs": [
    {
     "output_type": "display_data",
     "data": {
      "text/html": [
       "<style scoped>\n",
       "  .table-result-container {\n",
       "    max-height: 300px;\n",
       "    overflow: auto;\n",
       "  }\n",
       "  table, th, td {\n",
       "    border: 1px solid black;\n",
       "    border-collapse: collapse;\n",
       "  }\n",
       "  th, td {\n",
       "    padding: 5px;\n",
       "  }\n",
       "  th {\n",
       "    text-align: left;\n",
       "  }\n",
       "</style><div class='table-result-container'><table class='table-result'><thead style='background-color: white'><tr><th>author_ref</th><th>author_name</th><th>author_personal_name</th><th>revision_number</th><th>last_modified</th><th>ctl_created_timestamp</th><th>ctl_source</th><th>ctl_file_name</th></tr></thead><tbody><tr><td>/authors/OL10000704A</td><td>Angelika Juritsch</td><td>null</td><td>1</td><td>2021-12-26T23:07:40.545+0000</td><td>2023-06-16 18:36:45.959</td><td>historical_load</td><td>dbfs:/mnt/cidaen-open-library/ol_dump_authors_2023-01-10.txt.gz</td></tr><tr><td>/authors/OL10028475A</td><td>Néstor A. Corona</td><td>null</td><td>1</td><td>2021-12-28T05:17:55.680+0000</td><td>2023-06-16 18:36:45.959</td><td>historical_load</td><td>dbfs:/mnt/cidaen-open-library/ol_dump_authors_2023-01-10.txt.gz</td></tr><tr><td>/authors/OL10029831A</td><td>Bart At</td><td>null</td><td>1</td><td>2021-12-28T06:54:12.813+0000</td><td>2023-06-16 18:36:45.959</td><td>historical_load</td><td>dbfs:/mnt/cidaen-open-library/ol_dump_authors_2023-01-10.txt.gz</td></tr><tr><td>/authors/OL10048132A</td><td>Keren Etkin</td><td>null</td><td>1</td><td>2021-12-28T22:25:37.697+0000</td><td>2023-06-16 18:36:45.959</td><td>historical_load</td><td>dbfs:/mnt/cidaen-open-library/ol_dump_authors_2023-01-10.txt.gz</td></tr><tr><td>/authors/OL1006225A</td><td>Stephen McCafferty</td><td>Stephen McCafferty</td><td>2</td><td>2008-08-20T18:38:53.217+0000</td><td>2023-06-16 18:36:45.959</td><td>historical_load</td><td>dbfs:/mnt/cidaen-open-library/ol_dump_authors_2023-01-10.txt.gz</td></tr></tbody></table></div>"
      ]
     },
     "metadata": {
      "application/vnd.databricks.v1+output": {
       "addedWidgets": {},
       "aggData": [],
       "aggError": "",
       "aggOverflow": false,
       "aggSchema": [],
       "aggSeriesLimitReached": false,
       "aggType": "",
       "arguments": {},
       "columnCustomDisplayInfos": {},
       "data": [
        [
         "/authors/OL10000704A",
         "Angelika Juritsch",
         null,
         1,
         "2021-12-26T23:07:40.545+0000",
         "2023-06-16 18:36:45.959",
         "historical_load",
         "dbfs:/mnt/cidaen-open-library/ol_dump_authors_2023-01-10.txt.gz"
        ],
        [
         "/authors/OL10028475A",
         "Néstor A. Corona",
         null,
         1,
         "2021-12-28T05:17:55.680+0000",
         "2023-06-16 18:36:45.959",
         "historical_load",
         "dbfs:/mnt/cidaen-open-library/ol_dump_authors_2023-01-10.txt.gz"
        ],
        [
         "/authors/OL10029831A",
         "Bart At",
         null,
         1,
         "2021-12-28T06:54:12.813+0000",
         "2023-06-16 18:36:45.959",
         "historical_load",
         "dbfs:/mnt/cidaen-open-library/ol_dump_authors_2023-01-10.txt.gz"
        ],
        [
         "/authors/OL10048132A",
         "Keren Etkin",
         null,
         1,
         "2021-12-28T22:25:37.697+0000",
         "2023-06-16 18:36:45.959",
         "historical_load",
         "dbfs:/mnt/cidaen-open-library/ol_dump_authors_2023-01-10.txt.gz"
        ],
        [
         "/authors/OL1006225A",
         "Stephen McCafferty",
         "Stephen McCafferty",
         2,
         "2008-08-20T18:38:53.217+0000",
         "2023-06-16 18:36:45.959",
         "historical_load",
         "dbfs:/mnt/cidaen-open-library/ol_dump_authors_2023-01-10.txt.gz"
        ]
       ],
       "datasetInfos": [],
       "dbfsResultPath": null,
       "isJsonSchema": true,
       "metadata": {},
       "overflow": false,
       "plotOptions": {
        "customPlotOptions": {},
        "displayType": "table",
        "pivotAggregation": null,
        "pivotColumns": null,
        "xColumns": null,
        "yColumns": null
       },
       "removedWidgets": [],
       "schema": [
        {
         "metadata": "{}",
         "name": "author_ref",
         "type": "\"string\""
        },
        {
         "metadata": "{}",
         "name": "author_name",
         "type": "\"string\""
        },
        {
         "metadata": "{}",
         "name": "author_personal_name",
         "type": "\"string\""
        },
        {
         "metadata": "{}",
         "name": "revision_number",
         "type": "\"integer\""
        },
        {
         "metadata": "{}",
         "name": "last_modified",
         "type": "\"timestamp\""
        },
        {
         "metadata": "{}",
         "name": "ctl_created_timestamp",
         "type": "\"string\""
        },
        {
         "metadata": "{}",
         "name": "ctl_source",
         "type": "\"string\""
        },
        {
         "metadata": "{}",
         "name": "ctl_file_name",
         "type": "\"string\""
        }
       ],
       "type": "table"
      }
     },
     "output_type": "display_data"
    }
   ],
   "source": [
    "%sql\n",
    "SELECT * FROM silver_openlibrary.ol_authors LIMIT 5;"
   ]
  },
  {
   "cell_type": "code",
   "execution_count": 0,
   "metadata": {
    "application/vnd.databricks.v1+cell": {
     "cellMetadata": {
      "byteLimit": 2048000,
      "implicitDf": true,
      "rowLimit": 10000
     },
     "inputWidgets": {},
     "nuid": "d25432e5-9b61-411e-9eef-dbb9d269185f",
     "showTitle": false,
     "title": ""
    }
   },
   "outputs": [
    {
     "output_type": "display_data",
     "data": {
      "text/html": [
       "<style scoped>\n",
       "  .table-result-container {\n",
       "    max-height: 300px;\n",
       "    overflow: auto;\n",
       "  }\n",
       "  table, th, td {\n",
       "    border: 1px solid black;\n",
       "    border-collapse: collapse;\n",
       "  }\n",
       "  th, td {\n",
       "    padding: 5px;\n",
       "  }\n",
       "  th {\n",
       "    text-align: left;\n",
       "  }\n",
       "</style><div class='table-result-container'><table class='table-result'><thead style='background-color: white'><tr><th>count(1)</th></tr></thead><tbody><tr><td>11316199</td></tr></tbody></table></div>"
      ]
     },
     "metadata": {
      "application/vnd.databricks.v1+output": {
       "addedWidgets": {},
       "aggData": [],
       "aggError": "",
       "aggOverflow": false,
       "aggSchema": [],
       "aggSeriesLimitReached": false,
       "aggType": "",
       "arguments": {},
       "columnCustomDisplayInfos": {},
       "data": [
        [
         11316199
        ]
       ],
       "datasetInfos": [],
       "dbfsResultPath": null,
       "isJsonSchema": true,
       "metadata": {},
       "overflow": false,
       "plotOptions": {
        "customPlotOptions": {},
        "displayType": "table",
        "pivotAggregation": null,
        "pivotColumns": null,
        "xColumns": null,
        "yColumns": null
       },
       "removedWidgets": [],
       "schema": [
        {
         "metadata": "{\"__autoGeneratedAlias\":\"true\"}",
         "name": "count(1)",
         "type": "\"long\""
        }
       ],
       "type": "table"
      }
     },
     "output_type": "display_data"
    }
   ],
   "source": [
    "%sql\n",
    "SELECT COUNT(*) FROM bronze_openlibrary.ol_authors --11316199"
   ]
  },
  {
   "cell_type": "code",
   "execution_count": 0,
   "metadata": {
    "application/vnd.databricks.v1+cell": {
     "cellMetadata": {
      "byteLimit": 2048000,
      "implicitDf": true,
      "rowLimit": 10000
     },
     "inputWidgets": {},
     "nuid": "5270ca6c-5d83-4613-abee-8709d8bb850c",
     "showTitle": false,
     "title": ""
    }
   },
   "outputs": [
    {
     "output_type": "display_data",
     "data": {
      "text/html": [
       "<style scoped>\n",
       "  .table-result-container {\n",
       "    max-height: 300px;\n",
       "    overflow: auto;\n",
       "  }\n",
       "  table, th, td {\n",
       "    border: 1px solid black;\n",
       "    border-collapse: collapse;\n",
       "  }\n",
       "  th, td {\n",
       "    padding: 5px;\n",
       "  }\n",
       "  th {\n",
       "    text-align: left;\n",
       "  }\n",
       "</style><div class='table-result-container'><table class='table-result'><thead style='background-color: white'><tr><th>count(1)</th></tr></thead><tbody><tr><td>11316199</td></tr></tbody></table></div>"
      ]
     },
     "metadata": {
      "application/vnd.databricks.v1+output": {
       "addedWidgets": {},
       "aggData": [],
       "aggError": "",
       "aggOverflow": false,
       "aggSchema": [],
       "aggSeriesLimitReached": false,
       "aggType": "",
       "arguments": {},
       "columnCustomDisplayInfos": {},
       "data": [
        [
         11316199
        ]
       ],
       "datasetInfos": [],
       "dbfsResultPath": null,
       "isJsonSchema": true,
       "metadata": {},
       "overflow": false,
       "plotOptions": {
        "customPlotOptions": {},
        "displayType": "table",
        "pivotAggregation": null,
        "pivotColumns": null,
        "xColumns": null,
        "yColumns": null
       },
       "removedWidgets": [],
       "schema": [
        {
         "metadata": "{\"__autoGeneratedAlias\":\"true\"}",
         "name": "count(1)",
         "type": "\"long\""
        }
       ],
       "type": "table"
      }
     },
     "output_type": "display_data"
    }
   ],
   "source": [
    "%sql\n",
    "SELECT COUNT(*) FROM silver_openlibrary.ol_authors --11316199"
   ]
  },
  {
   "cell_type": "markdown",
   "metadata": {
    "application/vnd.databricks.v1+cell": {
     "cellMetadata": {
      "byteLimit": 2048000,
      "rowLimit": 10000
     },
     "inputWidgets": {},
     "nuid": "58f8a322-eaae-4026-bdb5-a1ffd5a09d1d",
     "showTitle": false,
     "title": ""
    }
   },
   "source": [
    "#### Create table bronze_openlibrary.ol_works"
   ]
  },
  {
   "cell_type": "code",
   "execution_count": 0,
   "metadata": {
    "application/vnd.databricks.v1+cell": {
     "cellMetadata": {
      "byteLimit": 2048000,
      "implicitDf": true,
      "rowLimit": 10000
     },
     "inputWidgets": {},
     "nuid": "2a6728ce-bbe7-4c79-b5c2-7475c68d780a",
     "showTitle": false,
     "title": ""
    }
   },
   "outputs": [
    {
     "output_type": "display_data",
     "data": {
      "text/html": [
       "<style scoped>\n",
       "  .table-result-container {\n",
       "    max-height: 300px;\n",
       "    overflow: auto;\n",
       "  }\n",
       "  table, th, td {\n",
       "    border: 1px solid black;\n",
       "    border-collapse: collapse;\n",
       "  }\n",
       "  th, td {\n",
       "    padding: 5px;\n",
       "  }\n",
       "  th {\n",
       "    text-align: left;\n",
       "  }\n",
       "</style><div class='table-result-container'><table class='table-result'><thead style='background-color: white'><tr><th>type</th><th>reference</th><th>revision_number</th><th>last_modified</th><th>json_col</th><th>ctl_created_timestamp</th><th>ctl_source</th><th>ctl_file_name</th></tr></thead><tbody><tr><td>/type/work</td><td>/works/OL10000077W</td><td>7</td><td>2021-08-13T09:02:17.282+0000</td><td>{\"title\": \"Classic garden style\", \"subjects\": [\"Floral decorations\", \"Garden ornaments and furniture\", \"Decoration and ornament\", \"Garden structures\", \"Jardins\", \"Meubles et ornements\", \"Antiquit\\u00e9s (Objets anciens)\"], \"key\": \"/works/OL10000077W\", \"authors\": [{\"type\": {\"key\": \"/type/author_role\"}, \"author\": {\"key\": \"/authors/OL3965042A\"}}], \"type\": {\"key\": \"/type/work\"}, \"covers\": [11604950], \"latest_revision\": 7, \"revision\": 7, \"created\": {\"type\": \"/type/datetime\", \"value\": \"2009-12-11T01:57:19.964652\"}, \"last_modified\": {\"type\": \"/type/datetime\", \"value\": \"2021-08-13T09:02:17.282451\"}}</td><td>2023-06-16 18:23:42.501</td><td>historical_load</td><td>dbfs:/mnt/cidaen-open-library/ol_dump_works_2023-01-10.txt.gz</td></tr><tr><td>/type/work</td><td>/works/OL10000238W</td><td>3</td><td>2010-04-28T06:54:19.472+0000</td><td>{\"title\": \"H\\u00e9rault de S\\u00e9chelles, ou les infortunes de la beaut\\u00e9\", \"created\": {\"type\": \"/type/datetime\", \"value\": \"2009-12-11T01:57:19.964652\"}, \"covers\": [3140482], \"last_modified\": {\"type\": \"/type/datetime\", \"value\": \"2010-04-28T06:54:19.472104\"}, \"latest_revision\": 3, \"key\": \"/works/OL10000238W\", \"authors\": [{\"type\": \"/type/author_role\", \"author\": {\"key\": \"/authors/OL3965269A\"}}], \"type\": {\"key\": \"/type/work\"}, \"revision\": 3}</td><td>2023-06-16 18:23:42.501</td><td>historical_load</td><td>dbfs:/mnt/cidaen-open-library/ol_dump_works_2023-01-10.txt.gz</td></tr><tr><td>/type/work</td><td>/works/OL10000261W</td><td>3</td><td>2010-04-28T06:54:19.472+0000</td><td>{\"title\": \"Envoy\\u00e9s sp\\u00e9cieux\", \"created\": {\"type\": \"/type/datetime\", \"value\": \"2009-12-11T01:57:19.964652\"}, \"covers\": [3142759], \"last_modified\": {\"type\": \"/type/datetime\", \"value\": \"2010-04-28T06:54:19.472104\"}, \"latest_revision\": 3, \"key\": \"/works/OL10000261W\", \"authors\": [{\"type\": \"/type/author_role\", \"author\": {\"key\": \"/authors/OL3965289A\"}}], \"type\": {\"key\": \"/type/work\"}, \"revision\": 3}</td><td>2023-06-16 18:23:42.501</td><td>historical_load</td><td>dbfs:/mnt/cidaen-open-library/ol_dump_works_2023-01-10.txt.gz</td></tr><tr><td>/type/work</td><td>/works/OL10000387W</td><td>3</td><td>2010-04-28T06:54:19.472+0000</td><td>{\"title\": \"JC de Castelbajac\", \"created\": {\"type\": \"/type/datetime\", \"value\": \"2009-12-11T01:57:19.964652\"}, \"covers\": [3140687], \"last_modified\": {\"type\": \"/type/datetime\", \"value\": \"2010-04-28T06:54:19.472104\"}, \"latest_revision\": 3, \"key\": \"/works/OL10000387W\", \"authors\": [{\"type\": \"/type/author_role\", \"author\": {\"key\": \"/authors/OL3965419A\"}}], \"type\": {\"key\": \"/type/work\"}, \"revision\": 3}</td><td>2023-06-16 18:23:42.501</td><td>historical_load</td><td>dbfs:/mnt/cidaen-open-library/ol_dump_works_2023-01-10.txt.gz</td></tr><tr><td>/type/work</td><td>/works/OL10000507W</td><td>3</td><td>2010-04-28T06:54:19.472+0000</td><td>{\"title\": \"L'Alchimie de la gu\\u00e9rison, tome 2\", \"created\": {\"type\": \"/type/datetime\", \"value\": \"2009-12-11T01:57:19.964652\"}, \"covers\": [3140956], \"last_modified\": {\"type\": \"/type/datetime\", \"value\": \"2010-04-28T06:54:19.472104\"}, \"latest_revision\": 3, \"key\": \"/works/OL10000507W\", \"authors\": [{\"type\": \"/type/author_role\", \"author\": {\"key\": \"/authors/OL3965546A\"}}], \"type\": {\"key\": \"/type/work\"}, \"revision\": 3}</td><td>2023-06-16 18:23:42.501</td><td>historical_load</td><td>dbfs:/mnt/cidaen-open-library/ol_dump_works_2023-01-10.txt.gz</td></tr></tbody></table></div>"
      ]
     },
     "metadata": {
      "application/vnd.databricks.v1+output": {
       "addedWidgets": {},
       "aggData": [],
       "aggError": "",
       "aggOverflow": false,
       "aggSchema": [],
       "aggSeriesLimitReached": false,
       "aggType": "",
       "arguments": {},
       "columnCustomDisplayInfos": {},
       "data": [
        [
         "/type/work",
         "/works/OL10000077W",
         7,
         "2021-08-13T09:02:17.282+0000",
         "{\"title\": \"Classic garden style\", \"subjects\": [\"Floral decorations\", \"Garden ornaments and furniture\", \"Decoration and ornament\", \"Garden structures\", \"Jardins\", \"Meubles et ornements\", \"Antiquit\\u00e9s (Objets anciens)\"], \"key\": \"/works/OL10000077W\", \"authors\": [{\"type\": {\"key\": \"/type/author_role\"}, \"author\": {\"key\": \"/authors/OL3965042A\"}}], \"type\": {\"key\": \"/type/work\"}, \"covers\": [11604950], \"latest_revision\": 7, \"revision\": 7, \"created\": {\"type\": \"/type/datetime\", \"value\": \"2009-12-11T01:57:19.964652\"}, \"last_modified\": {\"type\": \"/type/datetime\", \"value\": \"2021-08-13T09:02:17.282451\"}}",
         "2023-06-16 18:23:42.501",
         "historical_load",
         "dbfs:/mnt/cidaen-open-library/ol_dump_works_2023-01-10.txt.gz"
        ],
        [
         "/type/work",
         "/works/OL10000238W",
         3,
         "2010-04-28T06:54:19.472+0000",
         "{\"title\": \"H\\u00e9rault de S\\u00e9chelles, ou les infortunes de la beaut\\u00e9\", \"created\": {\"type\": \"/type/datetime\", \"value\": \"2009-12-11T01:57:19.964652\"}, \"covers\": [3140482], \"last_modified\": {\"type\": \"/type/datetime\", \"value\": \"2010-04-28T06:54:19.472104\"}, \"latest_revision\": 3, \"key\": \"/works/OL10000238W\", \"authors\": [{\"type\": \"/type/author_role\", \"author\": {\"key\": \"/authors/OL3965269A\"}}], \"type\": {\"key\": \"/type/work\"}, \"revision\": 3}",
         "2023-06-16 18:23:42.501",
         "historical_load",
         "dbfs:/mnt/cidaen-open-library/ol_dump_works_2023-01-10.txt.gz"
        ],
        [
         "/type/work",
         "/works/OL10000261W",
         3,
         "2010-04-28T06:54:19.472+0000",
         "{\"title\": \"Envoy\\u00e9s sp\\u00e9cieux\", \"created\": {\"type\": \"/type/datetime\", \"value\": \"2009-12-11T01:57:19.964652\"}, \"covers\": [3142759], \"last_modified\": {\"type\": \"/type/datetime\", \"value\": \"2010-04-28T06:54:19.472104\"}, \"latest_revision\": 3, \"key\": \"/works/OL10000261W\", \"authors\": [{\"type\": \"/type/author_role\", \"author\": {\"key\": \"/authors/OL3965289A\"}}], \"type\": {\"key\": \"/type/work\"}, \"revision\": 3}",
         "2023-06-16 18:23:42.501",
         "historical_load",
         "dbfs:/mnt/cidaen-open-library/ol_dump_works_2023-01-10.txt.gz"
        ],
        [
         "/type/work",
         "/works/OL10000387W",
         3,
         "2010-04-28T06:54:19.472+0000",
         "{\"title\": \"JC de Castelbajac\", \"created\": {\"type\": \"/type/datetime\", \"value\": \"2009-12-11T01:57:19.964652\"}, \"covers\": [3140687], \"last_modified\": {\"type\": \"/type/datetime\", \"value\": \"2010-04-28T06:54:19.472104\"}, \"latest_revision\": 3, \"key\": \"/works/OL10000387W\", \"authors\": [{\"type\": \"/type/author_role\", \"author\": {\"key\": \"/authors/OL3965419A\"}}], \"type\": {\"key\": \"/type/work\"}, \"revision\": 3}",
         "2023-06-16 18:23:42.501",
         "historical_load",
         "dbfs:/mnt/cidaen-open-library/ol_dump_works_2023-01-10.txt.gz"
        ],
        [
         "/type/work",
         "/works/OL10000507W",
         3,
         "2010-04-28T06:54:19.472+0000",
         "{\"title\": \"L'Alchimie de la gu\\u00e9rison, tome 2\", \"created\": {\"type\": \"/type/datetime\", \"value\": \"2009-12-11T01:57:19.964652\"}, \"covers\": [3140956], \"last_modified\": {\"type\": \"/type/datetime\", \"value\": \"2010-04-28T06:54:19.472104\"}, \"latest_revision\": 3, \"key\": \"/works/OL10000507W\", \"authors\": [{\"type\": \"/type/author_role\", \"author\": {\"key\": \"/authors/OL3965546A\"}}], \"type\": {\"key\": \"/type/work\"}, \"revision\": 3}",
         "2023-06-16 18:23:42.501",
         "historical_load",
         "dbfs:/mnt/cidaen-open-library/ol_dump_works_2023-01-10.txt.gz"
        ]
       ],
       "datasetInfos": [],
       "dbfsResultPath": null,
       "isJsonSchema": true,
       "metadata": {},
       "overflow": false,
       "plotOptions": {
        "customPlotOptions": {},
        "displayType": "table",
        "pivotAggregation": null,
        "pivotColumns": null,
        "xColumns": null,
        "yColumns": null
       },
       "removedWidgets": [],
       "schema": [
        {
         "metadata": "{}",
         "name": "type",
         "type": "\"string\""
        },
        {
         "metadata": "{}",
         "name": "reference",
         "type": "\"string\""
        },
        {
         "metadata": "{}",
         "name": "revision_number",
         "type": "\"integer\""
        },
        {
         "metadata": "{}",
         "name": "last_modified",
         "type": "\"timestamp\""
        },
        {
         "metadata": "{}",
         "name": "json_col",
         "type": "\"string\""
        },
        {
         "metadata": "{}",
         "name": "ctl_created_timestamp",
         "type": "\"string\""
        },
        {
         "metadata": "{}",
         "name": "ctl_source",
         "type": "\"string\""
        },
        {
         "metadata": "{}",
         "name": "ctl_file_name",
         "type": "\"string\""
        }
       ],
       "type": "table"
      }
     },
     "output_type": "display_data"
    }
   ],
   "source": [
    "%sql\n",
    "SELECT * FROM bronze_openlibrary.ol_works LIMIT 5;"
   ]
  },
  {
   "cell_type": "code",
   "execution_count": 0,
   "metadata": {
    "application/vnd.databricks.v1+cell": {
     "cellMetadata": {
      "byteLimit": 2048000,
      "rowLimit": 10000
     },
     "inputWidgets": {},
     "nuid": "57696119-6da3-47f6-a63f-d88a8ac7403f",
     "showTitle": false,
     "title": ""
    }
   },
   "outputs": [],
   "source": [
    "df = spark.sql(\"SELECT * FROM bronze_openlibrary.ol_works\")\n",
    "schema = StructType(\n",
    "    [\n",
    "        StructField('title', StringType(), True),\n",
    "        StructField('subjects', ArrayType(StringType(), True), True),\n",
    "        StructField('created', StringType(), True),\n",
    "        StructField('authors', StringType(), True),\n",
    "        StructField('type', StringType(), True),\n",
    "        StructField('last_modified', StringType(), True),\n",
    "        StructField('revision', IntegerType(), True),\n",
    "        StructField('description', StringType(), True)   \n",
    "    ]\n",
    ")\n",
    "\n",
    "df = df.withColumn(\"json_col\", from_json(\"json_col\", schema))\\\n",
    "    .select(col('type'),col('reference'), col('revision_number'), col('json_col.*'))\n",
    "df.createOrReplaceTempView(\"vw_silver_works_first_step\")"
   ]
  },
  {
   "cell_type": "code",
   "execution_count": 0,
   "metadata": {
    "application/vnd.databricks.v1+cell": {
     "cellMetadata": {
      "byteLimit": 2048000,
      "implicitDf": true,
      "rowLimit": 10000
     },
     "inputWidgets": {},
     "nuid": "d2b964d1-6a38-49ec-b2be-4bb9d849c40c",
     "showTitle": false,
     "title": ""
    }
   },
   "outputs": [],
   "source": [
    "%sql\n",
    "SELECT reference,\n",
    "       revision_number,\n",
    "       last_modified,\n",
    "       title,\n",
    "       subjects,\n",
    "       created,\n",
    "       description,\n",
    "       authors\n",
    "FROM vw_silver_works_first_step;"
   ]
  },
  {
   "cell_type": "code",
   "execution_count": 0,
   "metadata": {
    "application/vnd.databricks.v1+cell": {
     "cellMetadata": {
      "byteLimit": 2048000,
      "rowLimit": 10000
     },
     "inputWidgets": {},
     "nuid": "1e75e833-c2b3-43a3-a4bb-1a3ceb8acc90",
     "showTitle": false,
     "title": ""
    }
   },
   "outputs": [],
   "source": [
    "# import re\n",
    "# json_string = [{\"type\":{\"key\":\"/type/author_role\"},\"author\":{\"key\":\"/authors/OL5057558A\"}},{\"type\":{\"key\":\"/type/author_role\"},\"author\":{\"key\":\"/authors/OL11645129A\"}}]\n",
    "# df_test = re.findall('/authors/OL\\d+A',str(json_string))\n",
    "# df_test"
   ]
  },
  {
   "cell_type": "code",
   "execution_count": 0,
   "metadata": {
    "application/vnd.databricks.v1+cell": {
     "cellMetadata": {
      "byteLimit": 2048000,
      "rowLimit": 10000
     },
     "inputWidgets": {},
     "nuid": "a1feb755-6618-4f91-ba1a-95d7c70ea8de",
     "showTitle": false,
     "title": ""
    }
   },
   "outputs": [],
   "source": [
    "df = spark.sql(\"\"\"SELECT reference,\n",
    "                         revision_number,\n",
    "                         last_modified,\n",
    "                         title,\n",
    "                         subjects,\n",
    "                         created,\n",
    "                         description,\n",
    "                         authors\n",
    "                    FROM vw_silver_works_first_step;\"\"\")\n",
    "\n",
    "#schemas for unpacking some of the columns\n",
    "created_schema = StructType(\n",
    "    [\n",
    "        StructField('type', StringType(), True),\n",
    "        StructField('value', TimestampType(), True)\n",
    "    ]\n",
    ")\n",
    "\n",
    "description_schema = StructType(\n",
    "    [\n",
    "        StructField('type', StringType(), True),\n",
    "        StructField('value', StringType(), True)\n",
    "    ]\n",
    ")\n",
    "\n",
    "last_modified_schema = StructType(\n",
    "    [\n",
    "        StructField('type', StringType(), True),\n",
    "        StructField('value', TimestampType(), True)\n",
    "    ]\n",
    ")\n",
    "\n",
    "description_str_schema = StructType([\n",
    "    StructField(\"a_renamed\", StringType()),\n",
    "    StructField(\"b\", StringType())])\n",
    "\n",
    "\n",
    "\n",
    "df2 = df.withColumn(\"created\", from_json(\"created\", created_schema)) \\\n",
    "        .withColumn(\"description\", from_json(\"description\",description_schema)) \\\n",
    "        .withColumn(\"last_modified\", from_json(\"last_modified\",last_modified_schema)) \\\n",
    "        .withColumn('main_author', regexp_extract(col(\"authors\"), r'/authors/OL\\d+A', 0)) \\\n",
    "        .select(col('reference'), \\\n",
    "                col('title'), \\\n",
    "                col('main_author'), \\\n",
    "                col('revision_number'), \\\n",
    "                col('subjects'), \\\n",
    "                col('description.value').alias('description_text'), \\\n",
    "                col('created.value').alias('created_timestamp'), \\\n",
    "                col('last_modified.value').alias('last_modified_timestamp')\n",
    "               )\n",
    "df2.createOrReplaceTempView(\"vw_silver_works_second_step\")"
   ]
  },
  {
   "cell_type": "code",
   "execution_count": 0,
   "metadata": {
    "application/vnd.databricks.v1+cell": {
     "cellMetadata": {
      "byteLimit": 2048000,
      "implicitDf": true,
      "rowLimit": 10000
     },
     "inputWidgets": {},
     "nuid": "9e3a3267-0ca7-4a13-8032-61076cfa8721",
     "showTitle": false,
     "title": ""
    }
   },
   "outputs": [
    {
     "output_type": "display_data",
     "data": {
      "text/html": [
       "<style scoped>\n",
       "  .table-result-container {\n",
       "    max-height: 300px;\n",
       "    overflow: auto;\n",
       "  }\n",
       "  table, th, td {\n",
       "    border: 1px solid black;\n",
       "    border-collapse: collapse;\n",
       "  }\n",
       "  th, td {\n",
       "    padding: 5px;\n",
       "  }\n",
       "  th {\n",
       "    text-align: left;\n",
       "  }\n",
       "</style><div class='table-result-container'><table class='table-result'><thead style='background-color: white'><tr><th>num_affected_rows</th><th>num_inserted_rows</th></tr></thead><tbody></tbody></table></div>"
      ]
     },
     "metadata": {
      "application/vnd.databricks.v1+output": {
       "addedWidgets": {},
       "aggData": [],
       "aggError": "",
       "aggOverflow": false,
       "aggSchema": [],
       "aggSeriesLimitReached": false,
       "aggType": "",
       "arguments": {},
       "columnCustomDisplayInfos": {},
       "data": [],
       "datasetInfos": [],
       "dbfsResultPath": null,
       "isJsonSchema": true,
       "metadata": {},
       "overflow": false,
       "plotOptions": {
        "customPlotOptions": {},
        "displayType": "table",
        "pivotAggregation": null,
        "pivotColumns": null,
        "xColumns": null,
        "yColumns": null
       },
       "removedWidgets": [],
       "schema": [
        {
         "metadata": "{}",
         "name": "num_affected_rows",
         "type": "\"long\""
        },
        {
         "metadata": "{}",
         "name": "num_inserted_rows",
         "type": "\"long\""
        }
       ],
       "type": "table"
      }
     },
     "output_type": "display_data"
    }
   ],
   "source": [
    "%sql\n",
    "CREATE OR REPLACE TABLE silver_openlibrary.ol_works AS\n",
    "SELECT DISTINCT * FROM vw_silver_works_second_step"
   ]
  },
  {
   "cell_type": "code",
   "execution_count": 0,
   "metadata": {
    "application/vnd.databricks.v1+cell": {
     "cellMetadata": {
      "byteLimit": 2048000,
      "implicitDf": true,
      "rowLimit": 10000
     },
     "inputWidgets": {},
     "nuid": "667872fc-752c-467a-b1f9-3d0f5f1adb92",
     "showTitle": false,
     "title": ""
    }
   },
   "outputs": [
    {
     "output_type": "display_data",
     "data": {
      "text/html": [
       "<style scoped>\n",
       "  .table-result-container {\n",
       "    max-height: 300px;\n",
       "    overflow: auto;\n",
       "  }\n",
       "  table, th, td {\n",
       "    border: 1px solid black;\n",
       "    border-collapse: collapse;\n",
       "  }\n",
       "  th, td {\n",
       "    padding: 5px;\n",
       "  }\n",
       "  th {\n",
       "    text-align: left;\n",
       "  }\n",
       "</style><div class='table-result-container'><table class='table-result'><thead style='background-color: white'><tr><th>count(1)</th></tr></thead><tbody><tr><td>30852119</td></tr></tbody></table></div>"
      ]
     },
     "metadata": {
      "application/vnd.databricks.v1+output": {
       "addedWidgets": {},
       "aggData": [],
       "aggError": "",
       "aggOverflow": false,
       "aggSchema": [],
       "aggSeriesLimitReached": false,
       "aggType": "",
       "arguments": {},
       "columnCustomDisplayInfos": {},
       "data": [
        [
         30852119
        ]
       ],
       "datasetInfos": [],
       "dbfsResultPath": null,
       "isJsonSchema": true,
       "metadata": {},
       "overflow": false,
       "plotOptions": {
        "customPlotOptions": {},
        "displayType": "table",
        "pivotAggregation": null,
        "pivotColumns": null,
        "xColumns": null,
        "yColumns": null
       },
       "removedWidgets": [],
       "schema": [
        {
         "metadata": "{\"__autoGeneratedAlias\":\"true\"}",
         "name": "count(1)",
         "type": "\"long\""
        }
       ],
       "type": "table"
      }
     },
     "output_type": "display_data"
    }
   ],
   "source": [
    "%sql\n",
    "SELECT COUNT(*) FROM silver_openlibrary.ol_works;"
   ]
  },
  {
   "cell_type": "code",
   "execution_count": 0,
   "metadata": {
    "application/vnd.databricks.v1+cell": {
     "cellMetadata": {
      "byteLimit": 2048000,
      "implicitDf": true,
      "rowLimit": 10000
     },
     "inputWidgets": {},
     "nuid": "335f223c-9f94-4f46-96f9-b4a34be22c94",
     "showTitle": false,
     "title": ""
    }
   },
   "outputs": [
    {
     "output_type": "display_data",
     "data": {
      "text/html": [
       "<style scoped>\n",
       "  .table-result-container {\n",
       "    max-height: 300px;\n",
       "    overflow: auto;\n",
       "  }\n",
       "  table, th, td {\n",
       "    border: 1px solid black;\n",
       "    border-collapse: collapse;\n",
       "  }\n",
       "  th, td {\n",
       "    padding: 5px;\n",
       "  }\n",
       "  th {\n",
       "    text-align: left;\n",
       "  }\n",
       "</style><div class='table-result-container'><table class='table-result'><thead style='background-color: white'><tr><th>reference</th><th>title</th><th>main_author</th><th>revision_number</th><th>subjects</th><th>description_text</th><th>created_timestamp</th><th>last_modified_timestamp</th></tr></thead><tbody><tr><td>/works/OL18042392W</td><td>An duanaire: co-thional ùr de dh-órain, de dhuanagan, etc: Nach robh riabh ...</td><td>/authors/OL1239811A</td><td>1</td><td>null</td><td>null</td><td>2018-12-17T07:18:18.519+0000</td><td>2018-12-17T07:18:18.519+0000</td></tr><tr><td>/works/OL18065638W</td><td>O descobrimento do Brazil, romance original</td><td>/authors/OL928893A</td><td>1</td><td>null</td><td>null</td><td>2018-12-18T08:52:38.563+0000</td><td>2018-12-18T08:52:38.563+0000</td></tr><tr><td>/works/OL18138077W</td><td>Lehrbuch der hebräischen Archäologie</td><td>/authors/OL1935382A</td><td>2</td><td>List(Jews, Antiquities, Rites and ceremonies in the Bible, Bible)</td><td>null</td><td>2018-12-20T16:54:04.836+0000</td><td>2022-12-22T01:43:13.261+0000</td></tr><tr><td>/works/OL18160729W</td><td>Proceedings of the FREENIX Track : 2000 USENIX Annual Technical Conference, June 18-23, 2000, San Diego, California, USA</td><td>/authors/OL7392206A</td><td>1</td><td>List(UNIX (Computer file))</td><td>null</td><td>2019-01-10T04:52:32.156+0000</td><td>2019-01-10T04:52:32.156+0000</td></tr><tr><td>/works/OL18234023W</td><td>The kids' catalog of Jewish holidays</td><td>/authors/OL19214A</td><td>5</td><td>List(Juvenile fiction, Judaism, Handicraft, Fasts and feasts, Juvenile literature, Jewish Cookery, Jewish crafts, Jewish cookery, Jewish cooking)</td><td>Presents stories, poems, songs, recipes, crafts, and other activities for special days that are significant to Jews.</td><td>2019-02-04T13:42:31.516+0000</td><td>2022-02-26T17:06:12.311+0000</td></tr></tbody></table></div>"
      ]
     },
     "metadata": {
      "application/vnd.databricks.v1+output": {
       "addedWidgets": {},
       "aggData": [],
       "aggError": "",
       "aggOverflow": false,
       "aggSchema": [],
       "aggSeriesLimitReached": false,
       "aggType": "",
       "arguments": {},
       "columnCustomDisplayInfos": {},
       "data": [
        [
         "/works/OL18042392W",
         "An duanaire: co-thional ùr de dh-órain, de dhuanagan, etc: Nach robh riabh ...",
         "/authors/OL1239811A",
         1,
         null,
         null,
         "2018-12-17T07:18:18.519+0000",
         "2018-12-17T07:18:18.519+0000"
        ],
        [
         "/works/OL18065638W",
         "O descobrimento do Brazil, romance original",
         "/authors/OL928893A",
         1,
         null,
         null,
         "2018-12-18T08:52:38.563+0000",
         "2018-12-18T08:52:38.563+0000"
        ],
        [
         "/works/OL18138077W",
         "Lehrbuch der hebräischen Archäologie",
         "/authors/OL1935382A",
         2,
         [
          "Jews",
          "Antiquities",
          "Rites and ceremonies in the Bible",
          "Bible"
         ],
         null,
         "2018-12-20T16:54:04.836+0000",
         "2022-12-22T01:43:13.261+0000"
        ],
        [
         "/works/OL18160729W",
         "Proceedings of the FREENIX Track : 2000 USENIX Annual Technical Conference, June 18-23, 2000, San Diego, California, USA",
         "/authors/OL7392206A",
         1,
         [
          "UNIX (Computer file)"
         ],
         null,
         "2019-01-10T04:52:32.156+0000",
         "2019-01-10T04:52:32.156+0000"
        ],
        [
         "/works/OL18234023W",
         "The kids' catalog of Jewish holidays",
         "/authors/OL19214A",
         5,
         [
          "Juvenile fiction",
          "Judaism",
          "Handicraft",
          "Fasts and feasts",
          "Juvenile literature",
          "Jewish Cookery",
          "Jewish crafts",
          "Jewish cookery",
          "Jewish cooking"
         ],
         "Presents stories, poems, songs, recipes, crafts, and other activities for special days that are significant to Jews.",
         "2019-02-04T13:42:31.516+0000",
         "2022-02-26T17:06:12.311+0000"
        ]
       ],
       "datasetInfos": [],
       "dbfsResultPath": null,
       "isJsonSchema": true,
       "metadata": {},
       "overflow": false,
       "plotOptions": {
        "customPlotOptions": {},
        "displayType": "table",
        "pivotAggregation": null,
        "pivotColumns": null,
        "xColumns": null,
        "yColumns": null
       },
       "removedWidgets": [],
       "schema": [
        {
         "metadata": "{}",
         "name": "reference",
         "type": "\"string\""
        },
        {
         "metadata": "{}",
         "name": "title",
         "type": "\"string\""
        },
        {
         "metadata": "{}",
         "name": "main_author",
         "type": "\"string\""
        },
        {
         "metadata": "{}",
         "name": "revision_number",
         "type": "\"integer\""
        },
        {
         "metadata": "{}",
         "name": "subjects",
         "type": "{\"type\":\"array\",\"elementType\":\"string\",\"containsNull\":true}"
        },
        {
         "metadata": "{}",
         "name": "description_text",
         "type": "\"string\""
        },
        {
         "metadata": "{}",
         "name": "created_timestamp",
         "type": "\"timestamp\""
        },
        {
         "metadata": "{}",
         "name": "last_modified_timestamp",
         "type": "\"timestamp\""
        }
       ],
       "type": "table"
      }
     },
     "output_type": "display_data"
    }
   ],
   "source": [
    "%sql\n",
    "SELECT * FROM silver_openlibrary.ol_works LIMIT 5"
   ]
  },
  {
   "cell_type": "markdown",
   "metadata": {
    "application/vnd.databricks.v1+cell": {
     "cellMetadata": {
      "byteLimit": 2048000,
      "rowLimit": 10000
     },
     "inputWidgets": {},
     "nuid": "6687fb15-edda-45cf-b9a0-e82412c5b898",
     "showTitle": false,
     "title": ""
    }
   },
   "source": [
    "#### Create table silver_openlibrary.ol_readings"
   ]
  },
  {
   "cell_type": "code",
   "execution_count": 0,
   "metadata": {
    "application/vnd.databricks.v1+cell": {
     "cellMetadata": {
      "byteLimit": 2048000,
      "implicitDf": true,
      "rowLimit": 10000
     },
     "inputWidgets": {},
     "nuid": "79da56a1-6f16-4c97-b8f6-b1edd8f898d5",
     "showTitle": false,
     "title": ""
    }
   },
   "outputs": [
    {
     "output_type": "display_data",
     "data": {
      "text/html": [
       "<style scoped>\n",
       "  .table-result-container {\n",
       "    max-height: 300px;\n",
       "    overflow: auto;\n",
       "  }\n",
       "  table, th, td {\n",
       "    border: 1px solid black;\n",
       "    border-collapse: collapse;\n",
       "  }\n",
       "  th, td {\n",
       "    padding: 5px;\n",
       "  }\n",
       "  th {\n",
       "    text-align: left;\n",
       "  }\n",
       "</style><div class='table-result-container'><table class='table-result'><thead style='background-color: white'><tr><th>num_affected_rows</th><th>num_inserted_rows</th></tr></thead><tbody></tbody></table></div>"
      ]
     },
     "metadata": {
      "application/vnd.databricks.v1+output": {
       "addedWidgets": {},
       "aggData": [],
       "aggError": "",
       "aggOverflow": false,
       "aggSchema": [],
       "aggSeriesLimitReached": false,
       "aggType": "",
       "arguments": {},
       "columnCustomDisplayInfos": {},
       "data": [],
       "datasetInfos": [],
       "dbfsResultPath": null,
       "isJsonSchema": true,
       "metadata": {},
       "overflow": false,
       "plotOptions": {
        "customPlotOptions": {},
        "displayType": "table",
        "pivotAggregation": null,
        "pivotColumns": null,
        "xColumns": null,
        "yColumns": null
       },
       "removedWidgets": [],
       "schema": [
        {
         "metadata": "{}",
         "name": "num_affected_rows",
         "type": "\"long\""
        },
        {
         "metadata": "{}",
         "name": "num_inserted_rows",
         "type": "\"long\""
        }
       ],
       "type": "table"
      }
     },
     "output_type": "display_data"
    }
   ],
   "source": [
    "%sql\n",
    "CREATE OR REPLACE TABLE silver_openlibrary.ol_readings AS\n",
    "SELECT reference AS works_reference,\n",
    "       YEAR(last_updated) AS flag_status_year,\n",
    "       MONTH(last_updated) AS flag_status_month,\n",
    "       read_status,\n",
    "       COUNT(1) AS read_status_count\n",
    "FROM bronze_openlibrary.ol_readings\n",
    "GROUP BY 1, 2, 3, 4"
   ]
  },
  {
   "cell_type": "code",
   "execution_count": 0,
   "metadata": {
    "application/vnd.databricks.v1+cell": {
     "cellMetadata": {
      "byteLimit": 2048000,
      "implicitDf": true,
      "rowLimit": 10000
     },
     "inputWidgets": {},
     "nuid": "86ebb2d5-3cdf-4e7c-9416-5a681ae0c922",
     "showTitle": false,
     "title": ""
    }
   },
   "outputs": [
    {
     "output_type": "display_data",
     "data": {
      "text/html": [
       "<style scoped>\n",
       "  .table-result-container {\n",
       "    max-height: 300px;\n",
       "    overflow: auto;\n",
       "  }\n",
       "  table, th, td {\n",
       "    border: 1px solid black;\n",
       "    border-collapse: collapse;\n",
       "  }\n",
       "  th, td {\n",
       "    padding: 5px;\n",
       "  }\n",
       "  th {\n",
       "    text-align: left;\n",
       "  }\n",
       "</style><div class='table-result-container'><table class='table-result'><thead style='background-color: white'><tr><th>count(1)</th></tr></thead><tbody><tr><td>3984328</td></tr></tbody></table></div>"
      ]
     },
     "metadata": {
      "application/vnd.databricks.v1+output": {
       "addedWidgets": {},
       "aggData": [],
       "aggError": "",
       "aggOverflow": false,
       "aggSchema": [],
       "aggSeriesLimitReached": false,
       "aggType": "",
       "arguments": {},
       "columnCustomDisplayInfos": {},
       "data": [
        [
         3984328
        ]
       ],
       "datasetInfos": [],
       "dbfsResultPath": null,
       "isJsonSchema": true,
       "metadata": {},
       "overflow": false,
       "plotOptions": {
        "customPlotOptions": {},
        "displayType": "table",
        "pivotAggregation": null,
        "pivotColumns": null,
        "xColumns": null,
        "yColumns": null
       },
       "removedWidgets": [],
       "schema": [
        {
         "metadata": "{\"__autoGeneratedAlias\":\"true\"}",
         "name": "count(1)",
         "type": "\"long\""
        }
       ],
       "type": "table"
      }
     },
     "output_type": "display_data"
    }
   ],
   "source": [
    "%sql\n",
    "SELECT COUNT(*) FROM silver_openlibrary.ol_readings;"
   ]
  },
  {
   "cell_type": "code",
   "execution_count": 0,
   "metadata": {
    "application/vnd.databricks.v1+cell": {
     "cellMetadata": {
      "byteLimit": 2048000,
      "implicitDf": true,
      "rowLimit": 10000
     },
     "inputWidgets": {},
     "nuid": "3ff5f8ce-acc3-4a82-b949-22bc879cd016",
     "showTitle": false,
     "title": ""
    }
   },
   "outputs": [
    {
     "output_type": "display_data",
     "data": {
      "text/html": [
       "<style scoped>\n",
       "  .table-result-container {\n",
       "    max-height: 300px;\n",
       "    overflow: auto;\n",
       "  }\n",
       "  table, th, td {\n",
       "    border: 1px solid black;\n",
       "    border-collapse: collapse;\n",
       "  }\n",
       "  th, td {\n",
       "    padding: 5px;\n",
       "  }\n",
       "  th {\n",
       "    text-align: left;\n",
       "  }\n",
       "</style><div class='table-result-container'><table class='table-result'><thead style='background-color: white'><tr><th>works_reference</th><th>flag_status_year</th><th>flag_status_month</th><th>read_status</th><th>read_status_count</th></tr></thead><tbody><tr><td>/works/OL675443W</td><td>2018</td><td>1</td><td>Want to Read</td><td>2</td></tr><tr><td>/works/OL15827513W</td><td>2018</td><td>2</td><td>Want to Read</td><td>1</td></tr><tr><td>/works/OL2690357W</td><td>2018</td><td>4</td><td>Want to Read</td><td>2</td></tr><tr><td>/works/OL930555W</td><td>2018</td><td>3</td><td>Want to Read</td><td>1</td></tr><tr><td>/works/OL4325175W</td><td>2018</td><td>6</td><td>Want to Read</td><td>1</td></tr></tbody></table></div>"
      ]
     },
     "metadata": {
      "application/vnd.databricks.v1+output": {
       "addedWidgets": {},
       "aggData": [],
       "aggError": "",
       "aggOverflow": false,
       "aggSchema": [],
       "aggSeriesLimitReached": false,
       "aggType": "",
       "arguments": {},
       "columnCustomDisplayInfos": {},
       "data": [
        [
         "/works/OL675443W",
         2018,
         1,
         "Want to Read",
         2
        ],
        [
         "/works/OL15827513W",
         2018,
         2,
         "Want to Read",
         1
        ],
        [
         "/works/OL2690357W",
         2018,
         4,
         "Want to Read",
         2
        ],
        [
         "/works/OL930555W",
         2018,
         3,
         "Want to Read",
         1
        ],
        [
         "/works/OL4325175W",
         2018,
         6,
         "Want to Read",
         1
        ]
       ],
       "datasetInfos": [],
       "dbfsResultPath": null,
       "isJsonSchema": true,
       "metadata": {},
       "overflow": false,
       "plotOptions": {
        "customPlotOptions": {},
        "displayType": "table",
        "pivotAggregation": null,
        "pivotColumns": null,
        "xColumns": null,
        "yColumns": null
       },
       "removedWidgets": [],
       "schema": [
        {
         "metadata": "{}",
         "name": "works_reference",
         "type": "\"string\""
        },
        {
         "metadata": "{}",
         "name": "flag_status_year",
         "type": "\"integer\""
        },
        {
         "metadata": "{}",
         "name": "flag_status_month",
         "type": "\"integer\""
        },
        {
         "metadata": "{}",
         "name": "read_status",
         "type": "\"string\""
        },
        {
         "metadata": "{}",
         "name": "read_status_count",
         "type": "\"long\""
        }
       ],
       "type": "table"
      }
     },
     "output_type": "display_data"
    }
   ],
   "source": [
    "%sql\n",
    "SELECT * FROM silver_openlibrary.ol_readings LIMIT 5"
   ]
  },
  {
   "cell_type": "markdown",
   "metadata": {
    "application/vnd.databricks.v1+cell": {
     "cellMetadata": {
      "byteLimit": 2048000,
      "rowLimit": 10000
     },
     "inputWidgets": {},
     "nuid": "3fc4e9a8-7a47-4546-a1e1-2d434c88b05f",
     "showTitle": false,
     "title": ""
    }
   },
   "source": [
    "#### Create table silver_openlibrary.ol_ratings"
   ]
  },
  {
   "cell_type": "code",
   "execution_count": 0,
   "metadata": {
    "application/vnd.databricks.v1+cell": {
     "cellMetadata": {
      "byteLimit": 2048000,
      "implicitDf": true,
      "rowLimit": 10000
     },
     "inputWidgets": {},
     "nuid": "dfffaace-b8e1-44fd-8d38-acfe7618f5da",
     "showTitle": false,
     "title": ""
    }
   },
   "outputs": [
    {
     "output_type": "display_data",
     "data": {
      "text/html": [
       "<style scoped>\n",
       "  .table-result-container {\n",
       "    max-height: 300px;\n",
       "    overflow: auto;\n",
       "  }\n",
       "  table, th, td {\n",
       "    border: 1px solid black;\n",
       "    border-collapse: collapse;\n",
       "  }\n",
       "  th, td {\n",
       "    padding: 5px;\n",
       "  }\n",
       "  th {\n",
       "    text-align: left;\n",
       "  }\n",
       "</style><div class='table-result-container'><table class='table-result'><thead style='background-color: white'><tr><th>num_affected_rows</th><th>num_inserted_rows</th></tr></thead><tbody></tbody></table></div>"
      ]
     },
     "metadata": {
      "application/vnd.databricks.v1+output": {
       "addedWidgets": {},
       "aggData": [],
       "aggError": "",
       "aggOverflow": false,
       "aggSchema": [],
       "aggSeriesLimitReached": false,
       "aggType": "",
       "arguments": {},
       "columnCustomDisplayInfos": {},
       "data": [],
       "datasetInfos": [],
       "dbfsResultPath": null,
       "isJsonSchema": true,
       "metadata": {},
       "overflow": false,
       "plotOptions": {
        "customPlotOptions": {},
        "displayType": "table",
        "pivotAggregation": null,
        "pivotColumns": null,
        "xColumns": null,
        "yColumns": null
       },
       "removedWidgets": [],
       "schema": [
        {
         "metadata": "{}",
         "name": "num_affected_rows",
         "type": "\"long\""
        },
        {
         "metadata": "{}",
         "name": "num_inserted_rows",
         "type": "\"long\""
        }
       ],
       "type": "table"
      }
     },
     "output_type": "display_data"
    }
   ],
   "source": [
    "%sql\n",
    "CREATE OR REPLACE TABLE silver_openlibrary.ol_ratings AS\n",
    "SELECT reference AS works_reference,\n",
    "       YEAR(review_date) AS review_year,\n",
    "       MONTH(review_date) AS review_month,\n",
    "       COUNT(rating) AS rating_count,\n",
    "       MEAN(rating) AS rating_avg\n",
    "FROM bronze_openlibrary.ol_ratings \n",
    "GROUP BY 1, 2, 3"
   ]
  },
  {
   "cell_type": "code",
   "execution_count": 0,
   "metadata": {
    "application/vnd.databricks.v1+cell": {
     "cellMetadata": {
      "byteLimit": 2048000,
      "implicitDf": true,
      "rowLimit": 10000
     },
     "inputWidgets": {},
     "nuid": "a29c846c-c4fd-4b11-afb6-a913bdc9694d",
     "showTitle": false,
     "title": ""
    }
   },
   "outputs": [
    {
     "output_type": "display_data",
     "data": {
      "text/html": [
       "<style scoped>\n",
       "  .table-result-container {\n",
       "    max-height: 300px;\n",
       "    overflow: auto;\n",
       "  }\n",
       "  table, th, td {\n",
       "    border: 1px solid black;\n",
       "    border-collapse: collapse;\n",
       "  }\n",
       "  th, td {\n",
       "    padding: 5px;\n",
       "  }\n",
       "  th {\n",
       "    text-align: left;\n",
       "  }\n",
       "</style><div class='table-result-container'><table class='table-result'><thead style='background-color: white'><tr><th>count(1)</th></tr></thead><tbody><tr><td>279883</td></tr></tbody></table></div>"
      ]
     },
     "metadata": {
      "application/vnd.databricks.v1+output": {
       "addedWidgets": {},
       "aggData": [],
       "aggError": "",
       "aggOverflow": false,
       "aggSchema": [],
       "aggSeriesLimitReached": false,
       "aggType": "",
       "arguments": {},
       "columnCustomDisplayInfos": {},
       "data": [
        [
         279883
        ]
       ],
       "datasetInfos": [],
       "dbfsResultPath": null,
       "isJsonSchema": true,
       "metadata": {},
       "overflow": false,
       "plotOptions": {
        "customPlotOptions": {},
        "displayType": "table",
        "pivotAggregation": null,
        "pivotColumns": null,
        "xColumns": null,
        "yColumns": null
       },
       "removedWidgets": [],
       "schema": [
        {
         "metadata": "{\"__autoGeneratedAlias\":\"true\"}",
         "name": "count(1)",
         "type": "\"long\""
        }
       ],
       "type": "table"
      }
     },
     "output_type": "display_data"
    }
   ],
   "source": [
    "%sql\n",
    "SELECT COUNT(*) FROM silver_openlibrary.ol_ratings;"
   ]
  },
  {
   "cell_type": "code",
   "execution_count": 0,
   "metadata": {
    "application/vnd.databricks.v1+cell": {
     "cellMetadata": {
      "byteLimit": 2048000,
      "implicitDf": true,
      "rowLimit": 10000
     },
     "inputWidgets": {},
     "nuid": "ca38de00-308d-4980-a7b8-ebbca5eb1e32",
     "showTitle": false,
     "title": ""
    }
   },
   "outputs": [
    {
     "output_type": "display_data",
     "data": {
      "text/html": [
       "<style scoped>\n",
       "  .table-result-container {\n",
       "    max-height: 300px;\n",
       "    overflow: auto;\n",
       "  }\n",
       "  table, th, td {\n",
       "    border: 1px solid black;\n",
       "    border-collapse: collapse;\n",
       "  }\n",
       "  th, td {\n",
       "    padding: 5px;\n",
       "  }\n",
       "  th {\n",
       "    text-align: left;\n",
       "  }\n",
       "</style><div class='table-result-container'><table class='table-result'><thead style='background-color: white'><tr><th>works_reference</th><th>review_year</th><th>review_month</th><th>rating_count</th><th>rating_avg</th></tr></thead><tbody><tr><td>/works/OL2355832W</td><td>2019</td><td>1</td><td>1</td><td>5.0</td></tr><tr><td>/works/OL449557W</td><td>2019</td><td>10</td><td>1</td><td>3.0</td></tr><tr><td>/works/OL18164795W</td><td>2020</td><td>6</td><td>1</td><td>5.0</td></tr><tr><td>/works/OL21941236W</td><td>2022</td><td>4</td><td>1</td><td>5.0</td></tr><tr><td>/works/OL72398W</td><td>2019</td><td>11</td><td>1</td><td>2.0</td></tr></tbody></table></div>"
      ]
     },
     "metadata": {
      "application/vnd.databricks.v1+output": {
       "addedWidgets": {},
       "aggData": [],
       "aggError": "",
       "aggOverflow": false,
       "aggSchema": [],
       "aggSeriesLimitReached": false,
       "aggType": "",
       "arguments": {},
       "columnCustomDisplayInfos": {},
       "data": [
        [
         "/works/OL2355832W",
         2019,
         1,
         1,
         5.0
        ],
        [
         "/works/OL449557W",
         2019,
         10,
         1,
         3.0
        ],
        [
         "/works/OL18164795W",
         2020,
         6,
         1,
         5.0
        ],
        [
         "/works/OL21941236W",
         2022,
         4,
         1,
         5.0
        ],
        [
         "/works/OL72398W",
         2019,
         11,
         1,
         2.0
        ]
       ],
       "datasetInfos": [],
       "dbfsResultPath": null,
       "isJsonSchema": true,
       "metadata": {},
       "overflow": false,
       "plotOptions": {
        "customPlotOptions": {},
        "displayType": "table",
        "pivotAggregation": null,
        "pivotColumns": null,
        "xColumns": null,
        "yColumns": null
       },
       "removedWidgets": [],
       "schema": [
        {
         "metadata": "{}",
         "name": "works_reference",
         "type": "\"string\""
        },
        {
         "metadata": "{}",
         "name": "review_year",
         "type": "\"integer\""
        },
        {
         "metadata": "{}",
         "name": "review_month",
         "type": "\"integer\""
        },
        {
         "metadata": "{}",
         "name": "rating_count",
         "type": "\"long\""
        },
        {
         "metadata": "{}",
         "name": "rating_avg",
         "type": "\"double\""
        }
       ],
       "type": "table"
      }
     },
     "output_type": "display_data"
    }
   ],
   "source": [
    "%sql\n",
    "SELECT * FROM silver_openlibrary.ol_ratings LIMIT 5"
   ]
  },
  {
   "cell_type": "markdown",
   "metadata": {
    "application/vnd.databricks.v1+cell": {
     "cellMetadata": {
      "byteLimit": 2048000,
      "rowLimit": 10000
     },
     "inputWidgets": {},
     "nuid": "f8b359c3-853e-4a35-b355-5c8580bc34d0",
     "showTitle": false,
     "title": ""
    }
   },
   "source": [
    "## Gold"
   ]
  },
  {
   "cell_type": "code",
   "execution_count": 0,
   "metadata": {
    "application/vnd.databricks.v1+cell": {
     "cellMetadata": {
      "byteLimit": 2048000,
      "implicitDf": true,
      "rowLimit": 10000
     },
     "inputWidgets": {},
     "nuid": "0b0566aa-d967-4a1e-bb7e-ab2d7e825733",
     "showTitle": false,
     "title": ""
    }
   },
   "outputs": [
    {
     "output_type": "display_data",
     "data": {
      "text/html": [
       "<style scoped>\n",
       "  .table-result-container {\n",
       "    max-height: 300px;\n",
       "    overflow: auto;\n",
       "  }\n",
       "  table, th, td {\n",
       "    border: 1px solid black;\n",
       "    border-collapse: collapse;\n",
       "  }\n",
       "  th, td {\n",
       "    padding: 5px;\n",
       "  }\n",
       "  th {\n",
       "    text-align: left;\n",
       "  }\n",
       "</style><div class='table-result-container'><table class='table-result'><thead style='background-color: white'><tr></tr></thead><tbody></tbody></table></div>"
      ]
     },
     "metadata": {
      "application/vnd.databricks.v1+output": {
       "addedWidgets": {},
       "aggData": [],
       "aggError": "",
       "aggOverflow": false,
       "aggSchema": [],
       "aggSeriesLimitReached": false,
       "aggType": "",
       "arguments": {},
       "columnCustomDisplayInfos": {},
       "data": [],
       "datasetInfos": [],
       "dbfsResultPath": null,
       "isJsonSchema": true,
       "metadata": {},
       "overflow": false,
       "plotOptions": {
        "customPlotOptions": {},
        "displayType": "table",
        "pivotAggregation": null,
        "pivotColumns": null,
        "xColumns": null,
        "yColumns": null
       },
       "removedWidgets": [],
       "schema": [],
       "type": "table"
      }
     },
     "output_type": "display_data"
    }
   ],
   "source": [
    "%sql\n",
    "CREATE SCHEMA IF NOT EXISTS gold_openlibrary"
   ]
  },
  {
   "cell_type": "markdown",
   "metadata": {
    "application/vnd.databricks.v1+cell": {
     "cellMetadata": {
      "byteLimit": 2048000,
      "rowLimit": 10000
     },
     "inputWidgets": {},
     "nuid": "1c90175b-8694-4dd4-aff8-37e91acfbc70",
     "showTitle": false,
     "title": ""
    }
   },
   "source": [
    "### Create tables in Gold - Aggregations"
   ]
  },
  {
   "cell_type": "markdown",
   "metadata": {
    "application/vnd.databricks.v1+cell": {
     "cellMetadata": {
      "byteLimit": 2048000,
      "rowLimit": 10000
     },
     "inputWidgets": {},
     "nuid": "2a73628e-7a15-43b4-91ed-ac2ac0015290",
     "showTitle": false,
     "title": ""
    }
   },
   "source": [
    "#### Create table gold_openlibrary.ol_books"
   ]
  },
  {
   "cell_type": "code",
   "execution_count": 0,
   "metadata": {
    "application/vnd.databricks.v1+cell": {
     "cellMetadata": {
      "byteLimit": 2048000,
      "implicitDf": true,
      "rowLimit": 10000
     },
     "inputWidgets": {},
     "nuid": "77ffb526-1377-4182-9880-66953dccd6c7",
     "showTitle": false,
     "title": ""
    }
   },
   "outputs": [
    {
     "output_type": "display_data",
     "data": {
      "text/html": [
       "<style scoped>\n",
       "  .table-result-container {\n",
       "    max-height: 300px;\n",
       "    overflow: auto;\n",
       "  }\n",
       "  table, th, td {\n",
       "    border: 1px solid black;\n",
       "    border-collapse: collapse;\n",
       "  }\n",
       "  th, td {\n",
       "    padding: 5px;\n",
       "  }\n",
       "  th {\n",
       "    text-align: left;\n",
       "  }\n",
       "</style><div class='table-result-container'><table class='table-result'><thead style='background-color: white'><tr><th>num_affected_rows</th><th>num_inserted_rows</th></tr></thead><tbody></tbody></table></div>"
      ]
     },
     "metadata": {
      "application/vnd.databricks.v1+output": {
       "addedWidgets": {},
       "aggData": [],
       "aggError": "",
       "aggOverflow": false,
       "aggSchema": [],
       "aggSeriesLimitReached": false,
       "aggType": "",
       "arguments": {},
       "columnCustomDisplayInfos": {},
       "data": [],
       "datasetInfos": [],
       "dbfsResultPath": null,
       "isJsonSchema": true,
       "metadata": {},
       "overflow": false,
       "plotOptions": {
        "customPlotOptions": {},
        "displayType": "table",
        "pivotAggregation": null,
        "pivotColumns": null,
        "xColumns": null,
        "yColumns": null
       },
       "removedWidgets": [],
       "schema": [
        {
         "metadata": "{}",
         "name": "num_affected_rows",
         "type": "\"long\""
        },
        {
         "metadata": "{}",
         "name": "num_inserted_rows",
         "type": "\"long\""
        }
       ],
       "type": "table"
      }
     },
     "output_type": "display_data"
    }
   ],
   "source": [
    "%sql\n",
    "CREATE OR REPLACE TABLE gold_openlibrary.ol_books AS\n",
    "SELECT w.reference AS works_reference,\n",
    "       w.title,\n",
    "       w.main_author AS author_reference,\n",
    "       a.author_name,\n",
    "       a.author_personal_name,\n",
    "       w.revision_number,\n",
    "       w.subjects,\n",
    "       w.description_text,\n",
    "       w.created_timestamp,\n",
    "       w.last_modified_timestamp,\n",
    "       COALESCE(CONCAT(YEAR(w.created_timestamp),MONTH(w.created_timestamp)),\"190001\") AS ctl_year_month\n",
    "FROM silver_openlibrary.ol_works w\n",
    "LEFT JOIN silver_openlibrary.ol_authors a\n",
    "ON w.main_author = a.author_ref;"
   ]
  },
  {
   "cell_type": "code",
   "execution_count": 0,
   "metadata": {
    "application/vnd.databricks.v1+cell": {
     "cellMetadata": {
      "byteLimit": 2048000,
      "implicitDf": true,
      "rowLimit": 10000
     },
     "inputWidgets": {},
     "nuid": "aca91ceb-55f9-4725-8f37-f141e2f0bdd0",
     "showTitle": false,
     "title": ""
    }
   },
   "outputs": [
    {
     "output_type": "display_data",
     "data": {
      "text/html": [
       "<style scoped>\n",
       "  .table-result-container {\n",
       "    max-height: 300px;\n",
       "    overflow: auto;\n",
       "  }\n",
       "  table, th, td {\n",
       "    border: 1px solid black;\n",
       "    border-collapse: collapse;\n",
       "  }\n",
       "  th, td {\n",
       "    padding: 5px;\n",
       "  }\n",
       "  th {\n",
       "    text-align: left;\n",
       "  }\n",
       "</style><div class='table-result-container'><table class='table-result'><thead style='background-color: white'><tr><th>count(1)</th></tr></thead><tbody><tr><td>30852119</td></tr></tbody></table></div>"
      ]
     },
     "metadata": {
      "application/vnd.databricks.v1+output": {
       "addedWidgets": {},
       "aggData": [],
       "aggError": "",
       "aggOverflow": false,
       "aggSchema": [],
       "aggSeriesLimitReached": false,
       "aggType": "",
       "arguments": {},
       "columnCustomDisplayInfos": {},
       "data": [
        [
         30852119
        ]
       ],
       "datasetInfos": [],
       "dbfsResultPath": null,
       "isJsonSchema": true,
       "metadata": {},
       "overflow": false,
       "plotOptions": {
        "customPlotOptions": {},
        "displayType": "table",
        "pivotAggregation": null,
        "pivotColumns": null,
        "xColumns": null,
        "yColumns": null
       },
       "removedWidgets": [],
       "schema": [
        {
         "metadata": "{\"__autoGeneratedAlias\":\"true\"}",
         "name": "count(1)",
         "type": "\"long\""
        }
       ],
       "type": "table"
      }
     },
     "output_type": "display_data"
    }
   ],
   "source": [
    "%sql\n",
    "SELECT COUNT(*) FROM gold_openlibrary.ol_books;"
   ]
  },
  {
   "cell_type": "code",
   "execution_count": 0,
   "metadata": {
    "application/vnd.databricks.v1+cell": {
     "cellMetadata": {
      "byteLimit": 2048000,
      "implicitDf": true,
      "rowLimit": 10000
     },
     "inputWidgets": {},
     "nuid": "27666d86-d4ed-4ecd-b9cb-de417f79ddb1",
     "showTitle": false,
     "title": ""
    }
   },
   "outputs": [
    {
     "output_type": "display_data",
     "data": {
      "text/html": [
       "<style scoped>\n",
       "  .table-result-container {\n",
       "    max-height: 300px;\n",
       "    overflow: auto;\n",
       "  }\n",
       "  table, th, td {\n",
       "    border: 1px solid black;\n",
       "    border-collapse: collapse;\n",
       "  }\n",
       "  th, td {\n",
       "    padding: 5px;\n",
       "  }\n",
       "  th {\n",
       "    text-align: left;\n",
       "  }\n",
       "</style><div class='table-result-container'><table class='table-result'><thead style='background-color: white'><tr><th>works_reference</th><th>title</th><th>author_reference</th><th>author_name</th><th>author_personal_name</th><th>revision_number</th><th>subjects</th><th>description_text</th><th>created_timestamp</th><th>last_modified_timestamp</th><th>ctl_year_month</th></tr></thead><tbody><tr><td>/works/OL26542484W</td><td>Arbeitslosengeld 2 Für Geringverdiener und Erwerbslose</td><td>/authors/OL10000012A</td><td>Wenzel Gerd</td><td>null</td><td>1</td><td>null</td><td>null</td><td>2021-12-26T21:20:45.943+0000</td><td>2021-12-26T21:20:45.943+0000</td><td>202112</td></tr><tr><td>/works/OL26542539W</td><td>Six Suites</td><td>/authors/OL10000017A</td><td>Bach Johann Sebastian</td><td>null</td><td>1</td><td>null</td><td>null</td><td>2021-12-26T21:22:25.076+0000</td><td>2021-12-26T21:22:25.076+0000</td><td>202112</td></tr><tr><td>/works/OL26542631W</td><td>¿Dolor de Espalda y Rodilla?</td><td>/authors/OL10000083A</td><td>Evaristo Rodríguez Valverde D.P.</td><td>null</td><td>1</td><td>null</td><td>null</td><td>2021-12-26T21:23:32.493+0000</td><td>2021-12-26T21:23:32.493+0000</td><td>202112</td></tr><tr><td>/works/OL26543288W</td><td>Innovation Im Verwaltungsrecht Durch Internationalisierung</td><td>/authors/OL10000208A</td><td>Nicola Wiesinger</td><td>null</td><td>2</td><td>List(Administrative law, Environmental law, Convention on Access to Information, Public Participation in Decision-making, and Access to Justice in Environmental Matters, Convention on Access to Information, Public Participation in Decision-making, and Access to Justice in Environmental Matters (1998))</td><td>null</td><td>2021-12-26T21:36:25.004+0000</td><td>2022-12-07T08:12:04.051+0000</td><td>202112</td></tr><tr><td>/works/OL26543683W</td><td>RECHTLICHEN GRENZEN DER ZULÄSSIGKEIT DES CASH POOLING</td><td>/authors/OL10000248A</td><td>Matthias Gärtner</td><td>null</td><td>1</td><td>null</td><td>null</td><td>2021-12-26T21:44:54.776+0000</td><td>2021-12-26T21:44:54.776+0000</td><td>202112</td></tr></tbody></table></div>"
      ]
     },
     "metadata": {
      "application/vnd.databricks.v1+output": {
       "addedWidgets": {},
       "aggData": [],
       "aggError": "",
       "aggOverflow": false,
       "aggSchema": [],
       "aggSeriesLimitReached": false,
       "aggType": "",
       "arguments": {},
       "columnCustomDisplayInfos": {},
       "data": [
        [
         "/works/OL26542484W",
         "Arbeitslosengeld 2 Für Geringverdiener und Erwerbslose",
         "/authors/OL10000012A",
         "Wenzel Gerd",
         null,
         1,
         null,
         null,
         "2021-12-26T21:20:45.943+0000",
         "2021-12-26T21:20:45.943+0000",
         "202112"
        ],
        [
         "/works/OL26542539W",
         "Six Suites",
         "/authors/OL10000017A",
         "Bach Johann Sebastian",
         null,
         1,
         null,
         null,
         "2021-12-26T21:22:25.076+0000",
         "2021-12-26T21:22:25.076+0000",
         "202112"
        ],
        [
         "/works/OL26542631W",
         "¿Dolor de Espalda y Rodilla?",
         "/authors/OL10000083A",
         "Evaristo Rodríguez Valverde D.P.",
         null,
         1,
         null,
         null,
         "2021-12-26T21:23:32.493+0000",
         "2021-12-26T21:23:32.493+0000",
         "202112"
        ],
        [
         "/works/OL26543288W",
         "Innovation Im Verwaltungsrecht Durch Internationalisierung",
         "/authors/OL10000208A",
         "Nicola Wiesinger",
         null,
         2,
         [
          "Administrative law",
          "Environmental law",
          "Convention on Access to Information, Public Participation in Decision-making, and Access to Justice in Environmental Matters",
          "Convention on Access to Information, Public Participation in Decision-making, and Access to Justice in Environmental Matters (1998)"
         ],
         null,
         "2021-12-26T21:36:25.004+0000",
         "2022-12-07T08:12:04.051+0000",
         "202112"
        ],
        [
         "/works/OL26543683W",
         "RECHTLICHEN GRENZEN DER ZULÄSSIGKEIT DES CASH POOLING",
         "/authors/OL10000248A",
         "Matthias Gärtner",
         null,
         1,
         null,
         null,
         "2021-12-26T21:44:54.776+0000",
         "2021-12-26T21:44:54.776+0000",
         "202112"
        ]
       ],
       "datasetInfos": [],
       "dbfsResultPath": null,
       "isJsonSchema": true,
       "metadata": {},
       "overflow": false,
       "plotOptions": {
        "customPlotOptions": {},
        "displayType": "table",
        "pivotAggregation": null,
        "pivotColumns": null,
        "xColumns": null,
        "yColumns": null
       },
       "removedWidgets": [],
       "schema": [
        {
         "metadata": "{}",
         "name": "works_reference",
         "type": "\"string\""
        },
        {
         "metadata": "{}",
         "name": "title",
         "type": "\"string\""
        },
        {
         "metadata": "{}",
         "name": "author_reference",
         "type": "\"string\""
        },
        {
         "metadata": "{}",
         "name": "author_name",
         "type": "\"string\""
        },
        {
         "metadata": "{}",
         "name": "author_personal_name",
         "type": "\"string\""
        },
        {
         "metadata": "{}",
         "name": "revision_number",
         "type": "\"integer\""
        },
        {
         "metadata": "{}",
         "name": "subjects",
         "type": "{\"type\":\"array\",\"elementType\":\"string\",\"containsNull\":true}"
        },
        {
         "metadata": "{}",
         "name": "description_text",
         "type": "\"string\""
        },
        {
         "metadata": "{}",
         "name": "created_timestamp",
         "type": "\"timestamp\""
        },
        {
         "metadata": "{}",
         "name": "last_modified_timestamp",
         "type": "\"timestamp\""
        },
        {
         "metadata": "{}",
         "name": "ctl_year_month",
         "type": "\"string\""
        }
       ],
       "type": "table"
      }
     },
     "output_type": "display_data"
    }
   ],
   "source": [
    "%sql\n",
    "SELECT * FROM gold_openlibrary.ol_books LIMIT 5"
   ]
  },
  {
   "cell_type": "markdown",
   "metadata": {
    "application/vnd.databricks.v1+cell": {
     "cellMetadata": {
      "byteLimit": 2048000,
      "rowLimit": 10000
     },
     "inputWidgets": {},
     "nuid": "8c24000b-2124-49ab-9ffd-576f567041a9",
     "showTitle": false,
     "title": ""
    }
   },
   "source": [
    "#### Create table gold_openlibrary.ol_reviews"
   ]
  },
  {
   "cell_type": "code",
   "execution_count": 0,
   "metadata": {
    "application/vnd.databricks.v1+cell": {
     "cellMetadata": {
      "byteLimit": 2048000,
      "implicitDf": true,
      "rowLimit": 10000
     },
     "inputWidgets": {},
     "nuid": "91f14aa3-3c66-46b8-ab85-1317cac052c5",
     "showTitle": false,
     "title": ""
    }
   },
   "outputs": [
    {
     "output_type": "display_data",
     "data": {
      "text/html": [
       "<style scoped>\n",
       "  .table-result-container {\n",
       "    max-height: 300px;\n",
       "    overflow: auto;\n",
       "  }\n",
       "  table, th, td {\n",
       "    border: 1px solid black;\n",
       "    border-collapse: collapse;\n",
       "  }\n",
       "  th, td {\n",
       "    padding: 5px;\n",
       "  }\n",
       "  th {\n",
       "    text-align: left;\n",
       "  }\n",
       "</style><div class='table-result-container'><table class='table-result'><thead style='background-color: white'><tr><th>num_affected_rows</th><th>num_inserted_rows</th></tr></thead><tbody></tbody></table></div>"
      ]
     },
     "metadata": {
      "application/vnd.databricks.v1+output": {
       "addedWidgets": {},
       "aggData": [],
       "aggError": "",
       "aggOverflow": false,
       "aggSchema": [],
       "aggSeriesLimitReached": false,
       "aggType": "",
       "arguments": {},
       "columnCustomDisplayInfos": {},
       "data": [],
       "datasetInfos": [],
       "dbfsResultPath": null,
       "isJsonSchema": true,
       "metadata": {},
       "overflow": false,
       "plotOptions": {
        "customPlotOptions": {},
        "displayType": "table",
        "pivotAggregation": null,
        "pivotColumns": null,
        "xColumns": null,
        "yColumns": null
       },
       "removedWidgets": [],
       "schema": [
        {
         "metadata": "{}",
         "name": "num_affected_rows",
         "type": "\"long\""
        },
        {
         "metadata": "{}",
         "name": "num_inserted_rows",
         "type": "\"long\""
        }
       ],
       "type": "table"
      }
     },
     "output_type": "display_data"
    }
   ],
   "source": [
    "%sql\n",
    "CREATE OR REPLACE TABLE gold_openlibrary.ol_reviews AS\n",
    "SELECT rd.works_reference, \n",
    "       rd.flag_status_year AS review_year, \n",
    "       rd.flag_status_month AS review_month,\n",
    "       rt.rating_count,\n",
    "       rt.rating_avg,\n",
    "       rd.read_status,\n",
    "       rd.read_status_count,\n",
    "       COALESCE(CONCAT(rd.flag_status_year,rd.flag_status_month),\"190001\") AS ctl_year_month\n",
    "FROM silver_openlibrary.ol_readings rd\n",
    "LEFT JOIN silver_openlibrary.ol_ratings rt\n",
    "ON rd.works_reference = rt.works_reference\n",
    "AND rd.flag_status_year = rt.review_year\n",
    "AND rd.flag_status_month = rt.review_month"
   ]
  },
  {
   "cell_type": "code",
   "execution_count": 0,
   "metadata": {
    "application/vnd.databricks.v1+cell": {
     "cellMetadata": {
      "byteLimit": 2048000,
      "implicitDf": true,
      "rowLimit": 10000
     },
     "inputWidgets": {},
     "nuid": "9cf17cc3-dc65-46f9-b34c-b3481edbd2f7",
     "showTitle": false,
     "title": ""
    }
   },
   "outputs": [
    {
     "output_type": "display_data",
     "data": {
      "text/html": [
       "<style scoped>\n",
       "  .table-result-container {\n",
       "    max-height: 300px;\n",
       "    overflow: auto;\n",
       "  }\n",
       "  table, th, td {\n",
       "    border: 1px solid black;\n",
       "    border-collapse: collapse;\n",
       "  }\n",
       "  th, td {\n",
       "    padding: 5px;\n",
       "  }\n",
       "  th {\n",
       "    text-align: left;\n",
       "  }\n",
       "</style><div class='table-result-container'><table class='table-result'><thead style='background-color: white'><tr><th>count(1)</th></tr></thead><tbody><tr><td>3984328</td></tr></tbody></table></div>"
      ]
     },
     "metadata": {
      "application/vnd.databricks.v1+output": {
       "addedWidgets": {},
       "aggData": [],
       "aggError": "",
       "aggOverflow": false,
       "aggSchema": [],
       "aggSeriesLimitReached": false,
       "aggType": "",
       "arguments": {},
       "columnCustomDisplayInfos": {},
       "data": [
        [
         3984328
        ]
       ],
       "datasetInfos": [],
       "dbfsResultPath": null,
       "isJsonSchema": true,
       "metadata": {},
       "overflow": false,
       "plotOptions": {
        "customPlotOptions": {},
        "displayType": "table",
        "pivotAggregation": null,
        "pivotColumns": null,
        "xColumns": null,
        "yColumns": null
       },
       "removedWidgets": [],
       "schema": [
        {
         "metadata": "{\"__autoGeneratedAlias\":\"true\"}",
         "name": "count(1)",
         "type": "\"long\""
        }
       ],
       "type": "table"
      }
     },
     "output_type": "display_data"
    }
   ],
   "source": [
    "%sql\n",
    "SELECT COUNT(*) FROM gold_openlibrary.ol_reviews"
   ]
  },
  {
   "cell_type": "code",
   "execution_count": 0,
   "metadata": {
    "application/vnd.databricks.v1+cell": {
     "cellMetadata": {
      "byteLimit": 2048000,
      "implicitDf": true,
      "rowLimit": 10000
     },
     "inputWidgets": {},
     "nuid": "d72e9ea8-53c6-4929-bd8b-f0baa45b342c",
     "showTitle": false,
     "title": ""
    }
   },
   "outputs": [
    {
     "output_type": "display_data",
     "data": {
      "text/html": [
       "<style scoped>\n",
       "  .table-result-container {\n",
       "    max-height: 300px;\n",
       "    overflow: auto;\n",
       "  }\n",
       "  table, th, td {\n",
       "    border: 1px solid black;\n",
       "    border-collapse: collapse;\n",
       "  }\n",
       "  th, td {\n",
       "    padding: 5px;\n",
       "  }\n",
       "  th {\n",
       "    text-align: left;\n",
       "  }\n",
       "</style><div class='table-result-container'><table class='table-result'><thead style='background-color: white'><tr><th>works_reference</th><th>review_year</th><th>review_month</th><th>rating_count</th><th>rating_avg</th><th>read_status</th><th>read_status_count</th><th>ctl_year_month</th></tr></thead><tbody><tr><td>/works/OL675443W</td><td>2018</td><td>1</td><td>null</td><td>null</td><td>Want to Read</td><td>2</td><td>20181</td></tr><tr><td>/works/OL15827513W</td><td>2018</td><td>2</td><td>null</td><td>null</td><td>Want to Read</td><td>1</td><td>20182</td></tr><tr><td>/works/OL2690357W</td><td>2018</td><td>4</td><td>null</td><td>null</td><td>Want to Read</td><td>2</td><td>20184</td></tr><tr><td>/works/OL930555W</td><td>2018</td><td>3</td><td>null</td><td>null</td><td>Want to Read</td><td>1</td><td>20183</td></tr><tr><td>/works/OL4325175W</td><td>2018</td><td>6</td><td>null</td><td>null</td><td>Want to Read</td><td>1</td><td>20186</td></tr></tbody></table></div>"
      ]
     },
     "metadata": {
      "application/vnd.databricks.v1+output": {
       "addedWidgets": {},
       "aggData": [],
       "aggError": "",
       "aggOverflow": false,
       "aggSchema": [],
       "aggSeriesLimitReached": false,
       "aggType": "",
       "arguments": {},
       "columnCustomDisplayInfos": {},
       "data": [
        [
         "/works/OL675443W",
         2018,
         1,
         null,
         null,
         "Want to Read",
         2,
         "20181"
        ],
        [
         "/works/OL15827513W",
         2018,
         2,
         null,
         null,
         "Want to Read",
         1,
         "20182"
        ],
        [
         "/works/OL2690357W",
         2018,
         4,
         null,
         null,
         "Want to Read",
         2,
         "20184"
        ],
        [
         "/works/OL930555W",
         2018,
         3,
         null,
         null,
         "Want to Read",
         1,
         "20183"
        ],
        [
         "/works/OL4325175W",
         2018,
         6,
         null,
         null,
         "Want to Read",
         1,
         "20186"
        ]
       ],
       "datasetInfos": [],
       "dbfsResultPath": null,
       "isJsonSchema": true,
       "metadata": {},
       "overflow": false,
       "plotOptions": {
        "customPlotOptions": {},
        "displayType": "table",
        "pivotAggregation": null,
        "pivotColumns": null,
        "xColumns": null,
        "yColumns": null
       },
       "removedWidgets": [],
       "schema": [
        {
         "metadata": "{}",
         "name": "works_reference",
         "type": "\"string\""
        },
        {
         "metadata": "{}",
         "name": "review_year",
         "type": "\"integer\""
        },
        {
         "metadata": "{}",
         "name": "review_month",
         "type": "\"integer\""
        },
        {
         "metadata": "{}",
         "name": "rating_count",
         "type": "\"long\""
        },
        {
         "metadata": "{}",
         "name": "rating_avg",
         "type": "\"double\""
        },
        {
         "metadata": "{}",
         "name": "read_status",
         "type": "\"string\""
        },
        {
         "metadata": "{}",
         "name": "read_status_count",
         "type": "\"long\""
        },
        {
         "metadata": "{}",
         "name": "ctl_year_month",
         "type": "\"string\""
        }
       ],
       "type": "table"
      }
     },
     "output_type": "display_data"
    }
   ],
   "source": [
    "%sql\n",
    "SELECT * FROM gold_openlibrary.ol_reviews LIMIT 5"
   ]
  },
  {
   "cell_type": "markdown",
   "metadata": {
    "application/vnd.databricks.v1+cell": {
     "cellMetadata": {
      "byteLimit": 2048000,
      "rowLimit": 10000
     },
     "inputWidgets": {},
     "nuid": "0439d166-54b2-4f32-be47-17f860ac445f",
     "showTitle": false,
     "title": ""
    }
   },
   "source": [
    "#### Create table gold_openlibrary.works_with_reviews_summary"
   ]
  },
  {
   "cell_type": "code",
   "execution_count": 0,
   "metadata": {
    "application/vnd.databricks.v1+cell": {
     "cellMetadata": {
      "byteLimit": 2048000,
      "implicitDf": true,
      "rowLimit": 10000
     },
     "inputWidgets": {},
     "nuid": "e67bf29a-0d86-46b2-ad58-7c7cfd08a13b",
     "showTitle": false,
     "title": ""
    }
   },
   "outputs": [
    {
     "output_type": "display_data",
     "data": {
      "text/html": [
       "<style scoped>\n",
       "  .table-result-container {\n",
       "    max-height: 300px;\n",
       "    overflow: auto;\n",
       "  }\n",
       "  table, th, td {\n",
       "    border: 1px solid black;\n",
       "    border-collapse: collapse;\n",
       "  }\n",
       "  th, td {\n",
       "    padding: 5px;\n",
       "  }\n",
       "  th {\n",
       "    text-align: left;\n",
       "  }\n",
       "</style><div class='table-result-container'><table class='table-result'><thead style='background-color: white'><tr><th>num_affected_rows</th><th>num_inserted_rows</th></tr></thead><tbody></tbody></table></div>"
      ]
     },
     "metadata": {
      "application/vnd.databricks.v1+output": {
       "addedWidgets": {},
       "aggData": [],
       "aggError": "",
       "aggOverflow": false,
       "aggSchema": [],
       "aggSeriesLimitReached": false,
       "aggType": "",
       "arguments": {},
       "columnCustomDisplayInfos": {},
       "data": [],
       "datasetInfos": [],
       "dbfsResultPath": null,
       "isJsonSchema": true,
       "metadata": {},
       "overflow": false,
       "plotOptions": {
        "customPlotOptions": {},
        "displayType": "table",
        "pivotAggregation": null,
        "pivotColumns": null,
        "xColumns": null,
        "yColumns": null
       },
       "removedWidgets": [],
       "schema": [
        {
         "metadata": "{}",
         "name": "num_affected_rows",
         "type": "\"long\""
        },
        {
         "metadata": "{}",
         "name": "num_inserted_rows",
         "type": "\"long\""
        }
       ],
       "type": "table"
      }
     },
     "output_type": "display_data"
    }
   ],
   "source": [
    "%sql\n",
    "CREATE OR REPLACE TABLE gold_openlibrary.works_with_reviews_summary AS\n",
    "SELECT r.works_reference,\n",
    "       r.review_year,\n",
    "       r.review_month,\n",
    "       r.rating_count,\n",
    "       r.rating_avg,\n",
    "       b.title,\n",
    "       b.author_name,\n",
    "       b.author_personal_name,\n",
    "       b.subjects,\n",
    "       b.description_text,\n",
    "       b.ctl_year_month\n",
    "FROM silver_openlibrary.ol_ratings r \n",
    "INNER JOIN gold_openlibrary.ol_books b \n",
    "ON r.works_reference = b.works_reference"
   ]
  },
  {
   "cell_type": "code",
   "execution_count": 0,
   "metadata": {
    "application/vnd.databricks.v1+cell": {
     "cellMetadata": {
      "byteLimit": 2048000,
      "implicitDf": true,
      "rowLimit": 10000
     },
     "inputWidgets": {},
     "nuid": "48b05dcd-1fdd-45ff-a536-ff242ba71b70",
     "showTitle": false,
     "title": ""
    }
   },
   "outputs": [
    {
     "output_type": "display_data",
     "data": {
      "text/html": [
       "<style scoped>\n",
       "  .table-result-container {\n",
       "    max-height: 300px;\n",
       "    overflow: auto;\n",
       "  }\n",
       "  table, th, td {\n",
       "    border: 1px solid black;\n",
       "    border-collapse: collapse;\n",
       "  }\n",
       "  th, td {\n",
       "    padding: 5px;\n",
       "  }\n",
       "  th {\n",
       "    text-align: left;\n",
       "  }\n",
       "</style><div class='table-result-container'><table class='table-result'><thead style='background-color: white'><tr><th>count(1)</th></tr></thead><tbody><tr><td>268995</td></tr></tbody></table></div>"
      ]
     },
     "metadata": {
      "application/vnd.databricks.v1+output": {
       "addedWidgets": {},
       "aggData": [],
       "aggError": "",
       "aggOverflow": false,
       "aggSchema": [],
       "aggSeriesLimitReached": false,
       "aggType": "",
       "arguments": {},
       "columnCustomDisplayInfos": {},
       "data": [
        [
         268995
        ]
       ],
       "datasetInfos": [],
       "dbfsResultPath": null,
       "isJsonSchema": true,
       "metadata": {},
       "overflow": false,
       "plotOptions": {
        "customPlotOptions": {},
        "displayType": "table",
        "pivotAggregation": null,
        "pivotColumns": null,
        "xColumns": null,
        "yColumns": null
       },
       "removedWidgets": [],
       "schema": [
        {
         "metadata": "{\"__autoGeneratedAlias\":\"true\"}",
         "name": "count(1)",
         "type": "\"long\""
        }
       ],
       "type": "table"
      }
     },
     "output_type": "display_data"
    }
   ],
   "source": [
    "%sql\n",
    "SELECT COUNT(*) FROM gold_openlibrary.works_with_reviews_summary;"
   ]
  },
  {
   "cell_type": "code",
   "execution_count": 0,
   "metadata": {
    "application/vnd.databricks.v1+cell": {
     "cellMetadata": {
      "byteLimit": 2048000,
      "implicitDf": true,
      "rowLimit": 10000
     },
     "inputWidgets": {},
     "nuid": "7afd64d7-6b41-4620-9536-77e2f0df1b43",
     "showTitle": false,
     "title": ""
    }
   },
   "outputs": [
    {
     "output_type": "display_data",
     "data": {
      "text/html": [
       "<style scoped>\n",
       "  .table-result-container {\n",
       "    max-height: 300px;\n",
       "    overflow: auto;\n",
       "  }\n",
       "  table, th, td {\n",
       "    border: 1px solid black;\n",
       "    border-collapse: collapse;\n",
       "  }\n",
       "  th, td {\n",
       "    padding: 5px;\n",
       "  }\n",
       "  th {\n",
       "    text-align: left;\n",
       "  }\n",
       "</style><div class='table-result-container'><table class='table-result'><thead style='background-color: white'><tr><th>works_reference</th><th>review_year</th><th>review_month</th><th>rating_count</th><th>rating_avg</th><th>title</th><th>author_name</th><th>author_personal_name</th><th>subjects</th><th>description_text</th><th>ctl_year_month</th></tr></thead><tbody><tr><td>/works/OL4772459W</td><td>2022</td><td>3</td><td>1</td><td>5.0</td><td>Lulu in Hollywood</td><td>Louise Brooks</td><td>Louise Brooks</td><td>List(Biography, Motion picture actors and actresses, Moving-picture actors and actresses, Films, Actresses)</td><td>Eight autobiographical essays by Brooks, on topics ranging from her childhood in Kansas and her early days as a Denishawn and Ziegfeld Follies dancer to her friendships with Martha Graham, Charles Chaplin, W. C. Fields, Humphrey Bogart, and others are collected here.</td><td>200912</td></tr><tr><td>/works/OL26617158W</td><td>2022</td><td>6</td><td>1</td><td>5.0</td><td>Extragalaktisch Band 2 - Weltenwandler</td><td>Yasmin Kurul Mendoza</td><td>null</td><td>List(Alien, Außerirdische, Merlin, Kinderbuch, vegane Literatur, psy-fiction, sci-fi, galaktische Föderation)</td><td>Die Reise geht weiter! \r\n",
       "Lubi Golder Morgen hat es als stotternder Junge nicht leicht. Zu allem Überfluss wird er neuerdings auch noch von merkwürdigen Träumen heimgesucht, die sich bald nicht mehr von der Realität unterscheiden lassen. Als er eines Morgens wie durch ein Wunder von seinem Stottern geheilt ist, beginnt er zu verstehen, dass die Wach-Welt und die Traum-Welt eng miteinander verknüpft sind.\r\n",
       "Er beginnt seine Fähigkeit des Traumreisens zu trainieren und kurze Zeit später findet er sich wieder in der Bibliothek der Marmaroth-Akademie, mit einem der größten Meister aller Zeiten…\r\n",
       "\r\n",
       "Inhalt:\r\n",
       "•„Extragalaktisch Band 2 – Weltenwandler“,\r\n",
       "•inklusive Rückblick aus Band 1, sodass Band 2 direkt gelesen werden kann, ohne vorab den vorigen Band gelesen haben zu müssen;\r\n",
       "•2 köstliche vegane Weihnachts-Backrezepte!</td><td>202112</td></tr><tr><td>/works/OL4780288W</td><td>2020</td><td>3</td><td>1</td><td>5.0</td><td>Richard Morris Hunt</td><td>Paul R. Baker</td><td>Paul R. Baker</td><td>List(Biography, Architects, Hunt, richard morris, 1828-1895, Architectes, Biographies)</td><td>null</td><td>200912</td></tr><tr><td>/works/OL4793911W</td><td>2021</td><td>2</td><td>1</td><td>1.0</td><td>Passover</td><td>Fumiko Kometani</td><td>Fumiko Kometani</td><td>List(Fiction, general)</td><td>null</td><td>200912</td></tr><tr><td>/works/OL4801345W</td><td>2022</td><td>11</td><td>1</td><td>4.0</td><td>Pronouns and people</td><td>Peter Mühlhäusler</td><td>Peter Mühlhäusler</td><td>List(Comparative and general Grammar, Pronoun, Sapir-Whorf hypothesis, Sociolinguistics, Grammar, comparative and general)</td><td>null</td><td>200912</td></tr></tbody></table></div>"
      ]
     },
     "metadata": {
      "application/vnd.databricks.v1+output": {
       "addedWidgets": {},
       "aggData": [],
       "aggError": "",
       "aggOverflow": false,
       "aggSchema": [],
       "aggSeriesLimitReached": false,
       "aggType": "",
       "arguments": {},
       "columnCustomDisplayInfos": {},
       "data": [
        [
         "/works/OL4772459W",
         2022,
         3,
         1,
         5.0,
         "Lulu in Hollywood",
         "Louise Brooks",
         "Louise Brooks",
         [
          "Biography",
          "Motion picture actors and actresses",
          "Moving-picture actors and actresses",
          "Films",
          "Actresses"
         ],
         "Eight autobiographical essays by Brooks, on topics ranging from her childhood in Kansas and her early days as a Denishawn and Ziegfeld Follies dancer to her friendships with Martha Graham, Charles Chaplin, W. C. Fields, Humphrey Bogart, and others are collected here.",
         "200912"
        ],
        [
         "/works/OL26617158W",
         2022,
         6,
         1,
         5.0,
         "Extragalaktisch Band 2 - Weltenwandler",
         "Yasmin Kurul Mendoza",
         null,
         [
          "Alien",
          "Außerirdische",
          "Merlin",
          "Kinderbuch",
          "vegane Literatur",
          "psy-fiction",
          "sci-fi",
          "galaktische Föderation"
         ],
         "Die Reise geht weiter! \r\nLubi Golder Morgen hat es als stotternder Junge nicht leicht. Zu allem Überfluss wird er neuerdings auch noch von merkwürdigen Träumen heimgesucht, die sich bald nicht mehr von der Realität unterscheiden lassen. Als er eines Morgens wie durch ein Wunder von seinem Stottern geheilt ist, beginnt er zu verstehen, dass die Wach-Welt und die Traum-Welt eng miteinander verknüpft sind.\r\nEr beginnt seine Fähigkeit des Traumreisens zu trainieren und kurze Zeit später findet er sich wieder in der Bibliothek der Marmaroth-Akademie, mit einem der größten Meister aller Zeiten…\r\n\r\nInhalt:\r\n•„Extragalaktisch Band 2 – Weltenwandler“,\r\n•inklusive Rückblick aus Band 1, sodass Band 2 direkt gelesen werden kann, ohne vorab den vorigen Band gelesen haben zu müssen;\r\n•2 köstliche vegane Weihnachts-Backrezepte!",
         "202112"
        ],
        [
         "/works/OL4780288W",
         2020,
         3,
         1,
         5.0,
         "Richard Morris Hunt",
         "Paul R. Baker",
         "Paul R. Baker",
         [
          "Biography",
          "Architects",
          "Hunt, richard morris, 1828-1895",
          "Architectes",
          "Biographies"
         ],
         null,
         "200912"
        ],
        [
         "/works/OL4793911W",
         2021,
         2,
         1,
         1.0,
         "Passover",
         "Fumiko Kometani",
         "Fumiko Kometani",
         [
          "Fiction, general"
         ],
         null,
         "200912"
        ],
        [
         "/works/OL4801345W",
         2022,
         11,
         1,
         4.0,
         "Pronouns and people",
         "Peter Mühlhäusler",
         "Peter Mühlhäusler",
         [
          "Comparative and general Grammar",
          "Pronoun",
          "Sapir-Whorf hypothesis",
          "Sociolinguistics",
          "Grammar, comparative and general"
         ],
         null,
         "200912"
        ]
       ],
       "datasetInfos": [],
       "dbfsResultPath": null,
       "isJsonSchema": true,
       "metadata": {},
       "overflow": false,
       "plotOptions": {
        "customPlotOptions": {},
        "displayType": "table",
        "pivotAggregation": null,
        "pivotColumns": null,
        "xColumns": null,
        "yColumns": null
       },
       "removedWidgets": [],
       "schema": [
        {
         "metadata": "{}",
         "name": "works_reference",
         "type": "\"string\""
        },
        {
         "metadata": "{}",
         "name": "review_year",
         "type": "\"integer\""
        },
        {
         "metadata": "{}",
         "name": "review_month",
         "type": "\"integer\""
        },
        {
         "metadata": "{}",
         "name": "rating_count",
         "type": "\"long\""
        },
        {
         "metadata": "{}",
         "name": "rating_avg",
         "type": "\"double\""
        },
        {
         "metadata": "{}",
         "name": "title",
         "type": "\"string\""
        },
        {
         "metadata": "{}",
         "name": "author_name",
         "type": "\"string\""
        },
        {
         "metadata": "{}",
         "name": "author_personal_name",
         "type": "\"string\""
        },
        {
         "metadata": "{}",
         "name": "subjects",
         "type": "{\"type\":\"array\",\"elementType\":\"string\",\"containsNull\":true}"
        },
        {
         "metadata": "{}",
         "name": "description_text",
         "type": "\"string\""
        },
        {
         "metadata": "{}",
         "name": "ctl_year_month",
         "type": "\"string\""
        }
       ],
       "type": "table"
      }
     },
     "output_type": "display_data"
    }
   ],
   "source": [
    "%sql\n",
    "SELECT * FROM gold_openlibrary.works_with_reviews_summary LIMIT 5;"
   ]
  },
  {
   "cell_type": "markdown",
   "metadata": {
    "application/vnd.databricks.v1+cell": {
     "cellMetadata": {
      "byteLimit": 2048000,
      "rowLimit": 10000
     },
     "inputWidgets": {},
     "nuid": "0925b53b-79dd-4ef2-b098-08d0fc03a29c",
     "showTitle": false,
     "title": ""
    }
   },
   "source": [
    "#### Create table gold_openlibrary.ol_works_summary"
   ]
  },
  {
   "cell_type": "code",
   "execution_count": 0,
   "metadata": {
    "application/vnd.databricks.v1+cell": {
     "cellMetadata": {
      "byteLimit": 2048000,
      "implicitDf": true,
      "rowLimit": 10000
     },
     "inputWidgets": {},
     "nuid": "14075c74-6f0b-4c57-9bd4-772f7efd4110",
     "showTitle": false,
     "title": ""
    }
   },
   "outputs": [
    {
     "output_type": "display_data",
     "data": {
      "text/html": [
       "<style scoped>\n",
       "  .table-result-container {\n",
       "    max-height: 300px;\n",
       "    overflow: auto;\n",
       "  }\n",
       "  table, th, td {\n",
       "    border: 1px solid black;\n",
       "    border-collapse: collapse;\n",
       "  }\n",
       "  th, td {\n",
       "    padding: 5px;\n",
       "  }\n",
       "  th {\n",
       "    text-align: left;\n",
       "  }\n",
       "</style><div class='table-result-container'><table class='table-result'><thead style='background-color: white'><tr><th>num_affected_rows</th><th>num_inserted_rows</th></tr></thead><tbody></tbody></table></div>"
      ]
     },
     "metadata": {
      "application/vnd.databricks.v1+output": {
       "addedWidgets": {},
       "aggData": [],
       "aggError": "",
       "aggOverflow": false,
       "aggSchema": [],
       "aggSeriesLimitReached": false,
       "aggType": "",
       "arguments": {},
       "columnCustomDisplayInfos": {},
       "data": [],
       "datasetInfos": [],
       "dbfsResultPath": null,
       "isJsonSchema": true,
       "metadata": {},
       "overflow": false,
       "plotOptions": {
        "customPlotOptions": {},
        "displayType": "table",
        "pivotAggregation": null,
        "pivotColumns": null,
        "xColumns": null,
        "yColumns": null
       },
       "removedWidgets": [],
       "schema": [
        {
         "metadata": "{}",
         "name": "num_affected_rows",
         "type": "\"long\""
        },
        {
         "metadata": "{}",
         "name": "num_inserted_rows",
         "type": "\"long\""
        }
       ],
       "type": "table"
      }
     },
     "output_type": "display_data"
    }
   ],
   "source": [
    "%sql\n",
    "CREATE OR REPLACE TABLE gold_openlibrary.ol_works_summary AS\n",
    "SELECT b.works_reference,\n",
    "       b.title,\n",
    "       b.author_name,\n",
    "       b.author_personal_name,\n",
    "       b.revision_number,\n",
    "       b.subjects,\n",
    "       b.description_text,\n",
    "       COUNT(rating) AS rating_count,\n",
    "       MEAN(rating) AS rating_avg,\n",
    "       FLOOR(20100 + rand()*100) AS ctl_year_month\n",
    "FROM gold_openlibrary.ol_books b\n",
    "LEFT JOIN bronze_openlibrary.ol_ratings rt \n",
    "ON rt.reference = b.works_reference\n",
    "LEFT JOIN bronze_openlibrary.ol_readings rd\n",
    "ON rd.reference = b.works_reference\n",
    "GROUP BY 1, 2, 3, 4, 5, 6, 7;"
   ]
  },
  {
   "cell_type": "code",
   "execution_count": 0,
   "metadata": {
    "application/vnd.databricks.v1+cell": {
     "cellMetadata": {
      "byteLimit": 2048000,
      "implicitDf": true,
      "rowLimit": 10000
     },
     "inputWidgets": {},
     "nuid": "90b01505-8bb9-41ee-9667-8b7c5e711ae4",
     "showTitle": false,
     "title": ""
    }
   },
   "outputs": [
    {
     "output_type": "display_data",
     "data": {
      "text/html": [
       "<style scoped>\n",
       "  .table-result-container {\n",
       "    max-height: 300px;\n",
       "    overflow: auto;\n",
       "  }\n",
       "  table, th, td {\n",
       "    border: 1px solid black;\n",
       "    border-collapse: collapse;\n",
       "  }\n",
       "  th, td {\n",
       "    padding: 5px;\n",
       "  }\n",
       "  th {\n",
       "    text-align: left;\n",
       "  }\n",
       "</style><div class='table-result-container'><table class='table-result'><thead style='background-color: white'><tr><th>works_reference</th><th>title</th><th>author_name</th><th>author_personal_name</th><th>revision_number</th><th>subjects</th><th>description_text</th><th>rating_count</th><th>rating_avg</th><th>ctl_year_month</th></tr></thead><tbody><tr><td>/works/OL1000013W</td><td>The prairie chicken kill</td><td>Bill Crider</td><td>Bill Crider</td><td>9</td><td>List(Fiction, Private investigators, Truman Smith (Fictitious character))</td><td>null</td><td>0</td><td>null</td><td>20110</td></tr><tr><td>/works/OL10000178W</td><td>Le Mariage de Figaro, de Beaumarchais</td><td>S. Kefallonitis</td><td>null</td><td>3</td><td>null</td><td>null</td><td>0</td><td>null</td><td>20184</td></tr><tr><td>/works/OL10000575W</td><td>Urgences vitales prises en charge et diagnostics</td><td>Plaisance</td><td>null</td><td>4</td><td>List(Médecine d'urgence, Urgences médicales)</td><td>null</td><td>0</td><td>null</td><td>20105</td></tr><tr><td>/works/OL10000823W</td><td>La Grande Galerie Des Peintures Musee Du Louvre, D'Orsay, Centre Pompidou/Musee National D'Art Moderne</td><td>Francoise Bertaux</td><td>null</td><td>2</td><td>List(Painting, Catalogs, Peinture, Thèmes, motifs, Catalogues, Musée du Louvre, Musée d'Orsay, Centre Georges Pompidou)</td><td>null</td><td>0</td><td>null</td><td>20107</td></tr><tr><td>/works/OL10000827W</td><td>Access 2000</td><td>Jean Nashe</td><td>null</td><td>3</td><td>null</td><td>null</td><td>0</td><td>null</td><td>20118</td></tr></tbody></table></div>"
      ]
     },
     "metadata": {
      "application/vnd.databricks.v1+output": {
       "addedWidgets": {},
       "aggData": [],
       "aggError": "",
       "aggOverflow": false,
       "aggSchema": [],
       "aggSeriesLimitReached": false,
       "aggType": "",
       "arguments": {},
       "columnCustomDisplayInfos": {},
       "data": [
        [
         "/works/OL1000013W",
         "The prairie chicken kill",
         "Bill Crider",
         "Bill Crider",
         9,
         [
          "Fiction",
          "Private investigators",
          "Truman Smith (Fictitious character)"
         ],
         null,
         0,
         null,
         20110
        ],
        [
         "/works/OL10000178W",
         "Le Mariage de Figaro, de Beaumarchais",
         "S. Kefallonitis",
         null,
         3,
         null,
         null,
         0,
         null,
         20184
        ],
        [
         "/works/OL10000575W",
         "Urgences vitales prises en charge et diagnostics",
         "Plaisance",
         null,
         4,
         [
          "Médecine d'urgence",
          "Urgences médicales"
         ],
         null,
         0,
         null,
         20105
        ],
        [
         "/works/OL10000823W",
         "La Grande Galerie Des Peintures Musee Du Louvre, D'Orsay, Centre Pompidou/Musee National D'Art Moderne",
         "Francoise Bertaux",
         null,
         2,
         [
          "Painting",
          "Catalogs",
          "Peinture",
          "Thèmes, motifs",
          "Catalogues",
          "Musée du Louvre",
          "Musée d'Orsay",
          "Centre Georges Pompidou"
         ],
         null,
         0,
         null,
         20107
        ],
        [
         "/works/OL10000827W",
         "Access 2000",
         "Jean Nashe",
         null,
         3,
         null,
         null,
         0,
         null,
         20118
        ]
       ],
       "datasetInfos": [],
       "dbfsResultPath": null,
       "isJsonSchema": true,
       "metadata": {},
       "overflow": false,
       "plotOptions": {
        "customPlotOptions": {},
        "displayType": "table",
        "pivotAggregation": null,
        "pivotColumns": null,
        "xColumns": null,
        "yColumns": null
       },
       "removedWidgets": [],
       "schema": [
        {
         "metadata": "{}",
         "name": "works_reference",
         "type": "\"string\""
        },
        {
         "metadata": "{}",
         "name": "title",
         "type": "\"string\""
        },
        {
         "metadata": "{}",
         "name": "author_name",
         "type": "\"string\""
        },
        {
         "metadata": "{}",
         "name": "author_personal_name",
         "type": "\"string\""
        },
        {
         "metadata": "{}",
         "name": "revision_number",
         "type": "\"integer\""
        },
        {
         "metadata": "{}",
         "name": "subjects",
         "type": "{\"type\":\"array\",\"elementType\":\"string\",\"containsNull\":true}"
        },
        {
         "metadata": "{}",
         "name": "description_text",
         "type": "\"string\""
        },
        {
         "metadata": "{}",
         "name": "rating_count",
         "type": "\"long\""
        },
        {
         "metadata": "{}",
         "name": "rating_avg",
         "type": "\"double\""
        },
        {
         "metadata": "{}",
         "name": "ctl_year_month",
         "type": "\"long\""
        }
       ],
       "type": "table"
      }
     },
     "output_type": "display_data"
    }
   ],
   "source": [
    "%sql\n",
    "SELECT * FROM gold_openlibrary.ol_works_summary LIMIT 5"
   ]
  },
  {
   "cell_type": "code",
   "execution_count": 0,
   "metadata": {
    "application/vnd.databricks.v1+cell": {
     "cellMetadata": {
      "byteLimit": 2048000,
      "implicitDf": true,
      "rowLimit": 10000
     },
     "inputWidgets": {},
     "nuid": "4dc39a7c-79db-4d89-bffa-ccf8c58af58f",
     "showTitle": false,
     "title": ""
    }
   },
   "outputs": [
    {
     "output_type": "display_data",
     "data": {
      "text/html": [
       "<style scoped>\n",
       "  .table-result-container {\n",
       "    max-height: 300px;\n",
       "    overflow: auto;\n",
       "  }\n",
       "  table, th, td {\n",
       "    border: 1px solid black;\n",
       "    border-collapse: collapse;\n",
       "  }\n",
       "  th, td {\n",
       "    padding: 5px;\n",
       "  }\n",
       "  th {\n",
       "    text-align: left;\n",
       "  }\n",
       "</style><div class='table-result-container'><table class='table-result'><thead style='background-color: white'><tr><th>ctl_year_month</th><th>count(1)</th></tr></thead><tbody><tr><td>20166</td><td>309009</td></tr><tr><td>20144</td><td>308752</td></tr><tr><td>20195</td><td>308578</td></tr><tr><td>20130</td><td>308367</td></tr><tr><td>20123</td><td>307925</td></tr><tr><td>20103</td><td>309064</td></tr><tr><td>20116</td><td>307551</td></tr><tr><td>20191</td><td>307405</td></tr><tr><td>20199</td><td>308800</td></tr><tr><td>20193</td><td>308650</td></tr><tr><td>20196</td><td>307478</td></tr><tr><td>20121</td><td>309385</td></tr><tr><td>20126</td><td>308173</td></tr><tr><td>20170</td><td>307937</td></tr><tr><td>20157</td><td>308788</td></tr><tr><td>20107</td><td>308326</td></tr><tr><td>20128</td><td>308365</td></tr><tr><td>20179</td><td>307977</td></tr><tr><td>20118</td><td>309414</td></tr><tr><td>20160</td><td>308995</td></tr><tr><td>20132</td><td>309443</td></tr><tr><td>20104</td><td>309421</td></tr><tr><td>20164</td><td>308711</td></tr><tr><td>20115</td><td>308191</td></tr><tr><td>20136</td><td>308345</td></tr><tr><td>20140</td><td>308589</td></tr><tr><td>20167</td><td>308450</td></tr><tr><td>20101</td><td>308226</td></tr><tr><td>20198</td><td>308873</td></tr><tr><td>20100</td><td>308889</td></tr><tr><td>20150</td><td>307894</td></tr><tr><td>20187</td><td>309424</td></tr><tr><td>20141</td><td>308997</td></tr><tr><td>20142</td><td>307880</td></tr><tr><td>20153</td><td>307808</td></tr><tr><td>20143</td><td>308789</td></tr><tr><td>20163</td><td>308942</td></tr><tr><td>20137</td><td>308246</td></tr><tr><td>20149</td><td>309066</td></tr><tr><td>20162</td><td>308142</td></tr><tr><td>20154</td><td>308536</td></tr><tr><td>20161</td><td>308434</td></tr><tr><td>20125</td><td>308664</td></tr><tr><td>20138</td><td>308050</td></tr><tr><td>20124</td><td>308345</td></tr><tr><td>20131</td><td>308299</td></tr><tr><td>20151</td><td>308643</td></tr><tr><td>20139</td><td>308445</td></tr><tr><td>20113</td><td>309266</td></tr><tr><td>20122</td><td>308898</td></tr><tr><td>20135</td><td>308825</td></tr><tr><td>20109</td><td>308133</td></tr><tr><td>20165</td><td>307813</td></tr><tr><td>20117</td><td>308784</td></tr><tr><td>20172</td><td>307835</td></tr><tr><td>20102</td><td>309724</td></tr><tr><td>20186</td><td>309166</td></tr><tr><td>20182</td><td>307869</td></tr><tr><td>20146</td><td>307808</td></tr><tr><td>20127</td><td>308058</td></tr><tr><td>20106</td><td>309033</td></tr><tr><td>20180</td><td>308567</td></tr><tr><td>20108</td><td>308507</td></tr><tr><td>20145</td><td>307535</td></tr><tr><td>20105</td><td>308781</td></tr><tr><td>20185</td><td>307306</td></tr><tr><td>20159</td><td>309001</td></tr><tr><td>20155</td><td>308054</td></tr><tr><td>20156</td><td>307797</td></tr><tr><td>20190</td><td>308656</td></tr><tr><td>20181</td><td>308660</td></tr><tr><td>20129</td><td>309486</td></tr><tr><td>20174</td><td>308453</td></tr><tr><td>20147</td><td>307667</td></tr><tr><td>20197</td><td>308184</td></tr><tr><td>20114</td><td>308871</td></tr><tr><td>20189</td><td>309382</td></tr><tr><td>20175</td><td>307773</td></tr><tr><td>20119</td><td>308411</td></tr><tr><td>20169</td><td>308723</td></tr><tr><td>20176</td><td>307662</td></tr><tr><td>20184</td><td>308275</td></tr><tr><td>20173</td><td>308406</td></tr><tr><td>20188</td><td>308937</td></tr><tr><td>20177</td><td>308727</td></tr><tr><td>20152</td><td>308413</td></tr><tr><td>20168</td><td>308762</td></tr><tr><td>20120</td><td>308516</td></tr><tr><td>20134</td><td>308459</td></tr><tr><td>20112</td><td>307668</td></tr><tr><td>20194</td><td>308112</td></tr><tr><td>20171</td><td>309433</td></tr><tr><td>20192</td><td>308237</td></tr><tr><td>20158</td><td>309563</td></tr><tr><td>20110</td><td>309642</td></tr><tr><td>20133</td><td>309049</td></tr><tr><td>20111</td><td>307753</td></tr><tr><td>20178</td><td>308807</td></tr><tr><td>20183</td><td>308926</td></tr><tr><td>20148</td><td>309065</td></tr></tbody></table></div>"
      ]
     },
     "metadata": {
      "application/vnd.databricks.v1+output": {
       "addedWidgets": {},
       "aggData": [],
       "aggError": "",
       "aggOverflow": false,
       "aggSchema": [],
       "aggSeriesLimitReached": false,
       "aggType": "",
       "arguments": {},
       "columnCustomDisplayInfos": {},
       "data": [
        [
         20166,
         309009
        ],
        [
         20144,
         308752
        ],
        [
         20195,
         308578
        ],
        [
         20130,
         308367
        ],
        [
         20123,
         307925
        ],
        [
         20103,
         309064
        ],
        [
         20116,
         307551
        ],
        [
         20191,
         307405
        ],
        [
         20199,
         308800
        ],
        [
         20193,
         308650
        ],
        [
         20196,
         307478
        ],
        [
         20121,
         309385
        ],
        [
         20126,
         308173
        ],
        [
         20170,
         307937
        ],
        [
         20157,
         308788
        ],
        [
         20107,
         308326
        ],
        [
         20128,
         308365
        ],
        [
         20179,
         307977
        ],
        [
         20118,
         309414
        ],
        [
         20160,
         308995
        ],
        [
         20132,
         309443
        ],
        [
         20104,
         309421
        ],
        [
         20164,
         308711
        ],
        [
         20115,
         308191
        ],
        [
         20136,
         308345
        ],
        [
         20140,
         308589
        ],
        [
         20167,
         308450
        ],
        [
         20101,
         308226
        ],
        [
         20198,
         308873
        ],
        [
         20100,
         308889
        ],
        [
         20150,
         307894
        ],
        [
         20187,
         309424
        ],
        [
         20141,
         308997
        ],
        [
         20142,
         307880
        ],
        [
         20153,
         307808
        ],
        [
         20143,
         308789
        ],
        [
         20163,
         308942
        ],
        [
         20137,
         308246
        ],
        [
         20149,
         309066
        ],
        [
         20162,
         308142
        ],
        [
         20154,
         308536
        ],
        [
         20161,
         308434
        ],
        [
         20125,
         308664
        ],
        [
         20138,
         308050
        ],
        [
         20124,
         308345
        ],
        [
         20131,
         308299
        ],
        [
         20151,
         308643
        ],
        [
         20139,
         308445
        ],
        [
         20113,
         309266
        ],
        [
         20122,
         308898
        ],
        [
         20135,
         308825
        ],
        [
         20109,
         308133
        ],
        [
         20165,
         307813
        ],
        [
         20117,
         308784
        ],
        [
         20172,
         307835
        ],
        [
         20102,
         309724
        ],
        [
         20186,
         309166
        ],
        [
         20182,
         307869
        ],
        [
         20146,
         307808
        ],
        [
         20127,
         308058
        ],
        [
         20106,
         309033
        ],
        [
         20180,
         308567
        ],
        [
         20108,
         308507
        ],
        [
         20145,
         307535
        ],
        [
         20105,
         308781
        ],
        [
         20185,
         307306
        ],
        [
         20159,
         309001
        ],
        [
         20155,
         308054
        ],
        [
         20156,
         307797
        ],
        [
         20190,
         308656
        ],
        [
         20181,
         308660
        ],
        [
         20129,
         309486
        ],
        [
         20174,
         308453
        ],
        [
         20147,
         307667
        ],
        [
         20197,
         308184
        ],
        [
         20114,
         308871
        ],
        [
         20189,
         309382
        ],
        [
         20175,
         307773
        ],
        [
         20119,
         308411
        ],
        [
         20169,
         308723
        ],
        [
         20176,
         307662
        ],
        [
         20184,
         308275
        ],
        [
         20173,
         308406
        ],
        [
         20188,
         308937
        ],
        [
         20177,
         308727
        ],
        [
         20152,
         308413
        ],
        [
         20168,
         308762
        ],
        [
         20120,
         308516
        ],
        [
         20134,
         308459
        ],
        [
         20112,
         307668
        ],
        [
         20194,
         308112
        ],
        [
         20171,
         309433
        ],
        [
         20192,
         308237
        ],
        [
         20158,
         309563
        ],
        [
         20110,
         309642
        ],
        [
         20133,
         309049
        ],
        [
         20111,
         307753
        ],
        [
         20178,
         308807
        ],
        [
         20183,
         308926
        ],
        [
         20148,
         309065
        ]
       ],
       "datasetInfos": [],
       "dbfsResultPath": null,
       "isJsonSchema": true,
       "metadata": {},
       "overflow": false,
       "plotOptions": {
        "customPlotOptions": {},
        "displayType": "table",
        "pivotAggregation": null,
        "pivotColumns": null,
        "xColumns": null,
        "yColumns": null
       },
       "removedWidgets": [],
       "schema": [
        {
         "metadata": "{}",
         "name": "ctl_year_month",
         "type": "\"long\""
        },
        {
         "metadata": "{\"__autoGeneratedAlias\":\"true\"}",
         "name": "count(1)",
         "type": "\"long\""
        }
       ],
       "type": "table"
      }
     },
     "output_type": "display_data"
    }
   ],
   "source": [
    "%sql\n",
    "--checking if the distribution is good enough for partitioning the table export\n",
    "SELECT ctl_year_month, COUNT(1) \n",
    "FROM gold_openlibrary.ol_works_summary\n",
    "GROUP BY 1\n",
    "--approximately 300K records per bucket. Looks good."
   ]
  },
  {
   "cell_type": "markdown",
   "metadata": {
    "application/vnd.databricks.v1+cell": {
     "cellMetadata": {
      "byteLimit": 2048000,
      "rowLimit": 10000
     },
     "inputWidgets": {},
     "nuid": "3abb6ded-9b61-46c6-bb06-0cf756523cd5",
     "showTitle": false,
     "title": ""
    }
   },
   "source": [
    "## Persisting data. Uploading parquet files to S3"
   ]
  },
  {
   "cell_type": "markdown",
   "metadata": {
    "application/vnd.databricks.v1+cell": {
     "cellMetadata": {
      "byteLimit": 2048000,
      "rowLimit": 10000
     },
     "inputWidgets": {},
     "nuid": "e59ce425-a0dc-45d5-811a-6ee55f0716c6",
     "showTitle": false,
     "title": ""
    }
   },
   "source": [
    "### widgets configuration"
   ]
  },
  {
   "cell_type": "code",
   "execution_count": 0,
   "metadata": {
    "application/vnd.databricks.v1+cell": {
     "cellMetadata": {
      "byteLimit": 2048000,
      "rowLimit": 10000
     },
     "inputWidgets": {},
     "nuid": "ee648b34-dd50-4d92-b376-93b19ddc8b76",
     "showTitle": false,
     "title": ""
    }
   },
   "outputs": [],
   "source": [
    "# ['bronze_openlibrary.ol_ratings',\n",
    "# 'bronze_openlibrary.ol_readings',\n",
    "# 'bronze_openlibrary.ol_works',\n",
    "# 'bronze_openlibrary.ol_authors',\n",
    "# 'silver_openlibrary.ol_ratings',\n",
    "# 'silver_openlibrary.ol_readings',\n",
    "# 'silver_openlibrary.ol_works',\n",
    "# 'silver_openlibrary.ol_authors',\n",
    "# 'gold_openlibrary.ol_books',\n",
    "# 'gold_openlibrary.ol_reviews',\n",
    "# 'gold_openlibrary.books_summary']"
   ]
  },
  {
   "cell_type": "code",
   "execution_count": 0,
   "metadata": {
    "application/vnd.databricks.v1+cell": {
     "cellMetadata": {
      "byteLimit": 2048000,
      "rowLimit": 10000
     },
     "inputWidgets": {},
     "nuid": "47fe364a-c269-4bd2-ba69-35927eb463a9",
     "showTitle": false,
     "title": ""
    }
   },
   "outputs": [],
   "source": [
    "dbutils.widgets.text(\"access_key\", \"\")\n",
    "dbutils.widgets.text(\"secret_access_key\", \"\")\n",
    "dbutils.widgets.text(\"account_id\", \"\")\n",
    "dbutils.widgets.text(\"s3_bucket\", \"\")\n",
    "dbutils.widgets.dropdown(\"table\", \"gold_openlibrary.ol_books\", \n",
    "             ['gold_openlibrary.ol_books',\n",
    "              'gold_openlibrary.ol_reviews',\n",
    "              'gold_openlibrary.works_with_reviews_summary',\n",
    "              'gold_openlibrary.ol_works_summary'])"
   ]
  },
  {
   "cell_type": "markdown",
   "metadata": {
    "application/vnd.databricks.v1+cell": {
     "cellMetadata": {
      "byteLimit": 2048000,
      "rowLimit": 10000
     },
     "inputWidgets": {},
     "nuid": "bd1682b6-0307-4f4e-ab7f-cce93f74a9e2",
     "showTitle": false,
     "title": ""
    }
   },
   "source": [
    "### Imports"
   ]
  },
  {
   "cell_type": "code",
   "execution_count": 0,
   "metadata": {
    "application/vnd.databricks.v1+cell": {
     "cellMetadata": {
      "byteLimit": 2048000,
      "rowLimit": 10000
     },
     "inputWidgets": {},
     "nuid": "598aa50b-691a-49c4-b898-433a87faa8df",
     "showTitle": false,
     "title": ""
    }
   },
   "outputs": [],
   "source": [
    "# this can be installed in cluster"
   ]
  },
  {
   "cell_type": "code",
   "execution_count": 0,
   "metadata": {
    "application/vnd.databricks.v1+cell": {
     "cellMetadata": {
      "byteLimit": 2048000,
      "rowLimit": 10000
     },
     "inputWidgets": {},
     "nuid": "2914fb39-1403-476a-af53-6ec6610961dc",
     "showTitle": false,
     "title": ""
    }
   },
   "outputs": [
    {
     "output_type": "stream",
     "name": "stdout",
     "output_type": "stream",
     "text": [
      "Python interpreter will be restarted.\nRequirement already satisfied: s3fs in /local_disk0/.ephemeral_nfs/envs/pythonEnv-3c4cbe4e-eb4c-4106-b22c-21e5b2c0f11d/lib/python3.9/site-packages (2023.6.0)\nRequirement already satisfied: fsspec==2023.6.0 in /local_disk0/.ephemeral_nfs/envs/pythonEnv-3c4cbe4e-eb4c-4106-b22c-21e5b2c0f11d/lib/python3.9/site-packages (from s3fs) (2023.6.0)\nRequirement already satisfied: aiobotocore~=2.5.0 in /local_disk0/.ephemeral_nfs/envs/pythonEnv-3c4cbe4e-eb4c-4106-b22c-21e5b2c0f11d/lib/python3.9/site-packages (from s3fs) (2.5.0)\nRequirement already satisfied: aiohttp!=4.0.0a0,!=4.0.0a1 in /local_disk0/.ephemeral_nfs/envs/pythonEnv-3c4cbe4e-eb4c-4106-b22c-21e5b2c0f11d/lib/python3.9/site-packages (from s3fs) (3.8.4)\nRequirement already satisfied: wrapt>=1.10.10 in /local_disk0/.ephemeral_nfs/envs/pythonEnv-3c4cbe4e-eb4c-4106-b22c-21e5b2c0f11d/lib/python3.9/site-packages (from aiobotocore~=2.5.0->s3fs) (1.15.0)\nRequirement already satisfied: aioitertools>=0.5.1 in /local_disk0/.ephemeral_nfs/envs/pythonEnv-3c4cbe4e-eb4c-4106-b22c-21e5b2c0f11d/lib/python3.9/site-packages (from aiobotocore~=2.5.0->s3fs) (0.11.0)\nRequirement already satisfied: botocore<1.29.77,>=1.29.76 in /local_disk0/.ephemeral_nfs/envs/pythonEnv-3c4cbe4e-eb4c-4106-b22c-21e5b2c0f11d/lib/python3.9/site-packages (from aiobotocore~=2.5.0->s3fs) (1.29.76)\nRequirement already satisfied: frozenlist>=1.1.1 in /local_disk0/.ephemeral_nfs/envs/pythonEnv-3c4cbe4e-eb4c-4106-b22c-21e5b2c0f11d/lib/python3.9/site-packages (from aiohttp!=4.0.0a0,!=4.0.0a1->s3fs) (1.3.3)\nRequirement already satisfied: charset-normalizer<4.0,>=2.0 in /databricks/python3/lib/python3.9/site-packages (from aiohttp!=4.0.0a0,!=4.0.0a1->s3fs) (2.0.4)\nRequirement already satisfied: yarl<2.0,>=1.0 in /local_disk0/.ephemeral_nfs/envs/pythonEnv-3c4cbe4e-eb4c-4106-b22c-21e5b2c0f11d/lib/python3.9/site-packages (from aiohttp!=4.0.0a0,!=4.0.0a1->s3fs) (1.9.2)\nRequirement already satisfied: async-timeout<5.0,>=4.0.0a3 in /local_disk0/.ephemeral_nfs/envs/pythonEnv-3c4cbe4e-eb4c-4106-b22c-21e5b2c0f11d/lib/python3.9/site-packages (from aiohttp!=4.0.0a0,!=4.0.0a1->s3fs) (4.0.2)\nRequirement already satisfied: aiosignal>=1.1.2 in /local_disk0/.ephemeral_nfs/envs/pythonEnv-3c4cbe4e-eb4c-4106-b22c-21e5b2c0f11d/lib/python3.9/site-packages (from aiohttp!=4.0.0a0,!=4.0.0a1->s3fs) (1.3.1)\nRequirement already satisfied: multidict<7.0,>=4.5 in /local_disk0/.ephemeral_nfs/envs/pythonEnv-3c4cbe4e-eb4c-4106-b22c-21e5b2c0f11d/lib/python3.9/site-packages (from aiohttp!=4.0.0a0,!=4.0.0a1->s3fs) (6.0.4)\nRequirement already satisfied: attrs>=17.3.0 in /databricks/python3/lib/python3.9/site-packages (from aiohttp!=4.0.0a0,!=4.0.0a1->s3fs) (21.4.0)\nRequirement already satisfied: typing_extensions>=4.0 in /databricks/python3/lib/python3.9/site-packages (from aioitertools>=0.5.1->aiobotocore~=2.5.0->s3fs) (4.1.1)\nRequirement already satisfied: python-dateutil<3.0.0,>=2.1 in /databricks/python3/lib/python3.9/site-packages (from botocore<1.29.77,>=1.29.76->aiobotocore~=2.5.0->s3fs) (2.8.2)\nRequirement already satisfied: urllib3<1.27,>=1.25.4 in /databricks/python3/lib/python3.9/site-packages (from botocore<1.29.77,>=1.29.76->aiobotocore~=2.5.0->s3fs) (1.26.9)\nRequirement already satisfied: jmespath<2.0.0,>=0.7.1 in /databricks/python3/lib/python3.9/site-packages (from botocore<1.29.77,>=1.29.76->aiobotocore~=2.5.0->s3fs) (0.10.0)\nRequirement already satisfied: six>=1.5 in /databricks/python3/lib/python3.9/site-packages (from python-dateutil<3.0.0,>=2.1->botocore<1.29.77,>=1.29.76->aiobotocore~=2.5.0->s3fs) (1.16.0)\nRequirement already satisfied: idna>=2.0 in /databricks/python3/lib/python3.9/site-packages (from yarl<2.0,>=1.0->aiohttp!=4.0.0a0,!=4.0.0a1->s3fs) (3.3)\nPython interpreter will be restarted.\n"
     ]
    }
   ],
   "source": [
    "pip install s3fs"
   ]
  },
  {
   "cell_type": "code",
   "execution_count": 0,
   "metadata": {
    "application/vnd.databricks.v1+cell": {
     "cellMetadata": {
      "byteLimit": 2048000,
      "rowLimit": 10000
     },
     "inputWidgets": {},
     "nuid": "5b12ff07-d073-405a-b39d-6bbbdcea9912",
     "showTitle": false,
     "title": ""
    }
   },
   "outputs": [
    {
     "output_type": "display_data",
     "data": {
      "application/vnd.databricks.v1+bamboolib_hint": "{\"pd.DataFrames\": [], \"version\": \"0.0.1\"}",
      "text/plain": []
     },
     "metadata": {},
     "output_type": "display_data"
    }
   ],
   "source": [
    "import boto3\n",
    "from botocore.exceptions import ClientError\n",
    "import pandas as pd\n",
    "import os\n",
    "import s3fs\n",
    "import pyarrow as pa\n",
    "import pyarrow.parquet as pq\n",
    "from pyarrow import Table"
   ]
  },
  {
   "cell_type": "markdown",
   "metadata": {
    "application/vnd.databricks.v1+cell": {
     "cellMetadata": {
      "byteLimit": 2048000,
      "rowLimit": 10000
     },
     "inputWidgets": {},
     "nuid": "51b7a933-36d7-41bf-8b70-4fd98d9641e1",
     "showTitle": false,
     "title": ""
    }
   },
   "source": [
    "### Function - Loading files to S3"
   ]
  },
  {
   "cell_type": "code",
   "execution_count": 0,
   "metadata": {
    "application/vnd.databricks.v1+cell": {
     "cellMetadata": {
      "byteLimit": 2048000,
      "rowLimit": 10000
     },
     "inputWidgets": {},
     "nuid": "36ee5025-b8ae-47e5-85c7-7f6d2f0a78d7",
     "showTitle": false,
     "title": ""
    }
   },
   "outputs": [
    {
     "output_type": "stream",
     "name": "stdout",
     "output_type": "stream",
     "text": [
      "LOADING FILES TO S3...\nALL FILES UPLOADED TO S3\n"
     ]
    }
   ],
   "source": [
    "bucket_name = dbutils.widgets.get(\"s3_bucket\")\n",
    "aws_access_key_id= dbutils.widgets.get(\"access_key\")\n",
    "aws_secret_access_key= dbutils.widgets.get(\"secret_access_key\")\n",
    "region_name='eu-central-1'\n",
    "endpoint_url= f\"https://s3.eu-central-1.amazonaws.com/{bucket_name}\"\n",
    "\n",
    "tbl = dbutils.widgets.get(\"table\")\n",
    "\n",
    "fs = s3fs.S3FileSystem(\n",
    "anon=False,\n",
    "use_ssl=True,\n",
    "    client_kwargs={\n",
    "        \"region_name\": region_name,\n",
    "        \"endpoint_url\": endpoint_url,\n",
    "        \"aws_access_key_id\": aws_access_key_id,\n",
    "        \"aws_secret_access_key\": aws_secret_access_key,\n",
    "        \"verify\": True,\n",
    "    }\n",
    ")\n",
    "\n",
    "def load_files_to_s3(tbl: str, where_clause: str):\n",
    "    #\n",
    "    # WHERE clause for loading in batches and expects the following format: YYYYMM\n",
    "    #\n",
    "    try:\n",
    "        \n",
    "        file_name = tbl.replace(\".\",\"_\")+\".csv\"\n",
    "        s3_filepath = file_name.split(\".\")[0]\n",
    "        \n",
    "        query = f\"SELECT * FROM {tbl} WHERE ctl_year_month = {where_clause}\"\n",
    "        df = spark.sql(query)\n",
    "        pd_df = df.toPandas()\n",
    "\n",
    "        print(\"LOADING FILES TO S3...\")\n",
    "\n",
    "        pq.write_to_dataset(\n",
    "            Table.from_pandas(pd_df),\n",
    "            s3_filepath,\n",
    "            filesystem=fs,\n",
    "            use_dictionary=True,\n",
    "            partition_cols=['ctl_year_month'],\n",
    "            compression=\"snappy\",\n",
    "            version=\"2.4\",\n",
    ")\n",
    "    except ClientError as e:\n",
    "        print(e)\n",
    "    finally:\n",
    "        print(\"ALL FILES UPLOADED TO S3\")\n",
    "\n",
    "#load selected table to S3\n",
    "query_part = f\"SELECT DISTINCT ctl_year_month FROM {tbl}\"\n",
    "partitions = list(spark.sql(query_part).toPandas())\n",
    "\n",
    "for where_clause in partitions:\n",
    "    load_files_to_s3(tbl,where_clause)"
   ]
  },
  {
   "cell_type": "markdown",
   "metadata": {
    "application/vnd.databricks.v1+cell": {
     "cellMetadata": {
      "byteLimit": 2048000,
      "rowLimit": 10000
     },
     "inputWidgets": {},
     "nuid": "9d3b2074-f09b-4835-8473-9671a0334cb5",
     "showTitle": false,
     "title": ""
    }
   },
   "source": [
    "## Analysis of the dataset"
   ]
  },
  {
   "cell_type": "code",
   "execution_count": 0,
   "metadata": {
    "application/vnd.databricks.v1+cell": {
     "cellMetadata": {
      "byteLimit": 2048000,
      "implicitDf": true,
      "rowLimit": 10000
     },
     "inputWidgets": {},
     "nuid": "7058663e-d73a-4cac-9f29-b36301df3d5c",
     "showTitle": false,
     "title": ""
    }
   },
   "outputs": [
    {
     "output_type": "display_data",
     "data": {
      "text/html": [
       "<style scoped>\n",
       "  .table-result-container {\n",
       "    max-height: 300px;\n",
       "    overflow: auto;\n",
       "  }\n",
       "  table, th, td {\n",
       "    border: 1px solid black;\n",
       "    border-collapse: collapse;\n",
       "  }\n",
       "  th, td {\n",
       "    padding: 5px;\n",
       "  }\n",
       "  th {\n",
       "    text-align: left;\n",
       "  }\n",
       "</style><div class='table-result-container'><table class='table-result'><thead style='background-color: white'><tr><th>author_name</th><th>count(works_reference)</th></tr></thead><tbody><tr><td>Great Britain</td><td>61094</td></tr><tr><td>United States. Congress. House</td><td>36308</td></tr><tr><td>Philip M. Parker</td><td>33343</td></tr><tr><td>Rand McNally</td><td>29519</td></tr><tr><td>ICON Group Ltd.</td><td>27877</td></tr><tr><td>n/a</td><td>25418</td></tr><tr><td>United States</td><td>25066</td></tr><tr><td>Jeryx Publishing</td><td>23016</td></tr><tr><td>NA</td><td>21859</td></tr><tr><td>No name</td><td>16722</td></tr><tr><td>Etchbooks</td><td>15998</td></tr><tr><td>ICON Group International, Inc.</td><td>15959</td></tr><tr><td>International Monetary Fund</td><td>15791</td></tr><tr><td>Engy Publishing</td><td>14311</td></tr><tr><td>United States. Congress. Senate. Committee on Pensions</td><td>14131</td></tr><tr><td>United States. General Accounting Office</td><td>12556</td></tr><tr><td>Hal Leonard Corp. Staff</td><td>10985</td></tr><tr><td>Blue Cloud Novelty</td><td>10790</td></tr><tr><td>Journals for All Staff</td><td>10686</td></tr><tr><td>RH Value Publishing</td><td>10626</td></tr></tbody></table></div>"
      ]
     },
     "metadata": {
      "application/vnd.databricks.v1+output": {
       "addedWidgets": {},
       "aggData": [],
       "aggError": "",
       "aggOverflow": false,
       "aggSchema": [],
       "aggSeriesLimitReached": false,
       "aggType": "",
       "arguments": {},
       "columnCustomDisplayInfos": {},
       "data": [
        [
         "Great Britain",
         61094
        ],
        [
         "United States. Congress. House",
         36308
        ],
        [
         "Philip M. Parker",
         33343
        ],
        [
         "Rand McNally",
         29519
        ],
        [
         "ICON Group Ltd.",
         27877
        ],
        [
         "n/a",
         25418
        ],
        [
         "United States",
         25066
        ],
        [
         "Jeryx Publishing",
         23016
        ],
        [
         "NA",
         21859
        ],
        [
         "No name",
         16722
        ],
        [
         "Etchbooks",
         15998
        ],
        [
         "ICON Group International, Inc.",
         15959
        ],
        [
         "International Monetary Fund",
         15791
        ],
        [
         "Engy Publishing",
         14311
        ],
        [
         "United States. Congress. Senate. Committee on Pensions",
         14131
        ],
        [
         "United States. General Accounting Office",
         12556
        ],
        [
         "Hal Leonard Corp. Staff",
         10985
        ],
        [
         "Blue Cloud Novelty",
         10790
        ],
        [
         "Journals for All Staff",
         10686
        ],
        [
         "RH Value Publishing",
         10626
        ]
       ],
       "datasetInfos": [],
       "dbfsResultPath": null,
       "isJsonSchema": true,
       "metadata": {},
       "overflow": false,
       "plotOptions": {
        "customPlotOptions": {},
        "displayType": "table",
        "pivotAggregation": null,
        "pivotColumns": null,
        "xColumns": null,
        "yColumns": null
       },
       "removedWidgets": [],
       "schema": [
        {
         "metadata": "{}",
         "name": "author_name",
         "type": "\"string\""
        },
        {
         "metadata": "{\"__autoGeneratedAlias\":\"true\"}",
         "name": "count(works_reference)",
         "type": "\"long\""
        }
       ],
       "type": "table"
      }
     },
     "output_type": "display_data"
    }
   ],
   "source": [
    "%sql\n",
    "-- 20 authors with more published works\n",
    "SELECT author_name,       \n",
    "       COUNT(works_reference)\n",
    "FROM gold_openlibrary.ol_books\n",
    "WHERE author_reference IS NOT NULL\n",
    "AND (author_name IS NOT NULL OR author_personal_name IS NOT NULL)\n",
    "GROUP BY 1\n",
    "ORDER BY COUNT(works_reference) DESC \n",
    "LIMIT 20"
   ]
  },
  {
   "cell_type": "markdown",
   "metadata": {
    "application/vnd.databricks.v1+cell": {
     "cellMetadata": {
      "byteLimit": 2048000,
      "rowLimit": 10000
     },
     "inputWidgets": {},
     "nuid": "24636eda-5bca-42bb-9053-42ff0a177cdb",
     "showTitle": false,
     "title": ""
    }
   },
   "source": [
    "Philip M. Parker is an American economist and academic, currently the INSEAD Chaired Professor of Management Science at INSEAD in Fontainebleau, France. He has patented a method to automatically produce a set of similar books from a template which is filled with data from database and Internet searches."
   ]
  },
  {
   "cell_type": "markdown",
   "metadata": {
    "application/vnd.databricks.v1+cell": {
     "cellMetadata": {
      "byteLimit": 2048000,
      "rowLimit": 10000
     },
     "inputWidgets": {},
     "nuid": "e160bb85-8f1b-4afe-a864-99cd09514ae4",
     "showTitle": false,
     "title": ""
    }
   },
   "source": [
    "Rand McNally is an American technology and publishing company that provides mapping, software and hardware for consumer electronics, commercial transportation and education markets. The company is headquartered in Chicago, with a distribution center in Richmond, Kentucky."
   ]
  },
  {
   "cell_type": "code",
   "execution_count": 0,
   "metadata": {
    "application/vnd.databricks.v1+cell": {
     "cellMetadata": {
      "byteLimit": 2048000,
      "implicitDf": true,
      "rowLimit": 10000
     },
     "inputWidgets": {},
     "nuid": "1e2ad2dc-5db9-4237-9118-aa0faf17e1c9",
     "showTitle": false,
     "title": ""
    }
   },
   "outputs": [
    {
     "output_type": "display_data",
     "data": {
      "text/html": [
       "<style scoped>\n",
       "  .table-result-container {\n",
       "    max-height: 300px;\n",
       "    overflow: auto;\n",
       "  }\n",
       "  table, th, td {\n",
       "    border: 1px solid black;\n",
       "    border-collapse: collapse;\n",
       "  }\n",
       "  th, td {\n",
       "    padding: 5px;\n",
       "  }\n",
       "  th {\n",
       "    text-align: left;\n",
       "  }\n",
       "</style><div class='table-result-container'><table class='table-result'><thead style='background-color: white'><tr><th>works_reference</th><th>review_year</th><th>review_month</th><th>rating_count</th><th>rating_avg</th><th>title</th><th>author_name</th><th>author_personal_name</th><th>subjects</th><th>description_text</th><th>ctl_year_month</th></tr></thead><tbody><tr><td>/works/OL4772459W</td><td>2022</td><td>3</td><td>1</td><td>5.0</td><td>Lulu in Hollywood</td><td>Louise Brooks</td><td>Louise Brooks</td><td>List(Biography, Motion picture actors and actresses, Moving-picture actors and actresses, Films, Actresses)</td><td>Eight autobiographical essays by Brooks, on topics ranging from her childhood in Kansas and her early days as a Denishawn and Ziegfeld Follies dancer to her friendships with Martha Graham, Charles Chaplin, W. C. Fields, Humphrey Bogart, and others are collected here.</td><td>200912</td></tr><tr><td>/works/OL26617158W</td><td>2022</td><td>6</td><td>1</td><td>5.0</td><td>Extragalaktisch Band 2 - Weltenwandler</td><td>Yasmin Kurul Mendoza</td><td>null</td><td>List(Alien, Außerirdische, Merlin, Kinderbuch, vegane Literatur, psy-fiction, sci-fi, galaktische Föderation)</td><td>Die Reise geht weiter! \r\n",
       "Lubi Golder Morgen hat es als stotternder Junge nicht leicht. Zu allem Überfluss wird er neuerdings auch noch von merkwürdigen Träumen heimgesucht, die sich bald nicht mehr von der Realität unterscheiden lassen. Als er eines Morgens wie durch ein Wunder von seinem Stottern geheilt ist, beginnt er zu verstehen, dass die Wach-Welt und die Traum-Welt eng miteinander verknüpft sind.\r\n",
       "Er beginnt seine Fähigkeit des Traumreisens zu trainieren und kurze Zeit später findet er sich wieder in der Bibliothek der Marmaroth-Akademie, mit einem der größten Meister aller Zeiten…\r\n",
       "\r\n",
       "Inhalt:\r\n",
       "•„Extragalaktisch Band 2 – Weltenwandler“,\r\n",
       "•inklusive Rückblick aus Band 1, sodass Band 2 direkt gelesen werden kann, ohne vorab den vorigen Band gelesen haben zu müssen;\r\n",
       "•2 köstliche vegane Weihnachts-Backrezepte!</td><td>202112</td></tr><tr><td>/works/OL4780288W</td><td>2020</td><td>3</td><td>1</td><td>5.0</td><td>Richard Morris Hunt</td><td>Paul R. Baker</td><td>Paul R. Baker</td><td>List(Biography, Architects, Hunt, richard morris, 1828-1895, Architectes, Biographies)</td><td>null</td><td>200912</td></tr><tr><td>/works/OL4793911W</td><td>2021</td><td>2</td><td>1</td><td>1.0</td><td>Passover</td><td>Fumiko Kometani</td><td>Fumiko Kometani</td><td>List(Fiction, general)</td><td>null</td><td>200912</td></tr><tr><td>/works/OL4801345W</td><td>2022</td><td>11</td><td>1</td><td>4.0</td><td>Pronouns and people</td><td>Peter Mühlhäusler</td><td>Peter Mühlhäusler</td><td>List(Comparative and general Grammar, Pronoun, Sapir-Whorf hypothesis, Sociolinguistics, Grammar, comparative and general)</td><td>null</td><td>200912</td></tr><tr><td>/works/OL1036525W</td><td>2021</td><td>7</td><td>1</td><td>5.0</td><td>Sindh</td><td>Khan, Mubarak Ali.</td><td>Khan, Mubarak Ali.</td><td>List(History)</td><td>Historical study of Sindh, Pakistan, from the early Islamic period to date.</td><td>200912</td></tr><tr><td>/works/OL27036094W</td><td>2022</td><td>10</td><td>1</td><td>5.0</td><td>Srimad Bhagwat Geeta in Hindi</td><td>Baal Gangadhar Tilak</td><td>null</td><td>null</td><td>null</td><td>20221</td></tr><tr><td>/works/OL4815643W</td><td>2021</td><td>1</td><td>1</td><td>5.0</td><td>Knitting Without Tears</td><td>Elizabeth Zimmermann</td><td>Elizabeth Zimmermann</td><td>List(Knitting, Stickning, Praktiska handledningar, Knit goods, Handbooks, manuals, Care, Sweaters)</td><td>null</td><td>200912</td></tr><tr><td>/works/OL4828337W</td><td>2021</td><td>9</td><td>1</td><td>3.0</td><td>Synge and Anglo-Irish literature</td><td>Daniel Corkery</td><td>Daniel Corkery</td><td>null</td><td>null</td><td>200912</td></tr><tr><td>/works/OL27295611W</td><td>2022</td><td>10</td><td>1</td><td>5.0</td><td>The Case of the Missing Bicycles</td><td>Milo Stone</td><td>null</td><td>List(Children's fiction)</td><td>null</td><td>20222</td></tr></tbody></table></div>"
      ]
     },
     "metadata": {
      "application/vnd.databricks.v1+output": {
       "addedWidgets": {},
       "aggData": [],
       "aggError": "",
       "aggOverflow": false,
       "aggSchema": [],
       "aggSeriesLimitReached": false,
       "aggType": "",
       "arguments": {},
       "columnCustomDisplayInfos": {},
       "data": [
        [
         "/works/OL4772459W",
         2022,
         3,
         1,
         5.0,
         "Lulu in Hollywood",
         "Louise Brooks",
         "Louise Brooks",
         [
          "Biography",
          "Motion picture actors and actresses",
          "Moving-picture actors and actresses",
          "Films",
          "Actresses"
         ],
         "Eight autobiographical essays by Brooks, on topics ranging from her childhood in Kansas and her early days as a Denishawn and Ziegfeld Follies dancer to her friendships with Martha Graham, Charles Chaplin, W. C. Fields, Humphrey Bogart, and others are collected here.",
         "200912"
        ],
        [
         "/works/OL26617158W",
         2022,
         6,
         1,
         5.0,
         "Extragalaktisch Band 2 - Weltenwandler",
         "Yasmin Kurul Mendoza",
         null,
         [
          "Alien",
          "Außerirdische",
          "Merlin",
          "Kinderbuch",
          "vegane Literatur",
          "psy-fiction",
          "sci-fi",
          "galaktische Föderation"
         ],
         "Die Reise geht weiter! \r\nLubi Golder Morgen hat es als stotternder Junge nicht leicht. Zu allem Überfluss wird er neuerdings auch noch von merkwürdigen Träumen heimgesucht, die sich bald nicht mehr von der Realität unterscheiden lassen. Als er eines Morgens wie durch ein Wunder von seinem Stottern geheilt ist, beginnt er zu verstehen, dass die Wach-Welt und die Traum-Welt eng miteinander verknüpft sind.\r\nEr beginnt seine Fähigkeit des Traumreisens zu trainieren und kurze Zeit später findet er sich wieder in der Bibliothek der Marmaroth-Akademie, mit einem der größten Meister aller Zeiten…\r\n\r\nInhalt:\r\n•„Extragalaktisch Band 2 – Weltenwandler“,\r\n•inklusive Rückblick aus Band 1, sodass Band 2 direkt gelesen werden kann, ohne vorab den vorigen Band gelesen haben zu müssen;\r\n•2 köstliche vegane Weihnachts-Backrezepte!",
         "202112"
        ],
        [
         "/works/OL4780288W",
         2020,
         3,
         1,
         5.0,
         "Richard Morris Hunt",
         "Paul R. Baker",
         "Paul R. Baker",
         [
          "Biography",
          "Architects",
          "Hunt, richard morris, 1828-1895",
          "Architectes",
          "Biographies"
         ],
         null,
         "200912"
        ],
        [
         "/works/OL4793911W",
         2021,
         2,
         1,
         1.0,
         "Passover",
         "Fumiko Kometani",
         "Fumiko Kometani",
         [
          "Fiction, general"
         ],
         null,
         "200912"
        ],
        [
         "/works/OL4801345W",
         2022,
         11,
         1,
         4.0,
         "Pronouns and people",
         "Peter Mühlhäusler",
         "Peter Mühlhäusler",
         [
          "Comparative and general Grammar",
          "Pronoun",
          "Sapir-Whorf hypothesis",
          "Sociolinguistics",
          "Grammar, comparative and general"
         ],
         null,
         "200912"
        ],
        [
         "/works/OL1036525W",
         2021,
         7,
         1,
         5.0,
         "Sindh",
         "Khan, Mubarak Ali.",
         "Khan, Mubarak Ali.",
         [
          "History"
         ],
         "Historical study of Sindh, Pakistan, from the early Islamic period to date.",
         "200912"
        ],
        [
         "/works/OL27036094W",
         2022,
         10,
         1,
         5.0,
         "Srimad Bhagwat Geeta in Hindi",
         "Baal Gangadhar Tilak",
         null,
         null,
         null,
         "20221"
        ],
        [
         "/works/OL4815643W",
         2021,
         1,
         1,
         5.0,
         "Knitting Without Tears",
         "Elizabeth Zimmermann",
         "Elizabeth Zimmermann",
         [
          "Knitting",
          "Stickning",
          "Praktiska handledningar",
          "Knit goods",
          "Handbooks, manuals",
          "Care",
          "Sweaters"
         ],
         null,
         "200912"
        ],
        [
         "/works/OL4828337W",
         2021,
         9,
         1,
         3.0,
         "Synge and Anglo-Irish literature",
         "Daniel Corkery",
         "Daniel Corkery",
         null,
         null,
         "200912"
        ],
        [
         "/works/OL27295611W",
         2022,
         10,
         1,
         5.0,
         "The Case of the Missing Bicycles",
         "Milo Stone",
         null,
         [
          "Children's fiction"
         ],
         null,
         "20222"
        ]
       ],
       "datasetInfos": [],
       "dbfsResultPath": null,
       "isJsonSchema": true,
       "metadata": {},
       "overflow": false,
       "plotOptions": {
        "customPlotOptions": {},
        "displayType": "table",
        "pivotAggregation": null,
        "pivotColumns": null,
        "xColumns": null,
        "yColumns": null
       },
       "removedWidgets": [],
       "schema": [
        {
         "metadata": "{}",
         "name": "works_reference",
         "type": "\"string\""
        },
        {
         "metadata": "{}",
         "name": "review_year",
         "type": "\"integer\""
        },
        {
         "metadata": "{}",
         "name": "review_month",
         "type": "\"integer\""
        },
        {
         "metadata": "{}",
         "name": "rating_count",
         "type": "\"long\""
        },
        {
         "metadata": "{}",
         "name": "rating_avg",
         "type": "\"double\""
        },
        {
         "metadata": "{}",
         "name": "title",
         "type": "\"string\""
        },
        {
         "metadata": "{}",
         "name": "author_name",
         "type": "\"string\""
        },
        {
         "metadata": "{}",
         "name": "author_personal_name",
         "type": "\"string\""
        },
        {
         "metadata": "{}",
         "name": "subjects",
         "type": "{\"type\":\"array\",\"elementType\":\"string\",\"containsNull\":true}"
        },
        {
         "metadata": "{}",
         "name": "description_text",
         "type": "\"string\""
        },
        {
         "metadata": "{}",
         "name": "ctl_year_month",
         "type": "\"string\""
        }
       ],
       "type": "table"
      }
     },
     "output_type": "display_data"
    }
   ],
   "source": [
    "%sql\n",
    "SELECT * FROM gold_openlibrary.works_with_reviews_summary LIMIT 10"
   ]
  },
  {
   "cell_type": "code",
   "execution_count": 0,
   "metadata": {
    "application/vnd.databricks.v1+cell": {
     "cellMetadata": {
      "byteLimit": 2048000,
      "implicitDf": true,
      "rowLimit": 10000
     },
     "inputWidgets": {},
     "nuid": "bc7c1871-0412-4bb6-9ded-56469d0fcc7d",
     "showTitle": false,
     "title": ""
    }
   },
   "outputs": [
    {
     "output_type": "display_data",
     "data": {
      "text/html": [
       "<style scoped>\n",
       "  .table-result-container {\n",
       "    max-height: 300px;\n",
       "    overflow: auto;\n",
       "  }\n",
       "  table, th, td {\n",
       "    border: 1px solid black;\n",
       "    border-collapse: collapse;\n",
       "  }\n",
       "  th, td {\n",
       "    padding: 5px;\n",
       "  }\n",
       "  th {\n",
       "    text-align: left;\n",
       "  }\n",
       "</style><div class='table-result-container'><table class='table-result'><thead style='background-color: white'><tr><th>works_reference</th><th>title</th><th>author_name</th><th>rating_average</th><th>rating_count</th></tr></thead><tbody><tr><td>/works/OL17427523W</td><td>The Brilliant World Of Tom Gates</td><td>Liz Pichon</td><td>5.0</td><td>16</td></tr><tr><td>/works/OL17610987W</td><td>The Baby-Sitter's Club</td><td>Raina Telgemeier</td><td>4.94</td><td>17</td></tr><tr><td>/works/OL18289083W</td><td>Faith, Keyes, and Clark's Industrial chemicals</td><td>William Lawrence Faith</td><td>4.88</td><td>16</td></tr><tr><td>/works/OL21640039W</td><td>The Psychology of Money</td><td>Morgan Housel</td><td>4.88</td><td>16</td></tr><tr><td>/works/OL262554W</td><td>Sherlock Holmes (Adventures of Sherlock Holmes / Case-Book of Sherlock Holmes / His Last Bow / Hound of the Baskervilles / Memoirs of Sherlock Holmes / Return of Sherlock Holmes / Sign of Four / Study in Scarlet / Valley of Fear)</td><td>Arthur Conan Doyle</td><td>4.85</td><td>26</td></tr><tr><td>/works/OL3004224W</td><td>The essential Calvin and Hobbes</td><td>Bill Watterson</td><td>4.82</td><td>17</td></tr><tr><td>/works/OL16361049W</td><td>Keeper of the Lost Cities</td><td>Shannon Messenger</td><td>4.79</td><td>29</td></tr><tr><td>/works/OL15946464W</td><td>The Throne of Fire</td><td>Rick Riordan</td><td>4.77</td><td>22</td></tr><tr><td>/works/OL547371W</td><td>A bad case of stripes</td><td>David Shannon</td><td>4.76</td><td>17</td></tr><tr><td>/works/OL20893680W</td><td>Piranesi</td><td>Susanna Clarke</td><td>4.75</td><td>20</td></tr><tr><td>/works/OL17606586W</td><td>Thea Stilton and the Lost Letters</td><td>Thea Stilton</td><td>4.75</td><td>20</td></tr><tr><td>/works/OL491708W</td><td>Duncan's Bride</td><td>Linda Howard</td><td>4.75</td><td>16</td></tr><tr><td>/works/OL16833236W</td><td>Wings of Fire</td><td>Tui T. Sutherland</td><td>4.75</td><td>16</td></tr><tr><td>/works/OL66946W</td><td>A child called \"it\"</td><td>Dave Pelzer</td><td>4.74</td><td>35</td></tr><tr><td>/works/OL14981609W</td><td>Harry Potter (series) 1-7</td><td>J. K. Rowling</td><td>4.74</td><td>27</td></tr><tr><td>/works/OL15358691W</td><td>The Way of Kings</td><td>Brandon Sanderson</td><td>4.73</td><td>52</td></tr><tr><td>/works/OL17310882W</td><td>Tales From A Not-So-Perfect Pet Sitter</td><td>Rachel Renée Russell</td><td>4.72</td><td>18</td></tr><tr><td>/works/OL20090688W</td><td>Red, White & Royal Blue</td><td>Casey McQuiston</td><td>4.72</td><td>18</td></tr><tr><td>/works/OL16664287W</td><td>The Mark of Athena</td><td>Rick Riordan</td><td>4.7</td><td>57</td></tr><tr><td>/works/OL2056808W</td><td>Maus II</td><td>Art Spiegelman</td><td>4.7</td><td>20</td></tr><tr><td>/works/OL8842598W</td><td>Amulet</td><td>Kazu Kibuishi</td><td>4.7</td><td>20</td></tr><tr><td>/works/OL17824318W</td><td>Born a Crime</td><td>Trevor Noah</td><td>4.69</td><td>45</td></tr><tr><td>/works/OL1115809W</td><td>Struwwelpeter</td><td>Heinrich Hoffmann</td><td>4.69</td><td>16</td></tr><tr><td>/works/OL20080323W</td><td>Permanent Record</td><td>Edward Snowden</td><td>4.69</td><td>16</td></tr><tr><td>/works/OL15371369W</td><td>We Are in a Book! (Elephant & Piggie)</td><td>Mo Willems</td><td>4.68</td><td>25</td></tr><tr><td>/works/OL115602W</td><td>Bud, Not Buddy</td><td>Christopher Paul Curtis</td><td>4.68</td><td>22</td></tr><tr><td>/works/OL14856842W</td><td>La Nuit</td><td>Elie Wiesel</td><td>4.68</td><td>19</td></tr><tr><td>/works/OL13268171W</td><td>Naruto</td><td>Masashi Kishimoto</td><td>4.68</td><td>19</td></tr><tr><td>/works/OL17054790W</td><td>Percy Jackson's Greek Gods</td><td>Rick Riordan</td><td>4.67</td><td>51</td></tr><tr><td>/works/OL22017172W</td><td>Dog Man Mothering Heights</td><td>Dav Pilkey</td><td>4.67</td><td>21</td></tr><tr><td>/works/OL5805254W</td><td>Marked</td><td>P. C. Cast</td><td>4.67</td><td>21</td></tr><tr><td>/works/OL17793648W</td><td>The Silver Eyes (Five Nights At Freddy's #1)</td><td>Scott Cawthon</td><td>4.66</td><td>35</td></tr><tr><td>/works/OL16813053W</td><td>Words of Radiance</td><td>Brandon Sanderson</td><td>4.65</td><td>34</td></tr><tr><td>/works/OL17825802W</td><td>Shoe Dog</td><td>Phil Knight</td><td>4.65</td><td>31</td></tr><tr><td>/works/OL3961963W</td><td>Mildred and Sam</td><td>Sharleen Collicott</td><td>4.65</td><td>20</td></tr><tr><td>/works/OL18007627W</td><td>The duckling gets a cookie!?</td><td>Mo Willems</td><td>4.65</td><td>20</td></tr><tr><td>/works/OL19666078W</td><td>The pigeon needs a bath!</td><td>Mo Willems</td><td>4.65</td><td>20</td></tr><tr><td>/works/OL20882185W</td><td>Dork Diaries 15</td><td>Rachel Renée Russell</td><td>4.65</td><td>17</td></tr><tr><td>/works/OL17332150W</td><td>The war that Saved my Life</td><td>Kimberly Brubaker Bradley</td><td>4.65</td><td>17</td></tr><tr><td>/works/OL16509148W</td><td>The Song of Achilles</td><td>Madeline Miller</td><td>4.64</td><td>42</td></tr><tr><td>/works/OL8756330W</td><td>Smile</td><td>Raina Telgemeier</td><td>4.64</td><td>42</td></tr><tr><td>/works/OL15837481W</td><td>Jung's map of the soul</td><td>Murray Stein</td><td>4.64</td><td>22</td></tr><tr><td>/works/OL2163649W</td><td>The Hitch Hiker's Guide to the Galaxy</td><td>Douglas Adams</td><td>4.63</td><td>79</td></tr><tr><td>/works/OL17610986W</td><td>Dog Man</td><td>Dav Pilkey</td><td>4.63</td><td>46</td></tr><tr><td>/works/OL17342469W</td><td>Roller Girl</td><td>Victoria Jamieson</td><td>4.63</td><td>32</td></tr><tr><td>/works/OL46368W</td><td>The Complete Robot</td><td>Isaac Asimov</td><td>4.63</td><td>16</td></tr><tr><td>/works/OL5714318W</td><td>Sunset</td><td>Erin Hunter</td><td>4.63</td><td>16</td></tr><tr><td>/works/OL2056823W</td><td>The Complete Maus</td><td>Art Spiegelman</td><td>4.62</td><td>42</td></tr><tr><td>/works/OL18543713W</td><td>The Cruel Prince</td><td>Holly Black</td><td>4.62</td><td>26</td></tr><tr><td>/works/OL15401200W</td><td>The Lost Hero</td><td>Rick Riordan</td><td>4.61</td><td>84</td></tr></tbody></table></div>"
      ]
     },
     "metadata": {
      "application/vnd.databricks.v1+output": {
       "addedWidgets": {},
       "aggData": [],
       "aggError": "",
       "aggOverflow": false,
       "aggSchema": [],
       "aggSeriesLimitReached": false,
       "aggType": "",
       "arguments": {},
       "columnCustomDisplayInfos": {},
       "data": [
        [
         "/works/OL17427523W",
         "The Brilliant World Of Tom Gates",
         "Liz Pichon",
         5.0,
         16
        ],
        [
         "/works/OL17610987W",
         "The Baby-Sitter's Club",
         "Raina Telgemeier",
         4.94,
         17
        ],
        [
         "/works/OL18289083W",
         "Faith, Keyes, and Clark's Industrial chemicals",
         "William Lawrence Faith",
         4.88,
         16
        ],
        [
         "/works/OL21640039W",
         "The Psychology of Money",
         "Morgan Housel",
         4.88,
         16
        ],
        [
         "/works/OL262554W",
         "Sherlock Holmes (Adventures of Sherlock Holmes / Case-Book of Sherlock Holmes / His Last Bow / Hound of the Baskervilles / Memoirs of Sherlock Holmes / Return of Sherlock Holmes / Sign of Four / Study in Scarlet / Valley of Fear)",
         "Arthur Conan Doyle",
         4.85,
         26
        ],
        [
         "/works/OL3004224W",
         "The essential Calvin and Hobbes",
         "Bill Watterson",
         4.82,
         17
        ],
        [
         "/works/OL16361049W",
         "Keeper of the Lost Cities",
         "Shannon Messenger",
         4.79,
         29
        ],
        [
         "/works/OL15946464W",
         "The Throne of Fire",
         "Rick Riordan",
         4.77,
         22
        ],
        [
         "/works/OL547371W",
         "A bad case of stripes",
         "David Shannon",
         4.76,
         17
        ],
        [
         "/works/OL20893680W",
         "Piranesi",
         "Susanna Clarke",
         4.75,
         20
        ],
        [
         "/works/OL17606586W",
         "Thea Stilton and the Lost Letters",
         "Thea Stilton",
         4.75,
         20
        ],
        [
         "/works/OL491708W",
         "Duncan's Bride",
         "Linda Howard",
         4.75,
         16
        ],
        [
         "/works/OL16833236W",
         "Wings of Fire",
         "Tui T. Sutherland",
         4.75,
         16
        ],
        [
         "/works/OL66946W",
         "A child called \"it\"",
         "Dave Pelzer",
         4.74,
         35
        ],
        [
         "/works/OL14981609W",
         "Harry Potter (series) 1-7",
         "J. K. Rowling",
         4.74,
         27
        ],
        [
         "/works/OL15358691W",
         "The Way of Kings",
         "Brandon Sanderson",
         4.73,
         52
        ],
        [
         "/works/OL17310882W",
         "Tales From A Not-So-Perfect Pet Sitter",
         "Rachel Renée Russell",
         4.72,
         18
        ],
        [
         "/works/OL20090688W",
         "Red, White & Royal Blue",
         "Casey McQuiston",
         4.72,
         18
        ],
        [
         "/works/OL16664287W",
         "The Mark of Athena",
         "Rick Riordan",
         4.7,
         57
        ],
        [
         "/works/OL2056808W",
         "Maus II",
         "Art Spiegelman",
         4.7,
         20
        ],
        [
         "/works/OL8842598W",
         "Amulet",
         "Kazu Kibuishi",
         4.7,
         20
        ],
        [
         "/works/OL17824318W",
         "Born a Crime",
         "Trevor Noah",
         4.69,
         45
        ],
        [
         "/works/OL1115809W",
         "Struwwelpeter",
         "Heinrich Hoffmann",
         4.69,
         16
        ],
        [
         "/works/OL20080323W",
         "Permanent Record",
         "Edward Snowden",
         4.69,
         16
        ],
        [
         "/works/OL15371369W",
         "We Are in a Book! (Elephant & Piggie)",
         "Mo Willems",
         4.68,
         25
        ],
        [
         "/works/OL115602W",
         "Bud, Not Buddy",
         "Christopher Paul Curtis",
         4.68,
         22
        ],
        [
         "/works/OL14856842W",
         "La Nuit",
         "Elie Wiesel",
         4.68,
         19
        ],
        [
         "/works/OL13268171W",
         "Naruto",
         "Masashi Kishimoto",
         4.68,
         19
        ],
        [
         "/works/OL17054790W",
         "Percy Jackson's Greek Gods",
         "Rick Riordan",
         4.67,
         51
        ],
        [
         "/works/OL22017172W",
         "Dog Man Mothering Heights",
         "Dav Pilkey",
         4.67,
         21
        ],
        [
         "/works/OL5805254W",
         "Marked",
         "P. C. Cast",
         4.67,
         21
        ],
        [
         "/works/OL17793648W",
         "The Silver Eyes (Five Nights At Freddy's #1)",
         "Scott Cawthon",
         4.66,
         35
        ],
        [
         "/works/OL16813053W",
         "Words of Radiance",
         "Brandon Sanderson",
         4.65,
         34
        ],
        [
         "/works/OL17825802W",
         "Shoe Dog",
         "Phil Knight",
         4.65,
         31
        ],
        [
         "/works/OL3961963W",
         "Mildred and Sam",
         "Sharleen Collicott",
         4.65,
         20
        ],
        [
         "/works/OL18007627W",
         "The duckling gets a cookie!?",
         "Mo Willems",
         4.65,
         20
        ],
        [
         "/works/OL19666078W",
         "The pigeon needs a bath!",
         "Mo Willems",
         4.65,
         20
        ],
        [
         "/works/OL20882185W",
         "Dork Diaries 15",
         "Rachel Renée Russell",
         4.65,
         17
        ],
        [
         "/works/OL17332150W",
         "The war that Saved my Life",
         "Kimberly Brubaker Bradley",
         4.65,
         17
        ],
        [
         "/works/OL16509148W",
         "The Song of Achilles",
         "Madeline Miller",
         4.64,
         42
        ],
        [
         "/works/OL8756330W",
         "Smile",
         "Raina Telgemeier",
         4.64,
         42
        ],
        [
         "/works/OL15837481W",
         "Jung's map of the soul",
         "Murray Stein",
         4.64,
         22
        ],
        [
         "/works/OL2163649W",
         "The Hitch Hiker's Guide to the Galaxy",
         "Douglas Adams",
         4.63,
         79
        ],
        [
         "/works/OL17610986W",
         "Dog Man",
         "Dav Pilkey",
         4.63,
         46
        ],
        [
         "/works/OL17342469W",
         "Roller Girl",
         "Victoria Jamieson",
         4.63,
         32
        ],
        [
         "/works/OL46368W",
         "The Complete Robot",
         "Isaac Asimov",
         4.63,
         16
        ],
        [
         "/works/OL5714318W",
         "Sunset",
         "Erin Hunter",
         4.63,
         16
        ],
        [
         "/works/OL2056823W",
         "The Complete Maus",
         "Art Spiegelman",
         4.62,
         42
        ],
        [
         "/works/OL18543713W",
         "The Cruel Prince",
         "Holly Black",
         4.62,
         26
        ],
        [
         "/works/OL15401200W",
         "The Lost Hero",
         "Rick Riordan",
         4.61,
         84
        ]
       ],
       "datasetInfos": [],
       "dbfsResultPath": null,
       "isJsonSchema": true,
       "metadata": {},
       "overflow": false,
       "plotOptions": {
        "customPlotOptions": {},
        "displayType": "table",
        "pivotAggregation": null,
        "pivotColumns": null,
        "xColumns": null,
        "yColumns": null
       },
       "removedWidgets": [],
       "schema": [
        {
         "metadata": "{}",
         "name": "works_reference",
         "type": "\"string\""
        },
        {
         "metadata": "{}",
         "name": "title",
         "type": "\"string\""
        },
        {
         "metadata": "{}",
         "name": "author_name",
         "type": "\"string\""
        },
        {
         "metadata": "{}",
         "name": "rating_average",
         "type": "\"double\""
        },
        {
         "metadata": "{}",
         "name": "rating_count",
         "type": "\"long\""
        }
       ],
       "type": "table"
      }
     },
     "output_type": "display_data"
    }
   ],
   "source": [
    "%sql\n",
    "-- Top rated books with more than 15 reviews\n",
    "SELECT works_reference, \n",
    "       title, \n",
    "       author_name, \n",
    "       round(try_divide(SUM(rating_avg * rating_count), SUM(rating_count)),2) AS rating_average,\n",
    "       SUM(rating_count) AS rating_count\n",
    "FROM gold_openlibrary.works_with_reviews_summary\n",
    "WHERE title IS NOT NULL\n",
    "GROUP BY 1,2,3\n",
    "HAVING rating_count > 15\n",
    "ORDER BY 4 DESC, 5 DESC \n",
    "LIMIT 50"
   ]
  },
  {
   "cell_type": "code",
   "execution_count": 0,
   "metadata": {
    "application/vnd.databricks.v1+cell": {
     "cellMetadata": {
      "byteLimit": 2048000,
      "implicitDf": true,
      "rowLimit": 10000
     },
     "inputWidgets": {},
     "nuid": "17fef93a-93fd-4360-8aa8-8b1a48ecb714",
     "showTitle": false,
     "title": ""
    }
   },
   "outputs": [
    {
     "output_type": "display_data",
     "data": {
      "text/html": [
       "<style scoped>\n",
       "  .table-result-container {\n",
       "    max-height: 300px;\n",
       "    overflow: auto;\n",
       "  }\n",
       "  table, th, td {\n",
       "    border: 1px solid black;\n",
       "    border-collapse: collapse;\n",
       "  }\n",
       "  th, td {\n",
       "    padding: 5px;\n",
       "  }\n",
       "  th {\n",
       "    text-align: left;\n",
       "  }\n",
       "</style><div class='table-result-container'><table class='table-result'><thead style='background-color: white'><tr><th>works_reference</th><th>title</th><th>author_name</th><th>rating_average</th><th>rating_count</th></tr></thead><tbody><tr><td>/works/OL9265172W</td><td>Sleeping with a Stranger</td><td>Anne Mather</td><td>2.69</td><td>16</td></tr><tr><td>/works/OL3845170W</td><td>Farewell to Love</td><td>Jessica Steele</td><td>2.88</td><td>16</td></tr><tr><td>/works/OL20907281W</td><td>Ready Player Two</td><td>Ernest Cline</td><td>3.0</td><td>17</td></tr><tr><td>/works/OL45793W</td><td>Charlie and the Great Glass Elevator</td><td>Roald Dahl</td><td>3.1</td><td>29</td></tr><tr><td>/works/OL4342659W</td><td>In Name Only</td><td>Roberta Leigh</td><td>3.12</td><td>17</td></tr><tr><td>/works/OL17358374W</td><td>Yes Please</td><td>Amy Poehler</td><td>3.13</td><td>16</td></tr><tr><td>/works/OL11327982W</td><td>Blackmail</td><td>Penny Jordan</td><td>3.13</td><td>16</td></tr><tr><td>/works/OL2001062W</td><td>The Namesake</td><td>Jhumpa Lahiri</td><td>3.13</td><td>16</td></tr><tr><td>/works/OL46913W</td><td>Congo</td><td>Michael Crichton</td><td>3.14</td><td>22</td></tr><tr><td>/works/OL547172W</td><td>Uglies (Uglies #1)</td><td>Scott Westerfeld</td><td>3.14</td><td>22</td></tr><tr><td>/works/OL16808654W</td><td>The Circle</td><td>Dave Eggers</td><td>3.16</td><td>19</td></tr><tr><td>/works/OL5962664W</td><td>The lovely bones</td><td>Alice Sebold</td><td>3.17</td><td>42</td></tr><tr><td>/works/OL15738951W</td><td>Pakistan Studies</td><td>Gul Shahzad Sarwar</td><td>3.17</td><td>18</td></tr><tr><td>/works/OL17078944W</td><td>Half Girlfriend</td><td>Chetan Bhagat</td><td>3.17</td><td>18</td></tr><tr><td>/works/OL5762086W</td><td>The 3 Mistakes of My Life</td><td>Chetan Bhagat</td><td>3.21</td><td>19</td></tr><tr><td>/works/OL731737W</td><td>Anthem</td><td>Ayn Rand</td><td>3.23</td><td>31</td></tr><tr><td>/works/OL5762090W</td><td>Five Point Someone</td><td>Chetan Bhagat</td><td>3.23</td><td>22</td></tr><tr><td>/works/OL263458W</td><td>Men are From Mars, Women are From Venus</td><td>John Gray</td><td>3.25</td><td>16</td></tr><tr><td>/works/OL731735W</td><td>Atlas Shrugged</td><td>Ayn Rand</td><td>3.27</td><td>74</td></tr><tr><td>/works/OL76835W</td><td>Deception Point</td><td>Dan Brown</td><td>3.27</td><td>63</td></tr><tr><td>/works/OL19345245W</td><td>Eragon</td><td>null</td><td>3.28</td><td>50</td></tr><tr><td>/works/OL7966242W</td><td>The Pearl</td><td>John Steinbeck</td><td>3.29</td><td>24</td></tr><tr><td>/works/OL497483W</td><td>The War of Art</td><td>Steven Pressfield</td><td>3.29</td><td>21</td></tr><tr><td>/works/OL483385W</td><td>Stuart Little</td><td>E. B. White</td><td>3.29</td><td>17</td></tr><tr><td>/works/OL276437W</td><td>The Turn of the Screw</td><td>Henry James Jr.</td><td>3.29</td><td>17</td></tr><tr><td>/works/OL629052W</td><td>Manifest der Kommunistischen Partei</td><td>Karl Marx</td><td>3.3</td><td>44</td></tr><tr><td>/works/OL30294W</td><td>A Streetcar Named Desire</td><td>Tennessee Williams</td><td>3.3</td><td>20</td></tr><tr><td>/works/OL11327987W</td><td>Falcon's Prey</td><td>Penny Jordan</td><td>3.31</td><td>16</td></tr><tr><td>/works/OL46399W</td><td>The Stars, Like Dust</td><td>Isaac Asimov</td><td>3.31</td><td>16</td></tr><tr><td>/works/OL86343W</td><td>A Portrait of the Artist as a Young Man</td><td>James Joyce</td><td>3.32</td><td>28</td></tr><tr><td>/works/OL455305W</td><td>The Scarlet Letter</td><td>Nathaniel Hawthorne</td><td>3.33</td><td>58</td></tr><tr><td>/works/OL16477332W</td><td>Seduction</td><td>Charlotte Lamb</td><td>3.33</td><td>18</td></tr><tr><td>/works/OL17343072W</td><td>Armada</td><td>Ernest Cline</td><td>3.35</td><td>23</td></tr><tr><td>/works/OL3759349W</td><td>Past Passion</td><td>Penny Jordan</td><td>3.35</td><td>20</td></tr><tr><td>/works/OL5839951W</td><td>Tall And Short</td><td>Diane Nieker</td><td>3.35</td><td>17</td></tr><tr><td>/works/OL52556W</td><td>Die Leiden des jungen Werthers</td><td>Johann Wolfgang von Goethe</td><td>3.35</td><td>17</td></tr><tr><td>/works/OL17567644W</td><td>The Wimpy Kid Do-It-Yourself Book, Vol. 2</td><td>Jeff Kinney</td><td>3.35</td><td>17</td></tr><tr><td>/works/OL5720025W</td><td>Eclipse</td><td>Stephenie Meyer</td><td>3.37</td><td>59</td></tr><tr><td>/works/OL8368448W</td><td>The State of the Art</td><td>Iain M. Banks</td><td>3.38</td><td>21</td></tr><tr><td>/works/OL149171W</td><td>The Colorado Kid</td><td>Stephen King</td><td>3.38</td><td>16</td></tr><tr><td>/works/OL84882W</td><td>Sacred Stone (The Oregon Files #2)</td><td>Clive Cussler</td><td>3.38</td><td>16</td></tr><tr><td>/works/OL263272W</td><td>The Good Guy</td><td>Dean Koontz</td><td>3.38</td><td>16</td></tr><tr><td>/works/OL149210W</td><td>Thinner</td><td>Stephen King</td><td>3.39</td><td>18</td></tr><tr><td>/works/OL43861W</td><td>Oedipus Rex</td><td>Sophocles</td><td>3.39</td><td>18</td></tr><tr><td>/works/OL4092686W</td><td>These Old Shades</td><td>Georgette Heyer</td><td>3.39</td><td>18</td></tr><tr><td>/works/OL267933W</td><td>Gone With the Wind</td><td>Margaret Mitchell</td><td>3.4</td><td>35</td></tr><tr><td>/works/OL86320W</td><td>Dubliners</td><td>James Joyce</td><td>3.4</td><td>20</td></tr><tr><td>/works/OL17453058W</td><td>Authority</td><td>Jeff VanderMeer</td><td>3.4</td><td>20</td></tr><tr><td>/works/OL5730139W</td><td>Broken Angels</td><td>Richard K. Morgan</td><td>3.41</td><td>17</td></tr><tr><td>/works/OL19351054W</td><td>The Poppy War</td><td>R. F. Kuang</td><td>3.41</td><td>17</td></tr></tbody></table></div>"
      ]
     },
     "metadata": {
      "application/vnd.databricks.v1+output": {
       "addedWidgets": {},
       "aggData": [],
       "aggError": "",
       "aggOverflow": false,
       "aggSchema": [],
       "aggSeriesLimitReached": false,
       "aggType": "",
       "arguments": {},
       "columnCustomDisplayInfos": {},
       "data": [
        [
         "/works/OL9265172W",
         "Sleeping with a Stranger",
         "Anne Mather",
         2.69,
         16
        ],
        [
         "/works/OL3845170W",
         "Farewell to Love",
         "Jessica Steele",
         2.88,
         16
        ],
        [
         "/works/OL20907281W",
         "Ready Player Two",
         "Ernest Cline",
         3.0,
         17
        ],
        [
         "/works/OL45793W",
         "Charlie and the Great Glass Elevator",
         "Roald Dahl",
         3.1,
         29
        ],
        [
         "/works/OL4342659W",
         "In Name Only",
         "Roberta Leigh",
         3.12,
         17
        ],
        [
         "/works/OL17358374W",
         "Yes Please",
         "Amy Poehler",
         3.13,
         16
        ],
        [
         "/works/OL11327982W",
         "Blackmail",
         "Penny Jordan",
         3.13,
         16
        ],
        [
         "/works/OL2001062W",
         "The Namesake",
         "Jhumpa Lahiri",
         3.13,
         16
        ],
        [
         "/works/OL46913W",
         "Congo",
         "Michael Crichton",
         3.14,
         22
        ],
        [
         "/works/OL547172W",
         "Uglies (Uglies #1)",
         "Scott Westerfeld",
         3.14,
         22
        ],
        [
         "/works/OL16808654W",
         "The Circle",
         "Dave Eggers",
         3.16,
         19
        ],
        [
         "/works/OL5962664W",
         "The lovely bones",
         "Alice Sebold",
         3.17,
         42
        ],
        [
         "/works/OL15738951W",
         "Pakistan Studies",
         "Gul Shahzad Sarwar",
         3.17,
         18
        ],
        [
         "/works/OL17078944W",
         "Half Girlfriend",
         "Chetan Bhagat",
         3.17,
         18
        ],
        [
         "/works/OL5762086W",
         "The 3 Mistakes of My Life",
         "Chetan Bhagat",
         3.21,
         19
        ],
        [
         "/works/OL731737W",
         "Anthem",
         "Ayn Rand",
         3.23,
         31
        ],
        [
         "/works/OL5762090W",
         "Five Point Someone",
         "Chetan Bhagat",
         3.23,
         22
        ],
        [
         "/works/OL263458W",
         "Men are From Mars, Women are From Venus",
         "John Gray",
         3.25,
         16
        ],
        [
         "/works/OL731735W",
         "Atlas Shrugged",
         "Ayn Rand",
         3.27,
         74
        ],
        [
         "/works/OL76835W",
         "Deception Point",
         "Dan Brown",
         3.27,
         63
        ],
        [
         "/works/OL19345245W",
         "Eragon",
         null,
         3.28,
         50
        ],
        [
         "/works/OL7966242W",
         "The Pearl",
         "John Steinbeck",
         3.29,
         24
        ],
        [
         "/works/OL497483W",
         "The War of Art",
         "Steven Pressfield",
         3.29,
         21
        ],
        [
         "/works/OL483385W",
         "Stuart Little",
         "E. B. White",
         3.29,
         17
        ],
        [
         "/works/OL276437W",
         "The Turn of the Screw",
         "Henry James Jr.",
         3.29,
         17
        ],
        [
         "/works/OL629052W",
         "Manifest der Kommunistischen Partei",
         "Karl Marx",
         3.3,
         44
        ],
        [
         "/works/OL30294W",
         "A Streetcar Named Desire",
         "Tennessee Williams",
         3.3,
         20
        ],
        [
         "/works/OL11327987W",
         "Falcon's Prey",
         "Penny Jordan",
         3.31,
         16
        ],
        [
         "/works/OL46399W",
         "The Stars, Like Dust",
         "Isaac Asimov",
         3.31,
         16
        ],
        [
         "/works/OL86343W",
         "A Portrait of the Artist as a Young Man",
         "James Joyce",
         3.32,
         28
        ],
        [
         "/works/OL455305W",
         "The Scarlet Letter",
         "Nathaniel Hawthorne",
         3.33,
         58
        ],
        [
         "/works/OL16477332W",
         "Seduction",
         "Charlotte Lamb",
         3.33,
         18
        ],
        [
         "/works/OL17343072W",
         "Armada",
         "Ernest Cline",
         3.35,
         23
        ],
        [
         "/works/OL3759349W",
         "Past Passion",
         "Penny Jordan",
         3.35,
         20
        ],
        [
         "/works/OL5839951W",
         "Tall And Short",
         "Diane Nieker",
         3.35,
         17
        ],
        [
         "/works/OL52556W",
         "Die Leiden des jungen Werthers",
         "Johann Wolfgang von Goethe",
         3.35,
         17
        ],
        [
         "/works/OL17567644W",
         "The Wimpy Kid Do-It-Yourself Book, Vol. 2",
         "Jeff Kinney",
         3.35,
         17
        ],
        [
         "/works/OL5720025W",
         "Eclipse",
         "Stephenie Meyer",
         3.37,
         59
        ],
        [
         "/works/OL8368448W",
         "The State of the Art",
         "Iain M. Banks",
         3.38,
         21
        ],
        [
         "/works/OL149171W",
         "The Colorado Kid",
         "Stephen King",
         3.38,
         16
        ],
        [
         "/works/OL84882W",
         "Sacred Stone (The Oregon Files #2)",
         "Clive Cussler",
         3.38,
         16
        ],
        [
         "/works/OL263272W",
         "The Good Guy",
         "Dean Koontz",
         3.38,
         16
        ],
        [
         "/works/OL149210W",
         "Thinner",
         "Stephen King",
         3.39,
         18
        ],
        [
         "/works/OL43861W",
         "Oedipus Rex",
         "Sophocles",
         3.39,
         18
        ],
        [
         "/works/OL4092686W",
         "These Old Shades",
         "Georgette Heyer",
         3.39,
         18
        ],
        [
         "/works/OL267933W",
         "Gone With the Wind",
         "Margaret Mitchell",
         3.4,
         35
        ],
        [
         "/works/OL86320W",
         "Dubliners",
         "James Joyce",
         3.4,
         20
        ],
        [
         "/works/OL17453058W",
         "Authority",
         "Jeff VanderMeer",
         3.4,
         20
        ],
        [
         "/works/OL5730139W",
         "Broken Angels",
         "Richard K. Morgan",
         3.41,
         17
        ],
        [
         "/works/OL19351054W",
         "The Poppy War",
         "R. F. Kuang",
         3.41,
         17
        ]
       ],
       "datasetInfos": [],
       "dbfsResultPath": null,
       "isJsonSchema": true,
       "metadata": {},
       "overflow": false,
       "plotOptions": {
        "customPlotOptions": {},
        "displayType": "table",
        "pivotAggregation": null,
        "pivotColumns": null,
        "xColumns": null,
        "yColumns": null
       },
       "removedWidgets": [],
       "schema": [
        {
         "metadata": "{}",
         "name": "works_reference",
         "type": "\"string\""
        },
        {
         "metadata": "{}",
         "name": "title",
         "type": "\"string\""
        },
        {
         "metadata": "{}",
         "name": "author_name",
         "type": "\"string\""
        },
        {
         "metadata": "{}",
         "name": "rating_average",
         "type": "\"double\""
        },
        {
         "metadata": "{}",
         "name": "rating_count",
         "type": "\"long\""
        }
       ],
       "type": "table"
      }
     },
     "output_type": "display_data"
    }
   ],
   "source": [
    "%sql\n",
    "-- Bottom rated books with more than 15 reviews\n",
    "SELECT works_reference, \n",
    "       title, \n",
    "       author_name, \n",
    "       round(try_divide(SUM(rating_avg * rating_count), SUM(rating_count)),2) AS rating_average,\n",
    "       SUM(rating_count) AS rating_count\n",
    "FROM gold_openlibrary.works_with_reviews_summary\n",
    "WHERE title IS NOT NULL\n",
    "GROUP BY 1,2,3\n",
    "HAVING rating_count > 15\n",
    "ORDER BY 4 ASC, 5 DESC \n",
    "LIMIT 50"
   ]
  },
  {
   "cell_type": "code",
   "execution_count": 0,
   "metadata": {
    "application/vnd.databricks.v1+cell": {
     "cellMetadata": {
      "byteLimit": 2048000,
      "implicitDf": true,
      "rowLimit": 10000
     },
     "inputWidgets": {},
     "nuid": "d9bf6ffe-6c4b-4648-a58f-2072afef0179",
     "showTitle": false,
     "title": ""
    }
   },
   "outputs": [
    {
     "output_type": "display_data",
     "data": {
      "text/html": [
       "<style scoped>\n",
       "  .table-result-container {\n",
       "    max-height: 300px;\n",
       "    overflow: auto;\n",
       "  }\n",
       "  table, th, td {\n",
       "    border: 1px solid black;\n",
       "    border-collapse: collapse;\n",
       "  }\n",
       "  th, td {\n",
       "    padding: 5px;\n",
       "  }\n",
       "  th {\n",
       "    text-align: left;\n",
       "  }\n",
       "</style><div class='table-result-container'><table class='table-result'><thead style='background-color: white'><tr><th>works_reference</th><th>title</th><th>author_name</th><th>rating_average</th><th>rating_count</th></tr></thead><tbody><tr><td>/works/OL82563W</td><td>Harry Potter and the Philosopher's Stone</td><td>J. K. Rowling</td><td>4.27</td><td>419</td></tr><tr><td>/works/OL17590212W</td><td>The Subtle Art of Not Giving a F*ck</td><td>Mark Manson</td><td>3.9</td><td>344</td></tr><tr><td>/works/OL18020194W</td><td>It Ends With Us</td><td>Colleen Hoover</td><td>4.11</td><td>318</td></tr><tr><td>/works/OL81613W</td><td>It</td><td>Stephen King</td><td>4.14</td><td>292</td></tr><tr><td>/works/OL1168007W</td><td>Animal Farm</td><td>George Orwell</td><td>4.07</td><td>288</td></tr><tr><td>/works/OL262758W</td><td>The Hobbit</td><td>J.R.R. Tolkien</td><td>4.25</td><td>276</td></tr><tr><td>/works/OL82536W</td><td>Harry Potter and the Prisoner of Azkaban</td><td>J. K. Rowling</td><td>4.3</td><td>272</td></tr><tr><td>/works/OL17930368W</td><td>Atomic Habits</td><td>James Clear</td><td>4.05</td><td>256</td></tr><tr><td>/works/OL5735363W</td><td>The Hunger Games</td><td>Suzanne Collins</td><td>4.04</td><td>246</td></tr><tr><td>/works/OL82537W</td><td>Harry Potter and the Chamber of Secrets</td><td>J. K. Rowling</td><td>4.2</td><td>229</td></tr><tr><td>/works/OL103123W</td><td>Fahrenheit 451</td><td>Ray Bradbury</td><td>3.97</td><td>229</td></tr><tr><td>/works/OL64468W</td><td>Brave New World</td><td>Aldous Huxley</td><td>3.82</td><td>222</td></tr><tr><td>/works/OL1968368W</td><td>The 48 Laws of Power</td><td>Robert Greene</td><td>4.19</td><td>220</td></tr><tr><td>/works/OL5720023W</td><td>Twilight</td><td>Stephenie Meyer</td><td>3.76</td><td>212</td></tr><tr><td>/works/OL49617W</td><td>Ender's Game</td><td>Orson Scott Card</td><td>4.23</td><td>206</td></tr><tr><td>/works/OL257943W</td><td>A Game of Thrones</td><td>George R. R. Martin</td><td>4.29</td><td>205</td></tr><tr><td>/works/OL2430140W</td><td>Lord of the Flies</td><td>William Golding</td><td>3.65</td><td>203</td></tr><tr><td>/works/OL3335245W</td><td>The catcher in the rye</td><td>J. D. Salinger</td><td>3.6</td><td>200</td></tr><tr><td>/works/OL2010879W</td><td>Rich Dad, Poor Dad</td><td>Robert T. Kiyosaki</td><td>4.04</td><td>199</td></tr><tr><td>/works/OL893415W</td><td>Dune</td><td>Frank Herbert</td><td>4.17</td><td>196</td></tr><tr><td>/works/OL14933414W</td><td>The Fellowship of the Ring</td><td>J.R.R. Tolkien</td><td>4.29</td><td>195</td></tr><tr><td>/works/OL45846W</td><td>Matilda</td><td>Roald Dahl</td><td>4.39</td><td>184</td></tr><tr><td>/works/OL8483260W</td><td>Diary of a Wimpy Kid</td><td>Jeff Kinney</td><td>4.25</td><td>179</td></tr><tr><td>/works/OL82586W</td><td>Harry Potter and the Deathly Hallows</td><td>J. K. Rowling</td><td>4.47</td><td>168</td></tr><tr><td>/works/OL527464W</td><td>Think and grow rich</td><td>Napoleon Hill</td><td>4.15</td><td>168</td></tr><tr><td>/works/OL17091839W</td><td>The Martian</td><td>Andy Weir</td><td>4.32</td><td>164</td></tr><tr><td>/works/OL45790W</td><td>Charlie and the Chocolate Factory</td><td>Roald Dahl</td><td>4.01</td><td>164</td></tr><tr><td>/works/OL1168083W</td><td>Nineteen Eighty-Four</td><td>George Orwell</td><td>4.37</td><td>163</td></tr><tr><td>/works/OL15936512W</td><td>Ready Player One</td><td>Ernest Cline</td><td>3.91</td><td>158</td></tr><tr><td>/works/OL82548W</td><td>Harry Potter and the Order of the Phoenix</td><td>J. K. Rowling</td><td>4.37</td><td>155</td></tr><tr><td>/works/OL483391W</td><td>Charlotte's Web</td><td>E. B. White</td><td>3.99</td><td>154</td></tr><tr><td>/works/OL46125W</td><td>Foundation</td><td>Isaac Asimov</td><td>4.02</td><td>148</td></tr><tr><td>/works/OL23204W</td><td>Of Mice and Men</td><td>John Steinbeck</td><td>3.97</td><td>145</td></tr><tr><td>/works/OL98459W</td><td>Slaughterhouse-Five</td><td>Kurt Vonnegut</td><td>4.17</td><td>145</td></tr><tr><td>/works/OL5735360W</td><td>Catching Fire</td><td>Suzanne Collins</td><td>4.11</td><td>141</td></tr><tr><td>/works/OL81633W</td><td>The Shining</td><td>Stephen King</td><td>4.26</td><td>136</td></tr><tr><td>/works/OL2965102W</td><td>The Curious Incident of the Dog in the Night-Time</td><td>Mark Haddon</td><td>3.99</td><td>134</td></tr><tr><td>/works/OL492658W</td><td>The Lightning Thief</td><td>Rick Riordan</td><td>4.46</td><td>131</td></tr><tr><td>/works/OL82577W</td><td>Harry Potter and the Goblet of Fire</td><td>J. K. Rowling</td><td>4.38</td><td>129</td></tr><tr><td>/works/OL16142094W</td><td>Wonder</td><td>R. J. Palacio</td><td>4.42</td><td>128</td></tr><tr><td>/works/OL450063W</td><td>Frankenstein; or, The Modern Prometheus</td><td>Mary Wollstonecraft Shelley</td><td>3.87</td><td>127</td></tr><tr><td>/works/OL76833W</td><td>Angels & Demons</td><td>Dan Brown</td><td>3.6</td><td>126</td></tr><tr><td>/works/OL66554W</td><td>Pride and Prejudice</td><td>Jane Austen</td><td>4.1</td><td>123</td></tr><tr><td>/works/OL1063301W</td><td>How to Win Friends and Influence People</td><td>Dale Carnegie</td><td>4.3</td><td>123</td></tr><tr><td>/works/OL27479W</td><td>The Two Towers</td><td>J.R.R. Tolkien</td><td>4.3</td><td>121</td></tr><tr><td>/works/OL8479867W</td><td>The Name of the Wind</td><td>Patrick Rothfuss</td><td>4.25</td><td>120</td></tr><tr><td>/works/OL17267881W</td><td>三体</td><td>刘慈欣</td><td>3.89</td><td>117</td></tr><tr><td>/works/OL28988W</td><td>Northern Lights</td><td>Philip Pullman</td><td>3.97</td><td>116</td></tr><tr><td>/works/OL63073W</td><td>The Old Man and the Sea</td><td>Ernest Hemingway</td><td>3.89</td><td>115</td></tr><tr><td>/works/OL796465W</td><td>O Alquimista</td><td>Paulo Coelho</td><td>3.62</td><td>113</td></tr></tbody></table></div>"
      ]
     },
     "metadata": {
      "application/vnd.databricks.v1+output": {
       "addedWidgets": {},
       "aggData": [],
       "aggError": "",
       "aggOverflow": false,
       "aggSchema": [],
       "aggSeriesLimitReached": false,
       "aggType": "",
       "arguments": {},
       "columnCustomDisplayInfos": {},
       "data": [
        [
         "/works/OL82563W",
         "Harry Potter and the Philosopher's Stone",
         "J. K. Rowling",
         4.27,
         419
        ],
        [
         "/works/OL17590212W",
         "The Subtle Art of Not Giving a F*ck",
         "Mark Manson",
         3.9,
         344
        ],
        [
         "/works/OL18020194W",
         "It Ends With Us",
         "Colleen Hoover",
         4.11,
         318
        ],
        [
         "/works/OL81613W",
         "It",
         "Stephen King",
         4.14,
         292
        ],
        [
         "/works/OL1168007W",
         "Animal Farm",
         "George Orwell",
         4.07,
         288
        ],
        [
         "/works/OL262758W",
         "The Hobbit",
         "J.R.R. Tolkien",
         4.25,
         276
        ],
        [
         "/works/OL82536W",
         "Harry Potter and the Prisoner of Azkaban",
         "J. K. Rowling",
         4.3,
         272
        ],
        [
         "/works/OL17930368W",
         "Atomic Habits",
         "James Clear",
         4.05,
         256
        ],
        [
         "/works/OL5735363W",
         "The Hunger Games",
         "Suzanne Collins",
         4.04,
         246
        ],
        [
         "/works/OL82537W",
         "Harry Potter and the Chamber of Secrets",
         "J. K. Rowling",
         4.2,
         229
        ],
        [
         "/works/OL103123W",
         "Fahrenheit 451",
         "Ray Bradbury",
         3.97,
         229
        ],
        [
         "/works/OL64468W",
         "Brave New World",
         "Aldous Huxley",
         3.82,
         222
        ],
        [
         "/works/OL1968368W",
         "The 48 Laws of Power",
         "Robert Greene",
         4.19,
         220
        ],
        [
         "/works/OL5720023W",
         "Twilight",
         "Stephenie Meyer",
         3.76,
         212
        ],
        [
         "/works/OL49617W",
         "Ender's Game",
         "Orson Scott Card",
         4.23,
         206
        ],
        [
         "/works/OL257943W",
         "A Game of Thrones",
         "George R. R. Martin",
         4.29,
         205
        ],
        [
         "/works/OL2430140W",
         "Lord of the Flies",
         "William Golding",
         3.65,
         203
        ],
        [
         "/works/OL3335245W",
         "The catcher in the rye",
         "J. D. Salinger",
         3.6,
         200
        ],
        [
         "/works/OL2010879W",
         "Rich Dad, Poor Dad",
         "Robert T. Kiyosaki",
         4.04,
         199
        ],
        [
         "/works/OL893415W",
         "Dune",
         "Frank Herbert",
         4.17,
         196
        ],
        [
         "/works/OL14933414W",
         "The Fellowship of the Ring",
         "J.R.R. Tolkien",
         4.29,
         195
        ],
        [
         "/works/OL45846W",
         "Matilda",
         "Roald Dahl",
         4.39,
         184
        ],
        [
         "/works/OL8483260W",
         "Diary of a Wimpy Kid",
         "Jeff Kinney",
         4.25,
         179
        ],
        [
         "/works/OL82586W",
         "Harry Potter and the Deathly Hallows",
         "J. K. Rowling",
         4.47,
         168
        ],
        [
         "/works/OL527464W",
         "Think and grow rich",
         "Napoleon Hill",
         4.15,
         168
        ],
        [
         "/works/OL17091839W",
         "The Martian",
         "Andy Weir",
         4.32,
         164
        ],
        [
         "/works/OL45790W",
         "Charlie and the Chocolate Factory",
         "Roald Dahl",
         4.01,
         164
        ],
        [
         "/works/OL1168083W",
         "Nineteen Eighty-Four",
         "George Orwell",
         4.37,
         163
        ],
        [
         "/works/OL15936512W",
         "Ready Player One",
         "Ernest Cline",
         3.91,
         158
        ],
        [
         "/works/OL82548W",
         "Harry Potter and the Order of the Phoenix",
         "J. K. Rowling",
         4.37,
         155
        ],
        [
         "/works/OL483391W",
         "Charlotte's Web",
         "E. B. White",
         3.99,
         154
        ],
        [
         "/works/OL46125W",
         "Foundation",
         "Isaac Asimov",
         4.02,
         148
        ],
        [
         "/works/OL23204W",
         "Of Mice and Men",
         "John Steinbeck",
         3.97,
         145
        ],
        [
         "/works/OL98459W",
         "Slaughterhouse-Five",
         "Kurt Vonnegut",
         4.17,
         145
        ],
        [
         "/works/OL5735360W",
         "Catching Fire",
         "Suzanne Collins",
         4.11,
         141
        ],
        [
         "/works/OL81633W",
         "The Shining",
         "Stephen King",
         4.26,
         136
        ],
        [
         "/works/OL2965102W",
         "The Curious Incident of the Dog in the Night-Time",
         "Mark Haddon",
         3.99,
         134
        ],
        [
         "/works/OL492658W",
         "The Lightning Thief",
         "Rick Riordan",
         4.46,
         131
        ],
        [
         "/works/OL82577W",
         "Harry Potter and the Goblet of Fire",
         "J. K. Rowling",
         4.38,
         129
        ],
        [
         "/works/OL16142094W",
         "Wonder",
         "R. J. Palacio",
         4.42,
         128
        ],
        [
         "/works/OL450063W",
         "Frankenstein; or, The Modern Prometheus",
         "Mary Wollstonecraft Shelley",
         3.87,
         127
        ],
        [
         "/works/OL76833W",
         "Angels & Demons",
         "Dan Brown",
         3.6,
         126
        ],
        [
         "/works/OL66554W",
         "Pride and Prejudice",
         "Jane Austen",
         4.1,
         123
        ],
        [
         "/works/OL1063301W",
         "How to Win Friends and Influence People",
         "Dale Carnegie",
         4.3,
         123
        ],
        [
         "/works/OL27479W",
         "The Two Towers",
         "J.R.R. Tolkien",
         4.3,
         121
        ],
        [
         "/works/OL8479867W",
         "The Name of the Wind",
         "Patrick Rothfuss",
         4.25,
         120
        ],
        [
         "/works/OL17267881W",
         "三体",
         "刘慈欣",
         3.89,
         117
        ],
        [
         "/works/OL28988W",
         "Northern Lights",
         "Philip Pullman",
         3.97,
         116
        ],
        [
         "/works/OL63073W",
         "The Old Man and the Sea",
         "Ernest Hemingway",
         3.89,
         115
        ],
        [
         "/works/OL796465W",
         "O Alquimista",
         "Paulo Coelho",
         3.62,
         113
        ]
       ],
       "datasetInfos": [],
       "dbfsResultPath": null,
       "isJsonSchema": true,
       "metadata": {},
       "overflow": false,
       "plotOptions": {
        "customPlotOptions": {},
        "displayType": "table",
        "pivotAggregation": null,
        "pivotColumns": null,
        "xColumns": null,
        "yColumns": null
       },
       "removedWidgets": [],
       "schema": [
        {
         "metadata": "{}",
         "name": "works_reference",
         "type": "\"string\""
        },
        {
         "metadata": "{}",
         "name": "title",
         "type": "\"string\""
        },
        {
         "metadata": "{}",
         "name": "author_name",
         "type": "\"string\""
        },
        {
         "metadata": "{}",
         "name": "rating_average",
         "type": "\"double\""
        },
        {
         "metadata": "{}",
         "name": "rating_count",
         "type": "\"long\""
        }
       ],
       "type": "table"
      }
     },
     "output_type": "display_data"
    }
   ],
   "source": [
    "%sql\n",
    "-- Most rated books (review counts)\n",
    "SELECT works_reference, \n",
    "       title, \n",
    "       author_name, \n",
    "       round(try_divide(SUM(rating_avg * rating_count), SUM(rating_count)),2) AS rating_average,\n",
    "       SUM(rating_count) AS rating_count\n",
    "FROM gold_openlibrary.works_with_reviews_summary\n",
    "WHERE title IS NOT NULL\n",
    "GROUP BY 1,2,3\n",
    "ORDER BY 5 DESC \n",
    "LIMIT 50"
   ]
  },
  {
   "cell_type": "code",
   "execution_count": 0,
   "metadata": {
    "application/vnd.databricks.v1+cell": {
     "cellMetadata": {
      "byteLimit": 2048000,
      "implicitDf": true,
      "rowLimit": 10000
     },
     "inputWidgets": {},
     "nuid": "8fbf3e36-1af3-4996-a8a9-184194411438",
     "showTitle": false,
     "title": ""
    }
   },
   "outputs": [
    {
     "output_type": "display_data",
     "data": {
      "text/html": [
       "<style scoped>\n",
       "  .table-result-container {\n",
       "    max-height: 300px;\n",
       "    overflow: auto;\n",
       "  }\n",
       "  table, th, td {\n",
       "    border: 1px solid black;\n",
       "    border-collapse: collapse;\n",
       "  }\n",
       "  th, td {\n",
       "    padding: 5px;\n",
       "  }\n",
       "  th {\n",
       "    text-align: left;\n",
       "  }\n",
       "</style><div class='table-result-container'><table class='table-result'><thead style='background-color: white'><tr><th>author_name</th><th>number_of_publications</th><th>rating_average</th><th>rating_count</th></tr></thead><tbody><tr><td>Ranjot Singh Chahal</td><td>16</td><td>5.0</td><td>16</td></tr><tr><td>Paul Procter</td><td>10</td><td>5.0</td><td>12</td></tr><tr><td>alexis karpouzos</td><td>13</td><td>5.0</td><td>13</td></tr><tr><td>Jane Roberts</td><td>16</td><td>5.0</td><td>16</td></tr><tr><td>Julie Ann Walker</td><td>13</td><td>5.0</td><td>13</td></tr><tr><td>Aleksandra Ziolkowska-Boehm</td><td>13</td><td>5.0</td><td>13</td></tr><tr><td>Milena Tsvetkova</td><td>11</td><td>5.0</td><td>11</td></tr><tr><td>Thời tiết 24h</td><td>34</td><td>5.0</td><td>34</td></tr><tr><td>Valdivânia Albuquerque do Nascimento</td><td>13</td><td>5.0</td><td>13</td></tr><tr><td>John Eastwood</td><td>10</td><td>5.0</td><td>12</td></tr><tr><td>Margaret Hodges</td><td>17</td><td>5.0</td><td>17</td></tr><tr><td>Virginia Haviland</td><td>16</td><td>5.0</td><td>16</td></tr><tr><td>JEF7REY HILDNER</td><td>12</td><td>5.0</td><td>12</td></tr><tr><td>Justin Ho</td><td>15</td><td>5.0</td><td>15</td></tr><tr><td>Rosie Banks</td><td>17</td><td>5.0</td><td>17</td></tr><tr><td>Cat Ellington</td><td>30</td><td>5.0</td><td>31</td></tr><tr><td>Joan Bauer</td><td>13</td><td>5.0</td><td>13</td></tr><tr><td>Dr. Andrej Poleev</td><td>31</td><td>5.0</td><td>31</td></tr><tr><td>Hashem Ibraheem Felaly</td><td>40</td><td>5.0</td><td>40</td></tr><tr><td>James Gelsey</td><td>11</td><td>5.0</td><td>11</td></tr><tr><td>Edward F. Edinger</td><td>11</td><td>5.0</td><td>11</td></tr><tr><td>Agustín V. Startari</td><td>13</td><td>5.0</td><td>13</td></tr><tr><td>Scott C. Holstad</td><td>14</td><td>5.0</td><td>14</td></tr><tr><td>Elspeth Campbell Murphy</td><td>30</td><td>5.0</td><td>30</td></tr><tr><td>Ted Leonard</td><td>18</td><td>5.0</td><td>18</td></tr><tr><td>Euclid</td><td>12</td><td>5.0</td><td>12</td></tr><tr><td>Donald F. Featherstone</td><td>16</td><td>5.0</td><td>16</td></tr><tr><td>Troy Cummings</td><td>12</td><td>5.0</td><td>12</td></tr><tr><td>Jean-Pierre van Rossem</td><td>27</td><td>5.0</td><td>27</td></tr><tr><td>Blanka Lipinska</td><td>7</td><td>5.0</td><td>12</td></tr><tr><td>John Kellerman</td><td>12</td><td>5.0</td><td>12</td></tr><tr><td>Suzanne Rand</td><td>16</td><td>5.0</td><td>16</td></tr><tr><td>Saki Hasemi</td><td>23</td><td>5.0</td><td>23</td></tr><tr><td>Yayoi Ogawa</td><td>14</td><td>5.0</td><td>14</td></tr><tr><td>Berkeley Breathed</td><td>13</td><td>5.0</td><td>13</td></tr><tr><td>Paula Graves</td><td>15</td><td>5.0</td><td>15</td></tr><tr><td>Paul Galdone</td><td>77</td><td>4.99</td><td>77</td></tr><tr><td>Rita B. Herron</td><td>23</td><td>4.96</td><td>23</td></tr><tr><td>Hiroya Oku</td><td>21</td><td>4.95</td><td>21</td></tr><tr><td>Carla Cassidy</td><td>22</td><td>4.95</td><td>22</td></tr><tr><td>Jody Sullivan Rake</td><td>16</td><td>4.94</td><td>16</td></tr><tr><td>Jan McDaniel</td><td>18</td><td>4.94</td><td>18</td></tr><tr><td>Jean Webster</td><td>14</td><td>4.93</td><td>14</td></tr><tr><td>Fuyumi Soryo</td><td>15</td><td>4.93</td><td>15</td></tr><tr><td>Mallory Kane</td><td>41</td><td>4.93</td><td>41</td></tr><tr><td>BRENDA JACKSON</td><td>14</td><td>4.93</td><td>14</td></tr><tr><td>Nic Stone</td><td>12</td><td>4.92</td><td>13</td></tr><tr><td>Zoe Sugg</td><td>11</td><td>4.92</td><td>12</td></tr><tr><td>Herman Parish</td><td>12</td><td>4.92</td><td>12</td></tr><tr><td>Wahida Clark</td><td>12</td><td>4.92</td><td>12</td></tr><tr><td>Minecraft Minecraft</td><td>10</td><td>4.92</td><td>13</td></tr><tr><td>David Robert C. Aquino</td><td>12</td><td>4.92</td><td>12</td></tr><tr><td>Paul Twitchell</td><td>13</td><td>4.92</td><td>13</td></tr><tr><td>Debashis Basu</td><td>6</td><td>4.92</td><td>12</td></tr><tr><td>Petala Parreira</td><td>22</td><td>4.91</td><td>22</td></tr><tr><td>Kerry Connor</td><td>22</td><td>4.91</td><td>22</td></tr><tr><td>Robert D. San Souci</td><td>49</td><td>4.9</td><td>49</td></tr><tr><td>Barbara Pym</td><td>30</td><td>4.9</td><td>30</td></tr><tr><td>James Mayhew</td><td>18</td><td>4.89</td><td>19</td></tr><tr><td>Kate O'Hearn</td><td>16</td><td>4.88</td><td>16</td></tr><tr><td>Morgan Housel</td><td>11</td><td>4.88</td><td>16</td></tr><tr><td>Yoshihiro Togashi</td><td>45</td><td>4.87</td><td>45</td></tr><tr><td>Angela Johnson</td><td>15</td><td>4.87</td><td>15</td></tr><tr><td>David Icke</td><td>15</td><td>4.87</td><td>15</td></tr><tr><td>Joe R. Lansdale</td><td>14</td><td>4.86</td><td>14</td></tr><tr><td>Margarita Madrigal</td><td>14</td><td>4.86</td><td>14</td></tr><tr><td>Ann Voss Peterson</td><td>27</td><td>4.86</td><td>28</td></tr><tr><td>Z Brewer</td><td>13</td><td>4.85</td><td>13</td></tr><tr><td>Yoshitoki Oima</td><td>13</td><td>4.85</td><td>13</td></tr><tr><td>Janet Quin-Harkin</td><td>37</td><td>4.84</td><td>37</td></tr><tr><td>Megan Whalen Turner</td><td>18</td><td>4.84</td><td>25</td></tr><tr><td>Verna Aardema</td><td>12</td><td>4.83</td><td>12</td></tr><tr><td>Joseph Jacobs</td><td>12</td><td>4.83</td><td>12</td></tr><tr><td>Nathaniel Branden</td><td>12</td><td>4.83</td><td>12</td></tr><tr><td>Jean Little</td><td>36</td><td>4.83</td><td>36</td></tr><tr><td>Laurence Yep</td><td>23</td><td>4.83</td><td>23</td></tr><tr><td>F. C. Yee</td><td>12</td><td>4.83</td><td>12</td></tr><tr><td>Ashley</td><td>12</td><td>4.83</td><td>12</td></tr><tr><td>Carl Barks</td><td>11</td><td>4.82</td><td>11</td></tr><tr><td>Takehiko Inoue</td><td>72</td><td>4.82</td><td>72</td></tr><tr><td>Trisha Alexander</td><td>11</td><td>4.82</td><td>11</td></tr><tr><td>C. L. Wilson</td><td>11</td><td>4.82</td><td>11</td></tr><tr><td>Lynn Hall</td><td>11</td><td>4.82</td><td>11</td></tr><tr><td>Paige Shelton</td><td>11</td><td>4.82</td><td>11</td></tr><tr><td>Paul Goodman</td><td>17</td><td>4.82</td><td>17</td></tr><tr><td>B. R. Ambedkar</td><td>11</td><td>4.82</td><td>11</td></tr><tr><td>Donna Andrews</td><td>27</td><td>4.81</td><td>27</td></tr><tr><td>Debra Webb</td><td>53</td><td>4.81</td><td>53</td></tr><tr><td>Dana Marton</td><td>35</td><td>4.8</td><td>35</td></tr><tr><td>Oxford</td><td>15</td><td>4.8</td><td>15</td></tr><tr><td>Shannon Messenger</td><td>85</td><td>4.79</td><td>112</td></tr><tr><td>Akira Toriyama</td><td>87</td><td>4.79</td><td>89</td></tr><tr><td>Kohei Horikoshi</td><td>31</td><td>4.78</td><td>36</td></tr><tr><td>Matt Christopher</td><td>23</td><td>4.78</td><td>23</td></tr><tr><td>Shana Galen</td><td>36</td><td>4.78</td><td>36</td></tr><tr><td>Ruth Sanderson</td><td>25</td><td>4.77</td><td>26</td></tr><tr><td>三浦建太郎</td><td>54</td><td>4.77</td><td>56</td></tr><tr><td>Lois Gladys Leppard</td><td>13</td><td>4.77</td><td>13</td></tr><tr><td>Ludwig Wittgenstein</td><td>12</td><td>4.77</td><td>13</td></tr><tr><td>Paul A. Tipler</td><td>13</td><td>4.77</td><td>13</td></tr></tbody></table></div>"
      ]
     },
     "metadata": {
      "application/vnd.databricks.v1+output": {
       "addedWidgets": {},
       "aggData": [],
       "aggError": "",
       "aggOverflow": false,
       "aggSchema": [],
       "aggSeriesLimitReached": false,
       "aggType": "",
       "arguments": {},
       "columnCustomDisplayInfos": {},
       "data": [
        [
         "Ranjot Singh Chahal",
         16,
         5.0,
         16
        ],
        [
         "Paul Procter",
         10,
         5.0,
         12
        ],
        [
         "alexis karpouzos",
         13,
         5.0,
         13
        ],
        [
         "Jane Roberts",
         16,
         5.0,
         16
        ],
        [
         "Julie Ann Walker",
         13,
         5.0,
         13
        ],
        [
         "Aleksandra Ziolkowska-Boehm",
         13,
         5.0,
         13
        ],
        [
         "Milena Tsvetkova",
         11,
         5.0,
         11
        ],
        [
         "Thời tiết 24h",
         34,
         5.0,
         34
        ],
        [
         "Valdivânia Albuquerque do Nascimento",
         13,
         5.0,
         13
        ],
        [
         "John Eastwood",
         10,
         5.0,
         12
        ],
        [
         "Margaret Hodges",
         17,
         5.0,
         17
        ],
        [
         "Virginia Haviland",
         16,
         5.0,
         16
        ],
        [
         "JEF7REY HILDNER",
         12,
         5.0,
         12
        ],
        [
         "Justin Ho",
         15,
         5.0,
         15
        ],
        [
         "Rosie Banks",
         17,
         5.0,
         17
        ],
        [
         "Cat Ellington",
         30,
         5.0,
         31
        ],
        [
         "Joan Bauer",
         13,
         5.0,
         13
        ],
        [
         "Dr. Andrej Poleev",
         31,
         5.0,
         31
        ],
        [
         "Hashem Ibraheem Felaly",
         40,
         5.0,
         40
        ],
        [
         "James Gelsey",
         11,
         5.0,
         11
        ],
        [
         "Edward F. Edinger",
         11,
         5.0,
         11
        ],
        [
         "Agustín V. Startari",
         13,
         5.0,
         13
        ],
        [
         "Scott C. Holstad",
         14,
         5.0,
         14
        ],
        [
         "Elspeth Campbell Murphy",
         30,
         5.0,
         30
        ],
        [
         "Ted Leonard",
         18,
         5.0,
         18
        ],
        [
         "Euclid",
         12,
         5.0,
         12
        ],
        [
         "Donald F. Featherstone",
         16,
         5.0,
         16
        ],
        [
         "Troy Cummings",
         12,
         5.0,
         12
        ],
        [
         "Jean-Pierre van Rossem",
         27,
         5.0,
         27
        ],
        [
         "Blanka Lipinska",
         7,
         5.0,
         12
        ],
        [
         "John Kellerman",
         12,
         5.0,
         12
        ],
        [
         "Suzanne Rand",
         16,
         5.0,
         16
        ],
        [
         "Saki Hasemi",
         23,
         5.0,
         23
        ],
        [
         "Yayoi Ogawa",
         14,
         5.0,
         14
        ],
        [
         "Berkeley Breathed",
         13,
         5.0,
         13
        ],
        [
         "Paula Graves",
         15,
         5.0,
         15
        ],
        [
         "Paul Galdone",
         77,
         4.99,
         77
        ],
        [
         "Rita B. Herron",
         23,
         4.96,
         23
        ],
        [
         "Hiroya Oku",
         21,
         4.95,
         21
        ],
        [
         "Carla Cassidy",
         22,
         4.95,
         22
        ],
        [
         "Jody Sullivan Rake",
         16,
         4.94,
         16
        ],
        [
         "Jan McDaniel",
         18,
         4.94,
         18
        ],
        [
         "Jean Webster",
         14,
         4.93,
         14
        ],
        [
         "Fuyumi Soryo",
         15,
         4.93,
         15
        ],
        [
         "Mallory Kane",
         41,
         4.93,
         41
        ],
        [
         "BRENDA JACKSON",
         14,
         4.93,
         14
        ],
        [
         "Nic Stone",
         12,
         4.92,
         13
        ],
        [
         "Zoe Sugg",
         11,
         4.92,
         12
        ],
        [
         "Herman Parish",
         12,
         4.92,
         12
        ],
        [
         "Wahida Clark",
         12,
         4.92,
         12
        ],
        [
         "Minecraft Minecraft",
         10,
         4.92,
         13
        ],
        [
         "David Robert C. Aquino",
         12,
         4.92,
         12
        ],
        [
         "Paul Twitchell",
         13,
         4.92,
         13
        ],
        [
         "Debashis Basu",
         6,
         4.92,
         12
        ],
        [
         "Petala Parreira",
         22,
         4.91,
         22
        ],
        [
         "Kerry Connor",
         22,
         4.91,
         22
        ],
        [
         "Robert D. San Souci",
         49,
         4.9,
         49
        ],
        [
         "Barbara Pym",
         30,
         4.9,
         30
        ],
        [
         "James Mayhew",
         18,
         4.89,
         19
        ],
        [
         "Kate O'Hearn",
         16,
         4.88,
         16
        ],
        [
         "Morgan Housel",
         11,
         4.88,
         16
        ],
        [
         "Yoshihiro Togashi",
         45,
         4.87,
         45
        ],
        [
         "Angela Johnson",
         15,
         4.87,
         15
        ],
        [
         "David Icke",
         15,
         4.87,
         15
        ],
        [
         "Joe R. Lansdale",
         14,
         4.86,
         14
        ],
        [
         "Margarita Madrigal",
         14,
         4.86,
         14
        ],
        [
         "Ann Voss Peterson",
         27,
         4.86,
         28
        ],
        [
         "Z Brewer",
         13,
         4.85,
         13
        ],
        [
         "Yoshitoki Oima",
         13,
         4.85,
         13
        ],
        [
         "Janet Quin-Harkin",
         37,
         4.84,
         37
        ],
        [
         "Megan Whalen Turner",
         18,
         4.84,
         25
        ],
        [
         "Verna Aardema",
         12,
         4.83,
         12
        ],
        [
         "Joseph Jacobs",
         12,
         4.83,
         12
        ],
        [
         "Nathaniel Branden",
         12,
         4.83,
         12
        ],
        [
         "Jean Little",
         36,
         4.83,
         36
        ],
        [
         "Laurence Yep",
         23,
         4.83,
         23
        ],
        [
         "F. C. Yee",
         12,
         4.83,
         12
        ],
        [
         "Ashley",
         12,
         4.83,
         12
        ],
        [
         "Carl Barks",
         11,
         4.82,
         11
        ],
        [
         "Takehiko Inoue",
         72,
         4.82,
         72
        ],
        [
         "Trisha Alexander",
         11,
         4.82,
         11
        ],
        [
         "C. L. Wilson",
         11,
         4.82,
         11
        ],
        [
         "Lynn Hall",
         11,
         4.82,
         11
        ],
        [
         "Paige Shelton",
         11,
         4.82,
         11
        ],
        [
         "Paul Goodman",
         17,
         4.82,
         17
        ],
        [
         "B. R. Ambedkar",
         11,
         4.82,
         11
        ],
        [
         "Donna Andrews",
         27,
         4.81,
         27
        ],
        [
         "Debra Webb",
         53,
         4.81,
         53
        ],
        [
         "Dana Marton",
         35,
         4.8,
         35
        ],
        [
         "Oxford",
         15,
         4.8,
         15
        ],
        [
         "Shannon Messenger",
         85,
         4.79,
         112
        ],
        [
         "Akira Toriyama",
         87,
         4.79,
         89
        ],
        [
         "Kohei Horikoshi",
         31,
         4.78,
         36
        ],
        [
         "Matt Christopher",
         23,
         4.78,
         23
        ],
        [
         "Shana Galen",
         36,
         4.78,
         36
        ],
        [
         "Ruth Sanderson",
         25,
         4.77,
         26
        ],
        [
         "三浦建太郎",
         54,
         4.77,
         56
        ],
        [
         "Lois Gladys Leppard",
         13,
         4.77,
         13
        ],
        [
         "Ludwig Wittgenstein",
         12,
         4.77,
         13
        ],
        [
         "Paul A. Tipler",
         13,
         4.77,
         13
        ]
       ],
       "datasetInfos": [],
       "dbfsResultPath": null,
       "isJsonSchema": true,
       "metadata": {},
       "overflow": false,
       "plotOptions": {
        "customPlotOptions": {},
        "displayType": "table",
        "pivotAggregation": null,
        "pivotColumns": null,
        "xColumns": null,
        "yColumns": null
       },
       "removedWidgets": [],
       "schema": [
        {
         "metadata": "{}",
         "name": "author_name",
         "type": "\"string\""
        },
        {
         "metadata": "{}",
         "name": "number_of_publications",
         "type": "\"long\""
        },
        {
         "metadata": "{}",
         "name": "rating_average",
         "type": "\"double\""
        },
        {
         "metadata": "{}",
         "name": "rating_count",
         "type": "\"long\""
        }
       ],
       "type": "table"
      }
     },
     "output_type": "display_data"
    }
   ],
   "source": [
    "%sql\n",
    "-- Top 100 rated authors with over 10 votes\n",
    "SELECT author_name, \n",
    "       COUNT(title) AS number_of_publications,\n",
    "       round(try_divide(SUM(rating_avg * rating_count), SUM(rating_count)),2) AS rating_average,\n",
    "       SUM(rating_count) AS rating_count\n",
    "FROM gold_openlibrary.works_with_reviews_summary\n",
    "WHERE title IS NOT NULL\n",
    "GROUP BY 1\n",
    "HAVING rating_count > 10\n",
    "ORDER BY 3 DESC \n",
    "LIMIT 100\n",
    "\n",
    "-- we can observe that most of these authors just have a few ratings, so we can increase the number of votes to be considered"
   ]
  },
  {
   "cell_type": "code",
   "execution_count": 0,
   "metadata": {
    "application/vnd.databricks.v1+cell": {
     "cellMetadata": {
      "byteLimit": 2048000,
      "implicitDf": true,
      "rowLimit": 10000
     },
     "inputWidgets": {},
     "nuid": "f22116af-3674-4881-a3af-3cc5eca5376b",
     "showTitle": false,
     "title": ""
    }
   },
   "outputs": [
    {
     "output_type": "display_data",
     "data": {
      "text/html": [
       "<style scoped>\n",
       "  .table-result-container {\n",
       "    max-height: 300px;\n",
       "    overflow: auto;\n",
       "  }\n",
       "  table, th, td {\n",
       "    border: 1px solid black;\n",
       "    border-collapse: collapse;\n",
       "  }\n",
       "  th, td {\n",
       "    padding: 5px;\n",
       "  }\n",
       "  th {\n",
       "    text-align: left;\n",
       "  }\n",
       "</style><div class='table-result-container'><table class='table-result'><thead style='background-color: white'><tr><th>author_name</th><th>rating_average</th><th>rating_count</th></tr></thead><tbody><tr><td>Jean-Pierre van Rossem</td><td>5.0</td><td>27</td></tr><tr><td>Dr. Andrej Poleev</td><td>5.0</td><td>31</td></tr><tr><td>Hashem Ibraheem Felaly</td><td>5.0</td><td>40</td></tr><tr><td>Elspeth Campbell Murphy</td><td>5.0</td><td>30</td></tr><tr><td>Thời tiết 24h</td><td>5.0</td><td>34</td></tr><tr><td>Cat Ellington</td><td>5.0</td><td>31</td></tr><tr><td>Paul Galdone</td><td>4.99</td><td>77</td></tr><tr><td>Mallory Kane</td><td>4.93</td><td>41</td></tr><tr><td>Robert D. San Souci</td><td>4.9</td><td>49</td></tr><tr><td>Barbara Pym</td><td>4.9</td><td>30</td></tr><tr><td>Yoshihiro Togashi</td><td>4.87</td><td>45</td></tr><tr><td>Ann Voss Peterson</td><td>4.86</td><td>28</td></tr><tr><td>Janet Quin-Harkin</td><td>4.84</td><td>37</td></tr><tr><td>Jean Little</td><td>4.83</td><td>36</td></tr><tr><td>Takehiko Inoue</td><td>4.82</td><td>72</td></tr><tr><td>Debra Webb</td><td>4.81</td><td>53</td></tr><tr><td>Donna Andrews</td><td>4.81</td><td>27</td></tr><tr><td>Dana Marton</td><td>4.8</td><td>35</td></tr><tr><td>Shannon Messenger</td><td>4.79</td><td>112</td></tr><tr><td>Akira Toriyama</td><td>4.79</td><td>89</td></tr><tr><td>Kohei Horikoshi</td><td>4.78</td><td>36</td></tr><tr><td>Shana Galen</td><td>4.78</td><td>36</td></tr><tr><td>Ruth Sanderson</td><td>4.77</td><td>26</td></tr><tr><td>三浦建太郎</td><td>4.77</td><td>56</td></tr><tr><td>Bella Forrest</td><td>4.75</td><td>28</td></tr><tr><td>Elle James</td><td>4.75</td><td>28</td></tr><tr><td>Tomi Ungerer</td><td>4.75</td><td>28</td></tr><tr><td>John Bellairs</td><td>4.75</td><td>28</td></tr><tr><td>Patricia Coombs</td><td>4.74</td><td>43</td></tr><tr><td>W. Bruce Cameron</td><td>4.73</td><td>26</td></tr><tr><td>Stuart Gibbs</td><td>4.73</td><td>103</td></tr><tr><td>Lisa McMann</td><td>4.72</td><td>43</td></tr><tr><td>Lurlene McDaniel</td><td>4.71</td><td>45</td></tr><tr><td>Naoko Takeuchi</td><td>4.71</td><td>38</td></tr><tr><td>James Herriot</td><td>4.7</td><td>44</td></tr><tr><td>Lisa Jackson</td><td>4.7</td><td>40</td></tr><tr><td>Joan Johnston</td><td>4.7</td><td>168</td></tr><tr><td>Kristin Hannah</td><td>4.69</td><td>39</td></tr><tr><td>Chris Colfer</td><td>4.69</td><td>91</td></tr><tr><td>Gary Larson</td><td>4.69</td><td>26</td></tr><tr><td>Patricia Polacco</td><td>4.68</td><td>41</td></tr><tr><td>Patrick O'Brian</td><td>4.67</td><td>120</td></tr><tr><td>Jim Benton</td><td>4.67</td><td>63</td></tr><tr><td>Cassie Miles</td><td>4.67</td><td>63</td></tr><tr><td>Soman Chainani</td><td>4.66</td><td>64</td></tr><tr><td>Walt Disney</td><td>4.66</td><td>32</td></tr><tr><td>Lynda Barry</td><td>4.65</td><td>26</td></tr><tr><td>Phil Knight</td><td>4.65</td><td>31</td></tr><tr><td>Donna Fletcher</td><td>4.64</td><td>44</td></tr><tr><td>Adam Blade</td><td>4.64</td><td>154</td></tr><tr><td>Kathryn Kenny</td><td>4.64</td><td>44</td></tr><tr><td>Edward Gorey</td><td>4.64</td><td>28</td></tr><tr><td>Terry Spear</td><td>4.63</td><td>30</td></tr><tr><td>Tony Abbott</td><td>4.63</td><td>27</td></tr><tr><td>Trevor Noah</td><td>4.63</td><td>48</td></tr><tr><td>Cube Kid</td><td>4.62</td><td>34</td></tr><tr><td>Judy Duarte</td><td>4.62</td><td>34</td></tr><tr><td>Gerald Malcolm Durrell</td><td>4.61</td><td>36</td></tr><tr><td>Kate McMullan</td><td>4.61</td><td>46</td></tr><tr><td>樋野 まつり</td><td>4.61</td><td>57</td></tr><tr><td>Julie Anne Long</td><td>4.6</td><td>73</td></tr><tr><td>Katherine A. Applegate</td><td>4.6</td><td>115</td></tr><tr><td>Tedd Arnold</td><td>4.59</td><td>105</td></tr><tr><td>Rosemary Sutcliff</td><td>4.59</td><td>27</td></tr><tr><td>Pamela Clare</td><td>4.58</td><td>38</td></tr><tr><td>Marianna Mayer</td><td>4.58</td><td>40</td></tr><tr><td>Darick Robertson</td><td>4.57</td><td>46</td></tr><tr><td>Bill Watterson</td><td>4.57</td><td>143</td></tr><tr><td>Paulette Bourgeois</td><td>4.56</td><td>27</td></tr><tr><td>Mercer Mayer</td><td>4.56</td><td>135</td></tr><tr><td>Sharon M. Draper</td><td>4.55</td><td>56</td></tr><tr><td>Donald J. Sobol</td><td>4.55</td><td>47</td></tr><tr><td>Syd Hoff</td><td>4.55</td><td>33</td></tr><tr><td>Bill Peet</td><td>4.55</td><td>31</td></tr><tr><td>David Joseph Schwartz</td><td>4.54</td><td>26</td></tr><tr><td>Judith McNaught</td><td>4.54</td><td>146</td></tr><tr><td>Tove Jansson</td><td>4.54</td><td>37</td></tr><tr><td>Alice Oseman</td><td>4.54</td><td>108</td></tr><tr><td>Maya Rodale</td><td>4.54</td><td>37</td></tr><tr><td>Sarah MacLean</td><td>4.53</td><td>49</td></tr><tr><td>William Steig</td><td>4.53</td><td>30</td></tr><tr><td>Lara Adrian</td><td>4.53</td><td>36</td></tr><tr><td>Rita Mae Brown</td><td>4.53</td><td>36</td></tr><tr><td>Victoria Jamieson</td><td>4.53</td><td>36</td></tr><tr><td>Marjorie Weinman Sharmat</td><td>4.53</td><td>99</td></tr><tr><td>William Sleator</td><td>4.52</td><td>31</td></tr><tr><td>Pseudonymous Bosch</td><td>4.52</td><td>33</td></tr><tr><td>Scott Cawthon</td><td>4.51</td><td>95</td></tr><tr><td>Elisabetta Dami</td><td>4.51</td><td>1068</td></tr><tr><td>Beverly Barton</td><td>4.51</td><td>89</td></tr><tr><td>Shannon Hale</td><td>4.51</td><td>55</td></tr><tr><td>Masashi Kishimoto</td><td>4.51</td><td>246</td></tr><tr><td>B. J. Daniels</td><td>4.51</td><td>49</td></tr><tr><td>Art Spiegelman</td><td>4.51</td><td>128</td></tr><tr><td>Rebecca York</td><td>4.5</td><td>34</td></tr><tr><td>Rachael Lippincott</td><td>4.5</td><td>26</td></tr><tr><td>Lauren Child</td><td>4.5</td><td>32</td></tr><tr><td>Nick Bruel</td><td>4.5</td><td>26</td></tr><tr><td>Marion Zimmer Bradley</td><td>4.5</td><td>74</td></tr><tr><td>Naoki Urasawa</td><td>4.49</td><td>35</td></tr></tbody></table></div>"
      ]
     },
     "metadata": {
      "application/vnd.databricks.v1+output": {
       "addedWidgets": {},
       "aggData": [],
       "aggError": "",
       "aggOverflow": false,
       "aggSchema": [],
       "aggSeriesLimitReached": false,
       "aggType": "",
       "arguments": {},
       "columnCustomDisplayInfos": {},
       "data": [
        [
         "Jean-Pierre van Rossem",
         5.0,
         27
        ],
        [
         "Dr. Andrej Poleev",
         5.0,
         31
        ],
        [
         "Hashem Ibraheem Felaly",
         5.0,
         40
        ],
        [
         "Elspeth Campbell Murphy",
         5.0,
         30
        ],
        [
         "Thời tiết 24h",
         5.0,
         34
        ],
        [
         "Cat Ellington",
         5.0,
         31
        ],
        [
         "Paul Galdone",
         4.99,
         77
        ],
        [
         "Mallory Kane",
         4.93,
         41
        ],
        [
         "Robert D. San Souci",
         4.9,
         49
        ],
        [
         "Barbara Pym",
         4.9,
         30
        ],
        [
         "Yoshihiro Togashi",
         4.87,
         45
        ],
        [
         "Ann Voss Peterson",
         4.86,
         28
        ],
        [
         "Janet Quin-Harkin",
         4.84,
         37
        ],
        [
         "Jean Little",
         4.83,
         36
        ],
        [
         "Takehiko Inoue",
         4.82,
         72
        ],
        [
         "Debra Webb",
         4.81,
         53
        ],
        [
         "Donna Andrews",
         4.81,
         27
        ],
        [
         "Dana Marton",
         4.8,
         35
        ],
        [
         "Shannon Messenger",
         4.79,
         112
        ],
        [
         "Akira Toriyama",
         4.79,
         89
        ],
        [
         "Kohei Horikoshi",
         4.78,
         36
        ],
        [
         "Shana Galen",
         4.78,
         36
        ],
        [
         "Ruth Sanderson",
         4.77,
         26
        ],
        [
         "三浦建太郎",
         4.77,
         56
        ],
        [
         "Bella Forrest",
         4.75,
         28
        ],
        [
         "Elle James",
         4.75,
         28
        ],
        [
         "Tomi Ungerer",
         4.75,
         28
        ],
        [
         "John Bellairs",
         4.75,
         28
        ],
        [
         "Patricia Coombs",
         4.74,
         43
        ],
        [
         "W. Bruce Cameron",
         4.73,
         26
        ],
        [
         "Stuart Gibbs",
         4.73,
         103
        ],
        [
         "Lisa McMann",
         4.72,
         43
        ],
        [
         "Lurlene McDaniel",
         4.71,
         45
        ],
        [
         "Naoko Takeuchi",
         4.71,
         38
        ],
        [
         "James Herriot",
         4.7,
         44
        ],
        [
         "Lisa Jackson",
         4.7,
         40
        ],
        [
         "Joan Johnston",
         4.7,
         168
        ],
        [
         "Kristin Hannah",
         4.69,
         39
        ],
        [
         "Chris Colfer",
         4.69,
         91
        ],
        [
         "Gary Larson",
         4.69,
         26
        ],
        [
         "Patricia Polacco",
         4.68,
         41
        ],
        [
         "Patrick O'Brian",
         4.67,
         120
        ],
        [
         "Jim Benton",
         4.67,
         63
        ],
        [
         "Cassie Miles",
         4.67,
         63
        ],
        [
         "Soman Chainani",
         4.66,
         64
        ],
        [
         "Walt Disney",
         4.66,
         32
        ],
        [
         "Lynda Barry",
         4.65,
         26
        ],
        [
         "Phil Knight",
         4.65,
         31
        ],
        [
         "Donna Fletcher",
         4.64,
         44
        ],
        [
         "Adam Blade",
         4.64,
         154
        ],
        [
         "Kathryn Kenny",
         4.64,
         44
        ],
        [
         "Edward Gorey",
         4.64,
         28
        ],
        [
         "Terry Spear",
         4.63,
         30
        ],
        [
         "Tony Abbott",
         4.63,
         27
        ],
        [
         "Trevor Noah",
         4.63,
         48
        ],
        [
         "Cube Kid",
         4.62,
         34
        ],
        [
         "Judy Duarte",
         4.62,
         34
        ],
        [
         "Gerald Malcolm Durrell",
         4.61,
         36
        ],
        [
         "Kate McMullan",
         4.61,
         46
        ],
        [
         "樋野 まつり",
         4.61,
         57
        ],
        [
         "Julie Anne Long",
         4.6,
         73
        ],
        [
         "Katherine A. Applegate",
         4.6,
         115
        ],
        [
         "Tedd Arnold",
         4.59,
         105
        ],
        [
         "Rosemary Sutcliff",
         4.59,
         27
        ],
        [
         "Pamela Clare",
         4.58,
         38
        ],
        [
         "Marianna Mayer",
         4.58,
         40
        ],
        [
         "Darick Robertson",
         4.57,
         46
        ],
        [
         "Bill Watterson",
         4.57,
         143
        ],
        [
         "Paulette Bourgeois",
         4.56,
         27
        ],
        [
         "Mercer Mayer",
         4.56,
         135
        ],
        [
         "Sharon M. Draper",
         4.55,
         56
        ],
        [
         "Donald J. Sobol",
         4.55,
         47
        ],
        [
         "Syd Hoff",
         4.55,
         33
        ],
        [
         "Bill Peet",
         4.55,
         31
        ],
        [
         "David Joseph Schwartz",
         4.54,
         26
        ],
        [
         "Judith McNaught",
         4.54,
         146
        ],
        [
         "Tove Jansson",
         4.54,
         37
        ],
        [
         "Alice Oseman",
         4.54,
         108
        ],
        [
         "Maya Rodale",
         4.54,
         37
        ],
        [
         "Sarah MacLean",
         4.53,
         49
        ],
        [
         "William Steig",
         4.53,
         30
        ],
        [
         "Lara Adrian",
         4.53,
         36
        ],
        [
         "Rita Mae Brown",
         4.53,
         36
        ],
        [
         "Victoria Jamieson",
         4.53,
         36
        ],
        [
         "Marjorie Weinman Sharmat",
         4.53,
         99
        ],
        [
         "William Sleator",
         4.52,
         31
        ],
        [
         "Pseudonymous Bosch",
         4.52,
         33
        ],
        [
         "Scott Cawthon",
         4.51,
         95
        ],
        [
         "Elisabetta Dami",
         4.51,
         1068
        ],
        [
         "Beverly Barton",
         4.51,
         89
        ],
        [
         "Shannon Hale",
         4.51,
         55
        ],
        [
         "Masashi Kishimoto",
         4.51,
         246
        ],
        [
         "B. J. Daniels",
         4.51,
         49
        ],
        [
         "Art Spiegelman",
         4.51,
         128
        ],
        [
         "Rebecca York",
         4.5,
         34
        ],
        [
         "Rachael Lippincott",
         4.5,
         26
        ],
        [
         "Lauren Child",
         4.5,
         32
        ],
        [
         "Nick Bruel",
         4.5,
         26
        ],
        [
         "Marion Zimmer Bradley",
         4.5,
         74
        ],
        [
         "Naoki Urasawa",
         4.49,
         35
        ]
       ],
       "datasetInfos": [],
       "dbfsResultPath": null,
       "isJsonSchema": true,
       "metadata": {},
       "overflow": false,
       "plotOptions": {
        "customPlotOptions": {},
        "displayType": "table",
        "pivotAggregation": null,
        "pivotColumns": null,
        "xColumns": null,
        "yColumns": null
       },
       "removedWidgets": [],
       "schema": [
        {
         "metadata": "{}",
         "name": "author_name",
         "type": "\"string\""
        },
        {
         "metadata": "{}",
         "name": "rating_average",
         "type": "\"double\""
        },
        {
         "metadata": "{}",
         "name": "rating_count",
         "type": "\"long\""
        }
       ],
       "type": "table"
      }
     },
     "output_type": "display_data"
    }
   ],
   "source": [
    "%sql\n",
    "-- Top 100 authors with more than 25 votes\n",
    "SELECT author_name, \n",
    "       round(try_divide(SUM(rating_avg * rating_count), SUM(rating_count)),2) AS rating_average,\n",
    "       SUM(rating_count) AS rating_count\n",
    "FROM gold_openlibrary.works_with_reviews_summary\n",
    "WHERE title IS NOT NULL\n",
    "GROUP BY 1\n",
    "HAVING rating_count > 25\n",
    "ORDER BY 2 DESC \n",
    "LIMIT 100"
   ]
  },
  {
   "cell_type": "code",
   "execution_count": 0,
   "metadata": {
    "application/vnd.databricks.v1+cell": {
     "cellMetadata": {
      "byteLimit": 2048000,
      "implicitDf": true,
      "rowLimit": 10000
     },
     "inputWidgets": {},
     "nuid": "e387edf3-6f60-4030-8365-ade6ec1fc18c",
     "showTitle": false,
     "title": ""
    }
   },
   "outputs": [
    {
     "output_type": "display_data",
     "data": {
      "text/html": [
       "<style scoped>\n",
       "  .table-result-container {\n",
       "    max-height: 300px;\n",
       "    overflow: auto;\n",
       "  }\n",
       "  table, th, td {\n",
       "    border: 1px solid black;\n",
       "    border-collapse: collapse;\n",
       "  }\n",
       "  th, td {\n",
       "    padding: 5px;\n",
       "  }\n",
       "  th {\n",
       "    text-align: left;\n",
       "  }\n",
       "</style><div class='table-result-container'><table class='table-result'><thead style='background-color: white'><tr><th>author_name</th><th>title</th><th>subjects</th><th>rating_average</th><th>rating_count</th></tr></thead><tbody><tr><td>Shannon Messenger</td><td>Keeper of the Lost Cities</td><td>List(Ability, Fiction, Fantasy, Psychic ability, Identity, Memory, Foster parents, Elves, Children's fiction, Fairies, fiction, Fantasy fiction, Parapsychology, fiction, Identity, fiction, Juvenile fiction, nyt:series-books=2016-11-20, New York Times bestseller, Identity (Philosophical concept), Action & Adventure, Fantasy & Magic, Social Themes, Friendship, Identity (Psychology), Foster home care, Adventure and adventurers, fiction, Friendship, fiction)</td><td>4.86</td><td>7</td></tr><tr><td>Soman Chainani</td><td>The School for Good and Evil</td><td>List(Magic, Juvenile fiction, Fiction, Fairy Schools, Schools, Identity (Psychology) in children, Friendship, Good and evil, Fantasy, Children's fiction, Friendship, fiction, Good and evil, fiction, Fantasy fiction, Schools, fiction, School stories, Handbooks, manuals, Juvenile literature, Characters, American Fantasy fiction, Characters and characteristics, Children's stories, nyt:childrens-middle-grade=2013-06-02, New York Times bestseller)</td><td>4.83</td><td>6</td></tr><tr><td>Elisabetta Dami</td><td>The Kingdom of Fantasy</td><td>List(Stilton, Geronimo, Fantasy, Juvenile fiction, Geronimo Stilton (Fictitious character), Fairies, Fiction, Children's fiction, Fantasy fiction, Stilton, geronimo (fictitious character), fiction)</td><td>4.75</td><td>12</td></tr><tr><td>Alice Oseman</td><td>Heartstopper, Volume 1</td><td>List(Young adult fiction, comics & graphic novels, lgbt, Young adult fiction, comics & graphic novels, lgbtq+, High schools, Comic books, strips, Boys, Gays, Love in adolescence, Friendship, Mental illness, nyt:graphic-books-and-manga=2022-05-08, New York Times bestseller)</td><td>4.5</td><td>30</td></tr><tr><td>Victoria Jamieson</td><td>Roller Girl</td><td>List(Roller skating, Juvenile fiction, Graphic novels, Fiction, Roller derby, Best friends, Comic books, strips, Friendship, Newbery Honor, Comic books, strips, etc., Friendship, fiction, Roller skating, fiction, Children's fiction, Patinaje sobre ruedas, Libros de caricaturas, tiras comicas, Amistad, Ficcion juvenil, Spanish language materials, Cartoons and comics, Mejores amigos, nyt:paperback-graphic-books=2015-04-12, New York Times bestseller)</td><td>4.5</td><td>6</td></tr><tr><td>Art Spiegelman</td><td>The Complete Maus</td><td>List(Comics & graphic novels, general, Holocaust survivors, Children of holocaust survivors, Holocaust, jewish (1939-1945), Long Now Manual for Civilization, Graphic novels, Fathers and sons, Comic books, strips, Biography, Nazis, Jewish Personal narratives, Holocaust, Cartoons and comics, Survivors, Judenvernichtung, World War, 1939-1945, History, 20th Century, Parent-Child Relations, Jews, Überlebender, Pariser Friedenskonferenz 1919-1920 Paris Polish Delegation gnd, Holocaust, jewish (1939-1945), personal narratives, Comics & graphic novels, nonfiction, general, World war, 1939-1945, personal narratives, jewish, nyt:hardcover-graphic-books=2012-08-19, New York Times bestseller, Graphic novel, Comicbooks, strips, Collections from individual artists, American strip cartoons, nyt:paperback_graphic_books=2011-09-17, open_syllabus_project, Bandes dessinées, Biographies, Holocauste, 1939-1945, Juifs, Poland, Survivants de l'Holocauste, United States, Comics & graphic novels, horror, Comics & graphic novels, literary, Comics & graphic novels, religious, Comics & graphic novels, nonfiction, biography & memoir, collectionID:MausBan, Banned books, Holocaust, Jewish (1939-1945), Comic)</td><td>4.45</td><td>11</td></tr><tr><td>Phil Knight</td><td>Shoe Dog</td><td>List(Businesspeople, juvenile literature, Business, juvenile literature, Business, biography, nyt:sports=2017-11-12, New York Times bestseller, nyt:paperback-nonfiction=2018-05-20, Sporting goods industry, Nike (Firm), Businesspeople, Biography, History, Businesspeople, biography, Business enterprises, history, nyt:business-books=2016-05-08, memoir, nike, Business, Sporting goods, BIOGRAPHY & AUTOBIOGRAPHY, Personal Memoirs, SPORTS & RECREATION, Running & Jogging, Unternehmer, Sportartikelindustrie, Nike Inc, Umschulungswerkstätten für Siedler und Auswanderer)</td><td>4.44</td><td>9</td></tr><tr><td>Trevor Noah</td><td>Born a Crime</td><td>List(apartheid, PERFORMING ARTS, HUMOR, Television personalities, Personal Memoirs, PERFORMING ARTS / Comedy, BIOGRAPHY & AUTOBIOGRAPHY, HUMOR / Form / Essays, Essays, Comedy, HUMOR / Essays, Comedians, Biography, Comedians, biography, South africa, biography, Mothers and sons, South africa, history, South africa, social conditions, nyt:combined-print-and-e-book-nonfiction=2016-12-04, New York Times bestseller, BIOGRAPHY & AUTOBIOGRAPHY / Personal Memoirs, HUMOR / Topic / Cultural, Ethnic & Regional, Apartheid, Racially mixed people, Comiques, Biographies, Métis, Vedettes de télévision, Childhood and youth, History, Social conditions)</td><td>4.33</td><td>9</td></tr><tr><td>Art Spiegelman</td><td>Maus I</td><td>List(New York Times bestseller, nyt:paperback_graphic_books=2011-09-17, graphic novel, history, Nazi, Art Spiegelman, concetration camp, ww2, Holocaust survivors, Children of holocaust survivors, Comics & graphic novels, nonfiction, biography & memoir, Holocaust, jewish (1939-1945), Comics & graphic novels, general, Comic books, strips, Biography, Graphic novels, Holocaust, Jewish (1939-1945) fast (OCoLC)fst00958866, Holocaust survivors, United States, Holocaust, Jewish (1939-1945), Poland, Biography, Children of Holocaust survivors, United States, Biography, New York Times reviewed, Survivants de l'Holocauste, Biographies, Judenvernichtung, Medicine, Fiction, Bandes dessinées, Holocauste, 1939-1945, Enfants de survivants de l'Holocauste, collectionID:MausBan, Banned books, Holocaust, Jewish (1939-1945), Children of Holocaust survivors)</td><td>4.33</td><td>12</td></tr><tr><td>Carol Cox</td><td>Dog Days</td><td>List(Clergy, Dogs, Fiction, Spouses of clergy, Theft, Summer, Humorous stories, Diaries, Vacations, Juvenile fiction, Video games, Mothers and sons, Comics & Graphic Novels, Juvenile Wit and humor, Humorous fiction, Friendship, Children's fiction, Diaries, fiction, Summer, fiction, Children's stories, Holidays, Bullying, New York Times bestseller, nyt:series_books=2009-01-10, Child and youth fiction, Literature, history and criticism, Greg Heffley (Fictitious character), Families, Schools, fiction, Friendship, fiction, Juegos con video, Cuentos humorosos, Ficción juvenil, Vacaciones, Diarios íntimos, Spanish language materials, Verano)</td><td>4.29</td><td>41</td></tr><tr><td>Katherine A. Applegate</td><td>The One and Only Ivan</td><td>List(Animals, Elephants, Fiction, Gorilla, Treatment, Juvenile fiction, Circus animals, Circus, Animal welfare, Social Themes, Zoos, Gorillas, Friendship, Apes, Monkeys, nyt:childrens-middle-grade=2013-02-17, New York Times bestseller, historical fiction, Newbery Medal, Gorilla, fiction, Elephants, fiction, Animals, treatment, fiction, Children's fiction, nyt:childrens-middle-grade-paperback=2015-08-30, Circos, Spanish language materials, Amistad, Ficción juvenil, Elefantes, Bienestar de los animales, Gorilas, Animales del circo, nyt:childrens-middle-grade-e-book=2015-11-22, Friendship, fiction, Zoos, fiction)</td><td>4.0</td><td>6</td></tr><tr><td>Patrick O'Brian</td><td>Master and Commander</td><td>List(Fiction, Jack Aubrey (Fictitious character), Naval History, Ship captains, Ship physicians, Stephen Maturin (Fictitious character), Sea stories, Historical fiction, Seafaring life, History, Fiction, sea stories, Aubrey, jack (fictitious character), fiction, Maturin, stephen (fictitious character), fiction, Napoleonic wars, 1800-1815, fiction, Fiction, historical, Large type books, Great Britain. Royal Navy, Great Britain, Fiction, historical, general)</td><td>4.0</td><td>6</td></tr><tr><td>Elisabetta Dami</td><td>The cheese burglar</td><td>List(Juvenile fiction, Mice, Theft)</td><td>4.0</td><td>13</td></tr><tr><td>Marion Zimmer Bradley</td><td>The mists of Avalon</td><td>List(Fiction, Arthurian romances, Arthur, in fiction, Avalon (Legendary place), Adaptations, Kings and rulers, Britons in fiction, Kings and rulers in fiction, Britons, Great Britain in fiction, History, Fantasy, Bretons de Grande-Bretagne, Cycle d'Arthur, Rois et souverains, Romans, nouvelles, Fiction, fantasy, historical, Arthur, king, fiction, England, fiction)</td><td>3.67</td><td>6</td></tr></tbody></table></div>"
      ]
     },
     "metadata": {
      "application/vnd.databricks.v1+output": {
       "addedWidgets": {},
       "aggData": [],
       "aggError": "",
       "aggOverflow": false,
       "aggSchema": [],
       "aggSeriesLimitReached": false,
       "aggType": "",
       "arguments": {},
       "columnCustomDisplayInfos": {},
       "data": [
        [
         "Shannon Messenger",
         "Keeper of the Lost Cities",
         [
          "Ability",
          "Fiction",
          "Fantasy",
          "Psychic ability",
          "Identity",
          "Memory",
          "Foster parents",
          "Elves",
          "Children's fiction",
          "Fairies, fiction",
          "Fantasy fiction",
          "Parapsychology, fiction",
          "Identity, fiction",
          "Juvenile fiction",
          "nyt:series-books=2016-11-20",
          "New York Times bestseller",
          "Identity (Philosophical concept)",
          "Action & Adventure",
          "Fantasy & Magic",
          "Social Themes",
          "Friendship",
          "Identity (Psychology)",
          "Foster home care",
          "Adventure and adventurers, fiction",
          "Friendship, fiction"
         ],
         4.86,
         7
        ],
        [
         "Soman Chainani",
         "The School for Good and Evil",
         [
          "Magic",
          "Juvenile fiction",
          "Fiction",
          "Fairy Schools",
          "Schools",
          "Identity (Psychology) in children",
          "Friendship",
          "Good and evil",
          "Fantasy",
          "Children's fiction",
          "Friendship, fiction",
          "Good and evil, fiction",
          "Fantasy fiction",
          "Schools, fiction",
          "School stories",
          "Handbooks, manuals",
          "Juvenile literature",
          "Characters",
          "American Fantasy fiction",
          "Characters and characteristics",
          "Children's stories",
          "nyt:childrens-middle-grade=2013-06-02",
          "New York Times bestseller"
         ],
         4.83,
         6
        ],
        [
         "Elisabetta Dami",
         "The Kingdom of Fantasy",
         [
          "Stilton, Geronimo",
          "Fantasy",
          "Juvenile fiction",
          "Geronimo Stilton (Fictitious character)",
          "Fairies",
          "Fiction",
          "Children's fiction",
          "Fantasy fiction",
          "Stilton, geronimo (fictitious character), fiction"
         ],
         4.75,
         12
        ],
        [
         "Alice Oseman",
         "Heartstopper, Volume 1",
         [
          "Young adult fiction, comics & graphic novels, lgbt",
          "Young adult fiction, comics & graphic novels, lgbtq+",
          "High schools",
          "Comic books, strips",
          "Boys",
          "Gays",
          "Love in adolescence",
          "Friendship",
          "Mental illness",
          "nyt:graphic-books-and-manga=2022-05-08",
          "New York Times bestseller"
         ],
         4.5,
         30
        ],
        [
         "Victoria Jamieson",
         "Roller Girl",
         [
          "Roller skating",
          "Juvenile fiction",
          "Graphic novels",
          "Fiction",
          "Roller derby",
          "Best friends",
          "Comic books, strips",
          "Friendship",
          "Newbery Honor",
          "Comic books, strips, etc.",
          "Friendship, fiction",
          "Roller skating, fiction",
          "Children's fiction",
          "Patinaje sobre ruedas",
          "Libros de caricaturas, tiras comicas",
          "Amistad",
          "Ficcion juvenil",
          "Spanish language materials",
          "Cartoons and comics",
          "Mejores amigos",
          "nyt:paperback-graphic-books=2015-04-12",
          "New York Times bestseller"
         ],
         4.5,
         6
        ],
        [
         "Art Spiegelman",
         "The Complete Maus",
         [
          "Comics & graphic novels, general",
          "Holocaust survivors",
          "Children of holocaust survivors",
          "Holocaust, jewish (1939-1945)",
          "Long Now Manual for Civilization",
          "Graphic novels",
          "Fathers and sons",
          "Comic books, strips",
          "Biography",
          "Nazis",
          "Jewish Personal narratives",
          "Holocaust",
          "Cartoons and comics",
          "Survivors",
          "Judenvernichtung",
          "World War, 1939-1945",
          "History, 20th Century",
          "Parent-Child Relations",
          "Jews",
          "Überlebender",
          "Pariser Friedenskonferenz 1919-1920 Paris Polish Delegation gnd",
          "Holocaust, jewish (1939-1945), personal narratives",
          "Comics & graphic novels, nonfiction, general",
          "World war, 1939-1945, personal narratives, jewish",
          "nyt:hardcover-graphic-books=2012-08-19",
          "New York Times bestseller",
          "Graphic novel",
          "Comicbooks, strips",
          "Collections from individual artists",
          "American strip cartoons",
          "nyt:paperback_graphic_books=2011-09-17",
          "open_syllabus_project",
          "Bandes dessinées",
          "Biographies",
          "Holocauste, 1939-1945",
          "Juifs",
          "Poland",
          "Survivants de l'Holocauste",
          "United States",
          "Comics & graphic novels, horror",
          "Comics & graphic novels, literary",
          "Comics & graphic novels, religious",
          "Comics & graphic novels, nonfiction, biography & memoir",
          "collectionID:MausBan",
          "Banned books",
          "Holocaust, Jewish (1939-1945)",
          "Comic"
         ],
         4.45,
         11
        ],
        [
         "Phil Knight",
         "Shoe Dog",
         [
          "Businesspeople, juvenile literature",
          "Business, juvenile literature",
          "Business, biography",
          "nyt:sports=2017-11-12",
          "New York Times bestseller",
          "nyt:paperback-nonfiction=2018-05-20",
          "Sporting goods industry",
          "Nike (Firm)",
          "Businesspeople",
          "Biography",
          "History",
          "Businesspeople, biography",
          "Business enterprises, history",
          "nyt:business-books=2016-05-08",
          "memoir",
          "nike",
          "Business",
          "Sporting goods",
          "BIOGRAPHY & AUTOBIOGRAPHY",
          "Personal Memoirs",
          "SPORTS & RECREATION",
          "Running & Jogging",
          "Unternehmer",
          "Sportartikelindustrie",
          "Nike Inc",
          "Umschulungswerkstätten für Siedler und Auswanderer"
         ],
         4.44,
         9
        ],
        [
         "Trevor Noah",
         "Born a Crime",
         [
          "apartheid",
          "PERFORMING ARTS",
          "HUMOR",
          "Television personalities",
          "Personal Memoirs",
          "PERFORMING ARTS / Comedy",
          "BIOGRAPHY & AUTOBIOGRAPHY",
          "HUMOR / Form / Essays",
          "Essays",
          "Comedy",
          "HUMOR / Essays",
          "Comedians",
          "Biography",
          "Comedians, biography",
          "South africa, biography",
          "Mothers and sons",
          "South africa, history",
          "South africa, social conditions",
          "nyt:combined-print-and-e-book-nonfiction=2016-12-04",
          "New York Times bestseller",
          "BIOGRAPHY & AUTOBIOGRAPHY / Personal Memoirs",
          "HUMOR / Topic / Cultural, Ethnic & Regional",
          "Apartheid",
          "Racially mixed people",
          "Comiques",
          "Biographies",
          "Métis",
          "Vedettes de télévision",
          "Childhood and youth",
          "History",
          "Social conditions"
         ],
         4.33,
         9
        ],
        [
         "Art Spiegelman",
         "Maus I",
         [
          "New York Times bestseller",
          "nyt:paperback_graphic_books=2011-09-17",
          "graphic novel",
          "history",
          "Nazi",
          "Art Spiegelman",
          "concetration camp",
          "ww2",
          "Holocaust survivors",
          "Children of holocaust survivors",
          "Comics & graphic novels, nonfiction, biography & memoir",
          "Holocaust, jewish (1939-1945)",
          "Comics & graphic novels, general",
          "Comic books, strips",
          "Biography",
          "Graphic novels",
          "Holocaust, Jewish (1939-1945) fast (OCoLC)fst00958866",
          "Holocaust survivors, United States",
          "Holocaust, Jewish (1939-1945), Poland, Biography",
          "Children of Holocaust survivors, United States, Biography",
          "New York Times reviewed",
          "Survivants de l'Holocauste",
          "Biographies",
          "Judenvernichtung",
          "Medicine",
          "Fiction",
          "Bandes dessinées",
          "Holocauste, 1939-1945",
          "Enfants de survivants de l'Holocauste",
          "collectionID:MausBan",
          "Banned books",
          "Holocaust, Jewish (1939-1945)",
          "Children of Holocaust survivors"
         ],
         4.33,
         12
        ],
        [
         "Carol Cox",
         "Dog Days",
         [
          "Clergy",
          "Dogs",
          "Fiction",
          "Spouses of clergy",
          "Theft",
          "Summer",
          "Humorous stories",
          "Diaries",
          "Vacations",
          "Juvenile fiction",
          "Video games",
          "Mothers and sons",
          "Comics & Graphic Novels",
          "Juvenile Wit and humor",
          "Humorous fiction",
          "Friendship",
          "Children's fiction",
          "Diaries, fiction",
          "Summer, fiction",
          "Children's stories",
          "Holidays",
          "Bullying",
          "New York Times bestseller",
          "nyt:series_books=2009-01-10",
          "Child and youth fiction",
          "Literature, history and criticism",
          "Greg Heffley (Fictitious character)",
          "Families",
          "Schools, fiction",
          "Friendship, fiction",
          "Juegos con video",
          "Cuentos humorosos",
          "Ficción juvenil",
          "Vacaciones",
          "Diarios íntimos",
          "Spanish language materials",
          "Verano"
         ],
         4.29,
         41
        ],
        [
         "Katherine A. Applegate",
         "The One and Only Ivan",
         [
          "Animals",
          "Elephants",
          "Fiction",
          "Gorilla",
          "Treatment",
          "Juvenile fiction",
          "Circus animals",
          "Circus",
          "Animal welfare",
          "Social Themes",
          "Zoos",
          "Gorillas",
          "Friendship",
          "Apes, Monkeys",
          "nyt:childrens-middle-grade=2013-02-17",
          "New York Times bestseller",
          "historical fiction",
          "Newbery Medal",
          "Gorilla, fiction",
          "Elephants, fiction",
          "Animals, treatment, fiction",
          "Children's fiction",
          "nyt:childrens-middle-grade-paperback=2015-08-30",
          "Circos",
          "Spanish language materials",
          "Amistad",
          "Ficción juvenil",
          "Elefantes",
          "Bienestar de los animales",
          "Gorilas",
          "Animales del circo",
          "nyt:childrens-middle-grade-e-book=2015-11-22",
          "Friendship, fiction",
          "Zoos, fiction"
         ],
         4.0,
         6
        ],
        [
         "Patrick O'Brian",
         "Master and Commander",
         [
          "Fiction",
          "Jack Aubrey (Fictitious character)",
          "Naval History",
          "Ship captains",
          "Ship physicians",
          "Stephen Maturin (Fictitious character)",
          "Sea stories",
          "Historical fiction",
          "Seafaring life",
          "History",
          "Fiction, sea stories",
          "Aubrey, jack (fictitious character), fiction",
          "Maturin, stephen (fictitious character), fiction",
          "Napoleonic wars, 1800-1815, fiction",
          "Fiction, historical",
          "Large type books",
          "Great Britain. Royal Navy",
          "Great Britain",
          "Fiction, historical, general"
         ],
         4.0,
         6
        ],
        [
         "Elisabetta Dami",
         "The cheese burglar",
         [
          "Juvenile fiction",
          "Mice",
          "Theft"
         ],
         4.0,
         13
        ],
        [
         "Marion Zimmer Bradley",
         "The mists of Avalon",
         [
          "Fiction",
          "Arthurian romances",
          "Arthur, in fiction",
          "Avalon (Legendary place)",
          "Adaptations",
          "Kings and rulers",
          "Britons in fiction",
          "Kings and rulers in fiction",
          "Britons",
          "Great Britain in fiction",
          "History",
          "Fantasy",
          "Bretons de Grande-Bretagne",
          "Cycle d'Arthur",
          "Rois et souverains",
          "Romans, nouvelles",
          "Fiction, fantasy, historical",
          "Arthur, king, fiction",
          "England, fiction"
         ],
         3.67,
         6
        ]
       ],
       "datasetInfos": [],
       "dbfsResultPath": null,
       "isJsonSchema": true,
       "metadata": {},
       "overflow": false,
       "plotOptions": {
        "customPlotOptions": {},
        "displayType": "table",
        "pivotAggregation": null,
        "pivotColumns": null,
        "xColumns": null,
        "yColumns": null
       },
       "removedWidgets": [],
       "schema": [
        {
         "metadata": "{}",
         "name": "author_name",
         "type": "\"string\""
        },
        {
         "metadata": "{}",
         "name": "title",
         "type": "\"string\""
        },
        {
         "metadata": "{}",
         "name": "subjects",
         "type": "{\"type\":\"array\",\"elementType\":\"string\",\"containsNull\":true}"
        },
        {
         "metadata": "{}",
         "name": "rating_average",
         "type": "\"double\""
        },
        {
         "metadata": "{}",
         "name": "rating_count",
         "type": "\"long\""
        }
       ],
       "type": "table"
      }
     },
     "output_type": "display_data"
    }
   ],
   "source": [
    "%sql\n",
    "-- What are the top rated books from the top 100 rated authors\n",
    "WITH top_authors AS (\n",
    "SELECT author_name, \n",
    "       round(try_divide(SUM(rating_avg * rating_count), SUM(rating_count)),2) AS rating_average,\n",
    "       SUM(rating_count) AS rating_count\n",
    "FROM gold_openlibrary.works_with_reviews_summary\n",
    "WHERE title IS NOT NULL\n",
    "GROUP BY 1\n",
    "HAVING rating_count > 25\n",
    "ORDER BY 2 DESC \n",
    "LIMIT 100)\n",
    "\n",
    "SELECT author_name, \n",
    "       title,\n",
    "       subjects,\n",
    "       round(try_divide(SUM(rating_avg * rating_count), SUM(rating_count)),2) AS rating_average,\n",
    "       SUM(rating_count) AS rating_count\n",
    "FROM gold_openlibrary.works_with_reviews_summary\n",
    "WHERE author_name IN (SELECT author_name FROM top_authors)\n",
    "AND rating_count > 5\n",
    "GROUP BY 1, 2, 3\n",
    "ORDER BY 4 DESC;"
   ]
  },
  {
   "cell_type": "code",
   "execution_count": 0,
   "metadata": {
    "application/vnd.databricks.v1+cell": {
     "cellMetadata": {
      "byteLimit": 2048000,
      "implicitDf": true,
      "rowLimit": 10000
     },
     "inputWidgets": {},
     "nuid": "a732c672-adcf-422d-9f03-de63a17ec1c6",
     "showTitle": false,
     "title": ""
    }
   },
   "outputs": [
    {
     "output_type": "display_data",
     "data": {
      "text/html": [
       "<style scoped>\n",
       "  .table-result-container {\n",
       "    max-height: 300px;\n",
       "    overflow: auto;\n",
       "  }\n",
       "  table, th, td {\n",
       "    border: 1px solid black;\n",
       "    border-collapse: collapse;\n",
       "  }\n",
       "  th, td {\n",
       "    padding: 5px;\n",
       "  }\n",
       "  th {\n",
       "    text-align: left;\n",
       "  }\n",
       "</style><div class='table-result-container'><table class='table-result'><thead style='background-color: white'><tr><th>title</th><th>description_text</th><th>rating_average</th><th>rating_count</th></tr></thead><tbody><tr><td>The Brilliant World Of Tom Gates</td><td>a comical novel</td><td>5.0</td><td>16</td></tr><tr><td>The essential Calvin and Hobbes</td><td>Includes cartoons from *Calvin and Hobbes* and *Something Under the Bed Is Drooling*</td><td>4.82</td><td>17</td></tr><tr><td>Wings of Fire</td><td>Deep in the rain forest, danger awaits...\r\n",
       "\r\n",
       "Glory knows the dragon world is wrong about her tribe. After all, she isn't \"as lazy as a RainWing\" -- she isn't lazy at all! Maybe she wasn't meant to be one of the dragonets of destiny, as the older dragons constantly remind her, but Glory is sharp and her venom is deadly... except, of course, no one knows it.\r\n",
       "\r\n",
       "When the dragonets seek shelter in the rain forest, Glory is devastated to find that the treetops are full of RainWings that no dragon could ever call dangerous. They nap all day and know nothing of the rest of Pyrrhia. Worst of all, they don't realize -- or care -- that RainWings are going missing from their beautiful forest. But Glory and the dragonets are determined to find the missing dragons, even if it drags the peaceful RainWing kingdom where they never wanted to be -- in the middle of the war.</td><td>4.75</td><td>16</td></tr><tr><td>Piranesi</td><td>**From the *New York Times* bestselling author of *Jonathan Strange & Mr. Norrell*, an intoxicating, hypnotic new novel set in a dreamlike alternative reality.**\r\n",
       "\r\n",
       "Piranesi's house is no ordinary building; its rooms are infinite, its corridors endless, its walls are lined with thousands upon thousands of statues, each one different from all the others. Within the labyrinth of halls an ocean is imprisoned; waves thunder up staircases, rooms are flooded in an instant. But Piranesi is not afraid; he understands the tides as he understands the pattern of the labyrinth itself. He lives to explore the house.\r\n",
       "\r\n",
       "There is one other person in the house--a man called The Other, who visits Piranesi twice a week and asks for help with research into A Great and Secret Knowledge. But as Piranesi explores, evidence emerges of another person, and a terrible truth begins to unravel, revealing a world beyond the one Piranesi has always known.\r\n",
       "\r\n",
       "For readers of Neil Gaiman's *The Ocean at the End of the Lane* and fans of Madeline Miller's *Circe*, *Piranesi* introduces an astonishing new world, an infinite labyrinth full of startling images of surreal beauty, haunted by the tides and the clouds.\r\n",
       "\r\n",
       "This description comes from the publisher.</td><td>4.75</td><td>20</td></tr><tr><td>Thea Stilton and the Lost Letters</td><td>The Thea Sisters are in Russia and they find an unexpected mystery when a robbery happens. The Thea Sisters investigate until they almost give up hope when they find something that gives them a breakthrough.</td><td>4.75</td><td>20</td></tr><tr><td>Harry Potter (series) 1-7</td><td>The Harry Potter books throw you into an amazing fantasy world of witches and wizards, spells, magical creatures, He-Who-Must-Not-Be-Named, and a school of witchcraft and wizardry called Hogwarts. In this school Harry Potter takes many magical classes, plays Quidditch (the sport where you are on a broomstick scoring goals through hoops, and trying to find the magical snitch.), and defeats Voldemort. When Voldemort comes back at him again and again, Harry realizes that Voldemort is invincible, and there is only one way to kill him. With his lessons with Professor Dumbledore, he discovers Voldemort's past, who he was before he killed all those people, why he killed all those people (including Harry Potter's parents), and how he is still alive, but is almost a creature, with snake eyes, and slits for nostrils. This best-selling series is astonishing and breathtaking and will change your life forever, just by reading it.</td><td>4.74</td><td>27</td></tr><tr><td>A child called \"it\"</td><td>This book chronicles the unforgettable account of one of the most severe child abuse cases in California history. It is the story of Dave Pelzer, who was brutally beaten and starved by his emotionally unstable, alcoholic mother: a mother who played tortuous, unpredictable games--games that left him nearly dead. He had to learn how to play his mother's games in order to survive because she no longer considered him a son, but a slave; and no longer a boy, but an \"it.\"\r\n",
       "\r\n",
       "Dave's bed was an old army cot in the basement, and his clothes were torn and raunchy. When his mother allowed him the luxury of food, it was nothing more than spoiled scraps that even the dogs refused to eat. The outside world knew nothing of his living nightmare. He had nothing or no one to turn to, but his dreams kept him alive--dreams of someone taking care of him, loving him and calling him their son.</td><td>4.74</td><td>35</td></tr><tr><td>The Mark of Athena</td><td>Annabeth is terrified. Just when she's about to be reunited with Percy—after six months of being apart, thanks to Hera—it looks like Camp Jupiter is preparing for war. As Annabeth and her friends Jason, Piper, and Leo fly in on the Argo II, she can't blame the Roman demigods for thinking the ship is a Greek weapon. With its steaming bronze dragon figurehead, Leo's fantastical creation doesn't appear friendly. Annabeth hopes that the sight of their praetor Jason on deck will reassure the Romans that the visitors from Camp Half-Blood are coming in peace.\r\n",
       "\r\n",
       "And that's only one of her worries. In her pocket, Annabeth carries a gift from her mother that came with an unnerving command: Follow the Mark of Athena. Avenge me. Annabeth already feels weighed down by the prophecy that will send seven demigods on a quest to find—and close—the Doors of Death. What more does Athena want from her?\r\n",
       "\r\n",
       "Annabeth's biggest fear, though, is that Percy might have changed. What if he's now attached to Roman ways? Does he still need his old friends? As the daughter of the goddess of war and wisdom, Annabeth knows she was born to be a leader—but never again does she want to be without Seaweed Brain by her side\r\n",
       "\r\n",
       "Narrated by four different demigods, The Mark of Athena is an unforgettable journey across land and sea to Rome, where important discoveries, surprising sacrifices, and unspeakable horrors await. Climb aboard the Argo II, if you dare. . .</td><td>4.7</td><td>57</td></tr><tr><td>Born a Crime</td><td>Born a Crime: Stories from a South African Childhood is an autobiographical comedy book written by the South African comedian Trevor Noah, published in 2016.</td><td>4.69</td><td>45</td></tr><tr><td>Struwwelpeter</td><td>Struwwelpeter is a collection of children's poetry meant to serve as instructions for life's lessons. Most of the stories tell the tale of a child's misbehavior and the grizzly end they will meet if they do not change their ways.</td><td>4.69</td><td>16</td></tr><tr><td>Permanent Record</td><td>Edward Snowden, the man who risked everything to expose the US government’s system of mass surveillance, reveals for the first time the story of his life, including how he helped to build that system and what motivated him to try to bring it down.\r\n",
       "\r\n",
       "In 2013, twenty-nine-year-old Edward Snowden shocked the world when he broke with the American intelligence establishment and revealed that the United States government was secretly pursuing the means to collect every single phone call, text message, and email. The result would be an unprecedented system of mass surveillance with the ability to pry into the private lives of every person on earth. Six years later, Snowden reveals for the very first time how he helped to build this system and why he was moved to expose it.\r\n",
       "\r\n",
       "Spanning the bucolic Beltway suburbs of his childhood and the clandestine CIA and NSA postings of his adulthood, Permanent Record is the extraordinary account of a bright young man who grew up online – a man who became a spy, a whistleblower, and, in exile, the Internet’s conscience. Written with wit, grace, passion, and an unflinching candor, Permanent Record is a crucial memoir of our digital age and destined to be a classic.</td><td>4.69</td><td>16</td></tr><tr><td>Naruto</td><td>**Naruto is a young shinobi with an incorrigible knack for mischief. He's got a wild sense of humor, but Naruto is completely serious about his mission to be the world's greatest ninja!\r\n",
       "_________________________________________________________________________________________________________________\r\n",
       "Naruto (ナルト?) is a Japanese manga series written and illustrated by Masashi Kishimoto. It tells the story of Naruto Uzumaki, an adolescent ninja who constantly searches for re**cognition and dreams to become the Hokage, the ninja in his village who is acknowledged as the leader and the strongest of all. The series is based on a one-shot manga by Kishimoto that was published in the August 1997 issue of Akamaru Jump.</td><td>4.68</td><td>19</td></tr><tr><td>The pigeon needs a bath!</td><td>The Pigeon is dirty and he needs a bath, but he won't go willingly.</td><td>4.65</td><td>20</td></tr><tr><td>The duckling gets a cookie!?</td><td>Pigeon is very angry when the duckling gets a cookie just by asking politely.</td><td>4.65</td><td>20</td></tr><tr><td>Dork Diaries 15</td><td>so excited to read it. pls hand in **yaaaaaaaaaaas** xx</td><td>4.65</td><td>17</td></tr><tr><td>Shoe Dog</td><td>\"In this candid and riveting memoir, for the first time ever, Nike founder and CEO Phil Knight shares the inside story of the company's early days as an intrepid start-up and its evolution into one of the world's most iconic, game-changing, and profitable brands. In 1962, fresh out of business school, Phil Knight borrowed $50 from his father and created a company with a simple mission: import high-quality, low-cost athletic shoes from Japan. Selling the shoes from the trunk of his lime green Plymouth Valiant, Knight grossed $8,000 his first year. Today, Nike's annual sales top $30 billion. In an age of startups, Nike is the ne plus ultra of all startups, and the swoosh has become a revolutionary, globe-spanning icon, one of the most ubiquitous and recognizable symbols in the world today. But Knight, the man behind the swoosh, has always remained a mystery. Now, for the first time, in a memoir that is candid, humble, gutsy, and wry, he tells his story, beginning with his crossroads moment. At 24, after backpacking around the world, he decided to take the unconventional path, to start his own business--a business that would be dynamic, different. Knight details the many risks and daunting setbacks that stood between him and his dream--along with his early triumphs. Above all, he recalls the formative relationships with his first partners and employees, a ragtag group of misfits and seekers who became a tight-knit band of brothers. Together, harnessing the transcendent power of a shared mission, and a deep belief in the spirit of sport, they built a brand that changed everything\"--</td><td>4.65</td><td>31</td></tr><tr><td>The war that Saved my Life</td><td>Nine-year-old Ada has never left her one-room apartment. Her mother is too humiliated by Ada’s twisted foot to let her outside. So when her little brother Jamie is shipped out of London to escape the war, Ada doesn’t waste a minute—she sneaks out to join him.\r\n",
       " \r\n",
       "So begins a new adventure of Ada, and for Susan Smith, the woman who is forced to take the two kids in. As Ada teaches herself to ride a pony, learns to read, and watches for German spies, she begins to trust Susan—and Susan begins to love Ada and Jamie. But in the end, will their bond be enough to hold them together through wartime? Or will Ada and her brother fall back into the cruel hands of their mother?</td><td>4.65</td><td>17</td></tr><tr><td>Smile</td><td>A true story from Raina's early years. One day after girl scouts raina trips and falls damaging her two front teeth. Even after she gets her braces off she isn't treated the same. When she meets a bunch of nerdy kids she realizes they may be her true friends.</td><td>4.64</td><td>42</td></tr><tr><td>The Complete Robot</td><td>The complete collection of Isaac Asimov’s classic Robot stories.\r\n",
       "\r\n",
       "In these stories, Asimov creates the Three Laws of Robotics and ushers in the Robot Age – when Earth is ruled by master-machines and when robots are more human than mankind.\r\n",
       "\r\n",
       "The Complete Robot is the ultimate collection of timeless, amazing and amusing robot short stories from the greatest science fiction writer of all time, offering golden insights into robot thought processes. Asimov’s Three Laws of Robotics were programmed into real computers thirty years ago at the Massachusetts Institute of Technology – with surprising results. Readers of today still have many surprises in store…\r\n",
       "\r\n",
       "A Boy's Best Friend\r\n",
       "Sally\r\n",
       "Someday\r\n",
       "Some Immobile Robots\r\n",
       "Point of View\r\n",
       "Think!\r\n",
       "True Love\r\n",
       "Some Metallic Robots\r\n",
       "Robot AL-76 Goes Astray\r\n",
       "Victory Unintentional\r\n",
       "Stranger in Paradise\r\n",
       "Light Verse\r\n",
       "Segregationist\r\n",
       "Robbie\r\n",
       "Some Humanoid Robots\r\n",
       "Let's Get Together\r\n",
       "Mirror Image\r\n",
       "The Tercentenary Incident\r\n",
       "Powell and Donovan\r\n",
       "First Law\r\n",
       "Runaround\r\n",
       "Reason\r\n",
       "Catch That Rabbit\r\n",
       "Susan Calvin\r\n",
       "Liar!\r\n",
       "Satisfaction Guaranteed\r\n",
       "Lenny\r\n",
       "Galley Slave\r\n",
       "Little Lost Robot\r\n",
       "Risk\r\n",
       "Escape!\r\n",
       "Evidence\r\n",
       "The Evitable Conflict\r\n",
       "Feminine Intuition\r\n",
       "Two Climaxes\r\n",
       "—That Thou Art Mindful of Him!\r\n",
       "The Bicentennial Man</td><td>4.63</td><td>16</td></tr><tr><td>Sunset</td><td>Before there is peace, blood will spill blood, and the lake will run red... \r\n",
       "\r\n",
       "As shadows of the past continue to haunt the forest, Brambleclaw is haunted by a dark figure on a dangerous quest for revenge, and must struggle to remain true to his Clan. A sinister path is unfolding and the time is coming for certain warriors to make the choices that will determine their destiny... and the destiny of all the Clans.\r\n",
       "\r\n",
       "\r\n",
       "----------\r\n",
       "**Books in this arc**\r\n",
       "\r\n",
       " 1. [Midnight][1]\r\n",
       " 2. [Moonrise][2]\r\n",
       " 3. [Dawn][3]\r\n",
       " 4. [Starlight][4]\r\n",
       " 5. [Twilight][5]\r\n",
       " 6. Sunset\r\n",
       "\r\n",
       "  [1]: https://openlibrary.org/works/OL5714297W\r\n",
       "  [2]: https://openlibrary.org/works/OL5714300W\r\n",
       "  [3]: https://openlibrary.org/works/OL5714287W\r\n",
       "  [4]: https://openlibrary.org/works/OL5714312W\r\n",
       "  [5]: https://openlibrary.org/works/OL5714319W\r\n",
       "\r\n",
       "----------\r\n",
       "**Arcs in this series**\r\n",
       "\r\n",
       " 1. [The Prophecies Begin][a]\r\n",
       " 2. The New Prophecy\r\n",
       " 3. [The Power of Three][c]\r\n",
       " 4. [Omen of the Stars][d]\r\n",
       " 5. [Dawn of the Clans][e]\r\n",
       " 6. [A Vision of Shadows][f]\r\n",
       " 7. [The Broken Code][g]\r\n",
       " 8. [A Starless Clan][h]\r\n",
       " S. [Super Editions][s]\r\n",
       "\r\n",
       "  [a]: https://openlibrary.org/books/OL9228970M/INTO\r\n",
       "  [b]: https://openlibrary.org/books/OL9235572M/Midnight_(Warriors_The_New_Prophecy_Book_1)\r\n",
       "  [c]: https://openlibrary.org/books/OL7283723M/The_Sight_(Warriors_Power_of_Three_Book_1)\r\n",
       "  [d]: https://openlibrary.org/books/OL24084711M/Warriors_Omen_of_the_Stars_1\r\n",
       "  [e]: https://openlibrary.org/books/OL25995097M/Dawn_of_the_Clans\r\n",
       "  [f]: https://openlibrary.org/books/OL26884472M/The_apprentice's_quest\r\n",
       "  [g]: https://openlibrary.org/books/OL27958224M/Warriors_The_Broken_Code_1\r\n",
       "  [h]: https://openlibrary.org/books/OL32444897M/River/\r\n",
       "  [s]: https://openlibrary.org/books/OL7288445M/Firestar's_Quest</td><td>4.63</td><td>16</td></tr><tr><td>The Cruel Prince</td><td>Jude was seven when her parents were murdered and she and her two sisters were stolen away to live in the treacherous High Court of Faerie. Ten years later, Jude wants nothing more than to belong there, despite her mortality. But many of the fey despise humans. Especially Prince Cardan, the youngest and wickedest son of the High King.\r\n",
       "\r\n",
       "To win a place at the Court, she must defy him–and face the consequences.\r\n",
       "\r\n",
       "As Jude becomes more deeply embroiled in palace intrigues and deceptions, she discovers her own capacity for trickery and bloodshed. But as betrayal threatens to drown the Courts of Faerie in violence, Jude will need to risk her life in a dangerous alliance to save her sisters, and Faerie itself.</td><td>4.62</td><td>26</td></tr><tr><td>The Complete Maus</td><td>On the occasion of the twenty-fifth anniversary of its first publication, here is the definitive edition of the book acclaimed as “the most affecting and successful narrative ever done about the Holocaust” (Wall Street Journal) and “the first masterpiece in comic book history” (The New Yorker).\r\n",
       "\r\n",
       "The Pulitzer Prize-winning Maus tells the story of Vladek Spiegelman, a Jewish survivor of Hitler’s Europe, and his son, a cartoonist coming to terms with his father’s story. Maus approaches the unspeakable through the diminutive. Its form, the cartoon (the Nazis are cats, the Jews mice), shocks us out of any lingering sense of familiarity and succeeds in “drawing us closer to the bleak heart of the Holocaust” (The New York Times).\r\n",
       "\r\n",
       "Maus is a haunting tale within a tale. Vladek’s harrowing story of survival is woven into the author’s account of his tortured relationship with his aging father. Against the backdrop of guilt brought by survival, they stage a normal life of small arguments and unhappy visits. This astonishing retelling of our century’s grisliest news is a story of survival, not only of Vladek but of the children who survive even the survivors. Maus studies the bloody pawprints of history and tracks its meaning for all of us.</td><td>4.62</td><td>42</td></tr><tr><td>Tales from a not-so-popular party girl</td><td>Nikki's diary describes a frightful Halloween, on which she helps with her sister's ballet class party at the same time she is Brandon's date for their middle school Halloween dance, where she has promised to spend the evening with her two best friends.</td><td>4.61</td><td>18</td></tr><tr><td>Tales from a not-so-smart Miss Know-It-All</td><td>When Miss Know-It-All's inbox overflows with pleas for guidance, Nikki Maxwell, the school newspaper advice columnist, turns to her best friends for help.</td><td>4.59</td><td>17</td></tr><tr><td>The School for Good and Evil</td><td>**A dark and enchanting fantasy adventure perfect for those who prefer their fairytales with a twist. The first in the bestselling School for Good and Evil series.**\r\n",
       "\r\n",
       "Every four years, two girls are kidnapped from the village of Gavaldon. Legend has it these lost children are sent to the School for Good and Evil, the fabled institution where they become fairytale heroes or villains.\r\n",
       "\r\n",
       "With her glass slippers and devotion to good deeds, Sophie knows she'll join the ranks of past students like Cinderella, Rapunzel, and Snow White at the School for Good. Meanwhile, Agatha, with her shapeless black dresses and wicked black cat, seems a natural fit for the villains in the School for Evil.\r\n",
       "\r\n",
       "But the two girls soon find their fortunes reversed – Sophie's dumped in the School for Evil to take Uglification, Death Curses and Henchmen Training, while Agatha finds herself in the School for Good, thrust among handsome princes and fair maidens for classes in Princess Etiquette and Animal Communication.\r\n",
       "\r\n",
       "But what if the mistake is actually the first clue to discovering who Sophie and Agatha really are?</td><td>4.59</td><td>32</td></tr><tr><td>Thea Stilton And The Great Tulip Heist</td><td>Violet goes to attend an art class in the Netherlands. While she's there, her friend's father- a botanist- goes missing. His disappearance is linked to The Black Tulip. The Thea Sisters rush throughout the flower gardens to find him.</td><td>4.59</td><td>17</td></tr><tr><td>A Kingdom of Dreams</td><td>Abducted from her convent school at 17, headstrong Scottish beauty Jennifer Merrick does not easily surrender to 29 year old Royce Westmoreland, Duke of Claymore. Known as \"The Wolf\"; his very name strikes terror in the hearts of his enemies. But proud Jennifer will have nothing to do with the fierce English warrior who holds her captive, this handsome rogue who taunts her with his blazing arrogance. Boldly she challenges his will... until the night he takes her in his powerful embrace, awakening in her an irresistible hunger. And suddenly Jennifer finds herself ensnared in a bewildering web... a seductive, dangerous trap of pride, passion, loyalty, and overwhelming love.</td><td>4.58</td><td>19</td></tr><tr><td>Spy school</td><td>Twelve-year-old Ben Ripley leaves his public middle school to attend the CIA's highly secretive Espionage Academy, which everyone is told is an elite science school.</td><td>4.57</td><td>21</td></tr><tr><td>The Wedding</td><td>Journeying from England to Scotland to wed a highlander, Lady Brenna had resigned herself to the arranged match. But when a band of fierce, painted warriors captured her en route, she fearlessly met their demand to marry their leader -- the quick-tempered laird Connor MacAlister. She couldn't know that her capture was merely the first act of vengeance against her betrothed, Connor's sworn enemy. Brenna harbored no illusions that her husband was in love with her; after a hasty forest wedding, MacAlister assured her she could return home once she had borne him a son. But she could not deny that she had once proposed to MacAlister -- ten years ago, when she was just a child, and the visitor to her father's castle charmed her with his dazzling, unexpected smile. Now, as she sets out to win the brave chieftain whom she has come to adore, a legacy of revenge ensnares Brenna in a furious clan war -- and only her faith in her gallant hero can save her...\r\n",
       "\r\n",
       "Related Books - 2 - 2</td><td>4.56</td><td>18</td></tr><tr><td>Out of my mind</td><td>Eleven-year-old Melody has a photographic memory. Her head is like a video camera that is always recording. Always. And there's no delete button. She's the smartest kid in her whole school, but no one knows it. Most people — her teachers and doctors included — don't think she's capable of learning, and until recently her school days consisted of listening to the same preschool-level alphabet lessons again and again and again. If only she could speak up, if only she could tell people what she thinks and knows...but she can't, because Melody can't talk. She can't walk. She can't write.\r\n",
       "Being stuck inside her head is making Melody go out of her mind — that is, until she discovers something that will allow her to speak for the first time ever. At last Melody has a voice, but not everyone around her is ready to hear it.\r\n",
       "\r\n",
       "From two-time Coretta Scott King Award winner Sharon M. Draper comes a story full of heartache and hope. Get ready to meet a girl whose voice you'll never, ever forget. (Back Cover)</td><td>4.56</td><td>18</td></tr><tr><td>Romancing Mister Bridgerton</td><td>E-Book Extras: ONE: Behind the Novel: Romancing Mr. Bridgerton by Julia Quinn; TWO: The Bridgerton Basics: Ms. Quinn Fills You InPenelope Featherington has secretly adored her best friend's brother for...well, it feels like forever. After half a lifetime of watching Colin Bridgerton from afar, she thinks she knows everything about him, until she stumbles across his deepest secret...and fears she doesn't know him at all.Colin Bridgerton is tired of being thought nothing but an empty-headed charmer, tired of everyone's preoccupation with the notorious gossip columnist Lady Whistledown, who can't seem to publish an edition without mentioning him in the first paragraph. But when Colin returns to London from a trip abroad he discovers nothing in his life is quite the same -- especially Penelope Featherington! The girl haunting his dreams. But when he discovers that Penelope has secrets of her own, this elusive bachelor must decide...is she his biggest threat -- or his promise of a happy ending?</td><td>4.56</td><td>18</td></tr><tr><td>The summer I turned pretty</td><td>This book is fresh fun and exciting. 15 year Belly Conklin is enjoying another summer with the people that she loves in Cousins, a place she's been going to since she was a baby! The fishers, Aka Jerimiah and Conrad, are finally grown up, and Belly feels like she can fit in aswell. Belly would be turning 16 this year, as now she feels as if she can fit in with the boys. She thinks the summer will be fun, Hanging out on the beach and Playing with the people she loves, Belly is looking foward to her summer vacation. But that's when she finds out that Susannah Fisher is diagnosed with Cancer, which changes everything. Things are different in the Summer house. Her first love, Conrad is different, he's distant. While the stay in the house was supposed to be enjoying, they need to focus on things that matter the most. Sussanah. Belly decides that it's time she acts like the adult that she is. Choosing between her 2 lovers Jerimiah and Conrad Fisher. Will either of them like her? Because this...Is the Summer I turned Pretty.</td><td>4.55</td><td>44</td></tr><tr><td>Season of Mists</td><td>In-depth, informative and entertaining, *The Annotated Sandman* is a fascinating look at the celebrated comic book series written by New York Times best-selling author Neil Gaiman.\r\n",
       "\r\n",
       "*The Sandman* is one of the most acclaimed titles in the history of comics. A rich blend of modern myth and dark fantasy in which contemporary fiction, historical drama and legend are seamlessly interwoven, The Sandman is also widely considered to be one of the most original and artistically ambitious comic books of the modern age. By the time it concluded in 1996, it had made significant contributions to the artistic maturity of comics as a whole and had become a pop culture phenomenon in its own right. Critics and readers alike agreed: The Sandman proved that comic books were not simply a genre but were instead a rich and unique medium combining both art and literature.\r\n",
       "\r\n",
       "Now, DC Comics is proud to present this literary classic in an all-new Annotated Edition format. Edited with notes by Leslie S. Klinger, *The Annotated Sandman* is a page-by-page, panel-by-panel journey through every installment of *The Sandman*. Using the original comic book scripts and hours of conversations with Gaiman himself, Klinger presents a wealth of commentary, references, and hidden meanings that deepen and enrich our understanding of the acclaimed series. This fourth volume, comprising issues #57-75, completes the title’s original run and features an all-new set of appendices, including a detailed chronology of the events of The Sandman and an exhaustive index of all of its unforgettable characters.</td><td>4.54</td><td>24</td></tr><tr><td>Being Mortal</td><td>Being Mortal: Medicine and What Matters in the End is a 2014 non-fiction book by American surgeon Atul Gawande. The book addresses end-of-life care, hospice care, and also contains Gawande's reflections and personal stories. He suggests that medical care should focus on well-being rather than survival. Being Mortal has won awards, appeared on lists of best books, and been featured in a documentary.</td><td>4.54</td><td>24</td></tr><tr><td>Thea Stilton and the Chocolate Sabotage</td><td>When the Thea Sisters are invited to a chocolate factory in Ecuador. Someone is trying to sabotage the chocolate factory while during a competition. This is an excellent book written by Elisabetta Dami in the real world and published by Scholastic.</td><td>4.54</td><td>28</td></tr><tr><td>Thea Stilton Mouseford Academy The Mysterious Love Letter</td><td>The Thea Sisters are surprised to find a mysterious love letter on campus. Determined to get the letter to the right mouse - and to figure out who wrote it - they print it in the student newspaper. More letters follow, and everyone at Mouseford wants to know who is writing the romantic notes. Can the Thea Sisters solve the mystery?\r\n",
       "\r\n",
       "*Back cover description*</td><td>4.53</td><td>19</td></tr><tr><td>Network Effect</td><td>**Murderbot returns in its highly-anticipated, first, full-length standalone novel.**\r\n",
       "\r\n",
       "You know that feeling when you’re at work, and you’ve had enough of people, and then the boss walks in with yet another job that needs to be done right this second or the world will end, but all you want to do is go home and binge your favorite shows? And you're a sentient murder machine programmed for destruction? Congratulations, you're Murderbot.\r\n",
       "\r\n",
       "Come for the pew-pew space battles, stay for the most relatable A.I. you’ll read this century.</td><td>4.52</td><td>29</td></tr><tr><td>Cryptonomicon</td><td>E-book extras: \"Stephensonia/Cryptonomica\": ONE: \"Cryptonomicon Cypher-FAQ\" (Neal addresses \"Frequently Anticipated Questions\" and other fascinating facts); TWO: \"Mother Earth Motherboard\" (Neal's landmark nonfiction account of, among other techno-feats, the laying of the longest telecommunications cable on earth); THREE: \"Press Conference\": Neal answers \"Why write about crypto?\" and other penetrating questions.The smash New York Times bestseller and cult classic is at last a special-features-loaded e-book. Dashing between World War II and the present day, Cryptonomicon is an epic adventure of codemakers and codebreakers; soldiers, hackers, spies, pirates, lovers, prisoners; power, secrets, conspiracies, great escapes -- and a buried fortune in gold.\"Engrossing … insightful ... fascinating and often hysterical... Cryptonomicon is really three novels in one, featuring healthy portions of World War II adventure, cryptography, and high-tech finance, with treasure hunting thrown in for good measure... But that's only half of it.\" —USA Today \"Hell of a read.\" —WiredNeal Stephenson (Snow Crash; The Diamond Age) hacks into the secret histories of nations and the private obsessions of men, decrypting with dazzling virtuosity the forces that shaped the twentieth century — and that have led us into the twenty-first. In 1942, Lawrence Pritchard Waterhouse — mathematical genius and young Captain in the U.S. Navy — is assigned to Detachment 2702. It is an outfit so secret that only a handful of people know it exists, and some of those people have names like Churchill and Roosevelt. The mission of Waterhouse and Detachment 2702 — commanded by Marine Raider Bobby Shaftoe — is to keep the Nazis ignorant of the fact that Allied Intelligence has cracked the enemy's fabled Enigma code. It is a game, a cryptographic chess match between Waterhouse and his German counterpart, translated into action by gung-ho Shaftoe and his forces. Fast-forward to the present, where Waterhouse's crypto-hacker grandson, Randy, is attempting to create a \"data haven\" in Southeast Asia — a place where encrypted data can be stored and exchanged free of repression and scrutiny. As governments and multinationals attack the endeavor, Randy joins forces with Shaftoe's tough-as-nails granddaughter, Amy, to secretly salvage a sunken Nazi submarine that holds the key to keeping the dream of a data haven afloat. But soon their scheme brings to light a massive conspiracy with its roots in Detachment 2702, linked to an unbreakable Nazi code called Arethusa. And it will represent the path to unimaginable riches and a future of personal and digital liberty … or to universal totalitarianism reborn. A breathtaking tour de force and Neal Stephenson's most accomplished and affecting work to date, Cryptonomicon is profound and prophetic, hypnotic and hyper-driven, as it leaps forward and back between World War II and the World Wide Web, hinting all the while at a dark day-after-tomorrow. It is a work of great art, thought, and creative daring; the product of a truly iconoclastic imagination working with white-hot intensity.</td><td>4.52</td><td>23</td></tr><tr><td>Wings of fire</td><td>sure</td><td>4.5</td><td>18</td></tr><tr><td>Madeleine</td><td>Madeline, smallest and naughtiest of the twelve little charges of Miss Clavel, wakes up one night with an attack of appendicitis.</td><td>4.5</td><td>28</td></tr><tr><td>Five Feet Apart</td><td>It is a very touching story about two teenagers who can't be in contact without risking their lives.</td><td>4.5</td><td>24</td></tr><tr><td>Parable of the sower</td><td>In 2025, with the world descending into madness and anarchy, one woman begins a fateful journey toward a better future.\r\n",
       "\r\n",
       "Lauren Olamina and her family live in one of the only safe neighborhoods remaining on the outskirts of Los Angeles. Behind the walls of their defended enclave, Lauren’s father, a preacher, and a handful of other citizens try to salvage what remains of a culture that has been destroyed by drugs, disease, war, and chronic water shortages. While her father tries to lead people on the righteous path, Lauren struggles with hyperempathy, a condition that makes her extraordinarily sensitive to the pain of others.\r\n",
       "\r\n",
       "When fire destroys their compound, Lauren’s family is killed and she is forced out into a world that is fraught with danger. With a handful of other refugees, Lauren must make her way north to safety, along the way conceiving a revolutionary idea that may mean salvation for all mankind.</td><td>4.5</td><td>24</td></tr><tr><td>A Game of You</td><td>This is a duplicate. Please update your lists. See https://openlibrary.org/works/OL679281W.</td><td>4.48</td><td>23</td></tr><tr><td>Calvin and Hobbes</td><td>A collection of comic strips following the adventures of Calvin and his stuffed tiger Hobbes.</td><td>4.48</td><td>23</td></tr><tr><td>Red Dragon</td><td>Red Dragon is a novel by American author Thomas Harris, first published in 1981. The plot follows former FBI profiler Will Graham, who comes out of retirement to find and apprehend an enigmatic serial-killer nicknamed \"The Tooth Fairy\". The novel introduced the character Dr. Hannibal Lecter, a brilliant psychiatrist and cannibalistic serial-killer, whom Graham reluctantly turns to for advice and with whom he has a dark past. The title refers to the figure from William Blake's painting The Great Red Dragon and the Woman Clothed in Sun.</td><td>4.47</td><td>17</td></tr><tr><td>Thea Stilton and the Blue Scarab Hunt</td><td>The Thea Sisters have been invited to Egypt to participate in a fabmouse archeologica excavation. They are helping to look for the legendary ancient Treasure of the Sun. A precious blue stone scarab may be the key to their search and they work enthusiastically to uncover the past. But they also discover that thieves are after the hidden treasure. It´s up to the Thea Stisters to stop them</td><td>4.47</td><td>17</td></tr><tr><td>The secret of the fairies</td><td>When Thea Stilton travels to Ireland to search for a missing agent, she finds that the whole  fantasy Land of Erin is being threatened by earthquakes, and soon Will Mystery and the Thea sisters follow to help her find the secret of the fairies.\r\n",
       "\r\n",
       "When Thea travels to Ireland to search for a missing agent, she finds that the whole fantasy Land of Erin is being threatened by earthquakes, and soon Will Mystery and the Thea sisters follow to help her find the secret of the fairies. Special Edition #2</td><td>4.47</td><td>19</td></tr><tr><td>The Day the Crayons Quit</td><td>When Duncan arrives at school one morning, he finds a stack of letters, one from each of his crayons, complaining about how he uses them.</td><td>4.47</td><td>19</td></tr><tr><td>A Dance With Dragons</td><td>In the aftermath of a colossal battle, the future of the Seven Kingdoms hangs in the balance—beset by newly emerging threats from every direction. In the east, Daenerys Targaryen, the last scion of House Targaryen, rules with her three dragons as queen of a city built on dust and death. But Daenerys has thousands of enemies, and many have set out to find her. As they gather, one young man embarks upon his own quest for the queen, with an entirely different goal in mind.\r\n",
       "\r\n",
       "Fleeing from Westeros with a price on his head, Tyrion Lannister, too, is making his way to Daenerys. But his newest allies in this quest are not the rag-tag band they seem, and at their heart lies one who could undo Daenerys’s claim to Westeros forever.\r\n",
       "\r\n",
       "Meanwhile, to the north lies the mammoth Wall of ice and stone—a structure only as strong as those guarding it. There, Jon Snow, 998th Lord Commander of the Night’s Watch, will face his greatest challenge. For he has powerful foes not only within the Watch but also beyond, in the land of the creatures of ice.\r\n",
       "\r\n",
       "From all corners, bitter conflicts reignite, intimate betrayals are perpetrated, and a grand cast of outlaws and priests, soldiers and skinchangers, nobles and slaves, will face seemingly insurmountable obstacles. Some will fail, others will grow in the strength of darkness. But in a time of rising restlessness, the tides of destiny and politics will lead inevitably to the greatest dance of all.</td><td>4.46</td><td>24</td></tr><tr><td>Tiamat's Wrath</td><td>Tiamat's Wrath is a science fiction novel by James S. A. Corey, the pen name of Daniel Abraham and Ty Franck, and the eighth book in their series The Expanse. Following the series' tradition of referring to ancient mythology in its titles, the book's title references the Babylonian goddess Tiamat who took part in the creation of the universe.</td><td>4.46</td><td>28</td></tr><tr><td>Saga, volume two</td><td>\"Après avoir réchappé aux horreurs de la planète Clivage, à ses champs de bataille, et aux chasseurs de primes lancés à leur poursuite, Alana, Marko et leur fille Hazel, symbole d'une paix possible entre les deux peuples, s'apprêtent à relever leur plus grand défi : faire la connaissance des grands-parents !\" [Source : 4e de couv.].</td><td>4.46</td><td>24</td></tr><tr><td>The Night Circus</td><td>The circus arrives without warning. No announcements precede it. It is simply there, when yesterday it was not. Within the black-and-white striped canvas tents is an utterly unique experience full of breathtaking amazements. It is called Le Cirque des Rêves, and it is only open at night. But behind the scenes, a fierce competition is underway—a duel between two young magicians, Celia and Marco, who have been trained since childhood expressly for this purpose by their mercurial instructors. Unbeknownst to them, this is a game in which only one can be left standing, and the circus is but the stage for a remarkable battle of imagination and will. Despite themselves, however, Celia and Marco tumble headfirst into love—a deep, magical love that makes the lights flicker and the room grow warm whenever they so much as brush hands. True love or not, the game must play out, and the fates of everyone involved, from the cast of extraordinary circus per formers to the patrons, hang in the balance, suspended as precariously as the daring acrobats overhead. Written in rich, seductive prose, this spell-casting novel is a feast for the senses and the heart. - Publisher.</td><td>4.46</td><td>26</td></tr><tr><td>Dork Diaries 7</td><td>This is yet another book of Dork Diaries. Nikki is getting her shot to become famous on the news, but there's obstacles. 1.Mackenzie. Will there be another Big Mac attack? 2.Brianna. You think that Brianna is nothing but a cute child, or maybe you think she's a Category 5 hurricane in pigtails? Let's see if Brianna strikes again. You probably know Dork Diaries: Middle School Mayhem, enemies, little sisters, and **ROMANCE**! Will Nikki Maxwell and Brandon Roberts officially KISS?! Read the book to find out :)</td><td>4.45</td><td>31</td></tr><tr><td>Awkward</td><td>Penelope Torres (or Peppi, for short,) is a new student at a new school. Unfortunately, the first day didn't turn out so good. She trips and drops her stuff, and a nice boy, Jaime Tompson, was so kind to pick up her stuff and hand it to her. The bullies made fun of Jaime, and called him \"Nerder,\" and as Peppi didn't want to look bad, especially on her first day, she took her stuff and ran. For weeks, **months** she couldn't work the nerve to apologize. She passes by other various obstacles in her student life, as well as making new friends and joining an art club in her school. But, does she apologize, and work it out with Jaime, or does this *barrier* affect their relationship? (Not romantically, this isn't a romance book.)</td><td>4.45</td><td>20</td></tr><tr><td>The Spanish Love Deception</td><td>Honestly, this book has my heart. My entire heart. The way the author has unfolded every part of the story with a lovely delicacy makes me want to indulge in their lives wholly. I can't put into words how much I love Aaron. And Catalina, of course. This book has probably the best enemies to lovers trope that I've ever read. And oh, the romance had me squirm in my belly. It's just that their love is so raw and pure that I'm certain it any rom-com reader would adore it. I absolutely loved the protagonists and I'm wondering I might get an Aaron-Blackford-obsession</td><td>4.45</td><td>22</td></tr><tr><td>Carry On</td><td>Simon Snow is the worst Chosen One who’s ever been chosen.\r\n",
       "\r\n",
       "That’s what his roommate, Baz, says. And Baz might be evil and a vampire and a complete git, but he’s probably right.\r\n",
       "\r\n",
       "Half the time, Simon can’t even make his wand work, and the other half, he sets something on fire. His mentor’s avoiding him, his girlfriend broke up with him, and there’s a magic-eating monster running around wearing Simon’s face. Baz would be having a field day with all this, if he were here—it’s their last year at the Watford School of Magicks, and Simon’s infuriating nemesis didn’t even bother to show up.</td><td>4.44</td><td>16</td></tr><tr><td>Jaws</td><td>Jaws is a 1974 novel by American writer Peter Benchley. It tells the story of a great white shark that preys upon a small resort town and the voyage of three men trying to kill it. The novel grew out of Benchley's interest in shark attacks after he learned about the exploits of Montauk, New York shark fisherman Frank Mundus in 1964. Doubleday commissioned him to write the novel in 1971, a period when Benchley worked as a freelance journalist.\r\n",
       "\r\n",
       "----------\r\n",
       "Also contained in:\r\n",
       "\r\n",
       " - [Best Sellers from Reader's Digest Condensed Books](https://openlibrary.org/works/OL15134116W)\r\n",
       " - [Reader's Digest Condensed Books. Volume 2 - 1974](https://openlibrary.org/works/OL15150299W)\r\n",
       " - [Three Complete Novels](https://openlibrary.org/works/OL3454878W/)</td><td>4.44</td><td>16</td></tr><tr><td>The fire next time</td><td>**From Amazon.com:**\r\n",
       "\r\n",
       "A national bestseller when it first appeared in 1963, *The Fire Next Time* galvanized the nation and gave passionate voice to the emerging civil rights movement. At once a powerful evocation of James Baldwin's early life in Harlem and a disturbing examination of the consequences of racial injustice, the book is an intensely personal and provocative document. It consists of two \"letters,\" written on the occasion of the centennial of the Emancipation Proclamation, that exhort Americans, both black and white, to attack the terrible legacy of racism. Described by The New York Times Book Review as \"sermon, ultimatum, confession, deposition, testament, and chronicle...all presented in searing, brilliant prose,\" The Fire Next Time stands as a classic of our literature.</td><td>4.43</td><td>23</td></tr><tr><td>To all the Boys I've Loved Before</td><td>What if all the crushes you ever had found out how you felt about them… all at once? \r\n",
       "\r\n",
       "Sixteen-year-old Lara Jean Covey keeps her love letters in a hatbox her mother gave her. They aren’t love letters that anyone else wrote for her; these are ones she’s written. One for every boy she’s ever loved—five in all. When she writes, she pours out her heart and soul and says all the things she would never say in real life, because her letters are for her eyes only. Until the day that her sister Kathrine, secretly mailed the letters and Lara Jean’s love life goes from imaginary to out of control.</td><td>4.43</td><td>44</td></tr><tr><td>Wonder</td><td>Wonder is a children's novel written by R. J. Palacio,[2] published on 14 February 2012.\r\n",
       "\r\n",
       "R. J. Palacio wrote Wonder after an incident where her son noticed a girl with a severe facial difference and started to cry. Fearing he would react badly, Palacio attempted to remove her son from the situation so as not to upset the girl and her family but ended up worsening the situation. Natalie Merchant's song of the same name made her realize that the incident could illustrate a valuable lesson. Palacio was inspired by Merchant's lyrics and she began writing. She named the book directly after the song and used the song's chorus as the prologue of the first chapter.</td><td>4.42</td><td>128</td></tr><tr><td>Maus I</td><td>A story of a Jewish survivor of Hitler's Europe and his son, a cartoonist who tries to come to terms with his father's story and history itself.</td><td>4.42</td><td>52</td></tr><tr><td>A little princess</td><td>Sara Crewe, a pupil at Miss Minchin's London school, is left in poverty when her father dies but is later rescued by a mysterious benefactor.</td><td>4.42</td><td>19</td></tr><tr><td>Norse Mythology</td><td>Neil Gaiman has long been inspired by ancient mythology in creating the fantastical realms of his fiction. Now he turns his attention back to the source, presenting a bravura rendition of the great northern tales.\r\n",
       "\r\n",
       "In Norse Mythology, Gaiman stays true to the myths in envisioning the major Norse pantheon: Odin, the highest of the high, wise, daring, and cunning; Thor, Odin’s son, incredibly strong yet not the wisest of gods; and Loki―son of a giant―blood brother to Odin and a trickster and unsurpassable manipulator.\r\n",
       "\r\n",
       "Gaiman fashions these primeval stories into a novelistic arc that begins with the genesis of the legendary nine worlds and delves into the exploits of deities, dwarfs, and giants. Once, when Thor’s hammer is stolen, Thor must disguise himself as a woman―difficult with his beard and huge appetite―to steal it back. More poignant is the tale in which the blood of Kvasir―the most sagacious of gods―is turned into a mead that infuses drinkers with poetry. The work culminates in Ragnarok, the twilight of the gods and rebirth of a new time and people.\r\n",
       "\r\n",
       "Through Gaiman’s deft and witty prose emerge these gods with their fiercely competitive natures, their susceptibility to being duped and to duping others, and their tendency to let passion ignite their actions, making these long-ago myths breathe pungent life again.</td><td>4.42</td><td>24</td></tr><tr><td>A Storm of Swords</td><td>Of the five contenders for power, one is dead, another in disfavor, and still the wars rage as alliances are made and broken. Joffrey sits on the Iron Throne, the uneasy ruler of the Seven Kingdoms. His most bitter rival, Lord Stannis, stands defeated and disgraced, victim of the sorceress who holds him in her thrall. Young Robb still rules the North from the fortress of Riverrun. Meanwhile, making her way across a blood-drenched continent is the exiled queen, Daenerys, mistress of the only three dragons still left in the world. And as opposing forces manoeuver for the final showdown, an army of barbaric wildlings arrives from the outermost limits of civilization, accompanied by a horde of mythical Others—a supernatural army of the living dead whose animated corpses are unstoppable. As the future of the land hangs in the balance, no one will rest until the Seven Kingdoms have exploded in a veritable storm of swords...</td><td>4.41</td><td>51</td></tr><tr><td>Because of Mr. Terupt</td><td>Because of Mr. Terupt is the 2010 debut children's novel by Rob Buyea. Told through the eyes of seven students, it is about one year in the life of a fifth-grade class and their new teacher at the fictitious Snow Hill School.\r\n",
       "\r\n",
       "The novel was a 2011 Middle Reader Honor Awards book of the E.B. White Read Aloud Award. It received the 2013 Young Hoosier Book Award (Intermediate).</td><td>4.41</td><td>17</td></tr><tr><td>Rebecca</td><td>With these words, the reader is ushered into an isolated gray stone mansion on the windswept Cornish coast, as the second Mrs. Maxim de Winter recalls the chilling events that transpired as she began her new life as the young bride of a husband she barely knew. For in every corner of every room were phantoms of a time dead but not forgotten—a past devotedly preserved by the sinister housekeeper, Mrs. Danvers: a suite immaculate and untouched, clothing laid out and ready to be worn, but not by any of the great house's current occupants. With an eerie presentiment of evil tightening her heart, the second Mrs. de Winter walked in the shadow of her mysterious predecessor, determined to uncover the darkest secrets and shattering truths about Maxim's first wife—the late and hauntingly beautiful Rebecca.</td><td>4.4</td><td>25</td></tr><tr><td>Stories of Your Life and Others</td><td>Ted Chiang's first published story, \"Tower of Babylon,\" won the Nebula Award in 1990. Subsequent stories have won the Asimov's SF Magazine reader poll, a second Nebula Award, the Theodore Sturgeon Memorial Award, and the Sidewise Award for alternate history. He won the John W. Campbell Award for Best New Writer in 1992. Story for story, he is the most honored young writer in modern SF.\r\n",
       "\r\n",
       "Now, collected here for the first time are all seven of this extraordinary writer's stories so far--plus an eighth story written especially for this volume.\r\n",
       "\r\n",
       "What if men built a tower from Earth to Heaven--and broke through to Heaven's other side? What if we discovered that the fundamentals of mathematics were arbitrary and inconsistent? What if there were a science of naming things that calls life into being from inanimate matter? What if exposure to an alien language forever changed our perception of time? What if all the beliefs of fundamentalist Christianity were literally true, and the sight of sinners being swallowed into fiery pits were a routine event on city streets? These are the kinds of outrageous questions posed by the stories of Ted Chiang. Stories of your life . . . and others.</td><td>4.4</td><td>48</td></tr><tr><td>Are You My Mother?</td><td>This story is about a baby bird who lost his mother and found</td><td>4.39</td><td>36</td></tr><tr><td>Shōgun (Asian Saga</td><td>After Englishman John Blackthorne is lost at sea, he awakens in a place few Europeans know of and even fewer have seen--Nippon. Thrust into the closed society that is seventeenth-century Japan, a land where the line between life and death is razor-thin, Blackthorne must negotiate not only a foreign people, with unknown customs and language, but also his own definitions of morality, truth, and freedom. As internal political strife and a clash of cultures lead to seemingly inevitable conflict, Blackthorne's loyalty and strength of character are tested by both passion and loss, and he is torn between two worlds that will each be forever changed.\r\n",
       "\r\n",
       "Powerful and engrossing, capturing both the rich pageantry and stark realities of life in feudal Japan, Shōgun is a critically acclaimed powerhouse of a book. Heart-stopping, edge-of-your-seat action melds seamlessly with intricate historical detail and raw human emotion. Endlessly compelling, this sweeping saga captivated the world to become not only one of the best-selling novels of all time but also one of the highest-rated television miniseries, as well as inspiring a nationwide surge of interest in the culture of Japan. Shakespearean in both scope and depth, Shōgun is, as the New York Times put it, \"...not only something you read--you live it.\" Provocative, absorbing, and endlessly fascinating, there is only one: Shōgun.</td><td>4.39</td><td>18</td></tr><tr><td>1491</td><td>A groundbreaking study that radically alters our understanding of the Americas before the arrival of the Europeans in 1492.Traditionally, Americans learned in school that the ancestors of the people who inhabited the Western Hemisphere at the time of Columbus's landing had crossed the Bering Strait twelve thousand years ago; existed mainly in small, nomadic bands; and lived so lightly on the land that the Americas was, for all practical purposes, still a vast wilderness. But as Charles C. Mann now makes clear, archaeologists and anthropologists have spent the last thirty years proving these and many other long-held assumptions wrong.In a book that startles and persuades, Mann reveals how a new generation of researchers equipped with novel scientific techniques came to previously unheard-of conclusions. Among them:- In 1491 there were probably more people living in the Americas than in Europe.- Certain cities--such as Tenochtitlan, the Aztec capital--were far greater in population than any contemporary European city. Furthermore, Tenochtitlan, unlike any capital in Europe at that time, had running water, beautiful botanical gardens, and immaculately clean streets.- The earliest cities in the Western Hemisphere were thriving before the Egyptians built the great pyramids.- Pre-Columbian Indians in Mexico developed corn by a breeding process so sophisticated that the journal Science recently described it as \"man's first, and perhaps the greatest, feat of genetic engineering.\"- Amazonian Indians learned how to farm the rain forest without destroying it--a process scientists are studying today in the hope of regaining this lost knowledge.- Native Americans transformed their land so completely that Europeans arrived in a hemisphere already  massively \"landscaped\" by human beings.Mann sheds clarifying light on the methods used to arrive at these new visions of the pre-Columbian Americas and how they have affected our understanding of our history and our thinking about the environment. His book is an exciting and learned account of scientific inquiry and revelation.From the Hardcover edition.</td><td>4.38</td><td>21</td></tr><tr><td>the secret of the snow</td><td>This book is very adventurous. Will Mystery and the Thea Sisters meet a animal looking like a raccoon called a Tanku. This guy found the elevator trying be safe from a snow storm. The reason he there is because of the storm. He said the Lotus Flowers that keep the kingdom healthy are disappearing. Will they be able to find out who is destroying these beautiful flowers.</td><td>4.38</td><td>16</td></tr><tr><td>Desire</td><td>Natasha was crushed when her engagement to Mike Porter was suddenly called off. And that was the only reason she allowed herself to have so much champagne at the party.\r\n",
       "\r\n",
       "But there was no excuse for finding herself in Lee Farrell's bed the next morning. That was something totally out of character for Natasha—and it cost her dearly.\r\n",
       "\r\n",
       "Rushed into marriage, expecting Lee’s baby, she thought the future seemed bleak indeed. For how could she ever love a man she hardly even knew?</td><td>4.37</td><td>19</td></tr><tr><td>Turn Coat</td><td>The new novel in the hit New York Times bestselling Dresden Files series.The Warden Morgan has been accused of treason against the Wizards of the White Counciland theres only one, final punishment for that crime. Hes on the run, wants his name cleared, and needs someone with a knack for backing the underdog. Someone like Harry Dresden...Now, Harry must uncover a traitor within the Council, keep a less-than-agreeable Morgan under wraps, and avoid coming under scrutiny himself. And a single mistake may cost someone his headsomeone like Harry</td><td>4.37</td><td>30</td></tr><tr><td>Aristotle and Dante discover the secrets of the universe</td><td>Fifteen-year-old Ari Mendoza is an angry loner with a brother in prison, but when he meets Dante and they become friends, Ari starts to ask questions about himself, his parents, and his family that he has never asked before.</td><td>4.36</td><td>25</td></tr><tr><td>The warded man</td><td>The time has come to stand against the night.As darkness falls each night, the corelings rise--demons who well up from the ground like hellish steam, taking on fearsome form and substance. Sand demons. Wood demons. Wind demons. Flame demons. And gigantic rock demons, the deadliest of all. They possess supernatural strength and powers and burn with a consuming hatred of humanity. For hundreds of years the demons have terrorized the night, slowly culling the human herd that shelters behind magical wards--symbols of power whose origins are lost in myth and mystery, and whose protection is terrifyingly fragile.It was not always this way. Once, men and women battled the corelings on equal terms. Once, under the leadership of the legendary Deliverer, and armed with powerful wards that were not merely shields but weapons, they took the battle to the demons . . . and stopped their advance.But those days are gone. The fighting wards are lost. Night by night the demons grow stronger, while human numbers dwindle under their relentless assault.Now, with hope for the future fading, three young survivors of vicious demon attacks will dare the impossible, stepping beyond the crumbling safety of the wards to risk everything in a desperate quest to regain the secrets of the past. Arlen will pay any price, embrace any sacrifice, for freedom. His grim journey will take him beyond the bounds of human power.Crippled by the demons that killed his parents, Rojer seeks solace in music--only to discover that music can be a weapon as well as a refuge. Beautiful Leesha, who has suffered at the hands of men as well as demons, becomes an expert healer. But what cures can also harm. . . . Together, they will stand against the night.From the Hardcover edition.</td><td>4.36</td><td>22</td></tr><tr><td>Bullshit Jobs</td><td>Bullshit Jobs: A Theory is a 2018 book by anthropologist David Graeber that argues the existence and societal harm of meaningless jobs. He contends that over half of societal work is pointless, which becomes psychologically destructive when paired with a work ethic that associates work with self-worth. Graeber describes five types of bullshit jobs, in which workers pretend their role isn't as pointless or harmful as they know it to be: flunkies, goons, duct tapers, box tickers, and taskmasters. He argues that the association of labor with virtuous suffering is recent in human history, and proposes universal basic income as a potential solution.</td><td>4.35</td><td>17</td></tr><tr><td>Sisters</td><td>This is the second book of the New York Times bestselling series. It is about the Raina Telgemeier’s life with her younger sister.</td><td>4.35</td><td>23</td></tr><tr><td>Shiloh</td><td>When Marty Preston comes across a young beagle in the hills behind his home, it's love at first sight—and also big trouble. It turns out the dog, which Marty names Shiloh, belongs to Judd Travers, who drinks too much and has a gun—and abuses his dogs. So when Shiloh runs away from Judd to Marty, Marty just has to hide him and protect him from Judd. But Marty's secret becomes too big for him to keep to himself, and it exposes his entire family to Judd's anger. How far will Marty have to go to make Shiloh his?</td><td>4.35</td><td>17</td></tr><tr><td>Milk and Honey</td><td>The book is divided into four chapters, each chapter serves a different purpose. They deal with different pains; heal different heartaches. Milk and honey takes readers through a journey of the most bitter moments in life and finds sweetness in them, because there is sweetness everywhere If you are just willing to look.</td><td>4.35</td><td>52</td></tr><tr><td>Proven Guilty (The Dresden Files, Book 8)</td><td>The White Council of Wizards has drafted Harry Dresden as a Warden and assigned him to look into rumors of black magic in Chicago. Malevolent entities that feed on fear are loose in the Windy City, but it's all in a day's work for a wizard, his faithful dog, and a talking skull named Bob...</td><td>4.35</td><td>26</td></tr><tr><td>Dork Diaries</td><td>A fun book where Nikki and her friends have to get over her crush, Brandon. Will it be too much pressure? Find out by reading Dork Diaries: Tales from a not-so-secret Crush catastrophe</td><td>4.35</td><td>17</td></tr><tr><td>The Green Mile</td><td>The Green Mile is a 1996 serial novel by American writer Stephen King. It tells the story of death row supervisor Paul Edgecombe's encounter with John Coffey, an unusual inmate who displays inexplicable healing and empathetic abilities. The serial novel was originally released in six volumes before being republished as a single-volume work. The book is an example of magical realism.\r\n",
       "\r\n",
       "The Green Mile won the Bram Stoker Award for Best Novel in 1996. In 1997, The Green Mile was nominated as Best Novel for the British Fantasy Award and the Locus Award. In 2003 the book was listed on the BBC's The Big Read poll of the UK's \"best-loved novel\".\r\n",
       "\r\n",
       "\r\n",
       "----------\r\n",
       "Contains:\r\n",
       "\r\n",
       " 1. [The Two Dead Girls](https://openlibrary.org/works/OL149165W/The_Two_Dead_Girls)\r\n",
       " 2. [The Mouse on the Mile](https://openlibrary.org/works/OL149147W/The_Mouse_on_the_Mile)\r\n",
       " 3. [Coffey's Hands](https://openlibrary.org/works/OL149107W/Coffey's_Hands)\r\n",
       " 4. [The Bad Death of Eduard Delacroix](https://openlibrary.org/works/OL15861106W/The_Bad_Death_of_Eduard_Delacroix)\r\n",
       " 5. [Night Journey](https://openlibrary.org/works/OL16252000W/Night_Journey)\r\n",
       " 6. [Coffey on the Mile](https://openlibrary.org/works/OL15136222W/Coffey_on_the_Mile)</td><td>4.34</td><td>59</td></tr><tr><td>Factfulness</td><td>It turns out that the world, for all its imperfections, is in a much better state than we might think. But when we worry about everything all the time instead of embracing a worldview based on facts, we can lose our ability to focus on the things that threaten us most.</td><td>4.34</td><td>50</td></tr><tr><td>A Thousand Splendid Suns</td><td>After 103 weeks on the New York Times bestseller list and with four million copies of The Kite Runner shipped, Khaled Hosseini returns with a beautiful, riveting, and haunting novel that confirms his place as one of the most important literary writers today.\r\n",
       "\r\n",
       "Propelled by the same superb instinct for storytelling that made The Kite Runner a beloved classic, A Thousand Splendid Suns is at once an incredible chronicle of thirty years of Afghan history and a deeply moving story of family, friendship, faith, and the salvation to be found in love.\r\n",
       "\r\n",
       "Born a generation apart and with very different ideas about love and family, Mariam and Laila are two women brought jarringly together by war, by loss and by fate. As they endure the ever escalating dangers around them—in their home as well as in the streets of Kabul—they come to form a bond that makes them both sisters and mother-daughter to each other, and that will ultimately alter the course not just of their own lives but of the next generation. With heart-wrenching power and suspense, Hosseini shows how a woman's love for her family can move her to shocking and heroic acts of self-sacrifice, and that in the end it is love, or even the memory of love, that is often the key to survival.\r\n",
       "\r\n",
       "A stunning accomplishment, A Thousand Splendid Suns is a haunting, heartbreaking, compelling story of an unforgiving time, an unlikely friendship, and an indestructible love.\r\n",
       "([source][1])\r\n",
       "\r\n",
       "\r\n",
       "  [1]: https://khaledhosseini.com/books/a-thousand-splendid-suns/</td><td>4.34</td><td>61</td></tr><tr><td>The Godfather</td><td>The Godfather is a crime novel by American author Mario Puzo. Originally published in 1969 by G. P. Putnam's Sons, the novel details the story of a fictional Mafia family in New York City (and Long Beach, New York), headed by Vito Corleone. Puzo's dedication for The Godfather is \"For Anthony Cleri\". The novel's epigraph is by the French author Honoré de Balzac: \"Behind every great fortune there is a crime.\" The novel covers the years 1945 to 1955 and includes the back story of Vito Corleone from early childhood to adulthood.\r\n",
       "\r\n",
       "\r\n",
       "----------\r\n",
       "Also contained in:\r\n",
       "\r\n",
       " - [The Godfather / The Fortunate Pilgrim](https://openlibrary.org/works/OL7920005W)\r\n",
       " - [The Godfather / The Last Don](https://openlibrary.org/works/OL1673242W)</td><td>4.34</td><td>29</td></tr><tr><td>Lamb</td><td>The birth of Jesus has been well chronicled, as have his glorious teachings, acts, and divine sacrifice after his thirtieth birthday. But no one knows about the early life of the Son of God, the missing years -- except Biff, the Messiah's best bud, who has been resurrected to tell the story in the divinely hilarious yet heartfelt work \"reminiscent of Vonnegut and Douglas Adams\" (Philadelphia Inquirer).Verily, the story Biff has to tell is a miraculous one, filled with remarkable journeys, magic, healings, kung fu, corpse reanimations, demons, and hot babes. Even the considerable wiles and devotion of the Savior's pal may not be enough to divert Joshua  from his tragic destiny. But there's no one who loves Josh more -- except maybe \"Maggie,\" Mary of Magdala -- and Biff isn't about to let his extraordinary pal suffer and ascend without a fight.</td><td>4.33</td><td>18</td></tr><tr><td>Good Omens</td><td>Armageddon only happens once, you know. They don't let you go around again until you get it right.\r\n",
       "\r\n",
       "According to the Nice and Accurate Prophecies of Agnes Nutter, Witch - the world's only totally reliable guide to the future, written in 1655, before she exploded - the world will end on a Saturday. \r\n",
       "\r\n",
       "Next Saturday, in fact. Just after tea...\r\n",
       "\r\n",
       "People have been predicting the end of the world almost from its very beginning, so it's only natural to be sceptical when a new date is set for Judgement Day.\r\n",
       "\r\n",
       "This time though, the armies of Good and Evil really do appear to be massing. The four Bikers of the Apocalypse are hitting the road. But both the angels and demons - well, one fast-living demon and a somewhat fussy angel - would quite like the Rapture not to happen.\r\n",
       "\r\n",
       "Oh, and someone seems to have misplaced the Antichrist...</td><td>4.33</td><td>39</td></tr><tr><td>The Return of the King</td><td>While the evil might of the Dark Lord Sauron swarms out to conquer all Middle-earth, Frodo and Sam struggle deep into Mordor, seat of Sauron’s power. To defeat the Dark Lord, the One Ring, ruler of the accursed Rings of Power, must be destroyed in the fires of Mount Doom. But the way is impossibly hard, and Frodo is weakening. Weighed down by the compulsion of the Ring, he begins finally to despair.</td><td>4.33</td><td>49</td></tr><tr><td>Cosmos</td><td>This book is about science in its broadest human context, how science and civilization grew up together. It is the story of our long journey of discovery and the forces and individuals who helped to shape modern science, including Democritus, Hypatia, Kepler, Newton, Huygens, Champollion, Lowell and Humason. The book also explores spacecraft missions of discovery of the nearby planets, the research in the Library of ancient Alexandria, the human brain, Egyptian hieroglyphics, the origin of life, the death of the Sun, the evolution of galaxies and the origins of matter, suns and worlds. The author retraces the fifteen billion years of cosmic evolution that have transformed matter into life and consciousness, enabling the cosmos to wonder about itself. He considers the latest findings on life elsewhere and how we might communicate with the beings of other worlds. ~ WorldCat.org</td><td>4.33</td><td>42</td></tr><tr><td>Morning star</td><td>\"Red Rising thrilled readers and announced the presence of a talented new author. Golden Son changed the game and took the story of Darrow to the next level. Now comes the exhilarating conclusion to the Red Rising Trilogy: Morning Star. Darrow would have lived in peace, but his enemies brought him war. The Gold overlords demanded his obedience, hanged his wife, and enslaved his people. But Darrow is determined to fight back. Risking everything to transform himself and breach Gold society, Darrow has battled to survive the cutthroat rivalries that breed Society's mightiest warriors, climbed the ranks, and waited patiently to unleash the revolution that will tear the hierarchy apart from within. Finally, the time has come. But devotion to honor and hunger for vengeance run deep on both sides. Darrow and his comrades-in-arms face powerful enemies without scruple or mercy. Among them are some Darrow once considered friends. To win, Darrow will need to inspire those shackled in darkness to break their chains, unmake the world their cruel masters have built, and claim a destiny too long denied--and too glorious to surrender. Advance praise for Morning Star \"Multilayered and seething with characters who exist in a shadow world between history and myth, much as in Frank Herbert's Dune. an ambitious and satisfying conclusion to a monumental saga.\"--Kirkus Reviews Praise for Pierce Brown and the Red Rising Trilogy Red Rising \"[A] spectacular adventure. one heart-pounding ride. Pierce Brown's dizzyingly good debut novel evokes The Hunger Games, Lord of the Flies, and Ender's Game. [Red Rising] has everything it needs to become meteoric.\"--Entertainment Weekly \"[A] top-notch debut novel. Red Rising ascends above a crowded dystopian field.\"--USA Today \"Pierce Brown has done an astounding job at delivering a powerful piece of literature that will definitely make a mark in the minds of readers.\"--The Huffington Post Golden Son \"Brown writes layered, flawed characters. but plot is his most breathtaking strength. Every action seems to flow into the next.\"--NPR \"In a word, Golden Son is stunning. Among science fiction fans, it should be a shoo-in for book of the year.\"--Tor.com \"The jaw-dropper of an ending will leave readers hungry for the conclusion to Brown's wholly original, completely thrilling saga.\"--Booklist (starred review)\"--\n",
       "\n",
       "\"The conclusion of the Red Rising trilogy. Born a lowly Red in the mines of Mars, Darrow lost his beloved wife to the treacherous Gold overlords. Vowing to fight for the future that his wife believed in, Darrow joins a secret revolutionary group and is remade into a Gold so that he can infiltrate the ruling class and bring them down from the inside. Now, after years of hiding amongst the Golds, Darrow is finally ready to declare open revolution and throw off the chains of oppression. Nothing in Darrow's world has been easily won, and this final fight will be the most harrowing of all\"--</td><td>4.32</td><td>28</td></tr><tr><td>The Martian</td><td>The Martian is a 2011 science fiction novel written by Andy Weir. It was his debut novel under his own name. It was originally self-published in 2011; Crown Publishing purchased the rights and re-released it in 2014. The story follows an American astronaut, Mark Watney, as he becomes stranded alone on Mars in 2035 and must improvise in order to survive.</td><td>4.32</td><td>164</td></tr><tr><td>the sun and her flowers</td><td>Divided into five chapters and illustrated by Kaur, the sun and her flowers is a journey of wilting, falling, rooting, rising, and blooming. A celebration of love in all its forms.</td><td>4.32</td><td>28</td></tr><tr><td>The Selection</td><td>For thirty-five girls, the Selection is the chance of a lifetime. The opportunity to escape the life laid out for them since birth. To be swept up in a world of glittering gowns and priceless jewels. To live in a palace and compete for the heart of gorgeous Prince Maxon.\r\n",
       "\r\n",
       "But for America Singer, being Selected is a nightmare. It means turning her back on her secret love with Aspen, who is a caste below her. Leaving her home to enter a fierce competition for a crown she doesn't want. Living in a palace that is constantly threatened by violent rebel attacks.\r\n",
       "\r\n",
       "Then America meets Prince Maxon. Gradually, she starts to question all the plans she's made for herself—and realizes that the life she's always dreamed of may not compare to a future she never imagined.</td><td>4.32</td><td>31</td></tr><tr><td>Mother Night</td><td>Mother Night is a daring challenge to our moral sense. American Howard W. Campbell, Jr., a spy during World War II, is now on trial in Israel as a Nazi war criminal. But is he really guilty? In this brilliant book rife with true gallows humor, Vonnegut turns black and white into a chilling shade of gray with a verdict that will haunt us all.</td><td>4.32</td><td>25</td></tr><tr><td>Curious George</td><td>George is an African monkey who has come to America with his friend The Man in The Yellow Hat. They get into all sort of trouble in this 1946 Childrens' novel.</td><td>4.31</td><td>16</td></tr><tr><td>And to think that I saw it on Mulberry Street</td><td>\"Dr. Seuss’s very first book for children! From a mere horse and wagon, young Marco concocts a colorful cast of characters, making Mulberry Street the most interesting location in town. Dr. Seuss’s signature rhythmic text, combined with his unmistakable illustrations, will appeal to fans of all ages, who will cheer when our hero proves that a little imagination can go a very long way. (Who wouldn’t cheer when an elephant-pulled sleigh raced by?) Now over seventy-five years old, this story is as timeless as ever. And Marco’s singular kind of optimism is also evident in McElligot’s Pool\" - Google Books</td><td>4.31</td><td>16</td></tr><tr><td>Changes</td><td>The new novel in the #1 New York Times bestselling Dresden Files series. Long ago, Susan Rodriguez was Harry Dresden's lover-until she was attacked by his enemies, leaving her torn between her own humanity and the bloodlust of the vampiric Red Court. Susan then disappeared to South America, where she could fight both her savage gift and those who cursed her with it.Now Arianna Ortega, Duchess of the Red Court, has discovered a secret Susan has long kept, and she plans to use it-against Harry. To prevail this time, he may have no choice but to embrace the raging fury of his own untapped dark power. Because Harry's not fighting to save the world...He's fighting to save his child.</td><td>4.31</td><td>29</td></tr><tr><td>The Magic Tree House Collection #1</td><td>The adventures that started it all! Newly bound together, the first four books of the fan-favorite chapter-book series are the perfect introduction to the New York Times bestselling Magic Tree House series. Parents, teachers, and librarians hail the series as a tool to promote reading, as even the most reluctant readers want to know where the Magic Tree House will take the brother-and-sister team next.\r\n",
       "\r\n",
       "The story begins with Dinosaurs Before Dark, when Jack and Annie discover a mysterious tree house filled with books and a trip back to the time of the dinosaurs follows. In The Knight at Dawn, Jack and Annie are in the Great Hall of a castle; a feast is under way, but they aren't exactly welcome guests. When the tree house whisks them back to ancient Egypt in Mummies in the Morning, Jack and Annie must help a long-dead queen solve a puzzle. And in Pirates Past Noon, Jack and Annie find a secret map that leads to buried treasure and ruthless pirates! Mary Pope Osborne brings together just the right combination of history, magic, and fast-paced adventure to satisfy kids, parents, teachers, and librarians all over the world with her New York Times bestselling series.</td><td>4.31</td><td>16</td></tr><tr><td>Skin Game</td><td>Chicago wizard Harry Dresden must help a hated enemy, Nicodemus Archleone, break into a high security vault to steal something belonging to the Lord of the Underworld.</td><td>4.31</td><td>16</td></tr><tr><td>Dead Beat (The Dresden Files, Book 7)</td><td>The USA Today Bestselling Author's new Dresden Files novel...finally in paperback-and soon to be a Sci Fi Channel movie!Filled with kickass adventure and supernatural fireworks, Jim Butcher's Dresden Files novels have been compared to Harry Potter. Now, Harry Dresden must save Chicago from black magic and necromancy-all in a day's work for the city's only professional wizard.</td><td>4.31</td><td>29</td></tr></tbody></table></div>"
      ]
     },
     "metadata": {
      "application/vnd.databricks.v1+output": {
       "addedWidgets": {},
       "aggData": [],
       "aggError": "",
       "aggOverflow": false,
       "aggSchema": [],
       "aggSeriesLimitReached": false,
       "aggType": "",
       "arguments": {},
       "columnCustomDisplayInfos": {},
       "data": [
        [
         "The Brilliant World Of Tom Gates",
         "a comical novel",
         5.0,
         16
        ],
        [
         "The essential Calvin and Hobbes",
         "Includes cartoons from *Calvin and Hobbes* and *Something Under the Bed Is Drooling*",
         4.82,
         17
        ],
        [
         "Wings of Fire",
         "Deep in the rain forest, danger awaits...\r\n\r\nGlory knows the dragon world is wrong about her tribe. After all, she isn't \"as lazy as a RainWing\" -- she isn't lazy at all! Maybe she wasn't meant to be one of the dragonets of destiny, as the older dragons constantly remind her, but Glory is sharp and her venom is deadly... except, of course, no one knows it.\r\n\r\nWhen the dragonets seek shelter in the rain forest, Glory is devastated to find that the treetops are full of RainWings that no dragon could ever call dangerous. They nap all day and know nothing of the rest of Pyrrhia. Worst of all, they don't realize -- or care -- that RainWings are going missing from their beautiful forest. But Glory and the dragonets are determined to find the missing dragons, even if it drags the peaceful RainWing kingdom where they never wanted to be -- in the middle of the war.",
         4.75,
         16
        ],
        [
         "Piranesi",
         "**From the *New York Times* bestselling author of *Jonathan Strange & Mr. Norrell*, an intoxicating, hypnotic new novel set in a dreamlike alternative reality.**\r\n\r\nPiranesi's house is no ordinary building; its rooms are infinite, its corridors endless, its walls are lined with thousands upon thousands of statues, each one different from all the others. Within the labyrinth of halls an ocean is imprisoned; waves thunder up staircases, rooms are flooded in an instant. But Piranesi is not afraid; he understands the tides as he understands the pattern of the labyrinth itself. He lives to explore the house.\r\n\r\nThere is one other person in the house--a man called The Other, who visits Piranesi twice a week and asks for help with research into A Great and Secret Knowledge. But as Piranesi explores, evidence emerges of another person, and a terrible truth begins to unravel, revealing a world beyond the one Piranesi has always known.\r\n\r\nFor readers of Neil Gaiman's *The Ocean at the End of the Lane* and fans of Madeline Miller's *Circe*, *Piranesi* introduces an astonishing new world, an infinite labyrinth full of startling images of surreal beauty, haunted by the tides and the clouds.\r\n\r\nThis description comes from the publisher.",
         4.75,
         20
        ],
        [
         "Thea Stilton and the Lost Letters",
         "The Thea Sisters are in Russia and they find an unexpected mystery when a robbery happens. The Thea Sisters investigate until they almost give up hope when they find something that gives them a breakthrough.",
         4.75,
         20
        ],
        [
         "Harry Potter (series) 1-7",
         "The Harry Potter books throw you into an amazing fantasy world of witches and wizards, spells, magical creatures, He-Who-Must-Not-Be-Named, and a school of witchcraft and wizardry called Hogwarts. In this school Harry Potter takes many magical classes, plays Quidditch (the sport where you are on a broomstick scoring goals through hoops, and trying to find the magical snitch.), and defeats Voldemort. When Voldemort comes back at him again and again, Harry realizes that Voldemort is invincible, and there is only one way to kill him. With his lessons with Professor Dumbledore, he discovers Voldemort's past, who he was before he killed all those people, why he killed all those people (including Harry Potter's parents), and how he is still alive, but is almost a creature, with snake eyes, and slits for nostrils. This best-selling series is astonishing and breathtaking and will change your life forever, just by reading it.",
         4.74,
         27
        ],
        [
         "A child called \"it\"",
         "This book chronicles the unforgettable account of one of the most severe child abuse cases in California history. It is the story of Dave Pelzer, who was brutally beaten and starved by his emotionally unstable, alcoholic mother: a mother who played tortuous, unpredictable games--games that left him nearly dead. He had to learn how to play his mother's games in order to survive because she no longer considered him a son, but a slave; and no longer a boy, but an \"it.\"\r\n\r\nDave's bed was an old army cot in the basement, and his clothes were torn and raunchy. When his mother allowed him the luxury of food, it was nothing more than spoiled scraps that even the dogs refused to eat. The outside world knew nothing of his living nightmare. He had nothing or no one to turn to, but his dreams kept him alive--dreams of someone taking care of him, loving him and calling him their son.",
         4.74,
         35
        ],
        [
         "The Mark of Athena",
         "Annabeth is terrified. Just when she's about to be reunited with Percy—after six months of being apart, thanks to Hera—it looks like Camp Jupiter is preparing for war. As Annabeth and her friends Jason, Piper, and Leo fly in on the Argo II, she can't blame the Roman demigods for thinking the ship is a Greek weapon. With its steaming bronze dragon figurehead, Leo's fantastical creation doesn't appear friendly. Annabeth hopes that the sight of their praetor Jason on deck will reassure the Romans that the visitors from Camp Half-Blood are coming in peace.\r\n\r\nAnd that's only one of her worries. In her pocket, Annabeth carries a gift from her mother that came with an unnerving command: Follow the Mark of Athena. Avenge me. Annabeth already feels weighed down by the prophecy that will send seven demigods on a quest to find—and close—the Doors of Death. What more does Athena want from her?\r\n\r\nAnnabeth's biggest fear, though, is that Percy might have changed. What if he's now attached to Roman ways? Does he still need his old friends? As the daughter of the goddess of war and wisdom, Annabeth knows she was born to be a leader—but never again does she want to be without Seaweed Brain by her side\r\n\r\nNarrated by four different demigods, The Mark of Athena is an unforgettable journey across land and sea to Rome, where important discoveries, surprising sacrifices, and unspeakable horrors await. Climb aboard the Argo II, if you dare. . .",
         4.7,
         57
        ],
        [
         "Born a Crime",
         "Born a Crime: Stories from a South African Childhood is an autobiographical comedy book written by the South African comedian Trevor Noah, published in 2016.",
         4.69,
         45
        ],
        [
         "Struwwelpeter",
         "Struwwelpeter is a collection of children's poetry meant to serve as instructions for life's lessons. Most of the stories tell the tale of a child's misbehavior and the grizzly end they will meet if they do not change their ways.",
         4.69,
         16
        ],
        [
         "Permanent Record",
         "Edward Snowden, the man who risked everything to expose the US government’s system of mass surveillance, reveals for the first time the story of his life, including how he helped to build that system and what motivated him to try to bring it down.\r\n\r\nIn 2013, twenty-nine-year-old Edward Snowden shocked the world when he broke with the American intelligence establishment and revealed that the United States government was secretly pursuing the means to collect every single phone call, text message, and email. The result would be an unprecedented system of mass surveillance with the ability to pry into the private lives of every person on earth. Six years later, Snowden reveals for the very first time how he helped to build this system and why he was moved to expose it.\r\n\r\nSpanning the bucolic Beltway suburbs of his childhood and the clandestine CIA and NSA postings of his adulthood, Permanent Record is the extraordinary account of a bright young man who grew up online – a man who became a spy, a whistleblower, and, in exile, the Internet’s conscience. Written with wit, grace, passion, and an unflinching candor, Permanent Record is a crucial memoir of our digital age and destined to be a classic.",
         4.69,
         16
        ],
        [
         "Naruto",
         "**Naruto is a young shinobi with an incorrigible knack for mischief. He's got a wild sense of humor, but Naruto is completely serious about his mission to be the world's greatest ninja!\r\n_________________________________________________________________________________________________________________\r\nNaruto (ナルト?) is a Japanese manga series written and illustrated by Masashi Kishimoto. It tells the story of Naruto Uzumaki, an adolescent ninja who constantly searches for re**cognition and dreams to become the Hokage, the ninja in his village who is acknowledged as the leader and the strongest of all. The series is based on a one-shot manga by Kishimoto that was published in the August 1997 issue of Akamaru Jump.",
         4.68,
         19
        ],
        [
         "The pigeon needs a bath!",
         "The Pigeon is dirty and he needs a bath, but he won't go willingly.",
         4.65,
         20
        ],
        [
         "The duckling gets a cookie!?",
         "Pigeon is very angry when the duckling gets a cookie just by asking politely.",
         4.65,
         20
        ],
        [
         "Dork Diaries 15",
         "so excited to read it. pls hand in **yaaaaaaaaaaas** xx",
         4.65,
         17
        ],
        [
         "Shoe Dog",
         "\"In this candid and riveting memoir, for the first time ever, Nike founder and CEO Phil Knight shares the inside story of the company's early days as an intrepid start-up and its evolution into one of the world's most iconic, game-changing, and profitable brands. In 1962, fresh out of business school, Phil Knight borrowed $50 from his father and created a company with a simple mission: import high-quality, low-cost athletic shoes from Japan. Selling the shoes from the trunk of his lime green Plymouth Valiant, Knight grossed $8,000 his first year. Today, Nike's annual sales top $30 billion. In an age of startups, Nike is the ne plus ultra of all startups, and the swoosh has become a revolutionary, globe-spanning icon, one of the most ubiquitous and recognizable symbols in the world today. But Knight, the man behind the swoosh, has always remained a mystery. Now, for the first time, in a memoir that is candid, humble, gutsy, and wry, he tells his story, beginning with his crossroads moment. At 24, after backpacking around the world, he decided to take the unconventional path, to start his own business--a business that would be dynamic, different. Knight details the many risks and daunting setbacks that stood between him and his dream--along with his early triumphs. Above all, he recalls the formative relationships with his first partners and employees, a ragtag group of misfits and seekers who became a tight-knit band of brothers. Together, harnessing the transcendent power of a shared mission, and a deep belief in the spirit of sport, they built a brand that changed everything\"--",
         4.65,
         31
        ],
        [
         "The war that Saved my Life",
         "Nine-year-old Ada has never left her one-room apartment. Her mother is too humiliated by Ada’s twisted foot to let her outside. So when her little brother Jamie is shipped out of London to escape the war, Ada doesn’t waste a minute—she sneaks out to join him.\r\n \r\nSo begins a new adventure of Ada, and for Susan Smith, the woman who is forced to take the two kids in. As Ada teaches herself to ride a pony, learns to read, and watches for German spies, she begins to trust Susan—and Susan begins to love Ada and Jamie. But in the end, will their bond be enough to hold them together through wartime? Or will Ada and her brother fall back into the cruel hands of their mother?",
         4.65,
         17
        ],
        [
         "Smile",
         "A true story from Raina's early years. One day after girl scouts raina trips and falls damaging her two front teeth. Even after she gets her braces off she isn't treated the same. When she meets a bunch of nerdy kids she realizes they may be her true friends.",
         4.64,
         42
        ],
        [
         "The Complete Robot",
         "The complete collection of Isaac Asimov’s classic Robot stories.\r\n\r\nIn these stories, Asimov creates the Three Laws of Robotics and ushers in the Robot Age – when Earth is ruled by master-machines and when robots are more human than mankind.\r\n\r\nThe Complete Robot is the ultimate collection of timeless, amazing and amusing robot short stories from the greatest science fiction writer of all time, offering golden insights into robot thought processes. Asimov’s Three Laws of Robotics were programmed into real computers thirty years ago at the Massachusetts Institute of Technology – with surprising results. Readers of today still have many surprises in store…\r\n\r\nA Boy's Best Friend\r\nSally\r\nSomeday\r\nSome Immobile Robots\r\nPoint of View\r\nThink!\r\nTrue Love\r\nSome Metallic Robots\r\nRobot AL-76 Goes Astray\r\nVictory Unintentional\r\nStranger in Paradise\r\nLight Verse\r\nSegregationist\r\nRobbie\r\nSome Humanoid Robots\r\nLet's Get Together\r\nMirror Image\r\nThe Tercentenary Incident\r\nPowell and Donovan\r\nFirst Law\r\nRunaround\r\nReason\r\nCatch That Rabbit\r\nSusan Calvin\r\nLiar!\r\nSatisfaction Guaranteed\r\nLenny\r\nGalley Slave\r\nLittle Lost Robot\r\nRisk\r\nEscape!\r\nEvidence\r\nThe Evitable Conflict\r\nFeminine Intuition\r\nTwo Climaxes\r\n—That Thou Art Mindful of Him!\r\nThe Bicentennial Man",
         4.63,
         16
        ],
        [
         "Sunset",
         "Before there is peace, blood will spill blood, and the lake will run red... \r\n\r\nAs shadows of the past continue to haunt the forest, Brambleclaw is haunted by a dark figure on a dangerous quest for revenge, and must struggle to remain true to his Clan. A sinister path is unfolding and the time is coming for certain warriors to make the choices that will determine their destiny... and the destiny of all the Clans.\r\n\r\n\r\n----------\r\n**Books in this arc**\r\n\r\n 1. [Midnight][1]\r\n 2. [Moonrise][2]\r\n 3. [Dawn][3]\r\n 4. [Starlight][4]\r\n 5. [Twilight][5]\r\n 6. Sunset\r\n\r\n  [1]: https://openlibrary.org/works/OL5714297W\r\n  [2]: https://openlibrary.org/works/OL5714300W\r\n  [3]: https://openlibrary.org/works/OL5714287W\r\n  [4]: https://openlibrary.org/works/OL5714312W\r\n  [5]: https://openlibrary.org/works/OL5714319W\r\n\r\n----------\r\n**Arcs in this series**\r\n\r\n 1. [The Prophecies Begin][a]\r\n 2. The New Prophecy\r\n 3. [The Power of Three][c]\r\n 4. [Omen of the Stars][d]\r\n 5. [Dawn of the Clans][e]\r\n 6. [A Vision of Shadows][f]\r\n 7. [The Broken Code][g]\r\n 8. [A Starless Clan][h]\r\n S. [Super Editions][s]\r\n\r\n  [a]: https://openlibrary.org/books/OL9228970M/INTO\r\n  [b]: https://openlibrary.org/books/OL9235572M/Midnight_(Warriors_The_New_Prophecy_Book_1)\r\n  [c]: https://openlibrary.org/books/OL7283723M/The_Sight_(Warriors_Power_of_Three_Book_1)\r\n  [d]: https://openlibrary.org/books/OL24084711M/Warriors_Omen_of_the_Stars_1\r\n  [e]: https://openlibrary.org/books/OL25995097M/Dawn_of_the_Clans\r\n  [f]: https://openlibrary.org/books/OL26884472M/The_apprentice's_quest\r\n  [g]: https://openlibrary.org/books/OL27958224M/Warriors_The_Broken_Code_1\r\n  [h]: https://openlibrary.org/books/OL32444897M/River/\r\n  [s]: https://openlibrary.org/books/OL7288445M/Firestar's_Quest",
         4.63,
         16
        ],
        [
         "The Cruel Prince",
         "Jude was seven when her parents were murdered and she and her two sisters were stolen away to live in the treacherous High Court of Faerie. Ten years later, Jude wants nothing more than to belong there, despite her mortality. But many of the fey despise humans. Especially Prince Cardan, the youngest and wickedest son of the High King.\r\n\r\nTo win a place at the Court, she must defy him–and face the consequences.\r\n\r\nAs Jude becomes more deeply embroiled in palace intrigues and deceptions, she discovers her own capacity for trickery and bloodshed. But as betrayal threatens to drown the Courts of Faerie in violence, Jude will need to risk her life in a dangerous alliance to save her sisters, and Faerie itself.",
         4.62,
         26
        ],
        [
         "The Complete Maus",
         "On the occasion of the twenty-fifth anniversary of its first publication, here is the definitive edition of the book acclaimed as “the most affecting and successful narrative ever done about the Holocaust” (Wall Street Journal) and “the first masterpiece in comic book history” (The New Yorker).\r\n\r\nThe Pulitzer Prize-winning Maus tells the story of Vladek Spiegelman, a Jewish survivor of Hitler’s Europe, and his son, a cartoonist coming to terms with his father’s story. Maus approaches the unspeakable through the diminutive. Its form, the cartoon (the Nazis are cats, the Jews mice), shocks us out of any lingering sense of familiarity and succeeds in “drawing us closer to the bleak heart of the Holocaust” (The New York Times).\r\n\r\nMaus is a haunting tale within a tale. Vladek’s harrowing story of survival is woven into the author’s account of his tortured relationship with his aging father. Against the backdrop of guilt brought by survival, they stage a normal life of small arguments and unhappy visits. This astonishing retelling of our century’s grisliest news is a story of survival, not only of Vladek but of the children who survive even the survivors. Maus studies the bloody pawprints of history and tracks its meaning for all of us.",
         4.62,
         42
        ],
        [
         "Tales from a not-so-popular party girl",
         "Nikki's diary describes a frightful Halloween, on which she helps with her sister's ballet class party at the same time she is Brandon's date for their middle school Halloween dance, where she has promised to spend the evening with her two best friends.",
         4.61,
         18
        ],
        [
         "Tales from a not-so-smart Miss Know-It-All",
         "When Miss Know-It-All's inbox overflows with pleas for guidance, Nikki Maxwell, the school newspaper advice columnist, turns to her best friends for help.",
         4.59,
         17
        ],
        [
         "The School for Good and Evil",
         "**A dark and enchanting fantasy adventure perfect for those who prefer their fairytales with a twist. The first in the bestselling School for Good and Evil series.**\r\n\r\nEvery four years, two girls are kidnapped from the village of Gavaldon. Legend has it these lost children are sent to the School for Good and Evil, the fabled institution where they become fairytale heroes or villains.\r\n\r\nWith her glass slippers and devotion to good deeds, Sophie knows she'll join the ranks of past students like Cinderella, Rapunzel, and Snow White at the School for Good. Meanwhile, Agatha, with her shapeless black dresses and wicked black cat, seems a natural fit for the villains in the School for Evil.\r\n\r\nBut the two girls soon find their fortunes reversed – Sophie's dumped in the School for Evil to take Uglification, Death Curses and Henchmen Training, while Agatha finds herself in the School for Good, thrust among handsome princes and fair maidens for classes in Princess Etiquette and Animal Communication.\r\n\r\nBut what if the mistake is actually the first clue to discovering who Sophie and Agatha really are?",
         4.59,
         32
        ],
        [
         "Thea Stilton And The Great Tulip Heist",
         "Violet goes to attend an art class in the Netherlands. While she's there, her friend's father- a botanist- goes missing. His disappearance is linked to The Black Tulip. The Thea Sisters rush throughout the flower gardens to find him.",
         4.59,
         17
        ],
        [
         "A Kingdom of Dreams",
         "Abducted from her convent school at 17, headstrong Scottish beauty Jennifer Merrick does not easily surrender to 29 year old Royce Westmoreland, Duke of Claymore. Known as \"The Wolf\"; his very name strikes terror in the hearts of his enemies. But proud Jennifer will have nothing to do with the fierce English warrior who holds her captive, this handsome rogue who taunts her with his blazing arrogance. Boldly she challenges his will... until the night he takes her in his powerful embrace, awakening in her an irresistible hunger. And suddenly Jennifer finds herself ensnared in a bewildering web... a seductive, dangerous trap of pride, passion, loyalty, and overwhelming love.",
         4.58,
         19
        ],
        [
         "Spy school",
         "Twelve-year-old Ben Ripley leaves his public middle school to attend the CIA's highly secretive Espionage Academy, which everyone is told is an elite science school.",
         4.57,
         21
        ],
        [
         "The Wedding",
         "Journeying from England to Scotland to wed a highlander, Lady Brenna had resigned herself to the arranged match. But when a band of fierce, painted warriors captured her en route, she fearlessly met their demand to marry their leader -- the quick-tempered laird Connor MacAlister. She couldn't know that her capture was merely the first act of vengeance against her betrothed, Connor's sworn enemy. Brenna harbored no illusions that her husband was in love with her; after a hasty forest wedding, MacAlister assured her she could return home once she had borne him a son. But she could not deny that she had once proposed to MacAlister -- ten years ago, when she was just a child, and the visitor to her father's castle charmed her with his dazzling, unexpected smile. Now, as she sets out to win the brave chieftain whom she has come to adore, a legacy of revenge ensnares Brenna in a furious clan war -- and only her faith in her gallant hero can save her...\r\n\r\nRelated Books - 2 - 2",
         4.56,
         18
        ],
        [
         "Out of my mind",
         "Eleven-year-old Melody has a photographic memory. Her head is like a video camera that is always recording. Always. And there's no delete button. She's the smartest kid in her whole school, but no one knows it. Most people — her teachers and doctors included — don't think she's capable of learning, and until recently her school days consisted of listening to the same preschool-level alphabet lessons again and again and again. If only she could speak up, if only she could tell people what she thinks and knows...but she can't, because Melody can't talk. She can't walk. She can't write.\r\nBeing stuck inside her head is making Melody go out of her mind — that is, until she discovers something that will allow her to speak for the first time ever. At last Melody has a voice, but not everyone around her is ready to hear it.\r\n\r\nFrom two-time Coretta Scott King Award winner Sharon M. Draper comes a story full of heartache and hope. Get ready to meet a girl whose voice you'll never, ever forget. (Back Cover)",
         4.56,
         18
        ],
        [
         "Romancing Mister Bridgerton",
         "E-Book Extras: ONE: Behind the Novel: Romancing Mr. Bridgerton by Julia Quinn; TWO: The Bridgerton Basics: Ms. Quinn Fills You InPenelope Featherington has secretly adored her best friend's brother for...well, it feels like forever. After half a lifetime of watching Colin Bridgerton from afar, she thinks she knows everything about him, until she stumbles across his deepest secret...and fears she doesn't know him at all.Colin Bridgerton is tired of being thought nothing but an empty-headed charmer, tired of everyone's preoccupation with the notorious gossip columnist Lady Whistledown, who can't seem to publish an edition without mentioning him in the first paragraph. But when Colin returns to London from a trip abroad he discovers nothing in his life is quite the same -- especially Penelope Featherington! The girl haunting his dreams. But when he discovers that Penelope has secrets of her own, this elusive bachelor must decide...is she his biggest threat -- or his promise of a happy ending?",
         4.56,
         18
        ],
        [
         "The summer I turned pretty",
         "This book is fresh fun and exciting. 15 year Belly Conklin is enjoying another summer with the people that she loves in Cousins, a place she's been going to since she was a baby! The fishers, Aka Jerimiah and Conrad, are finally grown up, and Belly feels like she can fit in aswell. Belly would be turning 16 this year, as now she feels as if she can fit in with the boys. She thinks the summer will be fun, Hanging out on the beach and Playing with the people she loves, Belly is looking foward to her summer vacation. But that's when she finds out that Susannah Fisher is diagnosed with Cancer, which changes everything. Things are different in the Summer house. Her first love, Conrad is different, he's distant. While the stay in the house was supposed to be enjoying, they need to focus on things that matter the most. Sussanah. Belly decides that it's time she acts like the adult that she is. Choosing between her 2 lovers Jerimiah and Conrad Fisher. Will either of them like her? Because this...Is the Summer I turned Pretty.",
         4.55,
         44
        ],
        [
         "Season of Mists",
         "In-depth, informative and entertaining, *The Annotated Sandman* is a fascinating look at the celebrated comic book series written by New York Times best-selling author Neil Gaiman.\r\n\r\n*The Sandman* is one of the most acclaimed titles in the history of comics. A rich blend of modern myth and dark fantasy in which contemporary fiction, historical drama and legend are seamlessly interwoven, The Sandman is also widely considered to be one of the most original and artistically ambitious comic books of the modern age. By the time it concluded in 1996, it had made significant contributions to the artistic maturity of comics as a whole and had become a pop culture phenomenon in its own right. Critics and readers alike agreed: The Sandman proved that comic books were not simply a genre but were instead a rich and unique medium combining both art and literature.\r\n\r\nNow, DC Comics is proud to present this literary classic in an all-new Annotated Edition format. Edited with notes by Leslie S. Klinger, *The Annotated Sandman* is a page-by-page, panel-by-panel journey through every installment of *The Sandman*. Using the original comic book scripts and hours of conversations with Gaiman himself, Klinger presents a wealth of commentary, references, and hidden meanings that deepen and enrich our understanding of the acclaimed series. This fourth volume, comprising issues #57-75, completes the title’s original run and features an all-new set of appendices, including a detailed chronology of the events of The Sandman and an exhaustive index of all of its unforgettable characters.",
         4.54,
         24
        ],
        [
         "Being Mortal",
         "Being Mortal: Medicine and What Matters in the End is a 2014 non-fiction book by American surgeon Atul Gawande. The book addresses end-of-life care, hospice care, and also contains Gawande's reflections and personal stories. He suggests that medical care should focus on well-being rather than survival. Being Mortal has won awards, appeared on lists of best books, and been featured in a documentary.",
         4.54,
         24
        ],
        [
         "Thea Stilton and the Chocolate Sabotage",
         "When the Thea Sisters are invited to a chocolate factory in Ecuador. Someone is trying to sabotage the chocolate factory while during a competition. This is an excellent book written by Elisabetta Dami in the real world and published by Scholastic.",
         4.54,
         28
        ],
        [
         "Thea Stilton Mouseford Academy The Mysterious Love Letter",
         "The Thea Sisters are surprised to find a mysterious love letter on campus. Determined to get the letter to the right mouse - and to figure out who wrote it - they print it in the student newspaper. More letters follow, and everyone at Mouseford wants to know who is writing the romantic notes. Can the Thea Sisters solve the mystery?\r\n\r\n*Back cover description*",
         4.53,
         19
        ],
        [
         "Network Effect",
         "**Murderbot returns in its highly-anticipated, first, full-length standalone novel.**\r\n\r\nYou know that feeling when you’re at work, and you’ve had enough of people, and then the boss walks in with yet another job that needs to be done right this second or the world will end, but all you want to do is go home and binge your favorite shows? And you're a sentient murder machine programmed for destruction? Congratulations, you're Murderbot.\r\n\r\nCome for the pew-pew space battles, stay for the most relatable A.I. you’ll read this century.",
         4.52,
         29
        ],
        [
         "Cryptonomicon",
         "E-book extras: \"Stephensonia/Cryptonomica\": ONE: \"Cryptonomicon Cypher-FAQ\" (Neal addresses \"Frequently Anticipated Questions\" and other fascinating facts); TWO: \"Mother Earth Motherboard\" (Neal's landmark nonfiction account of, among other techno-feats, the laying of the longest telecommunications cable on earth); THREE: \"Press Conference\": Neal answers \"Why write about crypto?\" and other penetrating questions.The smash New York Times bestseller and cult classic is at last a special-features-loaded e-book. Dashing between World War II and the present day, Cryptonomicon is an epic adventure of codemakers and codebreakers; soldiers, hackers, spies, pirates, lovers, prisoners; power, secrets, conspiracies, great escapes -- and a buried fortune in gold.\"Engrossing … insightful ... fascinating and often hysterical... Cryptonomicon is really three novels in one, featuring healthy portions of World War II adventure, cryptography, and high-tech finance, with treasure hunting thrown in for good measure... But that's only half of it.\" —USA Today \"Hell of a read.\" —WiredNeal Stephenson (Snow Crash; The Diamond Age) hacks into the secret histories of nations and the private obsessions of men, decrypting with dazzling virtuosity the forces that shaped the twentieth century — and that have led us into the twenty-first. In 1942, Lawrence Pritchard Waterhouse — mathematical genius and young Captain in the U.S. Navy — is assigned to Detachment 2702. It is an outfit so secret that only a handful of people know it exists, and some of those people have names like Churchill and Roosevelt. The mission of Waterhouse and Detachment 2702 — commanded by Marine Raider Bobby Shaftoe — is to keep the Nazis ignorant of the fact that Allied Intelligence has cracked the enemy's fabled Enigma code. It is a game, a cryptographic chess match between Waterhouse and his German counterpart, translated into action by gung-ho Shaftoe and his forces. Fast-forward to the present, where Waterhouse's crypto-hacker grandson, Randy, is attempting to create a \"data haven\" in Southeast Asia — a place where encrypted data can be stored and exchanged free of repression and scrutiny. As governments and multinationals attack the endeavor, Randy joins forces with Shaftoe's tough-as-nails granddaughter, Amy, to secretly salvage a sunken Nazi submarine that holds the key to keeping the dream of a data haven afloat. But soon their scheme brings to light a massive conspiracy with its roots in Detachment 2702, linked to an unbreakable Nazi code called Arethusa. And it will represent the path to unimaginable riches and a future of personal and digital liberty … or to universal totalitarianism reborn. A breathtaking tour de force and Neal Stephenson's most accomplished and affecting work to date, Cryptonomicon is profound and prophetic, hypnotic and hyper-driven, as it leaps forward and back between World War II and the World Wide Web, hinting all the while at a dark day-after-tomorrow. It is a work of great art, thought, and creative daring; the product of a truly iconoclastic imagination working with white-hot intensity.",
         4.52,
         23
        ],
        [
         "Wings of fire",
         "sure",
         4.5,
         18
        ],
        [
         "Madeleine",
         "Madeline, smallest and naughtiest of the twelve little charges of Miss Clavel, wakes up one night with an attack of appendicitis.",
         4.5,
         28
        ],
        [
         "Five Feet Apart",
         "It is a very touching story about two teenagers who can't be in contact without risking their lives.",
         4.5,
         24
        ],
        [
         "Parable of the sower",
         "In 2025, with the world descending into madness and anarchy, one woman begins a fateful journey toward a better future.\r\n\r\nLauren Olamina and her family live in one of the only safe neighborhoods remaining on the outskirts of Los Angeles. Behind the walls of their defended enclave, Lauren’s father, a preacher, and a handful of other citizens try to salvage what remains of a culture that has been destroyed by drugs, disease, war, and chronic water shortages. While her father tries to lead people on the righteous path, Lauren struggles with hyperempathy, a condition that makes her extraordinarily sensitive to the pain of others.\r\n\r\nWhen fire destroys their compound, Lauren’s family is killed and she is forced out into a world that is fraught with danger. With a handful of other refugees, Lauren must make her way north to safety, along the way conceiving a revolutionary idea that may mean salvation for all mankind.",
         4.5,
         24
        ],
        [
         "A Game of You",
         "This is a duplicate. Please update your lists. See https://openlibrary.org/works/OL679281W.",
         4.48,
         23
        ],
        [
         "Calvin and Hobbes",
         "A collection of comic strips following the adventures of Calvin and his stuffed tiger Hobbes.",
         4.48,
         23
        ],
        [
         "Red Dragon",
         "Red Dragon is a novel by American author Thomas Harris, first published in 1981. The plot follows former FBI profiler Will Graham, who comes out of retirement to find and apprehend an enigmatic serial-killer nicknamed \"The Tooth Fairy\". The novel introduced the character Dr. Hannibal Lecter, a brilliant psychiatrist and cannibalistic serial-killer, whom Graham reluctantly turns to for advice and with whom he has a dark past. The title refers to the figure from William Blake's painting The Great Red Dragon and the Woman Clothed in Sun.",
         4.47,
         17
        ],
        [
         "Thea Stilton and the Blue Scarab Hunt",
         "The Thea Sisters have been invited to Egypt to participate in a fabmouse archeologica excavation. They are helping to look for the legendary ancient Treasure of the Sun. A precious blue stone scarab may be the key to their search and they work enthusiastically to uncover the past. But they also discover that thieves are after the hidden treasure. It´s up to the Thea Stisters to stop them",
         4.47,
         17
        ],
        [
         "The secret of the fairies",
         "When Thea Stilton travels to Ireland to search for a missing agent, she finds that the whole  fantasy Land of Erin is being threatened by earthquakes, and soon Will Mystery and the Thea sisters follow to help her find the secret of the fairies.\r\n\r\nWhen Thea travels to Ireland to search for a missing agent, she finds that the whole fantasy Land of Erin is being threatened by earthquakes, and soon Will Mystery and the Thea sisters follow to help her find the secret of the fairies. Special Edition #2",
         4.47,
         19
        ],
        [
         "The Day the Crayons Quit",
         "When Duncan arrives at school one morning, he finds a stack of letters, one from each of his crayons, complaining about how he uses them.",
         4.47,
         19
        ],
        [
         "A Dance With Dragons",
         "In the aftermath of a colossal battle, the future of the Seven Kingdoms hangs in the balance—beset by newly emerging threats from every direction. In the east, Daenerys Targaryen, the last scion of House Targaryen, rules with her three dragons as queen of a city built on dust and death. But Daenerys has thousands of enemies, and many have set out to find her. As they gather, one young man embarks upon his own quest for the queen, with an entirely different goal in mind.\r\n\r\nFleeing from Westeros with a price on his head, Tyrion Lannister, too, is making his way to Daenerys. But his newest allies in this quest are not the rag-tag band they seem, and at their heart lies one who could undo Daenerys’s claim to Westeros forever.\r\n\r\nMeanwhile, to the north lies the mammoth Wall of ice and stone—a structure only as strong as those guarding it. There, Jon Snow, 998th Lord Commander of the Night’s Watch, will face his greatest challenge. For he has powerful foes not only within the Watch but also beyond, in the land of the creatures of ice.\r\n\r\nFrom all corners, bitter conflicts reignite, intimate betrayals are perpetrated, and a grand cast of outlaws and priests, soldiers and skinchangers, nobles and slaves, will face seemingly insurmountable obstacles. Some will fail, others will grow in the strength of darkness. But in a time of rising restlessness, the tides of destiny and politics will lead inevitably to the greatest dance of all.",
         4.46,
         24
        ],
        [
         "Tiamat's Wrath",
         "Tiamat's Wrath is a science fiction novel by James S. A. Corey, the pen name of Daniel Abraham and Ty Franck, and the eighth book in their series The Expanse. Following the series' tradition of referring to ancient mythology in its titles, the book's title references the Babylonian goddess Tiamat who took part in the creation of the universe.",
         4.46,
         28
        ],
        [
         "Saga, volume two",
         "\"Après avoir réchappé aux horreurs de la planète Clivage, à ses champs de bataille, et aux chasseurs de primes lancés à leur poursuite, Alana, Marko et leur fille Hazel, symbole d'une paix possible entre les deux peuples, s'apprêtent à relever leur plus grand défi : faire la connaissance des grands-parents !\" [Source : 4e de couv.].",
         4.46,
         24
        ],
        [
         "The Night Circus",
         "The circus arrives without warning. No announcements precede it. It is simply there, when yesterday it was not. Within the black-and-white striped canvas tents is an utterly unique experience full of breathtaking amazements. It is called Le Cirque des Rêves, and it is only open at night. But behind the scenes, a fierce competition is underway—a duel between two young magicians, Celia and Marco, who have been trained since childhood expressly for this purpose by their mercurial instructors. Unbeknownst to them, this is a game in which only one can be left standing, and the circus is but the stage for a remarkable battle of imagination and will. Despite themselves, however, Celia and Marco tumble headfirst into love—a deep, magical love that makes the lights flicker and the room grow warm whenever they so much as brush hands. True love or not, the game must play out, and the fates of everyone involved, from the cast of extraordinary circus per formers to the patrons, hang in the balance, suspended as precariously as the daring acrobats overhead. Written in rich, seductive prose, this spell-casting novel is a feast for the senses and the heart. - Publisher.",
         4.46,
         26
        ],
        [
         "Dork Diaries 7",
         "This is yet another book of Dork Diaries. Nikki is getting her shot to become famous on the news, but there's obstacles. 1.Mackenzie. Will there be another Big Mac attack? 2.Brianna. You think that Brianna is nothing but a cute child, or maybe you think she's a Category 5 hurricane in pigtails? Let's see if Brianna strikes again. You probably know Dork Diaries: Middle School Mayhem, enemies, little sisters, and **ROMANCE**! Will Nikki Maxwell and Brandon Roberts officially KISS?! Read the book to find out :)",
         4.45,
         31
        ],
        [
         "Awkward",
         "Penelope Torres (or Peppi, for short,) is a new student at a new school. Unfortunately, the first day didn't turn out so good. She trips and drops her stuff, and a nice boy, Jaime Tompson, was so kind to pick up her stuff and hand it to her. The bullies made fun of Jaime, and called him \"Nerder,\" and as Peppi didn't want to look bad, especially on her first day, she took her stuff and ran. For weeks, **months** she couldn't work the nerve to apologize. She passes by other various obstacles in her student life, as well as making new friends and joining an art club in her school. But, does she apologize, and work it out with Jaime, or does this *barrier* affect their relationship? (Not romantically, this isn't a romance book.)",
         4.45,
         20
        ],
        [
         "The Spanish Love Deception",
         "Honestly, this book has my heart. My entire heart. The way the author has unfolded every part of the story with a lovely delicacy makes me want to indulge in their lives wholly. I can't put into words how much I love Aaron. And Catalina, of course. This book has probably the best enemies to lovers trope that I've ever read. And oh, the romance had me squirm in my belly. It's just that their love is so raw and pure that I'm certain it any rom-com reader would adore it. I absolutely loved the protagonists and I'm wondering I might get an Aaron-Blackford-obsession",
         4.45,
         22
        ],
        [
         "Carry On",
         "Simon Snow is the worst Chosen One who’s ever been chosen.\r\n\r\nThat’s what his roommate, Baz, says. And Baz might be evil and a vampire and a complete git, but he’s probably right.\r\n\r\nHalf the time, Simon can’t even make his wand work, and the other half, he sets something on fire. His mentor’s avoiding him, his girlfriend broke up with him, and there’s a magic-eating monster running around wearing Simon’s face. Baz would be having a field day with all this, if he were here—it’s their last year at the Watford School of Magicks, and Simon’s infuriating nemesis didn’t even bother to show up.",
         4.44,
         16
        ],
        [
         "Jaws",
         "Jaws is a 1974 novel by American writer Peter Benchley. It tells the story of a great white shark that preys upon a small resort town and the voyage of three men trying to kill it. The novel grew out of Benchley's interest in shark attacks after he learned about the exploits of Montauk, New York shark fisherman Frank Mundus in 1964. Doubleday commissioned him to write the novel in 1971, a period when Benchley worked as a freelance journalist.\r\n\r\n----------\r\nAlso contained in:\r\n\r\n - [Best Sellers from Reader's Digest Condensed Books](https://openlibrary.org/works/OL15134116W)\r\n - [Reader's Digest Condensed Books. Volume 2 - 1974](https://openlibrary.org/works/OL15150299W)\r\n - [Three Complete Novels](https://openlibrary.org/works/OL3454878W/)",
         4.44,
         16
        ],
        [
         "The fire next time",
         "**From Amazon.com:**\r\n\r\nA national bestseller when it first appeared in 1963, *The Fire Next Time* galvanized the nation and gave passionate voice to the emerging civil rights movement. At once a powerful evocation of James Baldwin's early life in Harlem and a disturbing examination of the consequences of racial injustice, the book is an intensely personal and provocative document. It consists of two \"letters,\" written on the occasion of the centennial of the Emancipation Proclamation, that exhort Americans, both black and white, to attack the terrible legacy of racism. Described by The New York Times Book Review as \"sermon, ultimatum, confession, deposition, testament, and chronicle...all presented in searing, brilliant prose,\" The Fire Next Time stands as a classic of our literature.",
         4.43,
         23
        ],
        [
         "To all the Boys I've Loved Before",
         "What if all the crushes you ever had found out how you felt about them… all at once? \r\n\r\nSixteen-year-old Lara Jean Covey keeps her love letters in a hatbox her mother gave her. They aren’t love letters that anyone else wrote for her; these are ones she’s written. One for every boy she’s ever loved—five in all. When she writes, she pours out her heart and soul and says all the things she would never say in real life, because her letters are for her eyes only. Until the day that her sister Kathrine, secretly mailed the letters and Lara Jean’s love life goes from imaginary to out of control.",
         4.43,
         44
        ],
        [
         "Wonder",
         "Wonder is a children's novel written by R. J. Palacio,[2] published on 14 February 2012.\r\n\r\nR. J. Palacio wrote Wonder after an incident where her son noticed a girl with a severe facial difference and started to cry. Fearing he would react badly, Palacio attempted to remove her son from the situation so as not to upset the girl and her family but ended up worsening the situation. Natalie Merchant's song of the same name made her realize that the incident could illustrate a valuable lesson. Palacio was inspired by Merchant's lyrics and she began writing. She named the book directly after the song and used the song's chorus as the prologue of the first chapter.",
         4.42,
         128
        ],
        [
         "Maus I",
         "A story of a Jewish survivor of Hitler's Europe and his son, a cartoonist who tries to come to terms with his father's story and history itself.",
         4.42,
         52
        ],
        [
         "A little princess",
         "Sara Crewe, a pupil at Miss Minchin's London school, is left in poverty when her father dies but is later rescued by a mysterious benefactor.",
         4.42,
         19
        ],
        [
         "Norse Mythology",
         "Neil Gaiman has long been inspired by ancient mythology in creating the fantastical realms of his fiction. Now he turns his attention back to the source, presenting a bravura rendition of the great northern tales.\r\n\r\nIn Norse Mythology, Gaiman stays true to the myths in envisioning the major Norse pantheon: Odin, the highest of the high, wise, daring, and cunning; Thor, Odin’s son, incredibly strong yet not the wisest of gods; and Loki―son of a giant―blood brother to Odin and a trickster and unsurpassable manipulator.\r\n\r\nGaiman fashions these primeval stories into a novelistic arc that begins with the genesis of the legendary nine worlds and delves into the exploits of deities, dwarfs, and giants. Once, when Thor’s hammer is stolen, Thor must disguise himself as a woman―difficult with his beard and huge appetite―to steal it back. More poignant is the tale in which the blood of Kvasir―the most sagacious of gods―is turned into a mead that infuses drinkers with poetry. The work culminates in Ragnarok, the twilight of the gods and rebirth of a new time and people.\r\n\r\nThrough Gaiman’s deft and witty prose emerge these gods with their fiercely competitive natures, their susceptibility to being duped and to duping others, and their tendency to let passion ignite their actions, making these long-ago myths breathe pungent life again.",
         4.42,
         24
        ],
        [
         "A Storm of Swords",
         "Of the five contenders for power, one is dead, another in disfavor, and still the wars rage as alliances are made and broken. Joffrey sits on the Iron Throne, the uneasy ruler of the Seven Kingdoms. His most bitter rival, Lord Stannis, stands defeated and disgraced, victim of the sorceress who holds him in her thrall. Young Robb still rules the North from the fortress of Riverrun. Meanwhile, making her way across a blood-drenched continent is the exiled queen, Daenerys, mistress of the only three dragons still left in the world. And as opposing forces manoeuver for the final showdown, an army of barbaric wildlings arrives from the outermost limits of civilization, accompanied by a horde of mythical Others—a supernatural army of the living dead whose animated corpses are unstoppable. As the future of the land hangs in the balance, no one will rest until the Seven Kingdoms have exploded in a veritable storm of swords...",
         4.41,
         51
        ],
        [
         "Because of Mr. Terupt",
         "Because of Mr. Terupt is the 2010 debut children's novel by Rob Buyea. Told through the eyes of seven students, it is about one year in the life of a fifth-grade class and their new teacher at the fictitious Snow Hill School.\r\n\r\nThe novel was a 2011 Middle Reader Honor Awards book of the E.B. White Read Aloud Award. It received the 2013 Young Hoosier Book Award (Intermediate).",
         4.41,
         17
        ],
        [
         "Rebecca",
         "With these words, the reader is ushered into an isolated gray stone mansion on the windswept Cornish coast, as the second Mrs. Maxim de Winter recalls the chilling events that transpired as she began her new life as the young bride of a husband she barely knew. For in every corner of every room were phantoms of a time dead but not forgotten—a past devotedly preserved by the sinister housekeeper, Mrs. Danvers: a suite immaculate and untouched, clothing laid out and ready to be worn, but not by any of the great house's current occupants. With an eerie presentiment of evil tightening her heart, the second Mrs. de Winter walked in the shadow of her mysterious predecessor, determined to uncover the darkest secrets and shattering truths about Maxim's first wife—the late and hauntingly beautiful Rebecca.",
         4.4,
         25
        ],
        [
         "Stories of Your Life and Others",
         "Ted Chiang's first published story, \"Tower of Babylon,\" won the Nebula Award in 1990. Subsequent stories have won the Asimov's SF Magazine reader poll, a second Nebula Award, the Theodore Sturgeon Memorial Award, and the Sidewise Award for alternate history. He won the John W. Campbell Award for Best New Writer in 1992. Story for story, he is the most honored young writer in modern SF.\r\n\r\nNow, collected here for the first time are all seven of this extraordinary writer's stories so far--plus an eighth story written especially for this volume.\r\n\r\nWhat if men built a tower from Earth to Heaven--and broke through to Heaven's other side? What if we discovered that the fundamentals of mathematics were arbitrary and inconsistent? What if there were a science of naming things that calls life into being from inanimate matter? What if exposure to an alien language forever changed our perception of time? What if all the beliefs of fundamentalist Christianity were literally true, and the sight of sinners being swallowed into fiery pits were a routine event on city streets? These are the kinds of outrageous questions posed by the stories of Ted Chiang. Stories of your life . . . and others.",
         4.4,
         48
        ],
        [
         "Are You My Mother?",
         "This story is about a baby bird who lost his mother and found",
         4.39,
         36
        ],
        [
         "Shōgun (Asian Saga",
         "After Englishman John Blackthorne is lost at sea, he awakens in a place few Europeans know of and even fewer have seen--Nippon. Thrust into the closed society that is seventeenth-century Japan, a land where the line between life and death is razor-thin, Blackthorne must negotiate not only a foreign people, with unknown customs and language, but also his own definitions of morality, truth, and freedom. As internal political strife and a clash of cultures lead to seemingly inevitable conflict, Blackthorne's loyalty and strength of character are tested by both passion and loss, and he is torn between two worlds that will each be forever changed.\r\n\r\nPowerful and engrossing, capturing both the rich pageantry and stark realities of life in feudal Japan, Shōgun is a critically acclaimed powerhouse of a book. Heart-stopping, edge-of-your-seat action melds seamlessly with intricate historical detail and raw human emotion. Endlessly compelling, this sweeping saga captivated the world to become not only one of the best-selling novels of all time but also one of the highest-rated television miniseries, as well as inspiring a nationwide surge of interest in the culture of Japan. Shakespearean in both scope and depth, Shōgun is, as the New York Times put it, \"...not only something you read--you live it.\" Provocative, absorbing, and endlessly fascinating, there is only one: Shōgun.",
         4.39,
         18
        ],
        [
         "1491",
         "A groundbreaking study that radically alters our understanding of the Americas before the arrival of the Europeans in 1492.Traditionally, Americans learned in school that the ancestors of the people who inhabited the Western Hemisphere at the time of Columbus's landing had crossed the Bering Strait twelve thousand years ago; existed mainly in small, nomadic bands; and lived so lightly on the land that the Americas was, for all practical purposes, still a vast wilderness. But as Charles C. Mann now makes clear, archaeologists and anthropologists have spent the last thirty years proving these and many other long-held assumptions wrong.In a book that startles and persuades, Mann reveals how a new generation of researchers equipped with novel scientific techniques came to previously unheard-of conclusions. Among them:- In 1491 there were probably more people living in the Americas than in Europe.- Certain cities--such as Tenochtitlan, the Aztec capital--were far greater in population than any contemporary European city. Furthermore, Tenochtitlan, unlike any capital in Europe at that time, had running water, beautiful botanical gardens, and immaculately clean streets.- The earliest cities in the Western Hemisphere were thriving before the Egyptians built the great pyramids.- Pre-Columbian Indians in Mexico developed corn by a breeding process so sophisticated that the journal Science recently described it as \"man's first, and perhaps the greatest, feat of genetic engineering.\"- Amazonian Indians learned how to farm the rain forest without destroying it--a process scientists are studying today in the hope of regaining this lost knowledge.- Native Americans transformed their land so completely that Europeans arrived in a hemisphere already  massively \"landscaped\" by human beings.Mann sheds clarifying light on the methods used to arrive at these new visions of the pre-Columbian Americas and how they have affected our understanding of our history and our thinking about the environment. His book is an exciting and learned account of scientific inquiry and revelation.From the Hardcover edition.",
         4.38,
         21
        ],
        [
         "the secret of the snow",
         "This book is very adventurous. Will Mystery and the Thea Sisters meet a animal looking like a raccoon called a Tanku. This guy found the elevator trying be safe from a snow storm. The reason he there is because of the storm. He said the Lotus Flowers that keep the kingdom healthy are disappearing. Will they be able to find out who is destroying these beautiful flowers.",
         4.38,
         16
        ],
        [
         "Desire",
         "Natasha was crushed when her engagement to Mike Porter was suddenly called off. And that was the only reason she allowed herself to have so much champagne at the party.\r\n\r\nBut there was no excuse for finding herself in Lee Farrell's bed the next morning. That was something totally out of character for Natasha—and it cost her dearly.\r\n\r\nRushed into marriage, expecting Lee’s baby, she thought the future seemed bleak indeed. For how could she ever love a man she hardly even knew?",
         4.37,
         19
        ],
        [
         "Turn Coat",
         "The new novel in the hit New York Times bestselling Dresden Files series.The Warden Morgan has been accused of treason against the Wizards of the White Counciland theres only one, final punishment for that crime. Hes on the run, wants his name cleared, and needs someone with a knack for backing the underdog. Someone like Harry Dresden...Now, Harry must uncover a traitor within the Council, keep a less-than-agreeable Morgan under wraps, and avoid coming under scrutiny himself. And a single mistake may cost someone his headsomeone like Harry",
         4.37,
         30
        ],
        [
         "Aristotle and Dante discover the secrets of the universe",
         "Fifteen-year-old Ari Mendoza is an angry loner with a brother in prison, but when he meets Dante and they become friends, Ari starts to ask questions about himself, his parents, and his family that he has never asked before.",
         4.36,
         25
        ],
        [
         "The warded man",
         "The time has come to stand against the night.As darkness falls each night, the corelings rise--demons who well up from the ground like hellish steam, taking on fearsome form and substance. Sand demons. Wood demons. Wind demons. Flame demons. And gigantic rock demons, the deadliest of all. They possess supernatural strength and powers and burn with a consuming hatred of humanity. For hundreds of years the demons have terrorized the night, slowly culling the human herd that shelters behind magical wards--symbols of power whose origins are lost in myth and mystery, and whose protection is terrifyingly fragile.It was not always this way. Once, men and women battled the corelings on equal terms. Once, under the leadership of the legendary Deliverer, and armed with powerful wards that were not merely shields but weapons, they took the battle to the demons . . . and stopped their advance.But those days are gone. The fighting wards are lost. Night by night the demons grow stronger, while human numbers dwindle under their relentless assault.Now, with hope for the future fading, three young survivors of vicious demon attacks will dare the impossible, stepping beyond the crumbling safety of the wards to risk everything in a desperate quest to regain the secrets of the past. Arlen will pay any price, embrace any sacrifice, for freedom. His grim journey will take him beyond the bounds of human power.Crippled by the demons that killed his parents, Rojer seeks solace in music--only to discover that music can be a weapon as well as a refuge. Beautiful Leesha, who has suffered at the hands of men as well as demons, becomes an expert healer. But what cures can also harm. . . . Together, they will stand against the night.From the Hardcover edition.",
         4.36,
         22
        ],
        [
         "Bullshit Jobs",
         "Bullshit Jobs: A Theory is a 2018 book by anthropologist David Graeber that argues the existence and societal harm of meaningless jobs. He contends that over half of societal work is pointless, which becomes psychologically destructive when paired with a work ethic that associates work with self-worth. Graeber describes five types of bullshit jobs, in which workers pretend their role isn't as pointless or harmful as they know it to be: flunkies, goons, duct tapers, box tickers, and taskmasters. He argues that the association of labor with virtuous suffering is recent in human history, and proposes universal basic income as a potential solution.",
         4.35,
         17
        ],
        [
         "Sisters",
         "This is the second book of the New York Times bestselling series. It is about the Raina Telgemeier’s life with her younger sister.",
         4.35,
         23
        ],
        [
         "Shiloh",
         "When Marty Preston comes across a young beagle in the hills behind his home, it's love at first sight—and also big trouble. It turns out the dog, which Marty names Shiloh, belongs to Judd Travers, who drinks too much and has a gun—and abuses his dogs. So when Shiloh runs away from Judd to Marty, Marty just has to hide him and protect him from Judd. But Marty's secret becomes too big for him to keep to himself, and it exposes his entire family to Judd's anger. How far will Marty have to go to make Shiloh his?",
         4.35,
         17
        ],
        [
         "Milk and Honey",
         "The book is divided into four chapters, each chapter serves a different purpose. They deal with different pains; heal different heartaches. Milk and honey takes readers through a journey of the most bitter moments in life and finds sweetness in them, because there is sweetness everywhere If you are just willing to look.",
         4.35,
         52
        ],
        [
         "Proven Guilty (The Dresden Files, Book 8)",
         "The White Council of Wizards has drafted Harry Dresden as a Warden and assigned him to look into rumors of black magic in Chicago. Malevolent entities that feed on fear are loose in the Windy City, but it's all in a day's work for a wizard, his faithful dog, and a talking skull named Bob...",
         4.35,
         26
        ],
        [
         "Dork Diaries",
         "A fun book where Nikki and her friends have to get over her crush, Brandon. Will it be too much pressure? Find out by reading Dork Diaries: Tales from a not-so-secret Crush catastrophe",
         4.35,
         17
        ],
        [
         "The Green Mile",
         "The Green Mile is a 1996 serial novel by American writer Stephen King. It tells the story of death row supervisor Paul Edgecombe's encounter with John Coffey, an unusual inmate who displays inexplicable healing and empathetic abilities. The serial novel was originally released in six volumes before being republished as a single-volume work. The book is an example of magical realism.\r\n\r\nThe Green Mile won the Bram Stoker Award for Best Novel in 1996. In 1997, The Green Mile was nominated as Best Novel for the British Fantasy Award and the Locus Award. In 2003 the book was listed on the BBC's The Big Read poll of the UK's \"best-loved novel\".\r\n\r\n\r\n----------\r\nContains:\r\n\r\n 1. [The Two Dead Girls](https://openlibrary.org/works/OL149165W/The_Two_Dead_Girls)\r\n 2. [The Mouse on the Mile](https://openlibrary.org/works/OL149147W/The_Mouse_on_the_Mile)\r\n 3. [Coffey's Hands](https://openlibrary.org/works/OL149107W/Coffey's_Hands)\r\n 4. [The Bad Death of Eduard Delacroix](https://openlibrary.org/works/OL15861106W/The_Bad_Death_of_Eduard_Delacroix)\r\n 5. [Night Journey](https://openlibrary.org/works/OL16252000W/Night_Journey)\r\n 6. [Coffey on the Mile](https://openlibrary.org/works/OL15136222W/Coffey_on_the_Mile)",
         4.34,
         59
        ],
        [
         "Factfulness",
         "It turns out that the world, for all its imperfections, is in a much better state than we might think. But when we worry about everything all the time instead of embracing a worldview based on facts, we can lose our ability to focus on the things that threaten us most.",
         4.34,
         50
        ],
        [
         "A Thousand Splendid Suns",
         "After 103 weeks on the New York Times bestseller list and with four million copies of The Kite Runner shipped, Khaled Hosseini returns with a beautiful, riveting, and haunting novel that confirms his place as one of the most important literary writers today.\r\n\r\nPropelled by the same superb instinct for storytelling that made The Kite Runner a beloved classic, A Thousand Splendid Suns is at once an incredible chronicle of thirty years of Afghan history and a deeply moving story of family, friendship, faith, and the salvation to be found in love.\r\n\r\nBorn a generation apart and with very different ideas about love and family, Mariam and Laila are two women brought jarringly together by war, by loss and by fate. As they endure the ever escalating dangers around them—in their home as well as in the streets of Kabul—they come to form a bond that makes them both sisters and mother-daughter to each other, and that will ultimately alter the course not just of their own lives but of the next generation. With heart-wrenching power and suspense, Hosseini shows how a woman's love for her family can move her to shocking and heroic acts of self-sacrifice, and that in the end it is love, or even the memory of love, that is often the key to survival.\r\n\r\nA stunning accomplishment, A Thousand Splendid Suns is a haunting, heartbreaking, compelling story of an unforgiving time, an unlikely friendship, and an indestructible love.\r\n([source][1])\r\n\r\n\r\n  [1]: https://khaledhosseini.com/books/a-thousand-splendid-suns/",
         4.34,
         61
        ],
        [
         "The Godfather",
         "The Godfather is a crime novel by American author Mario Puzo. Originally published in 1969 by G. P. Putnam's Sons, the novel details the story of a fictional Mafia family in New York City (and Long Beach, New York), headed by Vito Corleone. Puzo's dedication for The Godfather is \"For Anthony Cleri\". The novel's epigraph is by the French author Honoré de Balzac: \"Behind every great fortune there is a crime.\" The novel covers the years 1945 to 1955 and includes the back story of Vito Corleone from early childhood to adulthood.\r\n\r\n\r\n----------\r\nAlso contained in:\r\n\r\n - [The Godfather / The Fortunate Pilgrim](https://openlibrary.org/works/OL7920005W)\r\n - [The Godfather / The Last Don](https://openlibrary.org/works/OL1673242W)",
         4.34,
         29
        ],
        [
         "Lamb",
         "The birth of Jesus has been well chronicled, as have his glorious teachings, acts, and divine sacrifice after his thirtieth birthday. But no one knows about the early life of the Son of God, the missing years -- except Biff, the Messiah's best bud, who has been resurrected to tell the story in the divinely hilarious yet heartfelt work \"reminiscent of Vonnegut and Douglas Adams\" (Philadelphia Inquirer).Verily, the story Biff has to tell is a miraculous one, filled with remarkable journeys, magic, healings, kung fu, corpse reanimations, demons, and hot babes. Even the considerable wiles and devotion of the Savior's pal may not be enough to divert Joshua  from his tragic destiny. But there's no one who loves Josh more -- except maybe \"Maggie,\" Mary of Magdala -- and Biff isn't about to let his extraordinary pal suffer and ascend without a fight.",
         4.33,
         18
        ],
        [
         "Good Omens",
         "Armageddon only happens once, you know. They don't let you go around again until you get it right.\r\n\r\nAccording to the Nice and Accurate Prophecies of Agnes Nutter, Witch - the world's only totally reliable guide to the future, written in 1655, before she exploded - the world will end on a Saturday. \r\n\r\nNext Saturday, in fact. Just after tea...\r\n\r\nPeople have been predicting the end of the world almost from its very beginning, so it's only natural to be sceptical when a new date is set for Judgement Day.\r\n\r\nThis time though, the armies of Good and Evil really do appear to be massing. The four Bikers of the Apocalypse are hitting the road. But both the angels and demons - well, one fast-living demon and a somewhat fussy angel - would quite like the Rapture not to happen.\r\n\r\nOh, and someone seems to have misplaced the Antichrist...",
         4.33,
         39
        ],
        [
         "The Return of the King",
         "While the evil might of the Dark Lord Sauron swarms out to conquer all Middle-earth, Frodo and Sam struggle deep into Mordor, seat of Sauron’s power. To defeat the Dark Lord, the One Ring, ruler of the accursed Rings of Power, must be destroyed in the fires of Mount Doom. But the way is impossibly hard, and Frodo is weakening. Weighed down by the compulsion of the Ring, he begins finally to despair.",
         4.33,
         49
        ],
        [
         "Cosmos",
         "This book is about science in its broadest human context, how science and civilization grew up together. It is the story of our long journey of discovery and the forces and individuals who helped to shape modern science, including Democritus, Hypatia, Kepler, Newton, Huygens, Champollion, Lowell and Humason. The book also explores spacecraft missions of discovery of the nearby planets, the research in the Library of ancient Alexandria, the human brain, Egyptian hieroglyphics, the origin of life, the death of the Sun, the evolution of galaxies and the origins of matter, suns and worlds. The author retraces the fifteen billion years of cosmic evolution that have transformed matter into life and consciousness, enabling the cosmos to wonder about itself. He considers the latest findings on life elsewhere and how we might communicate with the beings of other worlds. ~ WorldCat.org",
         4.33,
         42
        ],
        [
         "Morning star",
         "\"Red Rising thrilled readers and announced the presence of a talented new author. Golden Son changed the game and took the story of Darrow to the next level. Now comes the exhilarating conclusion to the Red Rising Trilogy: Morning Star. Darrow would have lived in peace, but his enemies brought him war. The Gold overlords demanded his obedience, hanged his wife, and enslaved his people. But Darrow is determined to fight back. Risking everything to transform himself and breach Gold society, Darrow has battled to survive the cutthroat rivalries that breed Society's mightiest warriors, climbed the ranks, and waited patiently to unleash the revolution that will tear the hierarchy apart from within. Finally, the time has come. But devotion to honor and hunger for vengeance run deep on both sides. Darrow and his comrades-in-arms face powerful enemies without scruple or mercy. Among them are some Darrow once considered friends. To win, Darrow will need to inspire those shackled in darkness to break their chains, unmake the world their cruel masters have built, and claim a destiny too long denied--and too glorious to surrender. Advance praise for Morning Star \"Multilayered and seething with characters who exist in a shadow world between history and myth, much as in Frank Herbert's Dune. an ambitious and satisfying conclusion to a monumental saga.\"--Kirkus Reviews Praise for Pierce Brown and the Red Rising Trilogy Red Rising \"[A] spectacular adventure. one heart-pounding ride. Pierce Brown's dizzyingly good debut novel evokes The Hunger Games, Lord of the Flies, and Ender's Game. [Red Rising] has everything it needs to become meteoric.\"--Entertainment Weekly \"[A] top-notch debut novel. Red Rising ascends above a crowded dystopian field.\"--USA Today \"Pierce Brown has done an astounding job at delivering a powerful piece of literature that will definitely make a mark in the minds of readers.\"--The Huffington Post Golden Son \"Brown writes layered, flawed characters. but plot is his most breathtaking strength. Every action seems to flow into the next.\"--NPR \"In a word, Golden Son is stunning. Among science fiction fans, it should be a shoo-in for book of the year.\"--Tor.com \"The jaw-dropper of an ending will leave readers hungry for the conclusion to Brown's wholly original, completely thrilling saga.\"--Booklist (starred review)\"--\n\n\"The conclusion of the Red Rising trilogy. Born a lowly Red in the mines of Mars, Darrow lost his beloved wife to the treacherous Gold overlords. Vowing to fight for the future that his wife believed in, Darrow joins a secret revolutionary group and is remade into a Gold so that he can infiltrate the ruling class and bring them down from the inside. Now, after years of hiding amongst the Golds, Darrow is finally ready to declare open revolution and throw off the chains of oppression. Nothing in Darrow's world has been easily won, and this final fight will be the most harrowing of all\"--",
         4.32,
         28
        ],
        [
         "The Martian",
         "The Martian is a 2011 science fiction novel written by Andy Weir. It was his debut novel under his own name. It was originally self-published in 2011; Crown Publishing purchased the rights and re-released it in 2014. The story follows an American astronaut, Mark Watney, as he becomes stranded alone on Mars in 2035 and must improvise in order to survive.",
         4.32,
         164
        ],
        [
         "the sun and her flowers",
         "Divided into five chapters and illustrated by Kaur, the sun and her flowers is a journey of wilting, falling, rooting, rising, and blooming. A celebration of love in all its forms.",
         4.32,
         28
        ],
        [
         "The Selection",
         "For thirty-five girls, the Selection is the chance of a lifetime. The opportunity to escape the life laid out for them since birth. To be swept up in a world of glittering gowns and priceless jewels. To live in a palace and compete for the heart of gorgeous Prince Maxon.\r\n\r\nBut for America Singer, being Selected is a nightmare. It means turning her back on her secret love with Aspen, who is a caste below her. Leaving her home to enter a fierce competition for a crown she doesn't want. Living in a palace that is constantly threatened by violent rebel attacks.\r\n\r\nThen America meets Prince Maxon. Gradually, she starts to question all the plans she's made for herself—and realizes that the life she's always dreamed of may not compare to a future she never imagined.",
         4.32,
         31
        ],
        [
         "Mother Night",
         "Mother Night is a daring challenge to our moral sense. American Howard W. Campbell, Jr., a spy during World War II, is now on trial in Israel as a Nazi war criminal. But is he really guilty? In this brilliant book rife with true gallows humor, Vonnegut turns black and white into a chilling shade of gray with a verdict that will haunt us all.",
         4.32,
         25
        ],
        [
         "Curious George",
         "George is an African monkey who has come to America with his friend The Man in The Yellow Hat. They get into all sort of trouble in this 1946 Childrens' novel.",
         4.31,
         16
        ],
        [
         "And to think that I saw it on Mulberry Street",
         "\"Dr. Seuss’s very first book for children! From a mere horse and wagon, young Marco concocts a colorful cast of characters, making Mulberry Street the most interesting location in town. Dr. Seuss’s signature rhythmic text, combined with his unmistakable illustrations, will appeal to fans of all ages, who will cheer when our hero proves that a little imagination can go a very long way. (Who wouldn’t cheer when an elephant-pulled sleigh raced by?) Now over seventy-five years old, this story is as timeless as ever. And Marco’s singular kind of optimism is also evident in McElligot’s Pool\" - Google Books",
         4.31,
         16
        ],
        [
         "Changes",
         "The new novel in the #1 New York Times bestselling Dresden Files series. Long ago, Susan Rodriguez was Harry Dresden's lover-until she was attacked by his enemies, leaving her torn between her own humanity and the bloodlust of the vampiric Red Court. Susan then disappeared to South America, where she could fight both her savage gift and those who cursed her with it.Now Arianna Ortega, Duchess of the Red Court, has discovered a secret Susan has long kept, and she plans to use it-against Harry. To prevail this time, he may have no choice but to embrace the raging fury of his own untapped dark power. Because Harry's not fighting to save the world...He's fighting to save his child.",
         4.31,
         29
        ],
        [
         "The Magic Tree House Collection #1",
         "The adventures that started it all! Newly bound together, the first four books of the fan-favorite chapter-book series are the perfect introduction to the New York Times bestselling Magic Tree House series. Parents, teachers, and librarians hail the series as a tool to promote reading, as even the most reluctant readers want to know where the Magic Tree House will take the brother-and-sister team next.\r\n\r\nThe story begins with Dinosaurs Before Dark, when Jack and Annie discover a mysterious tree house filled with books and a trip back to the time of the dinosaurs follows. In The Knight at Dawn, Jack and Annie are in the Great Hall of a castle; a feast is under way, but they aren't exactly welcome guests. When the tree house whisks them back to ancient Egypt in Mummies in the Morning, Jack and Annie must help a long-dead queen solve a puzzle. And in Pirates Past Noon, Jack and Annie find a secret map that leads to buried treasure and ruthless pirates! Mary Pope Osborne brings together just the right combination of history, magic, and fast-paced adventure to satisfy kids, parents, teachers, and librarians all over the world with her New York Times bestselling series.",
         4.31,
         16
        ],
        [
         "Skin Game",
         "Chicago wizard Harry Dresden must help a hated enemy, Nicodemus Archleone, break into a high security vault to steal something belonging to the Lord of the Underworld.",
         4.31,
         16
        ],
        [
         "Dead Beat (The Dresden Files, Book 7)",
         "The USA Today Bestselling Author's new Dresden Files novel...finally in paperback-and soon to be a Sci Fi Channel movie!Filled with kickass adventure and supernatural fireworks, Jim Butcher's Dresden Files novels have been compared to Harry Potter. Now, Harry Dresden must save Chicago from black magic and necromancy-all in a day's work for the city's only professional wizard.",
         4.31,
         29
        ]
       ],
       "datasetInfos": [],
       "dbfsResultPath": null,
       "isJsonSchema": true,
       "metadata": {},
       "overflow": false,
       "plotOptions": {
        "customPlotOptions": {},
        "displayType": "table",
        "pivotAggregation": null,
        "pivotColumns": null,
        "xColumns": null,
        "yColumns": null
       },
       "removedWidgets": [],
       "schema": [
        {
         "metadata": "{}",
         "name": "title",
         "type": "\"string\""
        },
        {
         "metadata": "{}",
         "name": "description_text",
         "type": "\"string\""
        },
        {
         "metadata": "{}",
         "name": "rating_average",
         "type": "\"double\""
        },
        {
         "metadata": "{}",
         "name": "rating_count",
         "type": "\"long\""
        }
       ],
       "type": "table"
      }
     },
     "output_type": "display_data"
    }
   ],
   "source": [
    "%sql\n",
    "-- Top rated books with a description available\n",
    "SELECT title, \n",
    "       description_text,\n",
    "       round(try_divide(SUM(rating_avg * rating_count), SUM(rating_count)),2) AS rating_average,\n",
    "       SUM(rating_count) AS rating_count\n",
    "FROM gold_openlibrary.works_with_reviews_summary\n",
    "WHERE title IS NOT NULL\n",
    "AND description_text IS NOT NULL\n",
    "GROUP BY 1, 2\n",
    "HAVING rating_count > 15\n",
    "ORDER BY 3 DESC \n",
    "LIMIT 100"
   ]
  },
  {
   "cell_type": "code",
   "execution_count": 0,
   "metadata": {
    "application/vnd.databricks.v1+cell": {
     "cellMetadata": {
      "byteLimit": 2048000,
      "rowLimit": 10000
     },
     "inputWidgets": {},
     "nuid": "bbb3e0e1-62d0-4462-9893-a529c664070c",
     "showTitle": false,
     "title": ""
    }
   },
   "outputs": [],
   "source": []
  }
 ],
 "metadata": {
  "application/vnd.databricks.v1+notebook": {
   "dashboards": [],
   "language": "python",
   "notebookMetadata": {
    "mostRecentlyExecutedCommandWithImplicitDF": {
     "commandId": 1911473301875447,
     "dataframes": [
      "_sqldf"
     ]
    },
    "pythonIndentUnit": 4
   },
   "notebookName": "Cidaen-OpenLibrary (AWS)",
   "widgets": {
    "access_key": {
     "currentValue": "",
     "nuid": "6be83c37-022e-410b-895e-3f4d2d026c80",
     "widgetInfo": {
      "widgetType": "text",
      "defaultValue": "",
      "label": null,
      "name": "access_key",
      "options": {
       "widgetType": "text",
       "validationRegex": null
      }
     }
    },
    "account_id": {
     "currentValue": "",
     "nuid": "01d75c78-53f7-43c8-8002-89d14168b862",
     "widgetInfo": {
      "widgetType": "text",
      "defaultValue": "",
      "label": null,
      "name": "account_id",
      "options": {
       "widgetType": "text",
       "validationRegex": null
      }
     }
    },
    "s3_bucket": {
     "currentValue": "",
     "nuid": "74b25c23-51ed-4a5e-a661-d713c040744f",
     "widgetInfo": {
      "widgetType": "text",
      "defaultValue": "",
      "label": null,
      "name": "s3_bucket",
      "options": {
       "widgetType": "text",
       "validationRegex": null
      }
     }
    },
    "secret_access_key": {
     "currentValue": "",
     "nuid": "0ad50c7b-f2f7-490d-9790-098290722d4a",
     "widgetInfo": {
      "widgetType": "text",
      "defaultValue": "",
      "label": null,
      "name": "secret_access_key",
      "options": {
       "widgetType": "text",
       "validationRegex": null
      }
     }
    },
    "table": {
     "currentValue": "gold_openlibrary.works_with_reviews_summary",
     "nuid": "77560c03-0c4e-49d3-a909-4fc77e949a59",
     "widgetInfo": {
      "widgetType": "dropdown",
      "defaultValue": "gold_openlibrary.ol_books",
      "label": null,
      "name": "table",
      "options": {
       "widgetType": "dropdown",
       "choices": [
        "gold_openlibrary.ol_books",
        "gold_openlibrary.ol_reviews",
        "gold_openlibrary.works_with_reviews_summary",
        "gold_openlibrary.ol_works_summary"
       ]
      }
     }
    }
   }
  }
 },
 "nbformat": 4,
 "nbformat_minor": 0
}
